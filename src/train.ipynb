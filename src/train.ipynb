{
 "cells": [
  {
   "cell_type": "code",
   "execution_count": 1,
   "id": "86865392",
   "metadata": {},
   "outputs": [],
   "source": [
    "import sys\n",
    "sys.path.append(\"utils/\")"
   ]
  },
  {
   "cell_type": "code",
   "execution_count": 2,
   "id": "0f6e5ee6",
   "metadata": {},
   "outputs": [],
   "source": [
    "# %pip install -qU xgboost lightgbm catboost optuna"
   ]
  },
  {
   "cell_type": "code",
   "execution_count": 3,
   "id": "52b74576",
   "metadata": {},
   "outputs": [
    {
     "name": "stdout",
     "output_type": "stream",
     "text": [
      "✅ File: ../dataset/train\\balance.parquet Completed!\n",
      "✅ File: ../dataset/train\\bill.parquet Completed!\n",
      "✅ File: ../dataset/train\\channel.parquet Completed!\n",
      "✅ File: ../dataset/train\\credit.parquet Completed!\n",
      "✅ File: ../dataset/train\\marketing.parquet Completed!\n",
      "✅ File: ../dataset/train\\member.parquet Completed!\n",
      "✅ File: ../dataset/train\\perf.parquet Completed!\n",
      "✅ File: ../dataset/train\\tx.parquet Completed!\n",
      "🔹 Shape : (2400000, 292)\n",
      "\n",
      "✅ File: ../dataset/test\\balance.parquet Completed!\n",
      "✅ File: ../dataset/test\\bill.parquet Completed!\n",
      "✅ File: ../dataset/test\\channel.parquet Completed!\n",
      "✅ File: ../dataset/test\\credit.parquet Completed!\n",
      "✅ File: ../dataset/test\\marketing.parquet Completed!\n",
      "✅ File: ../dataset/test\\member.parquet Completed!\n",
      "✅ File: ../dataset/test\\perf.parquet Completed!\n",
      "✅ File: ../dataset/test\\tx.parquet Completed!\n",
      "🔹 Shape : (600000, 291)\n"
     ]
    }
   ],
   "source": [
    "from data_loader import load_final_data\n",
    "\n",
    "dataset_path = \"../dataset/\"\n",
    "train_df, test_df = load_final_data(dataset_path)"
   ]
  },
  {
   "cell_type": "code",
   "execution_count": 4,
   "id": "526195c7",
   "metadata": {},
   "outputs": [],
   "source": [
    "from sklearn.preprocessing import LabelEncoder\n",
    "import numpy as np\n",
    "\n",
    "X = train_df.drop(columns=['ID', '기준년월', 'Segment'])\n",
    "X_test = test_df.drop(columns=['ID', '기준년월'])\n",
    "y = train_df['Segment']\n",
    "\n",
    "le = LabelEncoder()\n",
    "y_encoded = le.fit_transform(y).astype(np.uint8)"
   ]
  },
  {
   "cell_type": "code",
   "execution_count": 5,
   "id": "43a7dbd1",
   "metadata": {},
   "outputs": [],
   "source": [
    "X.replace([np.inf, -np.inf], 0, inplace=True)\n",
    "X_test.replace([np.inf, -np.inf], 0, inplace=True)"
   ]
  },
  {
   "cell_type": "code",
   "execution_count": 6,
   "id": "de1fb5c7",
   "metadata": {},
   "outputs": [
    {
     "data": {
      "text/plain": [
       "{0: 493.82716049382714,\n",
       " 1: 3333.3333333333335,\n",
       " 2: 3.7620503174229953,\n",
       " 3: 1.3744051402752246,\n",
       " 4: 0.2497330977517778}"
      ]
     },
     "execution_count": 6,
     "metadata": {},
     "output_type": "execute_result"
    }
   ],
   "source": [
    "counts = np.bincount(y_encoded)\n",
    "n_classes = len(counts)\n",
    "total_samples = counts.sum()\n",
    "\n",
    "class_weights = {i: total_samples / (n_classes * count) for i, count in enumerate(counts)}\n",
    "class_weights"
   ]
  },
  {
   "cell_type": "code",
   "execution_count": 7,
   "id": "16d3bed9",
   "metadata": {},
   "outputs": [],
   "source": [
    "# from sklearn.tree import DecisionTreeClassifier\n",
    "# from sklearn.ensemble import RandomForestClassifier\n",
    "# from xgboost import XGBClassifier\n",
    "# from lightgbm import LGBMClassifier\n",
    "# from catboost import CatBoostClassifier\n",
    "\n",
    "# models = {\n",
    "#     \"decision_tree\": DecisionTreeClassifier(random_state=42, max_depth=10),\n",
    "#     \"random_forest\": RandomForestClassifier(class_weight='balanced', random_state=42, n_jobs=-1, n_estimators=100, max_depth=10),\n",
    "#     \"xgboost\": XGBClassifier(random_state=42, n_estimators=100,),\n",
    "#     \"lightgbm\": LGBMClassifier(random_state=42, n_jobs=-1, n_estimators=100, max_depth=10, class_weight='balanced',),\n",
    "#     \"catboost\": CatBoostClassifier(random_state=42, n_estimators=100, max_depth=10, class_weights=class_weights),\n",
    "# }"
   ]
  },
  {
   "cell_type": "code",
   "execution_count": 8,
   "id": "ba0f5d3c",
   "metadata": {},
   "outputs": [],
   "source": [
    "# from sklearn.model_selection import StratifiedKFold\n",
    "# from sklearn.metrics import f1_score\n",
    "# import numpy as np\n",
    "\n",
    "# def kfold_train_eval(X, y, model, k=5):\n",
    "#     skf = StratifiedKFold(n_splits=k)\n",
    "#     scores = []\n",
    "\n",
    "#     for i, (train_idx, test_idx) in enumerate(skf.split(X, y)):\n",
    "#         X_train, X_val = X.iloc[train_idx], X.iloc[test_idx]\n",
    "#         y_train, y_val = y[train_idx], y[test_idx]\n",
    "\n",
    "#         model.fit(X_train, y_train)\n",
    "#         y_pred = model.predict(X_val)\n",
    "\n",
    "#         score = f1_score(y_val, y_pred, average='macro')\n",
    "#         scores.append(score)\n",
    "#         print(f\"Fold {i+1}/{k} - F1 Score: {score:.4f}\")\n",
    "\n",
    "#     return np.mean(scores), np.std(scores)"
   ]
  },
  {
   "cell_type": "code",
   "execution_count": 9,
   "id": "bb16e190",
   "metadata": {},
   "outputs": [],
   "source": [
    "# for name, model in models.items():\n",
    "#     print(f\"\\n📌 Model: {name}\")\n",
    "#     mean_score, std_score = kfold_train_eval(X, y_encoded, model)\n",
    "#     print(f\"Mean F1 Score: {mean_score:.4f} ± {std_score:.4f}\")"
   ]
  },
  {
   "cell_type": "markdown",
   "id": "0b014ae6",
   "metadata": {},
   "source": [
    "| Model         | Mean F1 Score   | Std (±)           | \n",
    "| ------------- | --------------- | ----------------- | \n",
    "| Decision Tree | 0.4599          | ±0.0134           | \n",
    "| Random Forest | 0.6005          | ±0.0242           | \n",
    "| XGBoost       | 0.7422          | ±0.0340           | \n",
    "| LightGBM      | 0.7372          | ±0.0181           | \n",
    "| CatBoost      | **0.7501**      | ± 0.0324          | \n"
   ]
  },
  {
   "cell_type": "code",
   "execution_count": null,
   "id": "864c2909",
   "metadata": {},
   "outputs": [],
   "source": [
    "import optuna\n",
    "import numpy as np\n",
    "from catboost import CatBoostClassifier\n",
    "from sklearn.metrics import f1_score\n",
    "from sklearn.model_selection import StratifiedKFold\n",
    "def cat_objective(trial):\n",
    "    \n",
    "    param = {\n",
    "        \"learning_rate\": trial.suggest_float(\"learning_rate\", 0.01, 0.3, log=True),\n",
    "        \"objective\": \"MultiClassOneVsAll\",\n",
    "        \"l2_leaf_reg\": trial.suggest_float(\"l2_leaf_reg\", 3.0, 10.0, log=True),\n",
    "        \"random_strength\": trial.suggest_float(\"random_strength\", 1.0, 10.0),\n",
    "        \"bagging_temperature\": trial.suggest_float(\"bagging_temperature\", 0.1, 1.0),\n",
    "        \"depth\": trial.suggest_int(\"depth\", 6, 10),\n",
    "        \"iterations\": trial.suggest_int(\"iterations\", 400, 1000),\n",
    "        \"class_weights\": class_weights, \n",
    "        \"task_type\": \"GPU\", \n",
    "        \"random_state\": 42,\n",
    "        \"verbose\": 200\n",
    "    }\n",
    "\n",
    "    # 그룹 KFold 설정\n",
    "    cv = StratifiedKFold(n_splits=5, shuffle=True, random_state=42)\n",
    "    model = CatBoostClassifier(**param)\n",
    "    scores = []\n",
    "\n",
    "    for train_idx, val_idx in cv.split(X, y_encoded):\n",
    "        X_train, X_val = X.iloc[train_idx], X.iloc[val_idx]\n",
    "        y_train, y_val = y_encoded[train_idx], y_encoded[val_idx]\n",
    "\n",
    "        model.fit(\n",
    "            X_train,\n",
    "            y_train,\n",
    "            eval_set=(X_val, y_val),\n",
    "        )\n",
    "\n",
    "        y_pred = model.predict(X_val)\n",
    "        score = f1_score(y_val, y_pred, average='macro')\n",
    "        scores.append(score)\n",
    "        print(f\"std : {np.std(scores)}\")\n",
    "\n",
    "    return np.mean(scores)\n"
   ]
  },
  {
   "cell_type": "code",
   "execution_count": null,
   "id": "5c1438ef",
   "metadata": {},
   "outputs": [],
   "source": [
    "import json\n",
    "\n",
    "def save_best_trial_json(study, trial):\n",
    "    if study.best_trial == trial:\n",
    "        best_result = {\n",
    "            \"value\": trial.value,\n",
    "            \"params\": trial.params\n",
    "        }\n",
    "        with open(\"./result/best_trial_result.json\", \"w\", encoding=\"utf-8\") as f:\n",
    "            json.dump(best_result, f, indent=4)\n",
    "        print(\"✅ Best trial updated and saved to JSON.\")\n"
   ]
  },
  {
   "cell_type": "code",
   "execution_count": 12,
   "id": "3d3e8c47",
   "metadata": {},
   "outputs": [
    {
     "name": "stderr",
     "output_type": "stream",
     "text": [
      "[I 2025-05-16 13:26:36,612] A new study created in memory with name: no-name-0fa9498e-21d1-4ede-9230-e3e0dbb7c81c\n",
      "c:\\Users\\user\\Desktop\\Credit-Card-Segment-Classfication\\.venv\\lib\\site-packages\\joblib\\externals\\loky\\backend\\context.py:136: UserWarning: Could not find the number of physical cores for the following reason:\n",
      "[WinError 2] 지정된 파일을 찾을 수 없습니다\n",
      "Returning the number of logical cores instead. You can silence this warning by setting LOKY_MAX_CPU_COUNT to the number of cores you want to use.\n",
      "  warnings.warn(\n",
      "  File \"c:\\Users\\user\\Desktop\\Credit-Card-Segment-Classfication\\.venv\\lib\\site-packages\\joblib\\externals\\loky\\backend\\context.py\", line 257, in _count_physical_cores\n",
      "    cpu_info = subprocess.run(\n",
      "  File \"C:\\Users\\user\\AppData\\Local\\Programs\\Python\\Python310\\lib\\subprocess.py\", line 501, in run\n",
      "    with Popen(*popenargs, **kwargs) as process:\n",
      "  File \"C:\\Users\\user\\AppData\\Local\\Programs\\Python\\Python310\\lib\\subprocess.py\", line 969, in __init__\n",
      "    self._execute_child(args, executable, preexec_fn, close_fds,\n",
      "  File \"C:\\Users\\user\\AppData\\Local\\Programs\\Python\\Python310\\lib\\subprocess.py\", line 1438, in _execute_child\n",
      "    hp, ht, pid, tid = _winapi.CreateProcess(executable, args,\n"
     ]
    },
    {
     "name": "stdout",
     "output_type": "stream",
     "text": [
      "0:\tlearn: 0.6771942\ttest: 0.6850484\tbest: 0.6850484 (0)\ttotal: 560ms\tremaining: 3m 52s\n",
      "200:\tlearn: 0.0250021\ttest: 0.3840615\tbest: 0.3840615 (200)\ttotal: 1m 42s\tremaining: 1m 49s\n",
      "400:\tlearn: 0.0040212\ttest: 0.3354703\tbest: 0.3354703 (400)\ttotal: 3m 17s\tremaining: 7.89s\n",
      "416:\tlearn: 0.0037202\ttest: 0.3329358\tbest: 0.3329358 (416)\ttotal: 3m 25s\tremaining: 0us\n",
      "bestTest = 0.3329357872\n",
      "bestIteration = 416\n",
      "std : 0.0\n"
     ]
    },
    {
     "name": "stderr",
     "output_type": "stream",
     "text": [
      "[W 2025-05-16 13:39:32,989] Trial 0 failed with parameters: {'learning_rate': 0.01698598660601052, 'l2_leaf_reg': 4.206373078910925, 'random_strength': 3.561833542412253, 'bagging_temperature': 0.4088511342625908, 'depth': 10, 'iterations': 417} because of the following error: KeyboardInterrupt().\n",
      "Traceback (most recent call last):\n",
      "  File \"c:\\Users\\user\\Desktop\\Credit-Card-Segment-Classfication\\.venv\\lib\\site-packages\\optuna\\study\\_optimize.py\", line 197, in _run_trial\n",
      "    value_or_values = func(trial)\n",
      "  File \"C:\\Users\\user\\AppData\\Local\\Temp\\ipykernel_37244\\3759987235.py\", line 34, in cat_objective\n",
      "    X_resampled, y_resampled = sm.fit_resample(X_train, y_train)\n",
      "  File \"c:\\Users\\user\\Desktop\\Credit-Card-Segment-Classfication\\.venv\\lib\\site-packages\\imblearn\\base.py\", line 202, in fit_resample\n",
      "    return super().fit_resample(X, y, **params)\n",
      "  File \"c:\\Users\\user\\Desktop\\Credit-Card-Segment-Classfication\\.venv\\lib\\site-packages\\sklearn\\base.py\", line 1473, in wrapper\n",
      "    return fit_method(estimator, *args, **kwargs)\n",
      "  File \"c:\\Users\\user\\Desktop\\Credit-Card-Segment-Classfication\\.venv\\lib\\site-packages\\imblearn\\base.py\", line 105, in fit_resample\n",
      "    output = self._fit_resample(X, y, **params)\n",
      "  File \"c:\\Users\\user\\Desktop\\Credit-Card-Segment-Classfication\\.venv\\lib\\site-packages\\imblearn\\over_sampling\\_smote\\base.py\", line 359, in _fit_resample\n",
      "    nns = self.nn_k_.kneighbors(X_class, return_distance=False)[:, 1:]\n",
      "  File \"c:\\Users\\user\\Desktop\\Credit-Card-Segment-Classfication\\.venv\\lib\\site-packages\\sklearn\\neighbors\\_base.py\", line 849, in kneighbors\n",
      "    results = ArgKmin.compute(\n",
      "  File \"c:\\Users\\user\\Desktop\\Credit-Card-Segment-Classfication\\.venv\\lib\\site-packages\\sklearn\\metrics\\_pairwise_distances_reduction\\_dispatcher.py\", line 278, in compute\n",
      "    return ArgKmin64.compute(\n",
      "  File \"sklearn\\\\metrics\\\\_pairwise_distances_reduction\\\\_argkmin.pyx\", line 59, in sklearn.metrics._pairwise_distances_reduction._argkmin.ArgKmin64.compute\n",
      "  File \"c:\\Users\\user\\Desktop\\Credit-Card-Segment-Classfication\\.venv\\lib\\site-packages\\threadpoolctl.py\", line 592, in __exit__\n",
      "    def __exit__(self, type, value, traceback):\n",
      "KeyboardInterrupt\n",
      "[W 2025-05-16 13:39:33,205] Trial 0 failed with value None.\n"
     ]
    },
    {
     "ename": "KeyboardInterrupt",
     "evalue": "",
     "output_type": "error",
     "traceback": [
      "\u001b[1;31m---------------------------------------------------------------------------\u001b[0m",
      "\u001b[1;31mKeyboardInterrupt\u001b[0m                         Traceback (most recent call last)",
      "Cell \u001b[1;32mIn[12], line 2\u001b[0m\n\u001b[0;32m      1\u001b[0m cat_study \u001b[38;5;241m=\u001b[39m optuna\u001b[38;5;241m.\u001b[39mcreate_study(direction\u001b[38;5;241m=\u001b[39m\u001b[38;5;124m'\u001b[39m\u001b[38;5;124mmaximize\u001b[39m\u001b[38;5;124m'\u001b[39m)\n\u001b[1;32m----> 2\u001b[0m \u001b[43mcat_study\u001b[49m\u001b[38;5;241;43m.\u001b[39;49m\u001b[43moptimize\u001b[49m\u001b[43m(\u001b[49m\u001b[43mcat_objective\u001b[49m\u001b[43m,\u001b[49m\u001b[43m \u001b[49m\u001b[43mn_trials\u001b[49m\u001b[38;5;241;43m=\u001b[39;49m\u001b[38;5;241;43m30\u001b[39;49m\u001b[43m,\u001b[49m\u001b[43m \u001b[49m\u001b[43mcallbacks\u001b[49m\u001b[38;5;241;43m=\u001b[39;49m\u001b[43m[\u001b[49m\u001b[43msave_best_trial_json\u001b[49m\u001b[43m]\u001b[49m\u001b[43m)\u001b[49m\n\u001b[0;32m      4\u001b[0m \u001b[38;5;28mprint\u001b[39m(\u001b[38;5;124m\"\u001b[39m\u001b[38;5;124mBest trial:\u001b[39m\u001b[38;5;124m\"\u001b[39m)\n\u001b[0;32m      5\u001b[0m trial \u001b[38;5;241m=\u001b[39m cat_study\u001b[38;5;241m.\u001b[39mbest_trial\n",
      "File \u001b[1;32mc:\\Users\\user\\Desktop\\Credit-Card-Segment-Classfication\\.venv\\lib\\site-packages\\optuna\\study\\study.py:475\u001b[0m, in \u001b[0;36mStudy.optimize\u001b[1;34m(self, func, n_trials, timeout, n_jobs, catch, callbacks, gc_after_trial, show_progress_bar)\u001b[0m\n\u001b[0;32m    373\u001b[0m \u001b[38;5;28;01mdef\u001b[39;00m\u001b[38;5;250m \u001b[39m\u001b[38;5;21moptimize\u001b[39m(\n\u001b[0;32m    374\u001b[0m     \u001b[38;5;28mself\u001b[39m,\n\u001b[0;32m    375\u001b[0m     func: ObjectiveFuncType,\n\u001b[1;32m   (...)\u001b[0m\n\u001b[0;32m    382\u001b[0m     show_progress_bar: \u001b[38;5;28mbool\u001b[39m \u001b[38;5;241m=\u001b[39m \u001b[38;5;28;01mFalse\u001b[39;00m,\n\u001b[0;32m    383\u001b[0m ) \u001b[38;5;241m-\u001b[39m\u001b[38;5;241m>\u001b[39m \u001b[38;5;28;01mNone\u001b[39;00m:\n\u001b[0;32m    384\u001b[0m \u001b[38;5;250m    \u001b[39m\u001b[38;5;124;03m\"\"\"Optimize an objective function.\u001b[39;00m\n\u001b[0;32m    385\u001b[0m \n\u001b[0;32m    386\u001b[0m \u001b[38;5;124;03m    Optimization is done by choosing a suitable set of hyperparameter values from a given\u001b[39;00m\n\u001b[1;32m   (...)\u001b[0m\n\u001b[0;32m    473\u001b[0m \u001b[38;5;124;03m            If nested invocation of this method occurs.\u001b[39;00m\n\u001b[0;32m    474\u001b[0m \u001b[38;5;124;03m    \"\"\"\u001b[39;00m\n\u001b[1;32m--> 475\u001b[0m     \u001b[43m_optimize\u001b[49m\u001b[43m(\u001b[49m\n\u001b[0;32m    476\u001b[0m \u001b[43m        \u001b[49m\u001b[43mstudy\u001b[49m\u001b[38;5;241;43m=\u001b[39;49m\u001b[38;5;28;43mself\u001b[39;49m\u001b[43m,\u001b[49m\n\u001b[0;32m    477\u001b[0m \u001b[43m        \u001b[49m\u001b[43mfunc\u001b[49m\u001b[38;5;241;43m=\u001b[39;49m\u001b[43mfunc\u001b[49m\u001b[43m,\u001b[49m\n\u001b[0;32m    478\u001b[0m \u001b[43m        \u001b[49m\u001b[43mn_trials\u001b[49m\u001b[38;5;241;43m=\u001b[39;49m\u001b[43mn_trials\u001b[49m\u001b[43m,\u001b[49m\n\u001b[0;32m    479\u001b[0m \u001b[43m        \u001b[49m\u001b[43mtimeout\u001b[49m\u001b[38;5;241;43m=\u001b[39;49m\u001b[43mtimeout\u001b[49m\u001b[43m,\u001b[49m\n\u001b[0;32m    480\u001b[0m \u001b[43m        \u001b[49m\u001b[43mn_jobs\u001b[49m\u001b[38;5;241;43m=\u001b[39;49m\u001b[43mn_jobs\u001b[49m\u001b[43m,\u001b[49m\n\u001b[0;32m    481\u001b[0m \u001b[43m        \u001b[49m\u001b[43mcatch\u001b[49m\u001b[38;5;241;43m=\u001b[39;49m\u001b[38;5;28;43mtuple\u001b[39;49m\u001b[43m(\u001b[49m\u001b[43mcatch\u001b[49m\u001b[43m)\u001b[49m\u001b[43m \u001b[49m\u001b[38;5;28;43;01mif\u001b[39;49;00m\u001b[43m \u001b[49m\u001b[38;5;28;43misinstance\u001b[39;49m\u001b[43m(\u001b[49m\u001b[43mcatch\u001b[49m\u001b[43m,\u001b[49m\u001b[43m \u001b[49m\u001b[43mIterable\u001b[49m\u001b[43m)\u001b[49m\u001b[43m \u001b[49m\u001b[38;5;28;43;01melse\u001b[39;49;00m\u001b[43m \u001b[49m\u001b[43m(\u001b[49m\u001b[43mcatch\u001b[49m\u001b[43m,\u001b[49m\u001b[43m)\u001b[49m\u001b[43m,\u001b[49m\n\u001b[0;32m    482\u001b[0m \u001b[43m        \u001b[49m\u001b[43mcallbacks\u001b[49m\u001b[38;5;241;43m=\u001b[39;49m\u001b[43mcallbacks\u001b[49m\u001b[43m,\u001b[49m\n\u001b[0;32m    483\u001b[0m \u001b[43m        \u001b[49m\u001b[43mgc_after_trial\u001b[49m\u001b[38;5;241;43m=\u001b[39;49m\u001b[43mgc_after_trial\u001b[49m\u001b[43m,\u001b[49m\n\u001b[0;32m    484\u001b[0m \u001b[43m        \u001b[49m\u001b[43mshow_progress_bar\u001b[49m\u001b[38;5;241;43m=\u001b[39;49m\u001b[43mshow_progress_bar\u001b[49m\u001b[43m,\u001b[49m\n\u001b[0;32m    485\u001b[0m \u001b[43m    \u001b[49m\u001b[43m)\u001b[49m\n",
      "File \u001b[1;32mc:\\Users\\user\\Desktop\\Credit-Card-Segment-Classfication\\.venv\\lib\\site-packages\\optuna\\study\\_optimize.py:63\u001b[0m, in \u001b[0;36m_optimize\u001b[1;34m(study, func, n_trials, timeout, n_jobs, catch, callbacks, gc_after_trial, show_progress_bar)\u001b[0m\n\u001b[0;32m     61\u001b[0m \u001b[38;5;28;01mtry\u001b[39;00m:\n\u001b[0;32m     62\u001b[0m     \u001b[38;5;28;01mif\u001b[39;00m n_jobs \u001b[38;5;241m==\u001b[39m \u001b[38;5;241m1\u001b[39m:\n\u001b[1;32m---> 63\u001b[0m         \u001b[43m_optimize_sequential\u001b[49m\u001b[43m(\u001b[49m\n\u001b[0;32m     64\u001b[0m \u001b[43m            \u001b[49m\u001b[43mstudy\u001b[49m\u001b[43m,\u001b[49m\n\u001b[0;32m     65\u001b[0m \u001b[43m            \u001b[49m\u001b[43mfunc\u001b[49m\u001b[43m,\u001b[49m\n\u001b[0;32m     66\u001b[0m \u001b[43m            \u001b[49m\u001b[43mn_trials\u001b[49m\u001b[43m,\u001b[49m\n\u001b[0;32m     67\u001b[0m \u001b[43m            \u001b[49m\u001b[43mtimeout\u001b[49m\u001b[43m,\u001b[49m\n\u001b[0;32m     68\u001b[0m \u001b[43m            \u001b[49m\u001b[43mcatch\u001b[49m\u001b[43m,\u001b[49m\n\u001b[0;32m     69\u001b[0m \u001b[43m            \u001b[49m\u001b[43mcallbacks\u001b[49m\u001b[43m,\u001b[49m\n\u001b[0;32m     70\u001b[0m \u001b[43m            \u001b[49m\u001b[43mgc_after_trial\u001b[49m\u001b[43m,\u001b[49m\n\u001b[0;32m     71\u001b[0m \u001b[43m            \u001b[49m\u001b[43mreseed_sampler_rng\u001b[49m\u001b[38;5;241;43m=\u001b[39;49m\u001b[38;5;28;43;01mFalse\u001b[39;49;00m\u001b[43m,\u001b[49m\n\u001b[0;32m     72\u001b[0m \u001b[43m            \u001b[49m\u001b[43mtime_start\u001b[49m\u001b[38;5;241;43m=\u001b[39;49m\u001b[38;5;28;43;01mNone\u001b[39;49;00m\u001b[43m,\u001b[49m\n\u001b[0;32m     73\u001b[0m \u001b[43m            \u001b[49m\u001b[43mprogress_bar\u001b[49m\u001b[38;5;241;43m=\u001b[39;49m\u001b[43mprogress_bar\u001b[49m\u001b[43m,\u001b[49m\n\u001b[0;32m     74\u001b[0m \u001b[43m        \u001b[49m\u001b[43m)\u001b[49m\n\u001b[0;32m     75\u001b[0m     \u001b[38;5;28;01melse\u001b[39;00m:\n\u001b[0;32m     76\u001b[0m         \u001b[38;5;28;01mif\u001b[39;00m n_jobs \u001b[38;5;241m==\u001b[39m \u001b[38;5;241m-\u001b[39m\u001b[38;5;241m1\u001b[39m:\n",
      "File \u001b[1;32mc:\\Users\\user\\Desktop\\Credit-Card-Segment-Classfication\\.venv\\lib\\site-packages\\optuna\\study\\_optimize.py:160\u001b[0m, in \u001b[0;36m_optimize_sequential\u001b[1;34m(study, func, n_trials, timeout, catch, callbacks, gc_after_trial, reseed_sampler_rng, time_start, progress_bar)\u001b[0m\n\u001b[0;32m    157\u001b[0m         \u001b[38;5;28;01mbreak\u001b[39;00m\n\u001b[0;32m    159\u001b[0m \u001b[38;5;28;01mtry\u001b[39;00m:\n\u001b[1;32m--> 160\u001b[0m     frozen_trial \u001b[38;5;241m=\u001b[39m \u001b[43m_run_trial\u001b[49m\u001b[43m(\u001b[49m\u001b[43mstudy\u001b[49m\u001b[43m,\u001b[49m\u001b[43m \u001b[49m\u001b[43mfunc\u001b[49m\u001b[43m,\u001b[49m\u001b[43m \u001b[49m\u001b[43mcatch\u001b[49m\u001b[43m)\u001b[49m\n\u001b[0;32m    161\u001b[0m \u001b[38;5;28;01mfinally\u001b[39;00m:\n\u001b[0;32m    162\u001b[0m     \u001b[38;5;66;03m# The following line mitigates memory problems that can be occurred in some\u001b[39;00m\n\u001b[0;32m    163\u001b[0m     \u001b[38;5;66;03m# environments (e.g., services that use computing containers such as GitHub Actions).\u001b[39;00m\n\u001b[0;32m    164\u001b[0m     \u001b[38;5;66;03m# Please refer to the following PR for further details:\u001b[39;00m\n\u001b[0;32m    165\u001b[0m     \u001b[38;5;66;03m# https://github.com/optuna/optuna/pull/325.\u001b[39;00m\n\u001b[0;32m    166\u001b[0m     \u001b[38;5;28;01mif\u001b[39;00m gc_after_trial:\n",
      "File \u001b[1;32mc:\\Users\\user\\Desktop\\Credit-Card-Segment-Classfication\\.venv\\lib\\site-packages\\optuna\\study\\_optimize.py:248\u001b[0m, in \u001b[0;36m_run_trial\u001b[1;34m(study, func, catch)\u001b[0m\n\u001b[0;32m    241\u001b[0m         \u001b[38;5;28;01massert\u001b[39;00m \u001b[38;5;28;01mFalse\u001b[39;00m, \u001b[38;5;124m\"\u001b[39m\u001b[38;5;124mShould not reach.\u001b[39m\u001b[38;5;124m\"\u001b[39m\n\u001b[0;32m    243\u001b[0m \u001b[38;5;28;01mif\u001b[39;00m (\n\u001b[0;32m    244\u001b[0m     frozen_trial\u001b[38;5;241m.\u001b[39mstate \u001b[38;5;241m==\u001b[39m TrialState\u001b[38;5;241m.\u001b[39mFAIL\n\u001b[0;32m    245\u001b[0m     \u001b[38;5;129;01mand\u001b[39;00m func_err \u001b[38;5;129;01mis\u001b[39;00m \u001b[38;5;129;01mnot\u001b[39;00m \u001b[38;5;28;01mNone\u001b[39;00m\n\u001b[0;32m    246\u001b[0m     \u001b[38;5;129;01mand\u001b[39;00m \u001b[38;5;129;01mnot\u001b[39;00m \u001b[38;5;28misinstance\u001b[39m(func_err, catch)\n\u001b[0;32m    247\u001b[0m ):\n\u001b[1;32m--> 248\u001b[0m     \u001b[38;5;28;01mraise\u001b[39;00m func_err\n\u001b[0;32m    249\u001b[0m \u001b[38;5;28;01mreturn\u001b[39;00m frozen_trial\n",
      "File \u001b[1;32mc:\\Users\\user\\Desktop\\Credit-Card-Segment-Classfication\\.venv\\lib\\site-packages\\optuna\\study\\_optimize.py:197\u001b[0m, in \u001b[0;36m_run_trial\u001b[1;34m(study, func, catch)\u001b[0m\n\u001b[0;32m    195\u001b[0m \u001b[38;5;28;01mwith\u001b[39;00m get_heartbeat_thread(trial\u001b[38;5;241m.\u001b[39m_trial_id, study\u001b[38;5;241m.\u001b[39m_storage):\n\u001b[0;32m    196\u001b[0m     \u001b[38;5;28;01mtry\u001b[39;00m:\n\u001b[1;32m--> 197\u001b[0m         value_or_values \u001b[38;5;241m=\u001b[39m \u001b[43mfunc\u001b[49m\u001b[43m(\u001b[49m\u001b[43mtrial\u001b[49m\u001b[43m)\u001b[49m\n\u001b[0;32m    198\u001b[0m     \u001b[38;5;28;01mexcept\u001b[39;00m exceptions\u001b[38;5;241m.\u001b[39mTrialPruned \u001b[38;5;28;01mas\u001b[39;00m e:\n\u001b[0;32m    199\u001b[0m         \u001b[38;5;66;03m# TODO(mamu): Handle multi-objective cases.\u001b[39;00m\n\u001b[0;32m    200\u001b[0m         state \u001b[38;5;241m=\u001b[39m TrialState\u001b[38;5;241m.\u001b[39mPRUNED\n",
      "Cell \u001b[1;32mIn[10], line 34\u001b[0m, in \u001b[0;36mcat_objective\u001b[1;34m(trial)\u001b[0m\n\u001b[0;32m     31\u001b[0m y_train, y_val \u001b[38;5;241m=\u001b[39m y_encoded[train_idx], y_encoded[val_idx]\n\u001b[0;32m     33\u001b[0m sm \u001b[38;5;241m=\u001b[39m SMOTE(random_state\u001b[38;5;241m=\u001b[39m\u001b[38;5;241m42\u001b[39m, k_neighbors\u001b[38;5;241m=\u001b[39m\u001b[38;5;241m2\u001b[39m)\n\u001b[1;32m---> 34\u001b[0m X_resampled, y_resampled \u001b[38;5;241m=\u001b[39m \u001b[43msm\u001b[49m\u001b[38;5;241;43m.\u001b[39;49m\u001b[43mfit_resample\u001b[49m\u001b[43m(\u001b[49m\u001b[43mX_train\u001b[49m\u001b[43m,\u001b[49m\u001b[43m \u001b[49m\u001b[43my_train\u001b[49m\u001b[43m)\u001b[49m\n\u001b[0;32m     36\u001b[0m model\u001b[38;5;241m.\u001b[39mfit(\n\u001b[0;32m     37\u001b[0m     X_resampled,\n\u001b[0;32m     38\u001b[0m     y_resampled,\n\u001b[0;32m     39\u001b[0m     eval_set\u001b[38;5;241m=\u001b[39m(X_val, y_val),\n\u001b[0;32m     40\u001b[0m )\n\u001b[0;32m     42\u001b[0m y_pred \u001b[38;5;241m=\u001b[39m model\u001b[38;5;241m.\u001b[39mpredict(X_val)\n",
      "File \u001b[1;32mc:\\Users\\user\\Desktop\\Credit-Card-Segment-Classfication\\.venv\\lib\\site-packages\\imblearn\\base.py:202\u001b[0m, in \u001b[0;36mBaseSampler.fit_resample\u001b[1;34m(self, X, y, **params)\u001b[0m\n\u001b[0;32m    181\u001b[0m \u001b[38;5;28;01mdef\u001b[39;00m\u001b[38;5;250m \u001b[39m\u001b[38;5;21mfit_resample\u001b[39m(\u001b[38;5;28mself\u001b[39m, X, y, \u001b[38;5;241m*\u001b[39m\u001b[38;5;241m*\u001b[39mparams):\n\u001b[0;32m    182\u001b[0m \u001b[38;5;250m    \u001b[39m\u001b[38;5;124;03m\"\"\"Resample the dataset.\u001b[39;00m\n\u001b[0;32m    183\u001b[0m \n\u001b[0;32m    184\u001b[0m \u001b[38;5;124;03m    Parameters\u001b[39;00m\n\u001b[1;32m   (...)\u001b[0m\n\u001b[0;32m    200\u001b[0m \u001b[38;5;124;03m        The corresponding label of `X_resampled`.\u001b[39;00m\n\u001b[0;32m    201\u001b[0m \u001b[38;5;124;03m    \"\"\"\u001b[39;00m\n\u001b[1;32m--> 202\u001b[0m     \u001b[38;5;28;01mreturn\u001b[39;00m \u001b[38;5;28msuper\u001b[39m()\u001b[38;5;241m.\u001b[39mfit_resample(X, y, \u001b[38;5;241m*\u001b[39m\u001b[38;5;241m*\u001b[39mparams)\n",
      "File \u001b[1;32mc:\\Users\\user\\Desktop\\Credit-Card-Segment-Classfication\\.venv\\lib\\site-packages\\sklearn\\base.py:1473\u001b[0m, in \u001b[0;36m_fit_context.<locals>.decorator.<locals>.wrapper\u001b[1;34m(estimator, *args, **kwargs)\u001b[0m\n\u001b[0;32m   1466\u001b[0m     estimator\u001b[38;5;241m.\u001b[39m_validate_params()\n\u001b[0;32m   1468\u001b[0m \u001b[38;5;28;01mwith\u001b[39;00m config_context(\n\u001b[0;32m   1469\u001b[0m     skip_parameter_validation\u001b[38;5;241m=\u001b[39m(\n\u001b[0;32m   1470\u001b[0m         prefer_skip_nested_validation \u001b[38;5;129;01mor\u001b[39;00m global_skip_validation\n\u001b[0;32m   1471\u001b[0m     )\n\u001b[0;32m   1472\u001b[0m ):\n\u001b[1;32m-> 1473\u001b[0m     \u001b[38;5;28;01mreturn\u001b[39;00m fit_method(estimator, \u001b[38;5;241m*\u001b[39margs, \u001b[38;5;241m*\u001b[39m\u001b[38;5;241m*\u001b[39mkwargs)\n",
      "File \u001b[1;32mc:\\Users\\user\\Desktop\\Credit-Card-Segment-Classfication\\.venv\\lib\\site-packages\\imblearn\\base.py:105\u001b[0m, in \u001b[0;36mSamplerMixin.fit_resample\u001b[1;34m(self, X, y, **params)\u001b[0m\n\u001b[0;32m     99\u001b[0m X, y, binarize_y \u001b[38;5;241m=\u001b[39m \u001b[38;5;28mself\u001b[39m\u001b[38;5;241m.\u001b[39m_check_X_y(X, y)\n\u001b[0;32m    101\u001b[0m \u001b[38;5;28mself\u001b[39m\u001b[38;5;241m.\u001b[39msampling_strategy_ \u001b[38;5;241m=\u001b[39m check_sampling_strategy(\n\u001b[0;32m    102\u001b[0m     \u001b[38;5;28mself\u001b[39m\u001b[38;5;241m.\u001b[39msampling_strategy, y, \u001b[38;5;28mself\u001b[39m\u001b[38;5;241m.\u001b[39m_sampling_type\n\u001b[0;32m    103\u001b[0m )\n\u001b[1;32m--> 105\u001b[0m output \u001b[38;5;241m=\u001b[39m \u001b[38;5;28mself\u001b[39m\u001b[38;5;241m.\u001b[39m_fit_resample(X, y, \u001b[38;5;241m*\u001b[39m\u001b[38;5;241m*\u001b[39mparams)\n\u001b[0;32m    107\u001b[0m y_ \u001b[38;5;241m=\u001b[39m (\n\u001b[0;32m    108\u001b[0m     label_binarize(output[\u001b[38;5;241m1\u001b[39m], classes\u001b[38;5;241m=\u001b[39mnp\u001b[38;5;241m.\u001b[39munique(y)) \u001b[38;5;28;01mif\u001b[39;00m binarize_y \u001b[38;5;28;01melse\u001b[39;00m output[\u001b[38;5;241m1\u001b[39m]\n\u001b[0;32m    109\u001b[0m )\n\u001b[0;32m    111\u001b[0m X_, y_ \u001b[38;5;241m=\u001b[39m arrays_transformer\u001b[38;5;241m.\u001b[39mtransform(output[\u001b[38;5;241m0\u001b[39m], y_)\n",
      "File \u001b[1;32mc:\\Users\\user\\Desktop\\Credit-Card-Segment-Classfication\\.venv\\lib\\site-packages\\imblearn\\over_sampling\\_smote\\base.py:359\u001b[0m, in \u001b[0;36mSMOTE._fit_resample\u001b[1;34m(self, X, y)\u001b[0m\n\u001b[0;32m    356\u001b[0m X_class \u001b[38;5;241m=\u001b[39m _safe_indexing(X, target_class_indices)\n\u001b[0;32m    358\u001b[0m \u001b[38;5;28mself\u001b[39m\u001b[38;5;241m.\u001b[39mnn_k_\u001b[38;5;241m.\u001b[39mfit(X_class)\n\u001b[1;32m--> 359\u001b[0m nns \u001b[38;5;241m=\u001b[39m \u001b[38;5;28;43mself\u001b[39;49m\u001b[38;5;241;43m.\u001b[39;49m\u001b[43mnn_k_\u001b[49m\u001b[38;5;241;43m.\u001b[39;49m\u001b[43mkneighbors\u001b[49m\u001b[43m(\u001b[49m\u001b[43mX_class\u001b[49m\u001b[43m,\u001b[49m\u001b[43m \u001b[49m\u001b[43mreturn_distance\u001b[49m\u001b[38;5;241;43m=\u001b[39;49m\u001b[38;5;28;43;01mFalse\u001b[39;49;00m\u001b[43m)\u001b[49m[:, \u001b[38;5;241m1\u001b[39m:]\n\u001b[0;32m    360\u001b[0m X_new, y_new \u001b[38;5;241m=\u001b[39m \u001b[38;5;28mself\u001b[39m\u001b[38;5;241m.\u001b[39m_make_samples(\n\u001b[0;32m    361\u001b[0m     X_class, y\u001b[38;5;241m.\u001b[39mdtype, class_sample, X_class, nns, n_samples, \u001b[38;5;241m1.0\u001b[39m\n\u001b[0;32m    362\u001b[0m )\n\u001b[0;32m    363\u001b[0m X_resampled\u001b[38;5;241m.\u001b[39mappend(X_new)\n",
      "File \u001b[1;32mc:\\Users\\user\\Desktop\\Credit-Card-Segment-Classfication\\.venv\\lib\\site-packages\\sklearn\\neighbors\\_base.py:849\u001b[0m, in \u001b[0;36mKNeighborsMixin.kneighbors\u001b[1;34m(self, X, n_neighbors, return_distance)\u001b[0m\n\u001b[0;32m    842\u001b[0m use_pairwise_distances_reductions \u001b[38;5;241m=\u001b[39m (\n\u001b[0;32m    843\u001b[0m     \u001b[38;5;28mself\u001b[39m\u001b[38;5;241m.\u001b[39m_fit_method \u001b[38;5;241m==\u001b[39m \u001b[38;5;124m\"\u001b[39m\u001b[38;5;124mbrute\u001b[39m\u001b[38;5;124m\"\u001b[39m\n\u001b[0;32m    844\u001b[0m     \u001b[38;5;129;01mand\u001b[39;00m ArgKmin\u001b[38;5;241m.\u001b[39mis_usable_for(\n\u001b[0;32m    845\u001b[0m         X \u001b[38;5;28;01mif\u001b[39;00m X \u001b[38;5;129;01mis\u001b[39;00m \u001b[38;5;129;01mnot\u001b[39;00m \u001b[38;5;28;01mNone\u001b[39;00m \u001b[38;5;28;01melse\u001b[39;00m \u001b[38;5;28mself\u001b[39m\u001b[38;5;241m.\u001b[39m_fit_X, \u001b[38;5;28mself\u001b[39m\u001b[38;5;241m.\u001b[39m_fit_X, \u001b[38;5;28mself\u001b[39m\u001b[38;5;241m.\u001b[39meffective_metric_\n\u001b[0;32m    846\u001b[0m     )\n\u001b[0;32m    847\u001b[0m )\n\u001b[0;32m    848\u001b[0m \u001b[38;5;28;01mif\u001b[39;00m use_pairwise_distances_reductions:\n\u001b[1;32m--> 849\u001b[0m     results \u001b[38;5;241m=\u001b[39m \u001b[43mArgKmin\u001b[49m\u001b[38;5;241;43m.\u001b[39;49m\u001b[43mcompute\u001b[49m\u001b[43m(\u001b[49m\n\u001b[0;32m    850\u001b[0m \u001b[43m        \u001b[49m\u001b[43mX\u001b[49m\u001b[38;5;241;43m=\u001b[39;49m\u001b[43mX\u001b[49m\u001b[43m,\u001b[49m\n\u001b[0;32m    851\u001b[0m \u001b[43m        \u001b[49m\u001b[43mY\u001b[49m\u001b[38;5;241;43m=\u001b[39;49m\u001b[38;5;28;43mself\u001b[39;49m\u001b[38;5;241;43m.\u001b[39;49m\u001b[43m_fit_X\u001b[49m\u001b[43m,\u001b[49m\n\u001b[0;32m    852\u001b[0m \u001b[43m        \u001b[49m\u001b[43mk\u001b[49m\u001b[38;5;241;43m=\u001b[39;49m\u001b[43mn_neighbors\u001b[49m\u001b[43m,\u001b[49m\n\u001b[0;32m    853\u001b[0m \u001b[43m        \u001b[49m\u001b[43mmetric\u001b[49m\u001b[38;5;241;43m=\u001b[39;49m\u001b[38;5;28;43mself\u001b[39;49m\u001b[38;5;241;43m.\u001b[39;49m\u001b[43meffective_metric_\u001b[49m\u001b[43m,\u001b[49m\n\u001b[0;32m    854\u001b[0m \u001b[43m        \u001b[49m\u001b[43mmetric_kwargs\u001b[49m\u001b[38;5;241;43m=\u001b[39;49m\u001b[38;5;28;43mself\u001b[39;49m\u001b[38;5;241;43m.\u001b[39;49m\u001b[43meffective_metric_params_\u001b[49m\u001b[43m,\u001b[49m\n\u001b[0;32m    855\u001b[0m \u001b[43m        \u001b[49m\u001b[43mstrategy\u001b[49m\u001b[38;5;241;43m=\u001b[39;49m\u001b[38;5;124;43m\"\u001b[39;49m\u001b[38;5;124;43mauto\u001b[39;49m\u001b[38;5;124;43m\"\u001b[39;49m\u001b[43m,\u001b[49m\n\u001b[0;32m    856\u001b[0m \u001b[43m        \u001b[49m\u001b[43mreturn_distance\u001b[49m\u001b[38;5;241;43m=\u001b[39;49m\u001b[43mreturn_distance\u001b[49m\u001b[43m,\u001b[49m\n\u001b[0;32m    857\u001b[0m \u001b[43m    \u001b[49m\u001b[43m)\u001b[49m\n\u001b[0;32m    859\u001b[0m \u001b[38;5;28;01melif\u001b[39;00m (\n\u001b[0;32m    860\u001b[0m     \u001b[38;5;28mself\u001b[39m\u001b[38;5;241m.\u001b[39m_fit_method \u001b[38;5;241m==\u001b[39m \u001b[38;5;124m\"\u001b[39m\u001b[38;5;124mbrute\u001b[39m\u001b[38;5;124m\"\u001b[39m \u001b[38;5;129;01mand\u001b[39;00m \u001b[38;5;28mself\u001b[39m\u001b[38;5;241m.\u001b[39mmetric \u001b[38;5;241m==\u001b[39m \u001b[38;5;124m\"\u001b[39m\u001b[38;5;124mprecomputed\u001b[39m\u001b[38;5;124m\"\u001b[39m \u001b[38;5;129;01mand\u001b[39;00m issparse(X)\n\u001b[0;32m    861\u001b[0m ):\n\u001b[0;32m    862\u001b[0m     results \u001b[38;5;241m=\u001b[39m _kneighbors_from_graph(\n\u001b[0;32m    863\u001b[0m         X, n_neighbors\u001b[38;5;241m=\u001b[39mn_neighbors, return_distance\u001b[38;5;241m=\u001b[39mreturn_distance\n\u001b[0;32m    864\u001b[0m     )\n",
      "File \u001b[1;32mc:\\Users\\user\\Desktop\\Credit-Card-Segment-Classfication\\.venv\\lib\\site-packages\\sklearn\\metrics\\_pairwise_distances_reduction\\_dispatcher.py:278\u001b[0m, in \u001b[0;36mArgKmin.compute\u001b[1;34m(cls, X, Y, k, metric, chunk_size, metric_kwargs, strategy, return_distance)\u001b[0m\n\u001b[0;32m    197\u001b[0m \u001b[38;5;250m\u001b[39m\u001b[38;5;124;03m\"\"\"Compute the argkmin reduction.\u001b[39;00m\n\u001b[0;32m    198\u001b[0m \n\u001b[0;32m    199\u001b[0m \u001b[38;5;124;03mParameters\u001b[39;00m\n\u001b[1;32m   (...)\u001b[0m\n\u001b[0;32m    275\u001b[0m \u001b[38;5;124;03mreturns.\u001b[39;00m\n\u001b[0;32m    276\u001b[0m \u001b[38;5;124;03m\"\"\"\u001b[39;00m\n\u001b[0;32m    277\u001b[0m \u001b[38;5;28;01mif\u001b[39;00m X\u001b[38;5;241m.\u001b[39mdtype \u001b[38;5;241m==\u001b[39m Y\u001b[38;5;241m.\u001b[39mdtype \u001b[38;5;241m==\u001b[39m np\u001b[38;5;241m.\u001b[39mfloat64:\n\u001b[1;32m--> 278\u001b[0m     \u001b[38;5;28;01mreturn\u001b[39;00m \u001b[43mArgKmin64\u001b[49m\u001b[38;5;241;43m.\u001b[39;49m\u001b[43mcompute\u001b[49m\u001b[43m(\u001b[49m\n\u001b[0;32m    279\u001b[0m \u001b[43m        \u001b[49m\u001b[43mX\u001b[49m\u001b[38;5;241;43m=\u001b[39;49m\u001b[43mX\u001b[49m\u001b[43m,\u001b[49m\n\u001b[0;32m    280\u001b[0m \u001b[43m        \u001b[49m\u001b[43mY\u001b[49m\u001b[38;5;241;43m=\u001b[39;49m\u001b[43mY\u001b[49m\u001b[43m,\u001b[49m\n\u001b[0;32m    281\u001b[0m \u001b[43m        \u001b[49m\u001b[43mk\u001b[49m\u001b[38;5;241;43m=\u001b[39;49m\u001b[43mk\u001b[49m\u001b[43m,\u001b[49m\n\u001b[0;32m    282\u001b[0m \u001b[43m        \u001b[49m\u001b[43mmetric\u001b[49m\u001b[38;5;241;43m=\u001b[39;49m\u001b[43mmetric\u001b[49m\u001b[43m,\u001b[49m\n\u001b[0;32m    283\u001b[0m \u001b[43m        \u001b[49m\u001b[43mchunk_size\u001b[49m\u001b[38;5;241;43m=\u001b[39;49m\u001b[43mchunk_size\u001b[49m\u001b[43m,\u001b[49m\n\u001b[0;32m    284\u001b[0m \u001b[43m        \u001b[49m\u001b[43mmetric_kwargs\u001b[49m\u001b[38;5;241;43m=\u001b[39;49m\u001b[43mmetric_kwargs\u001b[49m\u001b[43m,\u001b[49m\n\u001b[0;32m    285\u001b[0m \u001b[43m        \u001b[49m\u001b[43mstrategy\u001b[49m\u001b[38;5;241;43m=\u001b[39;49m\u001b[43mstrategy\u001b[49m\u001b[43m,\u001b[49m\n\u001b[0;32m    286\u001b[0m \u001b[43m        \u001b[49m\u001b[43mreturn_distance\u001b[49m\u001b[38;5;241;43m=\u001b[39;49m\u001b[43mreturn_distance\u001b[49m\u001b[43m,\u001b[49m\n\u001b[0;32m    287\u001b[0m \u001b[43m    \u001b[49m\u001b[43m)\u001b[49m\n\u001b[0;32m    289\u001b[0m \u001b[38;5;28;01mif\u001b[39;00m X\u001b[38;5;241m.\u001b[39mdtype \u001b[38;5;241m==\u001b[39m Y\u001b[38;5;241m.\u001b[39mdtype \u001b[38;5;241m==\u001b[39m np\u001b[38;5;241m.\u001b[39mfloat32:\n\u001b[0;32m    290\u001b[0m     \u001b[38;5;28;01mreturn\u001b[39;00m ArgKmin32\u001b[38;5;241m.\u001b[39mcompute(\n\u001b[0;32m    291\u001b[0m         X\u001b[38;5;241m=\u001b[39mX,\n\u001b[0;32m    292\u001b[0m         Y\u001b[38;5;241m=\u001b[39mY,\n\u001b[1;32m   (...)\u001b[0m\n\u001b[0;32m    298\u001b[0m         return_distance\u001b[38;5;241m=\u001b[39mreturn_distance,\n\u001b[0;32m    299\u001b[0m     )\n",
      "File \u001b[1;32msklearn\\\\metrics\\\\_pairwise_distances_reduction\\\\_argkmin.pyx:59\u001b[0m, in \u001b[0;36msklearn.metrics._pairwise_distances_reduction._argkmin.ArgKmin64.compute\u001b[1;34m()\u001b[0m\n",
      "File \u001b[1;32mc:\\Users\\user\\Desktop\\Credit-Card-Segment-Classfication\\.venv\\lib\\site-packages\\threadpoolctl.py:592\u001b[0m, in \u001b[0;36m_ThreadpoolLimiter.__exit__\u001b[1;34m(self, type, value, traceback)\u001b[0m\n\u001b[0;32m    589\u001b[0m \u001b[38;5;28;01mdef\u001b[39;00m\u001b[38;5;250m \u001b[39m\u001b[38;5;21m__enter__\u001b[39m(\u001b[38;5;28mself\u001b[39m):\n\u001b[0;32m    590\u001b[0m     \u001b[38;5;28;01mreturn\u001b[39;00m \u001b[38;5;28mself\u001b[39m\n\u001b[1;32m--> 592\u001b[0m \u001b[38;5;28;01mdef\u001b[39;00m\u001b[38;5;250m \u001b[39m\u001b[38;5;21m__exit__\u001b[39m(\u001b[38;5;28mself\u001b[39m, \u001b[38;5;28mtype\u001b[39m, value, traceback):\n\u001b[0;32m    593\u001b[0m     \u001b[38;5;28mself\u001b[39m\u001b[38;5;241m.\u001b[39mrestore_original_limits()\n\u001b[0;32m    595\u001b[0m \u001b[38;5;129m@classmethod\u001b[39m\n\u001b[0;32m    596\u001b[0m \u001b[38;5;28;01mdef\u001b[39;00m\u001b[38;5;250m \u001b[39m\u001b[38;5;21mwrap\u001b[39m(\u001b[38;5;28mcls\u001b[39m, controller, \u001b[38;5;241m*\u001b[39m, limits\u001b[38;5;241m=\u001b[39m\u001b[38;5;28;01mNone\u001b[39;00m, user_api\u001b[38;5;241m=\u001b[39m\u001b[38;5;28;01mNone\u001b[39;00m):\n",
      "\u001b[1;31mKeyboardInterrupt\u001b[0m: "
     ]
    }
   ],
   "source": [
    "cat_study = optuna.create_study(direction='maximize')\n",
    "cat_study.optimize(cat_objective, n_trials=30, callbacks=[save_best_trial_json])\n",
    "\n",
    "print(\"Best trial:\")\n",
    "trial = cat_study.best_trial\n",
    "print(\"  Value: {}\".format(trial.value))\n",
    "print(\"  Params: \")\n",
    "\n",
    "for key, value in trial.params.items():\n",
    "    print(\"    {}: {}\".format(key, value))"
   ]
  },
  {
   "cell_type": "code",
   "execution_count": null,
   "id": "43e7c88c",
   "metadata": {},
   "outputs": [
    {
     "name": "stdout",
     "output_type": "stream",
     "text": [
      "{'learning_rate': 0.14443040357384754, 'l2_leaf_reg': 3.579206732697243, 'random_strength': 9.260795094764234, 'bagging_temperature': 0.8085060703189194, 'depth': 9, 'iterations': 940, 'random_state': 42, 'class_weights': {0: 493.82716049382714, 1: 3333.3333333333335, 2: 3.7620503174229953, 3: 1.3744051402752246, 4: 0.2497330977517778}, 'task_type': 'GPU', 'verbose': 100}\n",
      "파라미터 업데이트 완료...!\n",
      "K-fold CV 시작\n",
      "0:\tlearn: 1.3007837\ttest: 1.3291329\tbest: 1.3291329 (0)\ttotal: 129ms\tremaining: 2m 1s\n",
      "100:\tlearn: 0.2921535\ttest: 0.4258981\tbest: 0.4163611 (88)\ttotal: 13.3s\tremaining: 1m 50s\n",
      "200:\tlearn: 0.2505161\ttest: 0.4073600\tbest: 0.4061890 (197)\ttotal: 26.2s\tremaining: 1m 36s\n",
      "300:\tlearn: 0.2256003\ttest: 0.3930573\tbest: 0.3922999 (297)\ttotal: 39.2s\tremaining: 1m 23s\n",
      "400:\tlearn: 0.2072978\ttest: 0.3776745\tbest: 0.3768182 (396)\ttotal: 52.2s\tremaining: 1m 10s\n",
      "500:\tlearn: 0.1936344\ttest: 0.3750940\tbest: 0.3733882 (467)\ttotal: 1m 4s\tremaining: 56.8s\n",
      "600:\tlearn: 0.1812814\ttest: 0.3649985\tbest: 0.3623688 (576)\ttotal: 1m 17s\tremaining: 43.9s\n",
      "700:\tlearn: 0.1710117\ttest: 0.3616039\tbest: 0.3604770 (669)\ttotal: 1m 30s\tremaining: 31s\n",
      "800:\tlearn: 0.1618976\ttest: 0.3579132\tbest: 0.3573114 (783)\ttotal: 1m 43s\tremaining: 18s\n",
      "900:\tlearn: 0.1539992\ttest: 0.3540089\tbest: 0.3532521 (875)\ttotal: 1m 56s\tremaining: 5.04s\n",
      "939:\tlearn: 0.1510481\ttest: 0.3512733\tbest: 0.3509903 (921)\ttotal: 2m 1s\tremaining: 0us\n",
      "bestTest = 0.3509903377\n",
      "bestIteration = 921\n",
      "Shrink model to first 922 iterations.\n",
      "Fold 1/5 - F1 Score: 0.8412\n",
      "0:\tlearn: 1.2953433\ttest: 1.3417276\tbest: 1.3417276 (0)\ttotal: 128ms\tremaining: 2m\n",
      "100:\tlearn: 0.2906025\ttest: 0.4555867\tbest: 0.4555867 (100)\ttotal: 13.5s\tremaining: 1m 52s\n",
      "200:\tlearn: 0.2496047\ttest: 0.4208341\tbest: 0.4207552 (199)\ttotal: 26.5s\tremaining: 1m 37s\n",
      "300:\tlearn: 0.2250300\ttest: 0.4044433\tbest: 0.4044433 (300)\ttotal: 39.6s\tremaining: 1m 24s\n",
      "400:\tlearn: 0.2072473\ttest: 0.3875923\tbest: 0.3871214 (397)\ttotal: 52.3s\tremaining: 1m 10s\n",
      "500:\tlearn: 0.1923535\ttest: 0.3748325\tbest: 0.3748325 (500)\ttotal: 1m 5s\tremaining: 57.3s\n",
      "600:\tlearn: 0.1800526\ttest: 0.3675954\tbest: 0.3675954 (600)\ttotal: 1m 18s\tremaining: 44.3s\n",
      "700:\tlearn: 0.1697420\ttest: 0.3602503\tbest: 0.3602503 (700)\ttotal: 1m 31s\tremaining: 31.1s\n",
      "800:\tlearn: 0.1606931\ttest: 0.3477432\tbest: 0.3477432 (800)\ttotal: 1m 44s\tremaining: 18.1s\n",
      "900:\tlearn: 0.1526434\ttest: 0.3393317\tbest: 0.3393317 (900)\ttotal: 1m 57s\tremaining: 5.07s\n",
      "939:\tlearn: 0.1498086\ttest: 0.3373486\tbest: 0.3373486 (939)\ttotal: 2m 1s\tremaining: 0us\n",
      "bestTest = 0.3373486418\n",
      "bestIteration = 939\n",
      "Fold 2/5 - F1 Score: 0.8523\n",
      "0:\tlearn: 1.2978391\ttest: 1.3442530\tbest: 1.3442530 (0)\ttotal: 119ms\tremaining: 1m 51s\n",
      "100:\tlearn: 0.2905901\ttest: 0.3834041\tbest: 0.3831152 (99)\ttotal: 13.6s\tremaining: 1m 52s\n",
      "200:\tlearn: 0.2496106\ttest: 0.3340463\tbest: 0.3340463 (200)\ttotal: 26.6s\tremaining: 1m 37s\n",
      "300:\tlearn: 0.2259133\ttest: 0.3205153\tbest: 0.3203724 (296)\ttotal: 39.4s\tremaining: 1m 23s\n",
      "400:\tlearn: 0.2071264\ttest: 0.3046927\tbest: 0.3045778 (399)\ttotal: 52.5s\tremaining: 1m 10s\n",
      "500:\tlearn: 0.1929163\ttest: 0.2949592\tbest: 0.2949592 (500)\ttotal: 1m 5s\tremaining: 57.4s\n",
      "600:\tlearn: 0.1809888\ttest: 0.2826120\tbest: 0.2823892 (594)\ttotal: 1m 18s\tremaining: 44.2s\n",
      "700:\tlearn: 0.1708425\ttest: 0.2730968\tbest: 0.2729287 (698)\ttotal: 1m 31s\tremaining: 31.1s\n",
      "800:\tlearn: 0.1617119\ttest: 0.2655206\tbest: 0.2651757 (788)\ttotal: 1m 44s\tremaining: 18.1s\n",
      "900:\tlearn: 0.1538419\ttest: 0.2590284\tbest: 0.2590095 (899)\ttotal: 1m 57s\tremaining: 5.07s\n",
      "939:\tlearn: 0.1508077\ttest: 0.2559462\tbest: 0.2559462 (939)\ttotal: 2m 2s\tremaining: 0us\n",
      "bestTest = 0.2559461913\n",
      "bestIteration = 939\n",
      "Fold 3/5 - F1 Score: 0.8691\n",
      "0:\tlearn: 1.3003510\ttest: 1.3237563\tbest: 1.3237563 (0)\ttotal: 116ms\tremaining: 1m 48s\n",
      "100:\tlearn: 0.2920809\ttest: 0.4300495\tbest: 0.4300495 (100)\ttotal: 13.3s\tremaining: 1m 50s\n",
      "200:\tlearn: 0.2497623\ttest: 0.4097167\tbest: 0.4069101 (169)\ttotal: 26.5s\tremaining: 1m 37s\n",
      "300:\tlearn: 0.2257477\ttest: 0.3987791\tbest: 0.3986347 (298)\ttotal: 39.4s\tremaining: 1m 23s\n",
      "400:\tlearn: 0.2073305\ttest: 0.3893381\tbest: 0.3893381 (400)\ttotal: 52.3s\tremaining: 1m 10s\n",
      "500:\tlearn: 0.1930048\ttest: 0.3750683\tbest: 0.3747132 (499)\ttotal: 1m 5s\tremaining: 57.1s\n",
      "600:\tlearn: 0.1809617\ttest: 0.3634443\tbest: 0.3634443 (600)\ttotal: 1m 18s\tremaining: 44.1s\n",
      "700:\tlearn: 0.1706014\ttest: 0.3529756\tbest: 0.3529133 (699)\ttotal: 1m 31s\tremaining: 31s\n",
      "800:\tlearn: 0.1612009\ttest: 0.3458348\tbest: 0.3458348 (800)\ttotal: 1m 43s\tremaining: 18s\n",
      "900:\tlearn: 0.1530311\ttest: 0.3409048\tbest: 0.3405929 (898)\ttotal: 1m 56s\tremaining: 5.06s\n",
      "939:\tlearn: 0.1500962\ttest: 0.3363768\tbest: 0.3363768 (939)\ttotal: 2m 1s\tremaining: 0us\n",
      "bestTest = 0.3363768012\n",
      "bestIteration = 939\n",
      "Fold 4/5 - F1 Score: 0.8442\n",
      "0:\tlearn: 1.2963534\ttest: 1.3125212\tbest: 1.3125212 (0)\ttotal: 135ms\tremaining: 2m 6s\n",
      "100:\tlearn: 0.2887705\ttest: 0.3999586\tbest: 0.3953667 (92)\ttotal: 13.6s\tremaining: 1m 52s\n",
      "200:\tlearn: 0.2482555\ttest: 0.3531369\tbest: 0.3531369 (200)\ttotal: 26.6s\tremaining: 1m 37s\n",
      "300:\tlearn: 0.2240766\ttest: 0.3387975\tbest: 0.3379109 (297)\ttotal: 39.5s\tremaining: 1m 23s\n",
      "400:\tlearn: 0.2061045\ttest: 0.3196820\tbest: 0.3193314 (396)\ttotal: 52.5s\tremaining: 1m 10s\n",
      "500:\tlearn: 0.1918529\ttest: 0.3035179\tbest: 0.3035179 (500)\ttotal: 1m 5s\tremaining: 57.1s\n",
      "600:\tlearn: 0.1806828\ttest: 0.2953490\tbest: 0.2950843 (599)\ttotal: 1m 17s\tremaining: 43.9s\n",
      "700:\tlearn: 0.1705338\ttest: 0.2824568\tbest: 0.2823200 (699)\ttotal: 1m 30s\tremaining: 30.9s\n",
      "800:\tlearn: 0.1614708\ttest: 0.2716084\tbest: 0.2716084 (800)\ttotal: 1m 43s\tremaining: 18s\n",
      "900:\tlearn: 0.1531867\ttest: 0.2625681\tbest: 0.2625681 (900)\ttotal: 1m 56s\tremaining: 5.04s\n",
      "939:\tlearn: 0.1501124\ttest: 0.2574192\tbest: 0.2574192 (939)\ttotal: 2m 1s\tremaining: 0us\n",
      "bestTest = 0.2574192093\n",
      "bestIteration = 939\n",
      "Fold 5/5 - F1 Score: 0.8592\n"
     ]
    },
    {
     "name": "stderr",
     "output_type": "stream",
     "text": [
      "c:\\Users\\user\\Desktop\\Credit-Card-Segment-Classfication\\.venv\\lib\\site-packages\\sklearn\\preprocessing\\_label.py:153: DataConversionWarning: A column-vector y was passed when a 1d array was expected. Please change the shape of y to (n_samples, ), for example using ravel().\n",
      "  y = column_or_1d(y, warn=True)\n"
     ]
    },
    {
     "name": "stdout",
     "output_type": "stream",
     "text": [
      "✅ Submission 생성 완료! \n"
     ]
    }
   ],
   "source": [
    "import json\n",
    "import numpy as np\n",
    "import pandas as pd\n",
    "from catboost import CatBoostClassifier\n",
    "from sklearn.model_selection import StratifiedKFold\n",
    "from sklearn.metrics import f1_score\n",
    "\n",
    "# JSON에서 파라미터 로드\n",
    "with open(\"result/best_trial_result.json\", \"r\", encoding=\"utf-8\") as f:\n",
    "    best_result = json.load(f)\n",
    "params = best_result[\"params\"]\n",
    "\n",
    "# CatBoost 설정\n",
    "params.update({\n",
    "    \"random_state\": 42,\n",
    "    \"class_weights\": class_weights,\n",
    "    \"task_type\": \"GPU\",\n",
    "    \"verbose\": 200,\n",
    "})\n",
    "\n",
    "print(params)\n",
    "\n",
    "model = CatBoostClassifier(**params)\n",
    "\n",
    "print(\"파라미터 업데이트 완료...!\")\n",
    "\n",
    "# CV 준비\n",
    "n_splits = 5\n",
    "skf = StratifiedKFold(n_splits=n_splits, shuffle=True, random_state=42)\n",
    "scores = []\n",
    "\n",
    "print(\"K-fold CV 시작\")\n",
    "\n",
    "for i, (train_idx, val_idx) in enumerate(skf.split(X, y_encoded)):\n",
    "    X_train, X_val = X.iloc[train_idx], X.iloc[val_idx]\n",
    "    y_train, y_val = y_encoded[train_idx], y_encoded[val_idx]\n",
    "\n",
    "    model.fit(X_train, y_train, eval_set=(X_val, y_val))\n",
    "\n",
    "    # test에 대한 확률 예측\n",
    "    y_pred = model.predict(X_val)  # 각 클래스별 확률\n",
    "\n",
    "    score = f1_score(y_val, y_pred, average='macro')\n",
    "    \n",
    "    scores.append(score)\n",
    "    print(f\"Fold {i+1}/{n_splits} - F1 Score: {score:.4f}\")\n",
    "\n",
    "y_pred_labels = model.predict(X_test)\n",
    "y_pred_labels = le.inverse_transform(y_pred_labels)\n",
    "\n",
    "model.save_model('result/catboost_final_model.cbm')\n",
    "\n",
    "# 제출 파일 생성\n",
    "test_data = test_df.copy()\n",
    "test_data[\"pred_label\"] = y_pred_labels\n",
    "\n",
    "submission = test_data.groupby(\"ID\")[\"pred_label\"].agg(lambda x: x.value_counts().idxmax()).reset_index()\n",
    "submission.columns = [\"ID\", \"Segment\"]\n",
    "submission.to_csv(\"submission.csv\", index=False)\n",
    "print(\"✅ Submission 생성 완료! \")\n"
   ]
  }
 ],
 "metadata": {
  "kernelspec": {
   "display_name": ".venv",
   "language": "python",
   "name": "python3"
  },
  "language_info": {
   "codemirror_mode": {
    "name": "ipython",
    "version": 3
   },
   "file_extension": ".py",
   "mimetype": "text/x-python",
   "name": "python",
   "nbconvert_exporter": "python",
   "pygments_lexer": "ipython3",
   "version": "3.10.6"
  }
 },
 "nbformat": 4,
 "nbformat_minor": 5
}
