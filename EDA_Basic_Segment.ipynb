{
  "cells": [
    {
      "cell_type": "markdown",
      "metadata": {
        "colab_type": "text",
        "id": "view-in-github"
      },
      "source": [
        "<a href=\"https://colab.research.google.com/github/BinarySstar/Credit-Card-Segment-Classfication/blob/master/Credit_Card_Segment_Classfication.ipynb\" target=\"_parent\"><img src=\"https://colab.research.google.com/assets/colab-badge.svg\" alt=\"Open In Colab\"/></a>"
      ]
    },
    {
      "cell_type": "markdown",
      "metadata": {
        "id": "tBmDuNY0FVBS"
      },
      "source": [
        "# Google Drive Mount"
      ]
    },
    {
      "cell_type": "code",
      "execution_count": 1,
      "metadata": {
        "colab": {
          "base_uri": "https://localhost:8080/"
        },
        "id": "IuJ22cW7yp5u",
        "outputId": "09b78a8c-4456-437f-a9df-d8ef6c6e9745"
      },
      "outputs": [
        {
          "name": "stdout",
          "output_type": "stream",
          "text": [
            "Drive already mounted at /content/drive; to attempt to forcibly remount, call drive.mount(\"/content/drive\", force_remount=True).\n"
          ]
        }
      ],
      "source": [
        "# from google.colab import drive\n",
        "\n",
        "# drive.mount('/content/drive')"
      ]
    },
    {
      "cell_type": "markdown",
      "metadata": {
        "id": "n8KiyIwbkNlG"
      },
      "source": [
        "- 한글 폰트 적용을 위해 폰트 설치 및 적용"
      ]
    },
    {
      "cell_type": "code",
      "execution_count": 1,
      "metadata": {
        "id": "90Jv1kXjkM1k"
      },
      "outputs": [],
      "source": [
        "# # 한글 폰트 설정 (Colab용)\n",
        "# !apt-get -qq install -y fonts-nanum\n",
        "\n",
        "# matplotlib 라이브러리를 불러옵니다.\n",
        "import matplotlib.pyplot as plt\n",
        "import matplotlib.font_manager as fm\n",
        "\n",
        "# 설치된 폰트 목록을 갱신하고, 'NanumGothic' 폰트를 기본 폰트로 설정합니다.\n",
        "font_path = 'C:/Windows/Fonts/NanumGothic.ttf' \n",
        "font_name = fm.FontProperties(fname=font_path).get_name()\n",
        "plt.rc('font', family=font_name)\n",
        "plt.rcParams['axes.unicode_minus'] = False"
      ]
    },
    {
      "cell_type": "code",
      "execution_count": 3,
      "metadata": {
        "colab": {
          "base_uri": "https://localhost:8080/"
        },
        "id": "5x2MUXSOBg0o",
        "outputId": "4cf9b9e5-a835-47c4-f9f2-32b43c81f800"
      },
      "outputs": [
        {
          "name": "stdout",
          "output_type": "stream",
          "text": [
            "/usr/share/fonts/truetype/nanum/NanumSquareRoundB.ttf: NanumSquareRound,나눔스퀘어라운드,NanumSquareRound Bold,나눔스퀘어라운드 Bold:style=Bold,Regular\n",
            "/usr/share/fonts/truetype/nanum/NanumGothicCodingBold.ttf: NanumGothicCoding,나눔고딕코딩:style=Bold\n",
            "/usr/share/fonts/truetype/nanum/NanumSquareRoundR.ttf: NanumSquareRound,나눔스퀘어라운드,NanumSquareRound Regular,나눔스퀘어라운드 Regular:style=Regular\n",
            "/usr/share/fonts/truetype/nanum/NanumSquareB.ttf: NanumSquare,나눔스퀘어,NanumSquare Bold,나눔스퀘어 Bold:style=Bold\n",
            "/usr/share/fonts/truetype/nanum/NanumBarunGothic.ttf: NanumBarunGothic,나눔바른고딕:style=Regular\n",
            "/usr/share/fonts/truetype/nanum/NanumGothic.ttf: NanumGothic,나눔고딕:style=Regular\n",
            "/usr/share/fonts/truetype/nanum/NanumGothicCoding.ttf: NanumGothicCoding,나눔고딕코딩:style=Regular\n",
            "/usr/share/fonts/truetype/nanum/NanumBarunGothicBold.ttf: NanumBarunGothic,나눔바른고딕:style=Bold\n",
            "/usr/share/fonts/truetype/nanum/NanumGothicBold.ttf: NanumGothic,나눔고딕:style=Bold\n",
            "/usr/share/fonts/truetype/nanum/NanumSquareR.ttf: NanumSquare,나눔스퀘어:style=Regular\n",
            "/usr/share/fonts/truetype/nanum/NanumMyeongjo.ttf: NanumMyeongjo,나눔명조:style=Regular\n",
            "/usr/share/fonts/truetype/nanum/NanumMyeongjoBold.ttf: NanumMyeongjo,나눔명조:style=Bold\n"
          ]
        }
      ],
      "source": [
        "# !fc-list :lang=ko"
      ]
    },
    {
      "cell_type": "markdown",
      "metadata": {
        "id": "FNfQPGs6_D3M"
      },
      "source": [
        "# EDA\n",
        "## 데이터 로드\n",
        "- parquet 형식의 데이터를 로드"
      ]
    },
    {
      "cell_type": "code",
      "execution_count": null,
      "metadata": {
        "id": "pr7ODr1W_gow"
      },
      "outputs": [],
      "source": [
        "%pip install fastparquet"
      ]
    },
    {
      "cell_type": "markdown",
      "metadata": {
        "id": "cCjgEs5bzvYb"
      },
      "source": [
        "- 전체 parquet 파일에 대한 요약"
      ]
    },
    {
      "cell_type": "code",
      "execution_count": 5,
      "metadata": {
        "collapsed": true,
        "id": "23roIUhj_WHi"
      },
      "outputs": [],
      "source": [
        "# import pandas as pd\n",
        "# import os\n",
        "# from glob import glob\n",
        "\n",
        "# # Google Drive 경로 설정\n",
        "# base_path = \"drive/MyDrive/고급프로그래밍/train\"\n",
        "\n",
        "# # 폴더 이름 정의\n",
        "# folder_name = [\"회원정보\", \"신용정보\", \"승인매출정보\", \"청구입금정보\", \"잔액정보\", \"채널정보\", \"마케팅정보\", \"성과정보\"]\n",
        "# folders = [f\"{i}.{name}\" for i, name in enumerate(folder_name, start=1)]\n",
        "\n",
        "# # 요약 결과를 정리하는 list\n",
        "# summary_list = []\n",
        "\n",
        "# for folder in folders:\n",
        "#     folder_path = os.path.join(base_path, folder)\n",
        "#     parquet_files = glob(os.path.join(folder_path, \"*.parquet\"))\n",
        "\n",
        "#     for file in parquet_files:\n",
        "#         try:\n",
        "#             df = pd.read_parquet(file, engine=\"fastparquet\")\n",
        "\n",
        "#             info = {\n",
        "#                 \"폴더명\": folder,\n",
        "#                 \"파일명\": file,\n",
        "#                 \"행 수\": df.shape[0],\n",
        "#                 \"열 수\": df.shape[1],\n",
        "#                 \"컬럼 목록\": df.columns.tolist(),\n",
        "#                 \"데이터 타입\": df.dtypes.to_dict(),\n",
        "#                 \"결측치 비율\": df.isnull().mean().to_dict(),\n",
        "#                 \"샘플 데이터\": df.head().to_dict()\n",
        "#             }\n",
        "\n",
        "#             summary_list.append(info)\n",
        "#             print(f\"✅ {file} 로드 완료\")\n",
        "\n",
        "#         except Exception as e:\n",
        "#             print(f\"❌ {file} 처리 중 오류: {e}\")\n",
        "\n",
        "# # 결과 DataFrame으로 정리\n",
        "# summary_df = pd.DataFrame(summary_list)\n",
        "# summary_df"
      ]
    },
    {
      "cell_type": "markdown",
      "metadata": {
        "id": "TvHb_rk43dvN"
      },
      "source": [
        "- 모든 parquet 파일의 row는 400000개, column은 카테고리 별로 동일하다.\n",
        "  - EDA를 수행할 때 메모리 효율성과 속도를 고려한 분석 전략이 중요하다.\n",
        "- 카테고리 별로 column의 데이터 타입과 의미가 동일하다.\n"
      ]
    },
    {
      "cell_type": "markdown",
      "metadata": {
        "id": "-lGeY8ALdCpu"
      },
      "source": [
        "## 세그먼트 불균형 확인\n",
        "- 전체 Segment(A~E)의 데이터 불균형 정도 확인\n",
        "- 월별 Segment 분포 변화 확인하여 시계열 성격 확인\n",
        "- 각 Segment별 고객 수 비율 파악"
      ]
    },
    {
      "cell_type": "code",
      "execution_count": 4,
      "metadata": {
        "colab": {
          "base_uri": "https://localhost:8080/",
          "height": 1000
        },
        "id": "c7gjQfIddy2B",
        "outputId": "5fb85fc7-2d87-488e-d249-85391b272903"
      },
      "outputs": [
        {
          "name": "stdout",
          "output_type": "stream",
          "text": [
            "Segment\n",
            "A       162\n",
            "B        24\n",
            "C     21265\n",
            "D     58207\n",
            "E    320342\n",
            "Name: count, dtype: int64\n",
            "=========================\n",
            "Segment\n",
            "A    0.000405\n",
            "B    0.000060\n",
            "C    0.053163\n",
            "D    0.145517\n",
            "E    0.800855\n",
            "Name: proportion, dtype: float64\n"
          ]
        },
        {
          "data": {
            "image/png": "[encoded data removed]",
            "text/plain": [
              "<Figure size 600x400 with 1 Axes>"
            ]
          },
          "metadata": {},
          "output_type": "display_data"
        }
      ],
      "source": [
        "import pandas as pd\n",
        "import seaborn as sns\n",
        "import matplotlib.pyplot as plt\n",
        "\n",
        "# 회원정보 데이터 불러오기 (201812 기준)\n",
        "file_path = \"../dataset/train/1.회원정보/201812_train_회원정보.parquet\"\n",
        "df = pd.read_parquet(file_path)\n",
        "\n",
        "# Segment 분포 확인\n",
        "segment_counts = df[\"Segment\"].value_counts().sort_index()\n",
        "print(segment_counts)\n",
        "\n",
        "print(\"=========================\")\n",
        "segment_ratio = df[\"Segment\"].value_counts(normalize=True).sort_index()\n",
        "print(segment_ratio)\n",
        "\n",
        "# 수 확인\n",
        "plt.figure(figsize=(6,4))\n",
        "sns.barplot(x=segment_counts.index, y=segment_counts.values)\n",
        "plt.yscale(\"log\")\n",
        "plt.title(\"Segment 분포 (201812)\")\n",
        "plt.ylabel(\"고객 수 (log scale)\")\n",
        "plt.xlabel(\"Segment\")\n",
        "plt.show()"
      ]
    },
    {
      "cell_type": "markdown",
      "metadata": {
        "id": "n4GcTnfjq6q8"
      },
      "source": [
        "### 🔍 분석\n",
        "- 극심한 클래스 불균형이 존재함.\n",
        "  - Segment E 하나가 전체 고객의 80% 이상 차지\n",
        "  - Segment A, B는 희소 클래스 (합쳐도 전체의 0.05% 수준)\n",
        "  - 로그 스케일로 표현했기 때문에 A/B가 보이지만, 실제로는 거의 사라지는 수준\n",
        "\n",
        "- A, B 세그먼트는 중요한 VIP 혹은 고위험군 고객을 분류하는 세그먼트일 가능성이 높다.\n",
        "\n",
        "> 👉 모델 학습 시 Segment A와 B를 예측하는 것이 매우 어려우며, 모델이 Segment E에 편향될 위험이 큼. 모델링 시 소수 클래스 예측을 위한 특수한 처리가 필수"
      ]
    },
    {
      "cell_type": "markdown",
      "metadata": {
        "id": "sA8EjSpfsqXy"
      },
      "source": [
        "## 세그먼트 별 고객 특성 확인\n",
        "- 고객의 기본 프로필(성별, 연령, 회원등급 등)이 Segment 간 어떤 차이를 보이는지 파악\n",
        "- 특정 Segment가 어떤 고객군을 대표하는지 추론"
      ]
    },
    {
      "cell_type": "code",
      "execution_count": 7,
      "metadata": {
        "colab": {
          "base_uri": "https://localhost:8080/"
        },
        "id": "e1N7rbJn4f0y",
        "outputId": "f745d4cf-c945-4756-cb2d-838c9e5a43bb"
      },
      "outputs": [
        {
          "data": {
            "text/plain": [
              "Index(['기준년월', 'ID', '남녀구분코드', '연령', 'Segment', '회원여부_이용가능', '회원여부_이용가능_CA',\n",
              "       '회원여부_이용가능_카드론', '소지여부_신용', '소지카드수_유효_신용', '소지카드수_이용가능_신용', '입회일자_신용',\n",
              "       '입회경과개월수_신용', '회원여부_연체', '이용거절여부_카드론', '동의여부_한도증액안내', '수신거부여부_TM',\n",
              "       '수신거부여부_DM', '수신거부여부_메일', '수신거부여부_SMS', '가입통신회사코드', '탈회횟수_누적',\n",
              "       '최종탈회후경과월', '탈회횟수_발급6개월이내', '탈회횟수_발급1년이내', '거주시도명', '직장시도명', '마케팅동의여부',\n",
              "       '유효카드수_신용체크', '유효카드수_신용', '유효카드수_신용_가족', '유효카드수_체크', '유효카드수_체크_가족',\n",
              "       '이용가능카드수_신용체크', '이용가능카드수_신용', '이용가능카드수_신용_가족', '이용가능카드수_체크',\n",
              "       '이용가능카드수_체크_가족', '이용카드수_신용체크', '이용카드수_신용', '이용카드수_신용_가족', '이용카드수_체크',\n",
              "       '이용카드수_체크_가족', '이용금액_R3M_신용체크', '이용금액_R3M_신용', '이용금액_R3M_신용_가족',\n",
              "       '이용금액_R3M_체크', '이용금액_R3M_체크_가족', '_1순위카드이용금액', '_1순위카드이용건수',\n",
              "       '_1순위신용체크구분', '_2순위카드이용금액', '_2순위카드이용건수', '_2순위신용체크구분',\n",
              "       '최종유효년월_신용_이용가능', '최종유효년월_신용_이용', '최종카드발급일자', '보유여부_해외겸용_본인',\n",
              "       '이용가능여부_해외겸용_본인', '이용여부_3M_해외겸용_본인', '보유여부_해외겸용_신용_본인',\n",
              "       '이용가능여부_해외겸용_신용_본인', '이용여부_3M_해외겸용_신용_본인', '연회비발생카드수_B0M',\n",
              "       '연회비할인카드수_B0M', '기본연회비_B0M', '제휴연회비_B0M', '할인금액_기본연회비_B0M',\n",
              "       '할인금액_제휴연회비_B0M', '청구금액_기본연회비_B0M', '청구금액_제휴연회비_B0M', '상품관련면제카드수_B0M',\n",
              "       '임직원면제카드수_B0M', '우수회원면제카드수_B0M', '기타면제카드수_B0M', '카드신청건수', 'Life_Stage',\n",
              "       '최종카드발급경과월'],\n",
              "      dtype='object')"
            ]
          },
          "execution_count": 7,
          "metadata": {},
          "output_type": "execute_result"
        }
      ],
      "source": [
        "# df의 column 확인\n",
        "df.columns"
      ]
    },
    {
      "cell_type": "markdown",
      "metadata": {
        "id": "d6RHoMTh5way"
      },
      "source": [
        "- column이 너무 많아 모든 column에 대해 분석하기는 어려움\n",
        "- 핵심 column 일부를 이용하여 세그먼트 분석 진행\n",
        "\n",
        "| 항목 | 변수명 | 분석 방식 |\n",
        "|------|---|---|\n",
        "|🎂 연령 | 연령 | Boxplot, 평균 비교|\n",
        "👨‍👩‍👧 성별 | 남녀구분코드 | Countplot (hue by Segment)\n",
        "🎓 회원 등급/이용 가능 여부 | 회원여부_이용가능, 회원여부_이용가능_CA, 회원여부_이용가능_카드론 | Countplot\n",
        "💳 카드 보유 수 | 소지카드수_유효_신용, 소지카드수_이용가능_신용 | 평균 비교\n",
        "🕒 카드 사용 경과 | 입회경과개월수_신용, 최종카드발급경과월 | Boxplot\n",
        "📩 마케팅 수신 동의 여부 | 마케팅동의여부 | 비율 비교"
      ]
    },
    {
      "cell_type": "markdown",
      "metadata": {
        "id": "0pLxZ6LZ9MaJ"
      },
      "source": [
        "### 🎂 세그먼트 별 연령 분석"
      ]
    },
    {
      "cell_type": "code",
      "execution_count": 5,
      "metadata": {},
      "outputs": [
        {
          "name": "stderr",
          "output_type": "stream",
          "text": [
            "c:\\Users\\Lee JinSeoung\\AppData\\Local\\Programs\\Python\\Python310\\lib\\site-packages\\seaborn\\categorical.py:632: FutureWarning: SeriesGroupBy.grouper is deprecated and will be removed in a future version of pandas.\n",
            "  positions = grouped.grouper.result_index.to_numpy(dtype=float)\n"
          ]
        },
        {
          "data": {
            "image/png": "[encoded data removed]",
            "text/plain": [
              "<Figure size 1000x600 with 1 Axes>"
            ]
          },
          "metadata": {},
          "output_type": "display_data"
        }
      ],
      "source": [
        "age_order = ['20대', '30대', '40대', '50대', '60대', '70대이상']\n",
        "df['연령'] = pd.Categorical(df['연령'], categories=age_order, ordered=True)\n",
        "\n",
        "plt.figure(figsize=(10,6))\n",
        "sns.boxplot(x='Segment', y='연령', data=df, order=['A', 'B', 'C', 'D', 'E'])\n",
        "plt.title(\"Segment별 연령 분포\")\n",
        "plt.xlabel(\"Segment\")\n",
        "plt.ylabel(\"연령\")\n",
        "plt.show()"
      ]
    },
    {
      "cell_type": "markdown",
      "metadata": {
        "id": "dctvOBg6_ZkX"
      },
      "source": [
        "🔹 Segment A\n",
        "- 중앙값: 50대\n",
        "- 범위가 좁고, 이상치(20대, 70대 이상)가 소수 존재\n",
        "- 전체적으로 고연령 중심, 비교적 안정된 장기 고객일 가능성 높음\n",
        "\n",
        "→ 고객 수는 적지만, 고정적이며 신용도 높은 집단일 수 있음\n",
        "\n",
        "🔹 Segment B\n",
        "- 중앙값: 40대\n",
        "- 연령대 폭은 넓음, 특히 20대~60대까지 고르게 분포\n",
        "- 20대 비중이 상대적으로 크고, 30~40대가 중심\n",
        "\n",
        "→ 활동성이 높은 연령층이지만, 고객 수가 너무 적기 때문에 통계적 해석엔 주의 필요\n",
        "\n",
        "🔹 Segment C, D, E (패턴 동일)\n",
        "- 중앙값: 모두 40대\n",
        "- 박스 크기와 범위가 넓고 비슷함\n",
        "\n",
        "→ 전형적인 활동 고객군, 중간 리스크-중간 수익 타겟 가능성\n",
        "\n",
        "Segment E는 전체 고객의 대다수를 차지하므로, 대표적인 연령 분포 형태라고 봐도 무방"
      ]
    },
    {
      "cell_type": "markdown",
      "metadata": {
        "id": "xACE13TI_gH3"
      },
      "source": [
        "### 👨‍👩‍👧 세그먼트 별 성별 분포"
      ]
    },
    {
      "cell_type": "code",
      "execution_count": 7,
      "metadata": {
        "colab": {
          "base_uri": "https://localhost:8080/",
          "height": 1000
        },
        "id": "V1y8nwoR_r6d",
        "outputId": "408d30ba-b4ef-4cdb-f9b1-d558e8dbd9c8"
      },
      "outputs": [
        {
          "name": "stderr",
          "output_type": "stream",
          "text": [
            "c:\\Users\\Lee JinSeoung\\AppData\\Local\\Programs\\Python\\Python310\\lib\\site-packages\\seaborn\\_base.py:948: FutureWarning: When grouping with a length-1 list-like, you will need to pass a length-1 tuple to get_group in a future version of pandas. Pass `(name,)` instead of `name` to silence this warning.\n",
            "  data_subset = grouped_data.get_group(pd_key)\n",
            "c:\\Users\\Lee JinSeoung\\AppData\\Local\\Programs\\Python\\Python310\\lib\\site-packages\\seaborn\\_base.py:948: FutureWarning: When grouping with a length-1 list-like, you will need to pass a length-1 tuple to get_group in a future version of pandas. Pass `(name,)` instead of `name` to silence this warning.\n",
            "  data_subset = grouped_data.get_group(pd_key)\n"
          ]
        },
        {
          "data": {
            "image/png": "[encoded data removed]",
            "text/plain": [
              "<Figure size 800x500 with 1 Axes>"
            ]
          },
          "metadata": {},
          "output_type": "display_data"
        }
      ],
      "source": [
        "plt.figure(figsize=(8,5))\n",
        "sns.countplot(x='Segment', hue='남녀구분코드', data=df, order=['A', 'B', 'C', 'D', 'E'])\n",
        "plt.yscale(\"log\")\n",
        "plt.title(\"Segment별 성별 분포\")\n",
        "plt.xlabel(\"Segment\")\n",
        "plt.ylabel(\"고객 수\")\n",
        "plt.legend(title=\"성별\", labels=[\"남성\", \"여성\"])\n",
        "plt.show()"
      ]
    },
    {
      "cell_type": "markdown",
      "metadata": {
        "id": "EsJ0eH6Z_yw3"
      },
      "source": [
        "- 전체적으로 남성 비율이 우세\n",
        "- Segment A에서 차이가 가장 큼. 장기 남성 고객일 가능성이 높은 세그먼트"
      ]
    },
    {
      "cell_type": "markdown",
      "metadata": {
        "id": "hz6TDybF_6Os"
      },
      "source": [
        "### 💳 Segment별 회원 이용 가능 여부"
      ]
    },
    {
      "cell_type": "code",
      "execution_count": 10,
      "metadata": {
        "colab": {
          "base_uri": "https://localhost:8080/",
          "height": 1000
        },
        "id": "8x1iYT1Y_97_",
        "outputId": "47804340-bbc4-4442-a9a3-a93e1b327778"
      },
      "outputs": [
        {
          "name": "stderr",
          "output_type": "stream",
          "text": [
            "c:\\Users\\Lee JinSeoung\\AppData\\Local\\Programs\\Python\\Python310\\lib\\site-packages\\seaborn\\_base.py:948: FutureWarning: When grouping with a length-1 list-like, you will need to pass a length-1 tuple to get_group in a future version of pandas. Pass `(name,)` instead of `name` to silence this warning.\n",
            "  data_subset = grouped_data.get_group(pd_key)\n",
            "c:\\Users\\Lee JinSeoung\\AppData\\Local\\Programs\\Python\\Python310\\lib\\site-packages\\seaborn\\_base.py:948: FutureWarning: When grouping with a length-1 list-like, you will need to pass a length-1 tuple to get_group in a future version of pandas. Pass `(name,)` instead of `name` to silence this warning.\n",
            "  data_subset = grouped_data.get_group(pd_key)\n"
          ]
        },
        {
          "data": {
            "image/png": "[encoded data removed]",
            "text/plain": [
              "<Figure size 800x500 with 1 Axes>"
            ]
          },
          "metadata": {},
          "output_type": "display_data"
        }
      ],
      "source": [
        "plt.figure(figsize=(8,5))\n",
        "sns.countplot(x='Segment', hue='회원여부_이용가능', data=df, order=['A', 'B', 'C', 'D', 'E'])\n",
        "plt.yscale(\"log\")\n",
        "plt.title(\"Segment별 이용가능 여부 분포\")\n",
        "plt.xlabel(\"Segment\")\n",
        "plt.ylabel(\"고객 수\")\n",
        "plt.legend(title=\"이용가능 여부\")\n",
        "plt.show()"
      ]
    },
    {
      "cell_type": "markdown",
      "metadata": {
        "id": "flxqQ9YM__le"
      },
      "source": [
        "Segment | 성격 요약\n",
        "|----|----|\n",
        "A | 소수의 고령 우량 고객 (이용 가능)\n",
        "B | 의미 없는 소수\n",
        "C | 대부분 정상, 일부 리스크 포함된 활동 고객\n",
        "D | 일반적인 고객군, 중간 리스크 존재\n",
        "E | 전체 중 다수를 차지, 리스크 고객도 많음 → 세분화 필요"
      ]
    },
    {
      "cell_type": "markdown",
      "metadata": {
        "id": "U7ssffbsAJzz"
      },
      "source": [
        "### 💳 유효/이용가능 신용카드 수 평균"
      ]
    },
    {
      "cell_type": "code",
      "execution_count": 11,
      "metadata": {
        "colab": {
          "base_uri": "https://localhost:8080/",
          "height": 1000
        },
        "id": "5XgoPhozAMYs",
        "outputId": "7882ecf0-12dc-44eb-e351-2cb259a9d1dc"
      },
      "outputs": [
        {
          "data": {
            "image/png": "[encoded data removed]",
            "text/plain": [
              "<Figure size 800x500 with 1 Axes>"
            ]
          },
          "metadata": {},
          "output_type": "display_data"
        }
      ],
      "source": [
        "card_stats = df.groupby('Segment')[['소지카드수_유효_신용', '소지카드수_이용가능_신용']].mean()\n",
        "card_stats.plot(kind='bar', figsize=(8,5))\n",
        "plt.title(\"Segment별 유효/이용가능 신용카드 수 평균\")\n",
        "plt.ylabel(\"카드 수\")\n",
        "plt.xticks(rotation=0)\n",
        "plt.grid(axis='y')\n",
        "plt.show()"
      ]
    },
    {
      "cell_type": "markdown",
      "metadata": {
        "id": "lLPV-ACuAN_7"
      },
      "source": [
        "Segment | 유효카드 수 | 이용가능카드 수 | 해석 요약\n",
        "|----|---|---|---|\n",
        "A | 약 2.2장 | 약 2.1장 | 카드도 많고 거의 다 이용 가능 → 우수 고객\n",
        "B | 약 1.9장 | 약 1.8장 | 수는 적지만 안정적 소유\n",
        "C | 약 1.85장 | 약 1.75장 | 활동 고객군, 대부분 이용 가능\n",
        "D | 약 1.55장 | 약 1.45장 | 이용 가능 비율은 높지만 카드 수 자체는 낮아짐\n",
        "E | 약 1.15장 | 약 1.05장 | 전체 고객의 대부분, 카드 수와 이용 가능성 모두 가장 낮음\n",
        "\n",
        "✅ Segment 간 추세 요약\n",
        "- Segment가 A → E로 갈수록 카드 수와 이용 가능 카드 수가 모두 감소\n",
        "- Segment가 A에 가까울수록 우량, E에 가까울수록 리스크 또는 신규 중심일 가능성을 암시"
      ]
    },
    {
      "cell_type": "markdown",
      "metadata": {
        "id": "A-Q0zIMPAVcC"
      },
      "source": [
        "### ⏱ Segment별 카드 입회 경과 개월 수"
      ]
    },
    {
      "cell_type": "code",
      "execution_count": 13,
      "metadata": {
        "colab": {
          "base_uri": "https://localhost:8080/",
          "height": 1000
        },
        "id": "2Oomc5hdAWne",
        "outputId": "e1ee5d7b-dd7d-481e-9d5d-6d9555ccb38c"
      },
      "outputs": [
        {
          "name": "stderr",
          "output_type": "stream",
          "text": [
            "c:\\Users\\Lee JinSeoung\\AppData\\Local\\Programs\\Python\\Python310\\lib\\site-packages\\seaborn\\categorical.py:632: FutureWarning: SeriesGroupBy.grouper is deprecated and will be removed in a future version of pandas.\n",
            "  positions = grouped.grouper.result_index.to_numpy(dtype=float)\n"
          ]
        },
        {
          "data": {
            "image/png": "[encoded data removed]",
            "text/plain": [
              "<Figure size 800x500 with 1 Axes>"
            ]
          },
          "metadata": {},
          "output_type": "display_data"
        }
      ],
      "source": [
        "plt.figure(figsize=(8,5))\n",
        "sns.boxplot(x='Segment', y='입회경과개월수_신용', data=df, order=['A', 'B', 'C', 'D', 'E'])\n",
        "plt.title(\"Segment별 신용카드 입회 경과 개월 수\")\n",
        "plt.xlabel(\"Segment\")\n",
        "plt.ylabel(\"개월 수\")\n",
        "plt.show()"
      ]
    },
    {
      "cell_type": "markdown",
      "metadata": {
        "id": "f6dcSDZ3AZwY"
      },
      "source": [
        "Segment | 중앙값 | 상자 크기 (IQR) | 이상치 | 해석 요약\n",
        "|---|---|---|---|---\n",
        "A | 약 230개월 이상 | 매우 넓음 | 없음 | 장기 고객, 충성도 매우 높음\n",
        "B | 약 130개월 | 중간 정도 | 없음 | 비교적 오래된 고객군\n",
        "C | 약 120개월 | 넓음 | 일부 있음 | 활동기간 다양, 중장기 고객 중심\n",
        "D | 약 70개월 | 좁음 | 일부 있음 | 중기 고객층, 최근 5~10년 내 입회\n",
        "E | 약 40개월 | 좁고 낮음 | 매우 많은 이상치 | 신규 고객 중심, 일부 장기 고객 포함\n",
        "\n",
        "✅ Segment A\n",
        "- 중앙값이 230개월(약 19년) 이상 → 극도로 오래된 장기 고객\n",
        "- 분포도 넓고 안정적, 이상치 없음 → 충성도 높은 우수 고객 가능성\n",
        "\n",
        "✅ Segment C, D\n",
        "- 중간값은 5~10년 사이 → 일반적인 활동 고객군\n",
        "- 특히 D는 분산이 적고 안정적 → 일반적인 중간 신용 등급 그룹일 가능성\n",
        "\n",
        "✅ Segment E\n",
        "- 가장 짧은 경과 기간 → 대부분 최근 3~4년 내 가입\n",
        "- 이상치(장기 고객)도 일부 있지만, 대체로 신규 고객 or 최근 유입층\n",
        "\n",
        "전략적 인사이트\n",
        "Segment | 전략 제안\n",
        "|---|---|\n",
        "A | 장기 유지 전략, 우대 프로그램 / 장기 혜택 카드 집중\n",
        "B | 활동 유지 유도, 포인트/리텐션 중심 마케팅\n",
        "C/D | 충성도 상승 유도\n",
        "E | 신규 고객 정착 유도, 기본 혜택 제공 + 이탈 방지 전략"
      ]
    },
    {
      "cell_type": "markdown",
      "metadata": {
        "id": "Kfnr1EX5AgQH"
      },
      "source": [
        "### 📩 Segment별 마케팅 동의율"
      ]
    },
    {
      "cell_type": "code",
      "execution_count": 13,
      "metadata": {
        "colab": {
          "base_uri": "https://localhost:8080/"
        },
        "id": "mx6RdvQiAhV9",
        "outputId": "4cdbbf39-d251-4ef4-8176-72f3e5e23988"
      },
      "outputs": [
        {
          "name": "stdout",
          "output_type": "stream",
          "text": [
            "Segment\n",
            "A    0.753086\n",
            "B    0.875000\n",
            "C    0.754667\n",
            "D    0.777175\n",
            "E    0.818313\n",
            "Name: 마케팅동의여부, dtype: float64\n"
          ]
        }
      ],
      "source": [
        "marketing_rate = df.groupby(\"Segment\")[\"마케팅동의여부\"].mean()\n",
        "print(marketing_rate)"
      ]
    },
    {
      "cell_type": "markdown",
      "metadata": {
        "id": "VLrNgCKVAljN"
      },
      "source": [
        "🧠 설명:\n",
        "- 마케팅 수신 동의율이 높은 Segment는 고객 접촉 가능성 높음\n",
        "- 마케팅 전략 수립에 활용 가능"
      ]
    },
    {
      "cell_type": "markdown",
      "metadata": {},
      "source": [
        "### 🔍 분석\n",
        "Segment | 고객 규모 | 연령대 | 성별 | 이용가능 상태 | 카드 수 | 입회 기간 | 주요 특성 요약\n",
        "|---|---|---|---|---|---|---|---|\n",
        "A | 극소수 | 고령(50~60대↑) | 남성 우세 | 대부분 이용 가능 | 카드 多 (2.2장 이상) | 매우 오래됨 (230개월↑) | 우수 장기 고객, 고정 수익원, 고신용 중심\n",
        "B | 극소수 | 고령 중심, 분산 | 성별 차이 없음 | 대부분 이용 가능 | 카드 보유 중간 | 입회 기간 긴 편 | 드문 예외 고객군, 신중하게 분석 필요\n",
        "C | 중간 규모 | 30~40대 중심 | 남성 우세 | 대부분 이용 가능 | 카드 多 (1.8장) | 중장기 (120개월 전후) | 우량 활동 고객층, 중간 리스크, 마케팅 타깃 적합\n",
        "D | 중간~다수 | 다양(20~60대), 중간값 ↑ | 남성 우세 | 대부분 이용 가능 | 카드 수 보통 | 70개월 전후 | 안정적인 중기 고객층, 적절한 관리로 성장 가능\n",
        "E | 절대다수 | 젊은층 중심 (30~40대), 일부 고령 | 성비 균형 | 이용 불가 고객 다수 혼재 | 카드 적음 (1.1장), 이용 가능 낮음 | 신규 중심 (40개월 이하), 일부 오래된 고객 존재 | 폭넓은 보편 고객층. 하지만 리스크 혼재 → 세분화 필수\n",
        "\n",
        "전략 계획\n",
        "전략 항목 | 제안 내용\n",
        "|---|---|\n",
        "프리미엄 서비스 타겟 | Segment A, 일부 C\n",
        "신상품 마케팅 타겟 | Segment C, D\n",
        "유지 전략 (Retain) | Segment D, 일부 E\n",
        "정제 및 리스크 관리 대상 | Segment E 전체 중 이용불가, 짧은 입회기간, 카드 수 적음 등 조건 가진 고객군\n",
        "고객 세분화 정교화 필요 | 특히 Segment E 내부에서 우수 vs 위험 구분 필요"
      ]
    }
  ],
  "metadata": {
    "colab": {
      "include_colab_link": true,
      "provenance": [],
      "toc_visible": true
    },
    "kernelspec": {
      "display_name": "Python 3",
      "name": "python3"
    },
    "language_info": {
      "codemirror_mode": {
        "name": "ipython",
        "version": 3
      },
      "file_extension": ".py",
      "mimetype": "text/x-python",
      "name": "python",
      "nbconvert_exporter": "python",
      "pygments_lexer": "ipython3",
      "version": "3.10.6"
    }
  },
  "nbformat": 4,
  "nbformat_minor": 0
}
