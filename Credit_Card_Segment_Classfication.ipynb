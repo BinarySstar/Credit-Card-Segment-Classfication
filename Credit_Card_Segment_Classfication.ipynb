{
  "nbformat": 4,
  "nbformat_minor": 0,
  "metadata": {
    "colab": {
      "provenance": [],
      "include_colab_link": true
    },
    "kernelspec": {
      "name": "python3",
      "display_name": "Python 3"
    },
    "language_info": {
      "name": "python"
    }
  },
  "cells": [
    {
      "cell_type": "markdown",
      "metadata": {
        "id": "view-in-github",
        "colab_type": "text"
      },
      "source": [
        "<a href=\"https://colab.research.google.com/github/BinarySstar/Credit-Card-Segment-Classfication/blob/master/Credit_Card_Segment_Classfication.ipynb\" target=\"_parent\"><img src=\"https://colab.research.google.com/assets/colab-badge.svg\" alt=\"Open In Colab\"/></a>"
      ]
    },
    {
      "cell_type": "markdown",
      "source": [
        "# Google Drive Mount\n",
        "train 및 test 데이터를 drive에 저장하기 위해 mount를 진행"
      ],
      "metadata": {
        "id": "tBmDuNY0FVBS"
      }
    },
    {
      "cell_type": "code",
      "execution_count": 1,
      "metadata": {
        "id": "IuJ22cW7yp5u",
        "outputId": "c542beaf-aca8-43e4-fe94-a66399885f96",
        "colab": {
          "base_uri": "https://localhost:8080/"
        }
      },
      "outputs": [
        {
          "output_type": "stream",
          "name": "stdout",
          "text": [
            "Drive already mounted at /content/drive; to attempt to forcibly remount, call drive.mount(\"/content/drive\", force_remount=True).\n"
          ]
        }
      ],
      "source": [
        "from google.colab import drive\n",
        "\n",
        "drive.mount('/content/drive')"
      ]
    },
    {
      "cell_type": "markdown",
      "source": [
        "- 한글 폰트 적용을 위해 폰트 설치 및 적용"
      ],
      "metadata": {
        "id": "n8KiyIwbkNlG"
      }
    },
    {
      "cell_type": "code",
      "source": [
        "# 한글 폰트 설정 (Colab용)\n",
        "!apt-get -qq install -y fonts-nanum\n",
        "import matplotlib.pyplot as plt\n",
        "plt.rc('font', family='NanumBarunGothic')\n",
        "plt.rcParams['axes.unicode_minus'] = False"
      ],
      "metadata": {
        "id": "90Jv1kXjkM1k"
      },
      "execution_count": 11,
      "outputs": []
    },
    {
      "cell_type": "markdown",
      "source": [
        "# EDA\n",
        "## 데이터 로드\n",
        "- parquet 형식의 데이터를 로드"
      ],
      "metadata": {
        "id": "FNfQPGs6_D3M"
      }
    },
    {
      "cell_type": "code",
      "source": [
        "!pip install fastparquet"
      ],
      "metadata": {
        "colab": {
          "base_uri": "https://localhost:8080/"
        },
        "id": "pr7ODr1W_gow",
        "outputId": "d5130115-3e61-484c-b322-b5fcb9ecaebd"
      },
      "execution_count": 3,
      "outputs": [
        {
          "output_type": "stream",
          "name": "stdout",
          "text": [
            "Requirement already satisfied: fastparquet in /usr/local/lib/python3.11/dist-packages (2024.11.0)\n",
            "Requirement already satisfied: pandas>=1.5.0 in /usr/local/lib/python3.11/dist-packages (from fastparquet) (2.2.2)\n",
            "Requirement already satisfied: numpy in /usr/local/lib/python3.11/dist-packages (from fastparquet) (2.0.2)\n",
            "Requirement already satisfied: cramjam>=2.3 in /usr/local/lib/python3.11/dist-packages (from fastparquet) (2.9.1)\n",
            "Requirement already satisfied: fsspec in /usr/local/lib/python3.11/dist-packages (from fastparquet) (2025.3.2)\n",
            "Requirement already satisfied: packaging in /usr/local/lib/python3.11/dist-packages (from fastparquet) (24.2)\n",
            "Requirement already satisfied: python-dateutil>=2.8.2 in /usr/local/lib/python3.11/dist-packages (from pandas>=1.5.0->fastparquet) (2.8.2)\n",
            "Requirement already satisfied: pytz>=2020.1 in /usr/local/lib/python3.11/dist-packages (from pandas>=1.5.0->fastparquet) (2025.2)\n",
            "Requirement already satisfied: tzdata>=2022.7 in /usr/local/lib/python3.11/dist-packages (from pandas>=1.5.0->fastparquet) (2025.2)\n",
            "Requirement already satisfied: six>=1.5 in /usr/local/lib/python3.11/dist-packages (from python-dateutil>=2.8.2->pandas>=1.5.0->fastparquet) (1.17.0)\n"
          ]
        }
      ]
    },
    {
      "cell_type": "markdown",
      "source": [
        "- 전체 parquet 파일에 대한 요약"
      ],
      "metadata": {
        "id": "cCjgEs5bzvYb"
      }
    },
    {
      "cell_type": "code",
      "source": [
        "# import pandas as pd\n",
        "# import os\n",
        "# from glob import glob\n",
        "\n",
        "# # Google Drive 경로 설정\n",
        "# base_path = \"drive/MyDrive/고급프로그래밍/train\"\n",
        "\n",
        "# # 폴더 이름 정의\n",
        "# folder_name = [\"회원정보\", \"신용정보\", \"승인매출정보\", \"청구입금정보\", \"잔액정보\", \"채널정보\", \"마케팅정보\", \"성과정보\"]\n",
        "# folders = [f\"{i}.{name}\" for i, name in enumerate(folder_name, start=1)]\n",
        "\n",
        "# # 요약 결과를 정리하는 list\n",
        "# summary_list = []\n",
        "\n",
        "# for folder in folders:\n",
        "#     folder_path = os.path.join(base_path, folder)\n",
        "#     parquet_files = glob(os.path.join(folder_path, \"*.parquet\"))\n",
        "\n",
        "#     for file in parquet_files:\n",
        "#         try:\n",
        "#             df = pd.read_parquet(file, engine=\"fastparquet\")\n",
        "\n",
        "#             info = {\n",
        "#                 \"폴더명\": folder,\n",
        "#                 \"파일명\": file,\n",
        "#                 \"행 수\": df.shape[0],\n",
        "#                 \"열 수\": df.shape[1],\n",
        "#                 \"컬럼 목록\": df.columns.tolist(),\n",
        "#                 \"데이터 타입\": df.dtypes.to_dict(),\n",
        "#                 \"결측치 비율\": df.isnull().mean().to_dict(),\n",
        "#                 \"샘플 데이터\": df.head().to_dict()\n",
        "#             }\n",
        "\n",
        "#             summary_list.append(info)\n",
        "#             print(f\"✅ {file} 로드 완료\")\n",
        "\n",
        "#         except Exception as e:\n",
        "#             print(f\"❌ {file} 처리 중 오류: {e}\")\n",
        "\n",
        "# # 결과 DataFrame으로 정리\n",
        "# summary_df = pd.DataFrame(summary_list)\n",
        "# summary_df"
      ],
      "metadata": {
        "colab": {
          "base_uri": "https://localhost:8080/",
          "height": 606
        },
        "id": "23roIUhj_WHi",
        "outputId": "ccb91c91-42d2-4885-f22b-c9b48ef418c3",
        "collapsed": true
      },
      "execution_count": 4,
      "outputs": [
        {
          "output_type": "stream",
          "name": "stdout",
          "text": [
            "✅ drive/MyDrive/고급프로그래밍/train/1.회원정보/201809_train_회원정보.parquet 로드 완료\n",
            "✅ drive/MyDrive/고급프로그래밍/train/1.회원정보/201808_train_회원정보.parquet 로드 완료\n",
            "✅ drive/MyDrive/고급프로그래밍/train/1.회원정보/201807_train_회원정보.parquet 로드 완료\n",
            "✅ drive/MyDrive/고급프로그래밍/train/1.회원정보/201810_train_회원정보.parquet 로드 완료\n",
            "✅ drive/MyDrive/고급프로그래밍/train/1.회원정보/201812_train_회원정보.parquet 로드 완료\n",
            "✅ drive/MyDrive/고급프로그래밍/train/1.회원정보/201811_train_회원정보.parquet 로드 완료\n",
            "✅ drive/MyDrive/고급프로그래밍/train/2.신용정보/201807_train_신용정보.parquet 로드 완료\n",
            "✅ drive/MyDrive/고급프로그래밍/train/2.신용정보/201808_train_신용정보.parquet 로드 완료\n",
            "✅ drive/MyDrive/고급프로그래밍/train/2.신용정보/201809_train_신용정보.parquet 로드 완료\n",
            "✅ drive/MyDrive/고급프로그래밍/train/2.신용정보/201812_train_신용정보.parquet 로드 완료\n",
            "✅ drive/MyDrive/고급프로그래밍/train/2.신용정보/201810_train_신용정보.parquet 로드 완료\n",
            "✅ drive/MyDrive/고급프로그래밍/train/2.신용정보/201811_train_신용정보.parquet 로드 완료\n",
            "✅ drive/MyDrive/고급프로그래밍/train/3.승인매출정보/201807_train_승인매출정보.parquet 로드 완료\n"
          ]
        },
        {
          "output_type": "error",
          "ename": "KeyboardInterrupt",
          "evalue": "",
          "traceback": [
            "\u001b[0;31m---------------------------------------------------------------------------\u001b[0m",
            "\u001b[0;31mKeyboardInterrupt\u001b[0m                         Traceback (most recent call last)",
            "\u001b[0;32m<ipython-input-4-d78b294a8599>\u001b[0m in \u001b[0;36m<cell line: 0>\u001b[0;34m()\u001b[0m\n\u001b[1;32m     19\u001b[0m     \u001b[0;32mfor\u001b[0m \u001b[0mfile\u001b[0m \u001b[0;32min\u001b[0m \u001b[0mparquet_files\u001b[0m\u001b[0;34m:\u001b[0m\u001b[0;34m\u001b[0m\u001b[0;34m\u001b[0m\u001b[0m\n\u001b[1;32m     20\u001b[0m         \u001b[0;32mtry\u001b[0m\u001b[0;34m:\u001b[0m\u001b[0;34m\u001b[0m\u001b[0;34m\u001b[0m\u001b[0m\n\u001b[0;32m---> 21\u001b[0;31m             \u001b[0mdf\u001b[0m \u001b[0;34m=\u001b[0m \u001b[0mpd\u001b[0m\u001b[0;34m.\u001b[0m\u001b[0mread_parquet\u001b[0m\u001b[0;34m(\u001b[0m\u001b[0mfile\u001b[0m\u001b[0;34m,\u001b[0m \u001b[0mengine\u001b[0m\u001b[0;34m=\u001b[0m\u001b[0;34m\"fastparquet\"\u001b[0m\u001b[0;34m)\u001b[0m\u001b[0;34m\u001b[0m\u001b[0;34m\u001b[0m\u001b[0m\n\u001b[0m\u001b[1;32m     22\u001b[0m \u001b[0;34m\u001b[0m\u001b[0m\n\u001b[1;32m     23\u001b[0m             info = {\n",
            "\u001b[0;32m/usr/local/lib/python3.11/dist-packages/pandas/io/parquet.py\u001b[0m in \u001b[0;36mread_parquet\u001b[0;34m(path, engine, columns, storage_options, use_nullable_dtypes, dtype_backend, filesystem, filters, **kwargs)\u001b[0m\n\u001b[1;32m    665\u001b[0m     \u001b[0mcheck_dtype_backend\u001b[0m\u001b[0;34m(\u001b[0m\u001b[0mdtype_backend\u001b[0m\u001b[0;34m)\u001b[0m\u001b[0;34m\u001b[0m\u001b[0;34m\u001b[0m\u001b[0m\n\u001b[1;32m    666\u001b[0m \u001b[0;34m\u001b[0m\u001b[0m\n\u001b[0;32m--> 667\u001b[0;31m     return impl.read(\n\u001b[0m\u001b[1;32m    668\u001b[0m         \u001b[0mpath\u001b[0m\u001b[0;34m,\u001b[0m\u001b[0;34m\u001b[0m\u001b[0;34m\u001b[0m\u001b[0m\n\u001b[1;32m    669\u001b[0m         \u001b[0mcolumns\u001b[0m\u001b[0;34m=\u001b[0m\u001b[0mcolumns\u001b[0m\u001b[0;34m,\u001b[0m\u001b[0;34m\u001b[0m\u001b[0;34m\u001b[0m\u001b[0m\n",
            "\u001b[0;32m/usr/local/lib/python3.11/dist-packages/pandas/io/parquet.py\u001b[0m in \u001b[0;36mread\u001b[0;34m(self, path, columns, filters, storage_options, filesystem, **kwargs)\u001b[0m\n\u001b[1;32m    401\u001b[0m         \u001b[0;32mtry\u001b[0m\u001b[0;34m:\u001b[0m\u001b[0;34m\u001b[0m\u001b[0;34m\u001b[0m\u001b[0m\n\u001b[1;32m    402\u001b[0m             \u001b[0mparquet_file\u001b[0m \u001b[0;34m=\u001b[0m \u001b[0mself\u001b[0m\u001b[0;34m.\u001b[0m\u001b[0mapi\u001b[0m\u001b[0;34m.\u001b[0m\u001b[0mParquetFile\u001b[0m\u001b[0;34m(\u001b[0m\u001b[0mpath\u001b[0m\u001b[0;34m,\u001b[0m \u001b[0;34m**\u001b[0m\u001b[0mparquet_kwargs\u001b[0m\u001b[0;34m)\u001b[0m\u001b[0;34m\u001b[0m\u001b[0;34m\u001b[0m\u001b[0m\n\u001b[0;32m--> 403\u001b[0;31m             \u001b[0;32mreturn\u001b[0m \u001b[0mparquet_file\u001b[0m\u001b[0;34m.\u001b[0m\u001b[0mto_pandas\u001b[0m\u001b[0;34m(\u001b[0m\u001b[0mcolumns\u001b[0m\u001b[0;34m=\u001b[0m\u001b[0mcolumns\u001b[0m\u001b[0;34m,\u001b[0m \u001b[0mfilters\u001b[0m\u001b[0;34m=\u001b[0m\u001b[0mfilters\u001b[0m\u001b[0;34m,\u001b[0m \u001b[0;34m**\u001b[0m\u001b[0mkwargs\u001b[0m\u001b[0;34m)\u001b[0m\u001b[0;34m\u001b[0m\u001b[0;34m\u001b[0m\u001b[0m\n\u001b[0m\u001b[1;32m    404\u001b[0m         \u001b[0;32mfinally\u001b[0m\u001b[0;34m:\u001b[0m\u001b[0;34m\u001b[0m\u001b[0;34m\u001b[0m\u001b[0m\n\u001b[1;32m    405\u001b[0m             \u001b[0;32mif\u001b[0m \u001b[0mhandles\u001b[0m \u001b[0;32mis\u001b[0m \u001b[0;32mnot\u001b[0m \u001b[0;32mNone\u001b[0m\u001b[0;34m:\u001b[0m\u001b[0;34m\u001b[0m\u001b[0;34m\u001b[0m\u001b[0m\n",
            "\u001b[0;32m/usr/local/lib/python3.11/dist-packages/fastparquet/api.py\u001b[0m in \u001b[0;36mto_pandas\u001b[0;34m(self, columns, categories, filters, index, row_filter, dtypes)\u001b[0m\n\u001b[1;32m    788\u001b[0m                             else v[start:start + thislen])\n\u001b[1;32m    789\u001b[0m                      for (name, v) in views.items()}\n\u001b[0;32m--> 790\u001b[0;31m             self.read_row_group_file(rg, columns, categories, index,\n\u001b[0m\u001b[1;32m    791\u001b[0m                                      \u001b[0massign\u001b[0m\u001b[0;34m=\u001b[0m\u001b[0mparts\u001b[0m\u001b[0;34m,\u001b[0m \u001b[0mpartition_meta\u001b[0m\u001b[0;34m=\u001b[0m\u001b[0mself\u001b[0m\u001b[0;34m.\u001b[0m\u001b[0mpartition_meta\u001b[0m\u001b[0;34m,\u001b[0m\u001b[0;34m\u001b[0m\u001b[0;34m\u001b[0m\u001b[0m\n\u001b[1;32m    792\u001b[0m                                      row_filter=sel, infile=infile)\n",
            "\u001b[0;32m/usr/local/lib/python3.11/dist-packages/fastparquet/api.py\u001b[0m in \u001b[0;36mread_row_group_file\u001b[0;34m(self, rg, columns, categories, index, assign, partition_meta, row_filter, infile)\u001b[0m\n\u001b[1;32m    386\u001b[0m         \u001b[0mf\u001b[0m \u001b[0;34m=\u001b[0m \u001b[0minfile\u001b[0m \u001b[0;32mor\u001b[0m \u001b[0mself\u001b[0m\u001b[0;34m.\u001b[0m\u001b[0mopen\u001b[0m\u001b[0;34m(\u001b[0m\u001b[0mfn\u001b[0m\u001b[0;34m,\u001b[0m \u001b[0mmode\u001b[0m\u001b[0;34m=\u001b[0m\u001b[0;34m'rb'\u001b[0m\u001b[0;34m)\u001b[0m\u001b[0;34m\u001b[0m\u001b[0;34m\u001b[0m\u001b[0m\n\u001b[1;32m    387\u001b[0m \u001b[0;34m\u001b[0m\u001b[0m\n\u001b[0;32m--> 388\u001b[0;31m         core.read_row_group(\n\u001b[0m\u001b[1;32m    389\u001b[0m             \u001b[0mf\u001b[0m\u001b[0;34m,\u001b[0m \u001b[0mrg\u001b[0m\u001b[0;34m,\u001b[0m \u001b[0mcolumns\u001b[0m\u001b[0;34m,\u001b[0m \u001b[0mcategories\u001b[0m\u001b[0;34m,\u001b[0m \u001b[0mself\u001b[0m\u001b[0;34m.\u001b[0m\u001b[0mschema\u001b[0m\u001b[0;34m,\u001b[0m \u001b[0mself\u001b[0m\u001b[0;34m.\u001b[0m\u001b[0mcats\u001b[0m\u001b[0;34m,\u001b[0m\u001b[0;34m\u001b[0m\u001b[0;34m\u001b[0m\u001b[0m\n\u001b[1;32m    390\u001b[0m             \u001b[0mselfmade\u001b[0m\u001b[0;34m=\u001b[0m\u001b[0mself\u001b[0m\u001b[0;34m.\u001b[0m\u001b[0mselfmade\u001b[0m\u001b[0;34m,\u001b[0m \u001b[0mindex\u001b[0m\u001b[0;34m=\u001b[0m\u001b[0mindex\u001b[0m\u001b[0;34m,\u001b[0m\u001b[0;34m\u001b[0m\u001b[0;34m\u001b[0m\u001b[0m\n",
            "\u001b[0;32m/usr/local/lib/python3.11/dist-packages/fastparquet/core.py\u001b[0m in \u001b[0;36mread_row_group\u001b[0;34m(file, rg, columns, categories, schema_helper, cats, selfmade, index, assign, scheme, partition_meta, row_filter)\u001b[0m\n\u001b[1;32m    642\u001b[0m     \u001b[0;32mif\u001b[0m \u001b[0massign\u001b[0m \u001b[0;32mis\u001b[0m \u001b[0;32mNone\u001b[0m\u001b[0;34m:\u001b[0m\u001b[0;34m\u001b[0m\u001b[0;34m\u001b[0m\u001b[0m\n\u001b[1;32m    643\u001b[0m         \u001b[0;32mraise\u001b[0m \u001b[0mRuntimeError\u001b[0m\u001b[0;34m(\u001b[0m\u001b[0;34m'Going with pre-allocation!'\u001b[0m\u001b[0;34m)\u001b[0m\u001b[0;34m\u001b[0m\u001b[0;34m\u001b[0m\u001b[0m\n\u001b[0;32m--> 644\u001b[0;31m     read_row_group_arrays(file, rg, columns, categories, schema_helper,\n\u001b[0m\u001b[1;32m    645\u001b[0m                           cats, selfmade, assign=assign, row_filter=row_filter)\n\u001b[1;32m    646\u001b[0m \u001b[0;34m\u001b[0m\u001b[0m\n",
            "\u001b[0;32m/usr/local/lib/python3.11/dist-packages/fastparquet/core.py\u001b[0m in \u001b[0;36mread_row_group_arrays\u001b[0;34m(file, rg, columns, categories, schema_helper, cats, selfmade, assign, row_filter)\u001b[0m\n\u001b[1;32m    618\u001b[0m                  row_filter=row_filter)\n\u001b[1;32m    619\u001b[0m \u001b[0;34m\u001b[0m\u001b[0m\n\u001b[0;32m--> 620\u001b[0;31m         \u001b[0;32mif\u001b[0m \u001b[0m_is_map_like\u001b[0m\u001b[0;34m(\u001b[0m\u001b[0mschema_helper\u001b[0m\u001b[0;34m,\u001b[0m \u001b[0mcolumn\u001b[0m\u001b[0;34m)\u001b[0m\u001b[0;34m:\u001b[0m\u001b[0;34m\u001b[0m\u001b[0;34m\u001b[0m\u001b[0m\n\u001b[0m\u001b[1;32m    621\u001b[0m             \u001b[0;31m# TODO: could be done in fast loop in _assemble_objects?\u001b[0m\u001b[0;34m\u001b[0m\u001b[0;34m\u001b[0m\u001b[0m\n\u001b[1;32m    622\u001b[0m             \u001b[0;32mif\u001b[0m \u001b[0mname\u001b[0m \u001b[0;32mnot\u001b[0m \u001b[0;32min\u001b[0m \u001b[0mmaps\u001b[0m\u001b[0;34m:\u001b[0m\u001b[0;34m\u001b[0m\u001b[0;34m\u001b[0m\u001b[0m\n",
            "\u001b[0;32m/usr/local/lib/python3.11/dist-packages/fastparquet/schema.py\u001b[0m in \u001b[0;36m_is_map_like\u001b[0;34m(helper, column)\u001b[0m\n\u001b[1;32m    178\u001b[0m \u001b[0;34m\u001b[0m\u001b[0m\n\u001b[1;32m    179\u001b[0m \u001b[0;34m\u001b[0m\u001b[0m\n\u001b[0;32m--> 180\u001b[0;31m \u001b[0;32mdef\u001b[0m \u001b[0m_is_map_like\u001b[0m\u001b[0;34m(\u001b[0m\u001b[0mhelper\u001b[0m\u001b[0;34m,\u001b[0m \u001b[0mcolumn\u001b[0m\u001b[0;34m)\u001b[0m\u001b[0;34m:\u001b[0m\u001b[0;34m\u001b[0m\u001b[0;34m\u001b[0m\u001b[0m\n\u001b[0m\u001b[1;32m    181\u001b[0m     \u001b[0;32mif\u001b[0m \u001b[0mlen\u001b[0m\u001b[0;34m(\u001b[0m\u001b[0mcolumn\u001b[0m\u001b[0;34m.\u001b[0m\u001b[0mmeta_data\u001b[0m\u001b[0;34m.\u001b[0m\u001b[0mpath_in_schema\u001b[0m\u001b[0;34m)\u001b[0m \u001b[0;34m<\u001b[0m \u001b[0;36m3\u001b[0m\u001b[0;34m:\u001b[0m\u001b[0;34m\u001b[0m\u001b[0;34m\u001b[0m\u001b[0m\n\u001b[1;32m    182\u001b[0m         \u001b[0;32mreturn\u001b[0m \u001b[0;32mFalse\u001b[0m\u001b[0;34m\u001b[0m\u001b[0;34m\u001b[0m\u001b[0m\n",
            "\u001b[0;31mKeyboardInterrupt\u001b[0m: "
          ]
        }
      ]
    },
    {
      "cell_type": "markdown",
      "source": [
        "- 모든 parquet 파일의 row는 400000개, column은 카테고리 별로 동일하다.\n",
        "  - EDA를 수행할 때 메모리 효율성과 속도를 고려한 분석 전략이 중요하다.\n",
        "- 카테고리 별로 column의 데이터 타입과 의미가 동일하다.\n"
      ],
      "metadata": {
        "id": "TvHb_rk43dvN"
      }
    },
    {
      "cell_type": "markdown",
      "source": [
        "## 세그먼트 불균형 확인\n",
        "- 전체 Segment(A~E)의 데이터 불균형 정도 확인\n",
        "- 월별 Segment 분포 변화 확인하여 시계열 성격 확인\n",
        "- 각 Segment별 고객 수 비율 및 월별 증감 여부 파악"
      ],
      "metadata": {
        "id": "-lGeY8ALdCpu"
      }
    },
    {
      "cell_type": "code",
      "source": [
        "import pandas as pd\n",
        "import seaborn as sns\n",
        "import matplotlib.pyplot as plt\n",
        "\n",
        "# 회원정보 데이터 불러오기 (201812 기준)\n",
        "file_path = \"/content/drive/MyDrive/고급프로그래밍/train/1.회원정보/201812_train_회원정보.parquet\"\n",
        "df = pd.read_parquet(file_path)\n",
        "\n",
        "# Segment 분포 확인\n",
        "segment_counts = df[\"Segment\"].value_counts().sort_index()\n",
        "print(segment_counts)\n",
        "\n",
        "print(\"=========================\")\n",
        "segment_ratio = df[\"Segment\"].value_counts(normalize=True).sort_index()\n",
        "print(segment_ratio)\n",
        "\n",
        "# 수 확인\n",
        "plt.figure(figsize=(6,4))\n",
        "sns.barplot(x=segment_counts.index, y=segment_counts.values)\n",
        "plt.yscale(\"log\")\n",
        "plt.title(\"Segment 분포 (201812)\")\n",
        "plt.ylabel(\"고객 수 (log scale)\")\n",
        "plt.xlabel(\"Segment\")\n",
        "plt.show()\n",
        "\n",
        "# 비율 확인\n",
        "plt.figure(figsize=(6,6))\n",
        "plt.pie(segment_ratio, labels=segment_ratio.index, autopct='%1.1f%%', startangle=90, counterclock=False)\n",
        "plt.title(\"Segment 비율 (201812)\")\n",
        "plt.axis('equal')\n",
        "plt.show()"
      ],
      "metadata": {
        "id": "c7gjQfIddy2B",
        "outputId": "1a9a0237-18d8-42b1-f119-ffc63a0c3080",
        "colab": {
          "base_uri": "https://localhost:8080/",
          "height": 1000
        }
      },
      "execution_count": 10,
      "outputs": [
        {
          "output_type": "stream",
          "name": "stdout",
          "text": [
            "Segment\n",
            "A       162\n",
            "B        24\n",
            "C     21265\n",
            "D     58207\n",
            "E    320342\n",
            "Name: count, dtype: int64\n",
            "=========================\n",
            "Segment\n",
            "A    0.000405\n",
            "B    0.000060\n",
            "C    0.053163\n",
            "D    0.145517\n",
            "E    0.800855\n",
            "Name: proportion, dtype: float64\n"
          ]
        },
        {
          "output_type": "stream",
          "name": "stderr",
          "text": [
            "WARNING:matplotlib.font_manager:findfont: Font family 'NanumGothic' not found.\n",
            "WARNING:matplotlib.font_manager:findfont: Font family 'NanumGothic' not found.\n",
            "/usr/local/lib/python3.11/dist-packages/IPython/core/pylabtools.py:151: UserWarning: Glyph 44256 (\\N{HANGUL SYLLABLE GO}) missing from font(s) DejaVu Sans.\n",
            "  fig.canvas.print_figure(bytes_io, **kw)\n",
            "/usr/local/lib/python3.11/dist-packages/IPython/core/pylabtools.py:151: UserWarning: Glyph 44061 (\\N{HANGUL SYLLABLE GAEG}) missing from font(s) DejaVu Sans.\n",
            "  fig.canvas.print_figure(bytes_io, **kw)\n",
            "/usr/local/lib/python3.11/dist-packages/IPython/core/pylabtools.py:151: UserWarning: Glyph 49688 (\\N{HANGUL SYLLABLE SU}) missing from font(s) DejaVu Sans.\n",
            "  fig.canvas.print_figure(bytes_io, **kw)\n",
            "WARNING:matplotlib.font_manager:findfont: Font family 'NanumGothic' not found.\n",
            "WARNING:matplotlib.font_manager:findfont: Font family 'NanumGothic' not found.\n",
            "/usr/local/lib/python3.11/dist-packages/IPython/core/pylabtools.py:151: UserWarning: Glyph 48516 (\\N{HANGUL SYLLABLE BUN}) missing from font(s) DejaVu Sans.\n",
            "  fig.canvas.print_figure(bytes_io, **kw)\n",
            "/usr/local/lib/python3.11/dist-packages/IPython/core/pylabtools.py:151: UserWarning: Glyph 54252 (\\N{HANGUL SYLLABLE PO}) missing from font(s) DejaVu Sans.\n",
            "  fig.canvas.print_figure(bytes_io, **kw)\n",
            "WARNING:matplotlib.font_manager:findfont: Font family 'NanumGothic' not found.\n",
            "WARNING:matplotlib.font_manager:findfont: Font family 'NanumGothic' not found.\n",
            "WARNING:matplotlib.font_manager:findfont: Font family 'NanumGothic' not found.\n",
            "WARNING:matplotlib.font_manager:findfont: Font family 'NanumGothic' not found.\n",
            "WARNING:matplotlib.font_manager:findfont: Font family 'NanumGothic' not found.\n",
            "WARNING:matplotlib.font_manager:findfont: Font family 'NanumGothic' not found.\n",
            "WARNING:matplotlib.font_manager:findfont: Font family 'NanumGothic' not found.\n",
            "WARNING:matplotlib.font_manager:findfont: Font family 'NanumGothic' not found.\n",
            "WARNING:matplotlib.font_manager:findfont: Font family 'NanumGothic' not found.\n",
            "WARNING:matplotlib.font_manager:findfont: Font family 'NanumGothic' not found.\n",
            "WARNING:matplotlib.font_manager:findfont: Font family 'NanumGothic' not found.\n",
            "WARNING:matplotlib.font_manager:findfont: Font family 'NanumGothic' not found.\n",
            "WARNING:matplotlib.font_manager:findfont: Font family 'NanumGothic' not found.\n",
            "WARNING:matplotlib.font_manager:findfont: Font family 'NanumGothic' not found.\n",
            "WARNING:matplotlib.font_manager:findfont: Font family 'NanumGothic' not found.\n",
            "WARNING:matplotlib.font_manager:findfont: Font family 'NanumGothic' not found.\n",
            "WARNING:matplotlib.font_manager:findfont: Font family 'NanumGothic' not found.\n",
            "WARNING:matplotlib.font_manager:findfont: Font family 'NanumGothic' not found.\n",
            "WARNING:matplotlib.font_manager:findfont: Font family 'NanumGothic' not found.\n",
            "WARNING:matplotlib.font_manager:findfont: Font family 'NanumGothic' not found.\n",
            "WARNING:matplotlib.font_manager:findfont: Font family 'NanumGothic' not found.\n",
            "WARNING:matplotlib.font_manager:findfont: Font family 'NanumGothic' not found.\n",
            "WARNING:matplotlib.font_manager:findfont: Font family 'NanumGothic' not found.\n",
            "WARNING:matplotlib.font_manager:findfont: Font family 'NanumGothic' not found.\n"
          ]
        },
        {
          "output_type": "display_data",
          "data": {
            "text/plain": [
              "<Figure size 600x400 with 1 Axes>"
            ],
            "image/png": "[encoded data removed]"
          },
          "metadata": {}
        },
        {
          "output_type": "stream",
          "name": "stderr",
          "text": [
            "WARNING:matplotlib.font_manager:findfont: Font family 'NanumGothic' not found.\n",
            "WARNING:matplotlib.font_manager:findfont: Font family 'NanumGothic' not found.\n",
            "/usr/local/lib/python3.11/dist-packages/IPython/core/pylabtools.py:151: UserWarning: Glyph 48708 (\\N{HANGUL SYLLABLE BI}) missing from font(s) DejaVu Sans.\n",
            "  fig.canvas.print_figure(bytes_io, **kw)\n",
            "/usr/local/lib/python3.11/dist-packages/IPython/core/pylabtools.py:151: UserWarning: Glyph 50984 (\\N{HANGUL SYLLABLE YUL}) missing from font(s) DejaVu Sans.\n",
            "  fig.canvas.print_figure(bytes_io, **kw)\n",
            "WARNING:matplotlib.font_manager:findfont: Font family 'NanumGothic' not found.\n",
            "WARNING:matplotlib.font_manager:findfont: Font family 'NanumGothic' not found.\n",
            "WARNING:matplotlib.font_manager:findfont: Font family 'NanumGothic' not found.\n",
            "WARNING:matplotlib.font_manager:findfont: Font family 'NanumGothic' not found.\n",
            "WARNING:matplotlib.font_manager:findfont: Font family 'NanumGothic' not found.\n",
            "WARNING:matplotlib.font_manager:findfont: Font family 'NanumGothic' not found.\n",
            "WARNING:matplotlib.font_manager:findfont: Font family 'NanumGothic' not found.\n",
            "WARNING:matplotlib.font_manager:findfont: Font family 'NanumGothic' not found.\n",
            "WARNING:matplotlib.font_manager:findfont: Font family 'NanumGothic' not found.\n",
            "WARNING:matplotlib.font_manager:findfont: Font family 'NanumGothic' not found.\n",
            "WARNING:matplotlib.font_manager:findfont: Font family 'NanumGothic' not found.\n",
            "WARNING:matplotlib.font_manager:findfont: Font family 'NanumGothic' not found.\n",
            "WARNING:matplotlib.font_manager:findfont: Font family 'NanumGothic' not found.\n",
            "WARNING:matplotlib.font_manager:findfont: Font family 'NanumGothic' not found.\n",
            "WARNING:matplotlib.font_manager:findfont: Font family 'NanumGothic' not found.\n",
            "WARNING:matplotlib.font_manager:findfont: Font family 'NanumGothic' not found.\n",
            "WARNING:matplotlib.font_manager:findfont: Font family 'NanumGothic' not found.\n",
            "WARNING:matplotlib.font_manager:findfont: Font family 'NanumGothic' not found.\n",
            "WARNING:matplotlib.font_manager:findfont: Font family 'NanumGothic' not found.\n",
            "WARNING:matplotlib.font_manager:findfont: Font family 'NanumGothic' not found.\n",
            "WARNING:matplotlib.font_manager:findfont: Font family 'NanumGothic' not found.\n",
            "WARNING:matplotlib.font_manager:findfont: Font family 'NanumGothic' not found.\n",
            "WARNING:matplotlib.font_manager:findfont: Font family 'NanumGothic' not found.\n",
            "WARNING:matplotlib.font_manager:findfont: Font family 'NanumGothic' not found.\n",
            "WARNING:matplotlib.font_manager:findfont: Font family 'NanumGothic' not found.\n",
            "WARNING:matplotlib.font_manager:findfont: Font family 'NanumGothic' not found.\n",
            "WARNING:matplotlib.font_manager:findfont: Font family 'NanumGothic' not found.\n",
            "WARNING:matplotlib.font_manager:findfont: Font family 'NanumGothic' not found.\n",
            "WARNING:matplotlib.font_manager:findfont: Font family 'NanumGothic' not found.\n",
            "WARNING:matplotlib.font_manager:findfont: Font family 'NanumGothic' not found.\n",
            "WARNING:matplotlib.font_manager:findfont: Font family 'NanumGothic' not found.\n",
            "WARNING:matplotlib.font_manager:findfont: Font family 'NanumGothic' not found.\n",
            "WARNING:matplotlib.font_manager:findfont: Font family 'NanumGothic' not found.\n"
          ]
        },
        {
          "output_type": "display_data",
          "data": {
            "text/plain": [
              "<Figure size 600x600 with 1 Axes>"
            ],
            "image/png": "[encoded data removed]"
          },
          "metadata": {}
        }
      ]
    },
    {
      "cell_type": "code",
      "source": [
        "# import pandas as pd\n",
        "# import pyarrow.parquet as pq\n",
        "# import os\n",
        "# import random\n",
        "# import gc\n",
        "\n",
        "# # 설정\n",
        "# train_path = \"/content/drive/MyDrive/고급프로그래밍/train\"\n",
        "# folder_list = sorted([f for f in os.listdir(train_path) if os.path.isdir(os.path.join(train_path, f))])\n",
        "\n",
        "# # 샘플링 설정\n",
        "# SAMPLING_NUM = 1000\n",
        "# MAX_ROW_ESTIMATE = 40000\n",
        "# RANDOM_SEED = 42\n",
        "# sample_indices = sorted(random.Random(RANDOM_SEED).sample(range(MAX_ROW_ESTIMATE), SAMPLING_NUM))\n",
        "\n",
        "# # 샘플 저장용 딕셔너리 (숫자 key 사용)\n",
        "# sample_dict = {}\n",
        "\n",
        "# for folder in folder_list:\n",
        "#     folder_path = os.path.join(train_path, folder)\n",
        "#     folder_num = folder.split(\".\")[0]  # \"1.회원정보\" → \"1\"\n",
        "#     file_list = sorted([f for f in os.listdir(folder_path) if f.endswith(\".parquet\")])\n",
        "\n",
        "#     df_list = []\n",
        "\n",
        "#     for file in file_list:\n",
        "#         file_path = os.path.join(folder_path, file)\n",
        "#         try:\n",
        "#             parquet_file = pq.ParquetFile(file_path)\n",
        "#             total_rows = parquet_file.metadata.num_rows\n",
        "\n",
        "#             effective_indices = [i for i in sample_indices if i < total_rows]\n",
        "#             if not effective_indices:\n",
        "#                 continue\n",
        "\n",
        "#             min_idx, max_idx = effective_indices[0], effective_indices[-1] + 1\n",
        "#             table = parquet_file.read().slice(min_idx, max_idx - min_idx)\n",
        "#             df_slice = table.to_pandas()\n",
        "#             df_sampled = df_slice.iloc[[i - min_idx for i in effective_indices]]\n",
        "#             df_list.append(df_sampled)\n",
        "\n",
        "#         except Exception as e:\n",
        "#             print(f\"❌ 오류: {file} - {e}\")\n",
        "\n",
        "#     if df_list:\n",
        "#         category_df = pd.concat(df_list, ignore_index=True)\n",
        "#         category_df[\"ID\"] = category_df[\"ID\"].astype(str)\n",
        "#         sample_dict[folder_num] = category_df  # 숫자 key로 저장\n",
        "\n",
        "# # 중간 저장용 폴더 생성\n",
        "# save_dir = \"/content/drive/MyDrive/고급프로그래밍/sample_chunks\"\n",
        "# os.makedirs(save_dir, exist_ok=True)\n",
        "\n",
        "# # 샘플링된 각 카테고리 데이터를 parquet로 저장 (파일당 저장)\n",
        "# for key, df in sample_dict.items():\n",
        "#     df.to_parquet(os.path.join(save_dir, f\"{key}.parquet\"), index=False)\n",
        "#     print(f\"✅ 저장 완료: {key}.parquet\")"
      ],
      "metadata": {
        "id": "e0HrMCta56Ri"
      },
      "execution_count": null,
      "outputs": []
    },
    {
      "cell_type": "code",
      "source": [
        "# import dask.dataframe as dd\n",
        "# import os\n",
        "# import gc\n",
        "\n",
        "# # 설정\n",
        "# save_dir = \"/content/drive/MyDrive/고급프로그래밍/sample_chunks\"  # 샘플 데이터 저장 경로\n",
        "\n",
        "# # Dask로 첫 번째 파일 로드 (기준 파일)\n",
        "# base_key = \"1\"  # 회원정보 기준\n",
        "# base_path = os.path.join(save_dir, f\"{base_key}.parquet\")\n",
        "# joined_df = dd.read_parquet(base_path, engine=\"pyarrow\", blocksize=\"64MB\")  # 파티션 크기 설정\n",
        "# joined_df[\"ID\"] = joined_df[\"ID\"].astype(str)  # ID 컬럼을 문자열로 변환\n",
        "\n",
        "# # 나머지 카테고리들을 순차적으로 병합\n",
        "# for k in range(2, 9):  # 2부터 8까지\n",
        "#     file_path = os.path.join(save_dir, f\"{k}.parquet\")\n",
        "#     if not os.path.exists(file_path):\n",
        "#         print(f\"❗ 파일 없음: {file_path} → 건너뜀\")\n",
        "#         continue\n",
        "\n",
        "#     # Dask로 파일 읽기\n",
        "#     df = dd.read_parquet(file_path, engine=\"pyarrow\", blocksize=\"64MB\")  # 파티션 크기 설정\n",
        "#     df[\"ID\"] = df[\"ID\"].astype(str)  # ID 컬럼을 문자열로 변환\n",
        "\n",
        "#     print(f\"🧩 병합 중: {k}.parquet → ({df.shape[1]} columns)\")\n",
        "\n",
        "#     # 병합 (ID 기준)\n",
        "#     joined_df = dd.merge(joined_df, df, on=\"ID\", how=\"left\", suffixes=('', f'_{k}'))\n",
        "\n",
        "#     # 중간 결과를 디스크에 저장하여 메모리 절약\n",
        "#     joined_df.to_parquet(os.path.join(save_dir, f\"joined_{k}.parquet\"))\n",
        "\n",
        "#     # 메모리 절약을 위해 필요 없는 변수 삭제 후 가비지 컬렉션\n",
        "#     del df\n",
        "#     gc.collect()\n",
        "\n",
        "# # 최종 결과 계산 (Dask DataFrame을 Pandas로 변환)\n",
        "# final_df = joined_df.compute()  # 최종 결과를 Pandas DataFrame으로 변환\n",
        "\n",
        "# # 결과 확인\n",
        "# print(f\"✅ 최종 병합 완료: {final_df.shape}\")\n",
        "# final_df.head(10)\n"
      ],
      "metadata": {
        "id": "Y--TD-UXSlFy"
      },
      "execution_count": null,
      "outputs": []
    },
    {
      "cell_type": "markdown",
      "source": [
        "## 데이터 샘플링\n",
        "\n",
        "- 대용량 데이터를 전체 처리하는 것은 현실적으로 불가능함\n",
        "  - 각 parquet의 row는 240,000개, column 개수가 상이함.\n",
        "  - 도메인 지식도 부족\n",
        "- 데이터를 일부 샘플링하여 해당 데이터에 대한 통계 및 분석하여 가설을 세운다.\n",
        "\n"
      ],
      "metadata": {
        "id": "IVndKRv4M4t3"
      }
    },
    {
      "cell_type": "code",
      "source": [
        "# import pandas as pd\n",
        "# import matplotlib.pyplot as plt\n",
        "# import seaborn as sns\n",
        "# import pyarrow.parquet as pq\n",
        "# import os\n",
        "# import random\n",
        "\n",
        "# # 경로 설정\n",
        "# merged_path = \"/content/drive/MyDrive/고급프로그래밍/merged\"\n",
        "# file_list = sorted([f for f in os.listdir(merged_path) if f.endswith(\".parquet\")])\n",
        "\n",
        "# SAMPLING_NUM = 1000\n",
        "# ROWS = 240000\n",
        "# RANDOM_SEED = 42\n",
        "\n",
        "# # 샘플로 추출할 row index\n",
        "# sample_indices = sorted(random.Random(RANDOM_SEED).sample(range(ROWS), SAMPLING_NUM))\n",
        "\n",
        "# # 결과 저장용 리스트\n",
        "# sample_df = []\n",
        "\n",
        "# for file in file_list:\n",
        "#     file_path = os.path.join(merged_path, file)\n",
        "#     print(f\"{file_path} → 데이터 샘플링 중...\")\n",
        "\n",
        "#     try:\n",
        "#         parquet_file = pq.ParquetFile(file_path)\n",
        "#         total_rows = parquet_file.metadata.num_rows\n",
        "\n",
        "#         # 최소-최대 슬라이스 후 원하는 행만 선택\n",
        "#         min_idx, max_idx = sample_indices[0], sample_indices[-1] + 1\n",
        "#         table = parquet_file.read_row_group(0) if parquet_file.num_row_groups == 1 else parquet_file.read()\n",
        "#         df_slice = table.slice(min_idx, max_idx - min_idx).to_pandas()\n",
        "#         df_sampled = df_slice.iloc[[i - min_idx for i in sample_indices]]\n",
        "\n",
        "#         df_sampled[\"__source_file__\"] = file  # 출처 파일 정보 추가\n",
        "#         sample_df.append(df_sampled)\n",
        "\n",
        "#         print(f\"✅ 완료: {file} ({df_sampled.shape[0]} rows)\")\n",
        "\n",
        "#     except Exception as e:\n",
        "#         print(f\"⚠️ 오류 발생: {file} - {e}\")\n",
        "\n",
        "# # 최종 샘플 데이터 결합\n",
        "# combined_sample_df = pd.concat(sample_df, ignore_index=True)\n",
        "# combined_sample_df.head(10)"
      ],
      "metadata": {
        "id": "kPBEPxXDevx2"
      },
      "execution_count": null,
      "outputs": []
    },
    {
      "cell_type": "code",
      "source": [
        "# combined_sample_df.tail(10)"
      ],
      "metadata": {
        "id": "BCjmvJjVdVRX"
      },
      "execution_count": null,
      "outputs": []
    },
    {
      "cell_type": "code",
      "source": [
        "# combined_sample_df"
      ],
      "metadata": {
        "id": "tB3_u-UaeSlp"
      },
      "execution_count": null,
      "outputs": []
    }
  ]
}