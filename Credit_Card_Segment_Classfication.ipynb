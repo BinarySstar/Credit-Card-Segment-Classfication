{
  "nbformat": 4,
  "nbformat_minor": 0,
  "metadata": {
    "colab": {
      "provenance": [],
      "toc_visible": true,
      "include_colab_link": true
    },
    "kernelspec": {
      "name": "python3",
      "display_name": "Python 3"
    },
    "language_info": {
      "name": "python"
    }
  },
  "cells": [
    {
      "cell_type": "markdown",
      "metadata": {
        "id": "view-in-github",
        "colab_type": "text"
      },
      "source": [
        "<a href=\"https://colab.research.google.com/github/BinarySstar/Credit-Card-Segment-Classfication/blob/master/Credit_Card_Segment_Classfication.ipynb\" target=\"_parent\"><img src=\"https://colab.research.google.com/assets/colab-badge.svg\" alt=\"Open In Colab\"/></a>"
      ]
    },
    {
      "cell_type": "markdown",
      "source": [
        "# Google Drive Mount\n",
        "train 및 test 데이터를 drive에 저장하기 위해 mount를 진행"
      ],
      "metadata": {
        "id": "tBmDuNY0FVBS"
      }
    },
    {
      "cell_type": "code",
      "execution_count": 1,
      "metadata": {
        "id": "IuJ22cW7yp5u",
        "outputId": "09b78a8c-4456-437f-a9df-d8ef6c6e9745",
        "colab": {
          "base_uri": "https://localhost:8080/"
        }
      },
      "outputs": [
        {
          "output_type": "stream",
          "name": "stdout",
          "text": [
            "Drive already mounted at /content/drive; to attempt to forcibly remount, call drive.mount(\"/content/drive\", force_remount=True).\n"
          ]
        }
      ],
      "source": [
        "from google.colab import drive\n",
        "\n",
        "drive.mount('/content/drive')"
      ]
    },
    {
      "cell_type": "markdown",
      "source": [
        "- 한글 폰트 적용을 위해 폰트 설치 및 적용"
      ],
      "metadata": {
        "id": "n8KiyIwbkNlG"
      }
    },
    {
      "cell_type": "code",
      "source": [
        "# 한글 폰트 설정 (Colab용)\n",
        "!apt-get -qq install -y fonts-nanum\n",
        "\n",
        "# matplotlib 라이브러리를 불러옵니다.\n",
        "import matplotlib.pyplot as plt\n",
        "import matplotlib.font_manager as fm\n",
        "\n",
        "# 설치된 폰트 목록을 갱신하고, 'NanumGothic' 폰트를 기본 폰트로 설정합니다.\n",
        "font_path = '/usr/share/fonts/truetype/nanum/NanumGothic.ttf'\n",
        "font_name = fm.FontProperties(fname=font_path).get_name()\n",
        "plt.rc('font', family=font_name)\n",
        "plt.rcParams['axes.unicode_minus'] = False"
      ],
      "metadata": {
        "id": "90Jv1kXjkM1k"
      },
      "execution_count": 2,
      "outputs": []
    },
    {
      "cell_type": "code",
      "source": [
        "!fc-list :lang=ko"
      ],
      "metadata": {
        "id": "5x2MUXSOBg0o",
        "outputId": "4cf9b9e5-a835-47c4-f9f2-32b43c81f800",
        "colab": {
          "base_uri": "https://localhost:8080/"
        }
      },
      "execution_count": 3,
      "outputs": [
        {
          "output_type": "stream",
          "name": "stdout",
          "text": [
            "/usr/share/fonts/truetype/nanum/NanumSquareRoundB.ttf: NanumSquareRound,나눔스퀘어라운드,NanumSquareRound Bold,나눔스퀘어라운드 Bold:style=Bold,Regular\n",
            "/usr/share/fonts/truetype/nanum/NanumGothicCodingBold.ttf: NanumGothicCoding,나눔고딕코딩:style=Bold\n",
            "/usr/share/fonts/truetype/nanum/NanumSquareRoundR.ttf: NanumSquareRound,나눔스퀘어라운드,NanumSquareRound Regular,나눔스퀘어라운드 Regular:style=Regular\n",
            "/usr/share/fonts/truetype/nanum/NanumSquareB.ttf: NanumSquare,나눔스퀘어,NanumSquare Bold,나눔스퀘어 Bold:style=Bold\n",
            "/usr/share/fonts/truetype/nanum/NanumBarunGothic.ttf: NanumBarunGothic,나눔바른고딕:style=Regular\n",
            "/usr/share/fonts/truetype/nanum/NanumGothic.ttf: NanumGothic,나눔고딕:style=Regular\n",
            "/usr/share/fonts/truetype/nanum/NanumGothicCoding.ttf: NanumGothicCoding,나눔고딕코딩:style=Regular\n",
            "/usr/share/fonts/truetype/nanum/NanumBarunGothicBold.ttf: NanumBarunGothic,나눔바른고딕:style=Bold\n",
            "/usr/share/fonts/truetype/nanum/NanumGothicBold.ttf: NanumGothic,나눔고딕:style=Bold\n",
            "/usr/share/fonts/truetype/nanum/NanumSquareR.ttf: NanumSquare,나눔스퀘어:style=Regular\n",
            "/usr/share/fonts/truetype/nanum/NanumMyeongjo.ttf: NanumMyeongjo,나눔명조:style=Regular\n",
            "/usr/share/fonts/truetype/nanum/NanumMyeongjoBold.ttf: NanumMyeongjo,나눔명조:style=Bold\n"
          ]
        }
      ]
    },
    {
      "cell_type": "markdown",
      "source": [
        "# EDA\n",
        "## 데이터 로드\n",
        "- parquet 형식의 데이터를 로드"
      ],
      "metadata": {
        "id": "FNfQPGs6_D3M"
      }
    },
    {
      "cell_type": "code",
      "source": [
        "#!pip install fastparquet"
      ],
      "metadata": {
        "id": "pr7ODr1W_gow"
      },
      "execution_count": 4,
      "outputs": []
    },
    {
      "cell_type": "markdown",
      "source": [
        "- 전체 parquet 파일에 대한 요약"
      ],
      "metadata": {
        "id": "cCjgEs5bzvYb"
      }
    },
    {
      "cell_type": "code",
      "source": [
        "# import pandas as pd\n",
        "# import os\n",
        "# from glob import glob\n",
        "\n",
        "# # Google Drive 경로 설정\n",
        "# base_path = \"drive/MyDrive/고급프로그래밍/train\"\n",
        "\n",
        "# # 폴더 이름 정의\n",
        "# folder_name = [\"회원정보\", \"신용정보\", \"승인매출정보\", \"청구입금정보\", \"잔액정보\", \"채널정보\", \"마케팅정보\", \"성과정보\"]\n",
        "# folders = [f\"{i}.{name}\" for i, name in enumerate(folder_name, start=1)]\n",
        "\n",
        "# # 요약 결과를 정리하는 list\n",
        "# summary_list = []\n",
        "\n",
        "# for folder in folders:\n",
        "#     folder_path = os.path.join(base_path, folder)\n",
        "#     parquet_files = glob(os.path.join(folder_path, \"*.parquet\"))\n",
        "\n",
        "#     for file in parquet_files:\n",
        "#         try:\n",
        "#             df = pd.read_parquet(file, engine=\"fastparquet\")\n",
        "\n",
        "#             info = {\n",
        "#                 \"폴더명\": folder,\n",
        "#                 \"파일명\": file,\n",
        "#                 \"행 수\": df.shape[0],\n",
        "#                 \"열 수\": df.shape[1],\n",
        "#                 \"컬럼 목록\": df.columns.tolist(),\n",
        "#                 \"데이터 타입\": df.dtypes.to_dict(),\n",
        "#                 \"결측치 비율\": df.isnull().mean().to_dict(),\n",
        "#                 \"샘플 데이터\": df.head().to_dict()\n",
        "#             }\n",
        "\n",
        "#             summary_list.append(info)\n",
        "#             print(f\"✅ {file} 로드 완료\")\n",
        "\n",
        "#         except Exception as e:\n",
        "#             print(f\"❌ {file} 처리 중 오류: {e}\")\n",
        "\n",
        "# # 결과 DataFrame으로 정리\n",
        "# summary_df = pd.DataFrame(summary_list)\n",
        "# summary_df"
      ],
      "metadata": {
        "id": "23roIUhj_WHi",
        "collapsed": true
      },
      "execution_count": 5,
      "outputs": []
    },
    {
      "cell_type": "markdown",
      "source": [
        "- 모든 parquet 파일의 row는 400000개, column은 카테고리 별로 동일하다.\n",
        "  - EDA를 수행할 때 메모리 효율성과 속도를 고려한 분석 전략이 중요하다.\n",
        "- 카테고리 별로 column의 데이터 타입과 의미가 동일하다.\n"
      ],
      "metadata": {
        "id": "TvHb_rk43dvN"
      }
    },
    {
      "cell_type": "markdown",
      "source": [
        "## 세그먼트 불균형 확인\n",
        "- 전체 Segment(A~E)의 데이터 불균형 정도 확인\n",
        "- 월별 Segment 분포 변화 확인하여 시계열 성격 확인\n",
        "- 각 Segment별 고객 수 비율 및 월별 증감 여부 파악"
      ],
      "metadata": {
        "id": "-lGeY8ALdCpu"
      }
    },
    {
      "cell_type": "code",
      "source": [
        "import pandas as pd\n",
        "import seaborn as sns\n",
        "import matplotlib.pyplot as plt\n",
        "\n",
        "# 회원정보 데이터 불러오기 (201812 기준)\n",
        "file_path = \"/content/drive/MyDrive/고급프로그래밍/train/1.회원정보/201812_train_회원정보.parquet\"\n",
        "df = pd.read_parquet(file_path)\n",
        "\n",
        "# Segment 분포 확인\n",
        "segment_counts = df[\"Segment\"].value_counts().sort_index()\n",
        "print(segment_counts)\n",
        "\n",
        "print(\"=========================\")\n",
        "segment_ratio = df[\"Segment\"].value_counts(normalize=True).sort_index()\n",
        "print(segment_ratio)\n",
        "\n",
        "# 수 확인\n",
        "plt.figure(figsize=(6,4))\n",
        "sns.barplot(x=segment_counts.index, y=segment_counts.values)\n",
        "plt.yscale(\"log\")\n",
        "plt.title(\"Segment 분포 (201812)\")\n",
        "plt.ylabel(\"고객 수 (log scale)\")\n",
        "plt.xlabel(\"Segment\")\n",
        "plt.show()\n",
        "\n",
        "# 비율 확인\n",
        "plt.figure(figsize=(6,6))\n",
        "plt.pie(segment_ratio, labels=segment_ratio.index, autopct='%1.1f%%', startangle=90, counterclock=False)\n",
        "plt.title(\"Segment 비율 (201812)\")\n",
        "plt.axis('equal')\n",
        "plt.show()"
      ],
      "metadata": {
        "id": "c7gjQfIddy2B",
        "outputId": "5fb85fc7-2d87-488e-d249-85391b272903",
        "colab": {
          "base_uri": "https://localhost:8080/",
          "height": 1000
        }
      },
      "execution_count": 6,
      "outputs": [
        {
          "output_type": "stream",
          "name": "stdout",
          "text": [
            "Segment\n",
            "A       162\n",
            "B        24\n",
            "C     21265\n",
            "D     58207\n",
            "E    320342\n",
            "Name: count, dtype: int64\n",
            "=========================\n",
            "Segment\n",
            "A    0.000405\n",
            "B    0.000060\n",
            "C    0.053163\n",
            "D    0.145517\n",
            "E    0.800855\n",
            "Name: proportion, dtype: float64\n"
          ]
        },
        {
          "output_type": "stream",
          "name": "stderr",
          "text": [
            "WARNING:matplotlib.font_manager:findfont: Font family 'NanumGothic' not found.\n",
            "WARNING:matplotlib.font_manager:findfont: Font family ['NanumGothic'] not found. Falling back to DejaVu Sans.\n",
            "WARNING:matplotlib.font_manager:findfont: Font family 'NanumGothic' not found.\n",
            "/usr/local/lib/python3.11/dist-packages/IPython/core/pylabtools.py:151: UserWarning: Glyph 44256 (\\N{HANGUL SYLLABLE GO}) missing from font(s) DejaVu Sans.\n",
            "  fig.canvas.print_figure(bytes_io, **kw)\n",
            "/usr/local/lib/python3.11/dist-packages/IPython/core/pylabtools.py:151: UserWarning: Glyph 44061 (\\N{HANGUL SYLLABLE GAEG}) missing from font(s) DejaVu Sans.\n",
            "  fig.canvas.print_figure(bytes_io, **kw)\n",
            "/usr/local/lib/python3.11/dist-packages/IPython/core/pylabtools.py:151: UserWarning: Glyph 49688 (\\N{HANGUL SYLLABLE SU}) missing from font(s) DejaVu Sans.\n",
            "  fig.canvas.print_figure(bytes_io, **kw)\n",
            "WARNING:matplotlib.font_manager:findfont: Font family 'NanumGothic' not found.\n",
            "WARNING:matplotlib.font_manager:findfont: Font family 'NanumGothic' not found.\n",
            "/usr/local/lib/python3.11/dist-packages/IPython/core/pylabtools.py:151: UserWarning: Glyph 48516 (\\N{HANGUL SYLLABLE BUN}) missing from font(s) DejaVu Sans.\n",
            "  fig.canvas.print_figure(bytes_io, **kw)\n",
            "/usr/local/lib/python3.11/dist-packages/IPython/core/pylabtools.py:151: UserWarning: Glyph 54252 (\\N{HANGUL SYLLABLE PO}) missing from font(s) DejaVu Sans.\n",
            "  fig.canvas.print_figure(bytes_io, **kw)\n",
            "WARNING:matplotlib.font_manager:findfont: Font family 'NanumGothic' not found.\n",
            "WARNING:matplotlib.font_manager:findfont: Font family 'NanumGothic' not found.\n",
            "WARNING:matplotlib.font_manager:findfont: Font family 'NanumGothic' not found.\n",
            "WARNING:matplotlib.font_manager:findfont: Font family 'NanumGothic' not found.\n",
            "WARNING:matplotlib.font_manager:findfont: Font family 'NanumGothic' not found.\n",
            "WARNING:matplotlib.font_manager:findfont: Font family 'NanumGothic' not found.\n",
            "WARNING:matplotlib.font_manager:findfont: Font family 'NanumGothic' not found.\n",
            "WARNING:matplotlib.font_manager:findfont: Font family 'NanumGothic' not found.\n",
            "WARNING:matplotlib.font_manager:findfont: Font family 'NanumGothic' not found.\n",
            "WARNING:matplotlib.font_manager:findfont: Font family 'NanumGothic' not found.\n",
            "WARNING:matplotlib.font_manager:findfont: Font family 'NanumGothic' not found.\n",
            "WARNING:matplotlib.font_manager:findfont: Font family 'NanumGothic' not found.\n",
            "WARNING:matplotlib.font_manager:findfont: Font family 'NanumGothic' not found.\n",
            "WARNING:matplotlib.font_manager:findfont: Font family 'NanumGothic' not found.\n",
            "WARNING:matplotlib.font_manager:findfont: Font family 'NanumGothic' not found.\n",
            "WARNING:matplotlib.font_manager:findfont: Font family 'NanumGothic' not found.\n",
            "WARNING:matplotlib.font_manager:findfont: Font family 'NanumGothic' not found.\n",
            "WARNING:matplotlib.font_manager:findfont: Font family 'NanumGothic' not found.\n",
            "WARNING:matplotlib.font_manager:findfont: Font family 'NanumGothic' not found.\n",
            "WARNING:matplotlib.font_manager:findfont: Font family 'NanumGothic' not found.\n",
            "WARNING:matplotlib.font_manager:findfont: Font family 'NanumGothic' not found.\n",
            "WARNING:matplotlib.font_manager:findfont: Font family 'NanumGothic' not found.\n",
            "WARNING:matplotlib.font_manager:findfont: Font family 'NanumGothic' not found.\n",
            "WARNING:matplotlib.font_manager:findfont: Font family 'NanumGothic' not found.\n"
          ]
        },
        {
          "output_type": "display_data",
          "data": {
            "text/plain": [
              "<Figure size 600x400 with 1 Axes>"
            ],
            "image/png": "[encoded data removed]"
          },
          "metadata": {}
        },
        {
          "output_type": "stream",
          "name": "stderr",
          "text": [
            "WARNING:matplotlib.font_manager:findfont: Font family 'NanumGothic' not found.\n",
            "WARNING:matplotlib.font_manager:findfont: Font family 'NanumGothic' not found.\n",
            "/usr/local/lib/python3.11/dist-packages/IPython/core/pylabtools.py:151: UserWarning: Glyph 48708 (\\N{HANGUL SYLLABLE BI}) missing from font(s) DejaVu Sans.\n",
            "  fig.canvas.print_figure(bytes_io, **kw)\n",
            "/usr/local/lib/python3.11/dist-packages/IPython/core/pylabtools.py:151: UserWarning: Glyph 50984 (\\N{HANGUL SYLLABLE YUL}) missing from font(s) DejaVu Sans.\n",
            "  fig.canvas.print_figure(bytes_io, **kw)\n",
            "WARNING:matplotlib.font_manager:findfont: Font family 'NanumGothic' not found.\n",
            "WARNING:matplotlib.font_manager:findfont: Font family 'NanumGothic' not found.\n",
            "WARNING:matplotlib.font_manager:findfont: Font family 'NanumGothic' not found.\n",
            "WARNING:matplotlib.font_manager:findfont: Font family 'NanumGothic' not found.\n",
            "WARNING:matplotlib.font_manager:findfont: Font family 'NanumGothic' not found.\n",
            "WARNING:matplotlib.font_manager:findfont: Font family 'NanumGothic' not found.\n",
            "WARNING:matplotlib.font_manager:findfont: Font family 'NanumGothic' not found.\n",
            "WARNING:matplotlib.font_manager:findfont: Font family 'NanumGothic' not found.\n",
            "WARNING:matplotlib.font_manager:findfont: Font family 'NanumGothic' not found.\n",
            "WARNING:matplotlib.font_manager:findfont: Font family 'NanumGothic' not found.\n",
            "WARNING:matplotlib.font_manager:findfont: Font family 'NanumGothic' not found.\n",
            "WARNING:matplotlib.font_manager:findfont: Font family 'NanumGothic' not found.\n",
            "WARNING:matplotlib.font_manager:findfont: Font family 'NanumGothic' not found.\n",
            "WARNING:matplotlib.font_manager:findfont: Font family 'NanumGothic' not found.\n",
            "WARNING:matplotlib.font_manager:findfont: Font family 'NanumGothic' not found.\n",
            "WARNING:matplotlib.font_manager:findfont: Font family 'NanumGothic' not found.\n",
            "WARNING:matplotlib.font_manager:findfont: Font family 'NanumGothic' not found.\n",
            "WARNING:matplotlib.font_manager:findfont: Font family 'NanumGothic' not found.\n",
            "WARNING:matplotlib.font_manager:findfont: Font family 'NanumGothic' not found.\n",
            "WARNING:matplotlib.font_manager:findfont: Font family 'NanumGothic' not found.\n",
            "WARNING:matplotlib.font_manager:findfont: Font family 'NanumGothic' not found.\n",
            "WARNING:matplotlib.font_manager:findfont: Font family 'NanumGothic' not found.\n",
            "WARNING:matplotlib.font_manager:findfont: Font family 'NanumGothic' not found.\n",
            "WARNING:matplotlib.font_manager:findfont: Font family 'NanumGothic' not found.\n",
            "WARNING:matplotlib.font_manager:findfont: Font family 'NanumGothic' not found.\n",
            "WARNING:matplotlib.font_manager:findfont: Font family 'NanumGothic' not found.\n",
            "WARNING:matplotlib.font_manager:findfont: Font family 'NanumGothic' not found.\n",
            "WARNING:matplotlib.font_manager:findfont: Font family 'NanumGothic' not found.\n",
            "WARNING:matplotlib.font_manager:findfont: Font family 'NanumGothic' not found.\n",
            "WARNING:matplotlib.font_manager:findfont: Font family 'NanumGothic' not found.\n",
            "WARNING:matplotlib.font_manager:findfont: Font family 'NanumGothic' not found.\n",
            "WARNING:matplotlib.font_manager:findfont: Font family 'NanumGothic' not found.\n",
            "WARNING:matplotlib.font_manager:findfont: Font family 'NanumGothic' not found.\n"
          ]
        },
        {
          "output_type": "display_data",
          "data": {
            "text/plain": [
              "<Figure size 600x600 with 1 Axes>"
            ],
            "image/png": "[encoded data removed]"
          },
          "metadata": {}
        }
      ]
    },
    {
      "cell_type": "markdown",
      "source": [
        "### 🔍 분석\n",
        "- 극심한 클래스 불균형이 존재함.\n",
        "  - Segment E 하나가 전체 고객의 80% 이상 차지\n",
        "  - Segment A, B는 희소 클래스 (합쳐도 전체의 0.05% 수준)\n",
        "  - 로그 스케일로 표현했기 때문에 A/B가 보이지만, 실제로는 거의 사라지는 수준\n",
        "\n",
        "- A, B 세그먼트는 중요한 VIP 혹은 고위험군 고객을 분류하는 세그먼트일 가능성이 높다.\n",
        "\n",
        "> 👉 모델 학습 시 Segment A와 B를 예측하는 것이 매우 어려우며, 모델이 Segment E에 편향될 위험이 큼. 모델링 시 소수 클래스 예측을 위한 특수한 처리가 필수"
      ],
      "metadata": {
        "id": "n4GcTnfjq6q8"
      }
    },
    {
      "cell_type": "markdown",
      "source": [
        "## 세그먼트 별 고객 특성 확인\n",
        "- 고객의 기본 프로필(성별, 연령, 회원등급 등)이 Segment 간 어떤 차이를 보이는지 파악\n",
        "- 특정 Segment가 어떤 고객군을 대표하는지 추론"
      ],
      "metadata": {
        "id": "sA8EjSpfsqXy"
      }
    },
    {
      "cell_type": "code",
      "source": [
        "# df의 column 확인\n",
        "df.columns"
      ],
      "metadata": {
        "id": "e1N7rbJn4f0y",
        "outputId": "f745d4cf-c945-4756-cb2d-838c9e5a43bb",
        "colab": {
          "base_uri": "https://localhost:8080/"
        }
      },
      "execution_count": 7,
      "outputs": [
        {
          "output_type": "execute_result",
          "data": {
            "text/plain": [
              "Index(['기준년월', 'ID', '남녀구분코드', '연령', 'Segment', '회원여부_이용가능', '회원여부_이용가능_CA',\n",
              "       '회원여부_이용가능_카드론', '소지여부_신용', '소지카드수_유효_신용', '소지카드수_이용가능_신용', '입회일자_신용',\n",
              "       '입회경과개월수_신용', '회원여부_연체', '이용거절여부_카드론', '동의여부_한도증액안내', '수신거부여부_TM',\n",
              "       '수신거부여부_DM', '수신거부여부_메일', '수신거부여부_SMS', '가입통신회사코드', '탈회횟수_누적',\n",
              "       '최종탈회후경과월', '탈회횟수_발급6개월이내', '탈회횟수_발급1년이내', '거주시도명', '직장시도명', '마케팅동의여부',\n",
              "       '유효카드수_신용체크', '유효카드수_신용', '유효카드수_신용_가족', '유효카드수_체크', '유효카드수_체크_가족',\n",
              "       '이용가능카드수_신용체크', '이용가능카드수_신용', '이용가능카드수_신용_가족', '이용가능카드수_체크',\n",
              "       '이용가능카드수_체크_가족', '이용카드수_신용체크', '이용카드수_신용', '이용카드수_신용_가족', '이용카드수_체크',\n",
              "       '이용카드수_체크_가족', '이용금액_R3M_신용체크', '이용금액_R3M_신용', '이용금액_R3M_신용_가족',\n",
              "       '이용금액_R3M_체크', '이용금액_R3M_체크_가족', '_1순위카드이용금액', '_1순위카드이용건수',\n",
              "       '_1순위신용체크구분', '_2순위카드이용금액', '_2순위카드이용건수', '_2순위신용체크구분',\n",
              "       '최종유효년월_신용_이용가능', '최종유효년월_신용_이용', '최종카드발급일자', '보유여부_해외겸용_본인',\n",
              "       '이용가능여부_해외겸용_본인', '이용여부_3M_해외겸용_본인', '보유여부_해외겸용_신용_본인',\n",
              "       '이용가능여부_해외겸용_신용_본인', '이용여부_3M_해외겸용_신용_본인', '연회비발생카드수_B0M',\n",
              "       '연회비할인카드수_B0M', '기본연회비_B0M', '제휴연회비_B0M', '할인금액_기본연회비_B0M',\n",
              "       '할인금액_제휴연회비_B0M', '청구금액_기본연회비_B0M', '청구금액_제휴연회비_B0M', '상품관련면제카드수_B0M',\n",
              "       '임직원면제카드수_B0M', '우수회원면제카드수_B0M', '기타면제카드수_B0M', '카드신청건수', 'Life_Stage',\n",
              "       '최종카드발급경과월'],\n",
              "      dtype='object')"
            ]
          },
          "metadata": {},
          "execution_count": 7
        }
      ]
    },
    {
      "cell_type": "markdown",
      "source": [
        "- column이 너무 많아 모든 column에 대해 분석하기는 어려움\n",
        "- 핵심 column 일부를 이용하여 세그먼트 분석 진행\n",
        "\n",
        "| 항목 | 변수명 | 분석 방식 |\n",
        "|------|---|---|\n",
        "|🎂 연령 | 연령 | Boxplot, 평균 비교|\n",
        "👨‍👩‍👧 성별 | 남녀구분코드 | Countplot (hue by Segment)\n",
        "🎓 회원 등급/이용 가능 여부 | 회원여부_이용가능, 회원여부_이용가능_CA, 회원여부_이용가능_카드론 | Countplot\n",
        "💳 카드 보유 수 | 소지카드수_유효_신용, 소지카드수_이용가능_신용 | 평균 비교\n",
        "🕒 카드 사용 경과 | 입회경과개월수_신용, 최종카드발급경과월 | Boxplot\n",
        "📩 마케팅 수신 동의 여부 | 마케팅동의여부 | 비율 비교\n",
        "🧓 Life Stage | Life_Stage | Countplot (Segment별 분포)"
      ],
      "metadata": {
        "id": "d6RHoMTh5way"
      }
    },
    {
      "cell_type": "markdown",
      "source": [
        "### 🎂 세그먼트 별 연령 분석"
      ],
      "metadata": {
        "id": "0pLxZ6LZ9MaJ"
      }
    },
    {
      "cell_type": "code",
      "source": [
        "plt.figure(figsize=(8,5))\n",
        "sns.boxplot(x='Segment', y='연령', data=df)\n",
        "plt.title(\"Segment별 연령 분포\")\n",
        "plt.xlabel(\"Segment\")\n",
        "plt.ylabel(\"연령\")\n",
        "plt.show()"
      ],
      "metadata": {
        "collapsed": true,
        "id": "JcUzy0SK9Ptq",
        "outputId": "5c72bdcd-f7cf-4c18-d9a4-8173ee02c5fd",
        "colab": {
          "base_uri": "https://localhost:8080/",
          "height": 1000
        }
      },
      "execution_count": 8,
      "outputs": [
        {
          "output_type": "stream",
          "name": "stderr",
          "text": [
            "WARNING:matplotlib.font_manager:findfont: Font family 'NanumGothic' not found.\n",
            "WARNING:matplotlib.font_manager:findfont: Font family 'NanumGothic' not found.\n",
            "/usr/local/lib/python3.11/dist-packages/IPython/core/pylabtools.py:151: UserWarning: Glyph 45824 (\\N{HANGUL SYLLABLE DAE}) missing from font(s) DejaVu Sans.\n",
            "  fig.canvas.print_figure(bytes_io, **kw)\n",
            "WARNING:matplotlib.font_manager:findfont: Font family 'NanumGothic' not found.\n",
            "WARNING:matplotlib.font_manager:findfont: Font family 'NanumGothic' not found.\n",
            "WARNING:matplotlib.font_manager:findfont: Font family 'NanumGothic' not found.\n",
            "WARNING:matplotlib.font_manager:findfont: Font family 'NanumGothic' not found.\n",
            "WARNING:matplotlib.font_manager:findfont: Font family 'NanumGothic' not found.\n",
            "/usr/local/lib/python3.11/dist-packages/IPython/core/pylabtools.py:151: UserWarning: Glyph 51060 (\\N{HANGUL SYLLABLE I}) missing from font(s) DejaVu Sans.\n",
            "  fig.canvas.print_figure(bytes_io, **kw)\n",
            "/usr/local/lib/python3.11/dist-packages/IPython/core/pylabtools.py:151: UserWarning: Glyph 49345 (\\N{HANGUL SYLLABLE SANG}) missing from font(s) DejaVu Sans.\n",
            "  fig.canvas.print_figure(bytes_io, **kw)\n",
            "WARNING:matplotlib.font_manager:findfont: Font family 'NanumGothic' not found.\n",
            "/usr/local/lib/python3.11/dist-packages/IPython/core/pylabtools.py:151: UserWarning: Glyph 50672 (\\N{HANGUL SYLLABLE YEON}) missing from font(s) DejaVu Sans.\n",
            "  fig.canvas.print_figure(bytes_io, **kw)\n",
            "/usr/local/lib/python3.11/dist-packages/IPython/core/pylabtools.py:151: UserWarning: Glyph 47161 (\\N{HANGUL SYLLABLE RYEONG}) missing from font(s) DejaVu Sans.\n",
            "  fig.canvas.print_figure(bytes_io, **kw)\n",
            "WARNING:matplotlib.font_manager:findfont: Font family 'NanumGothic' not found.\n",
            "WARNING:matplotlib.font_manager:findfont: Font family 'NanumGothic' not found.\n",
            "/usr/local/lib/python3.11/dist-packages/IPython/core/pylabtools.py:151: UserWarning: Glyph 48324 (\\N{HANGUL SYLLABLE BYEOL}) missing from font(s) DejaVu Sans.\n",
            "  fig.canvas.print_figure(bytes_io, **kw)\n",
            "/usr/local/lib/python3.11/dist-packages/IPython/core/pylabtools.py:151: UserWarning: Glyph 48516 (\\N{HANGUL SYLLABLE BUN}) missing from font(s) DejaVu Sans.\n",
            "  fig.canvas.print_figure(bytes_io, **kw)\n",
            "/usr/local/lib/python3.11/dist-packages/IPython/core/pylabtools.py:151: UserWarning: Glyph 54252 (\\N{HANGUL SYLLABLE PO}) missing from font(s) DejaVu Sans.\n",
            "  fig.canvas.print_figure(bytes_io, **kw)\n",
            "WARNING:matplotlib.font_manager:findfont: Font family 'NanumGothic' not found.\n",
            "WARNING:matplotlib.font_manager:findfont: Font family 'NanumGothic' not found.\n",
            "WARNING:matplotlib.font_manager:findfont: Font family 'NanumGothic' not found.\n",
            "WARNING:matplotlib.font_manager:findfont: Font family 'NanumGothic' not found.\n",
            "WARNING:matplotlib.font_manager:findfont: Font family 'NanumGothic' not found.\n",
            "WARNING:matplotlib.font_manager:findfont: Font family 'NanumGothic' not found.\n",
            "WARNING:matplotlib.font_manager:findfont: Font family 'NanumGothic' not found.\n",
            "WARNING:matplotlib.font_manager:findfont: Font family 'NanumGothic' not found.\n",
            "WARNING:matplotlib.font_manager:findfont: Font family 'NanumGothic' not found.\n",
            "WARNING:matplotlib.font_manager:findfont: Font family 'NanumGothic' not found.\n",
            "WARNING:matplotlib.font_manager:findfont: Font family 'NanumGothic' not found.\n",
            "WARNING:matplotlib.font_manager:findfont: Font family 'NanumGothic' not found.\n",
            "WARNING:matplotlib.font_manager:findfont: Font family 'NanumGothic' not found.\n",
            "WARNING:matplotlib.font_manager:findfont: Font family 'NanumGothic' not found.\n",
            "WARNING:matplotlib.font_manager:findfont: Font family 'NanumGothic' not found.\n",
            "WARNING:matplotlib.font_manager:findfont: Font family 'NanumGothic' not found.\n",
            "WARNING:matplotlib.font_manager:findfont: Font family 'NanumGothic' not found.\n",
            "WARNING:matplotlib.font_manager:findfont: Font family 'NanumGothic' not found.\n",
            "WARNING:matplotlib.font_manager:findfont: Font family 'NanumGothic' not found.\n",
            "WARNING:matplotlib.font_manager:findfont: Font family 'NanumGothic' not found.\n",
            "WARNING:matplotlib.font_manager:findfont: Font family 'NanumGothic' not found.\n",
            "WARNING:matplotlib.font_manager:findfont: Font family 'NanumGothic' not found.\n",
            "WARNING:matplotlib.font_manager:findfont: Font family 'NanumGothic' not found.\n",
            "WARNING:matplotlib.font_manager:findfont: Font family 'NanumGothic' not found.\n",
            "WARNING:matplotlib.font_manager:findfont: Font family 'NanumGothic' not found.\n",
            "WARNING:matplotlib.font_manager:findfont: Font family 'NanumGothic' not found.\n",
            "WARNING:matplotlib.font_manager:findfont: Font family 'NanumGothic' not found.\n",
            "WARNING:matplotlib.font_manager:findfont: Font family 'NanumGothic' not found.\n",
            "WARNING:matplotlib.font_manager:findfont: Font family 'NanumGothic' not found.\n",
            "WARNING:matplotlib.font_manager:findfont: Font family 'NanumGothic' not found.\n",
            "WARNING:matplotlib.font_manager:findfont: Font family 'NanumGothic' not found.\n",
            "WARNING:matplotlib.font_manager:findfont: Font family 'NanumGothic' not found.\n",
            "WARNING:matplotlib.font_manager:findfont: Font family 'NanumGothic' not found.\n",
            "WARNING:matplotlib.font_manager:findfont: Font family 'NanumGothic' not found.\n",
            "WARNING:matplotlib.font_manager:findfont: Font family 'NanumGothic' not found.\n",
            "WARNING:matplotlib.font_manager:findfont: Font family 'NanumGothic' not found.\n"
          ]
        },
        {
          "output_type": "display_data",
          "data": {
            "text/plain": [
              "<Figure size 800x500 with 1 Axes>"
            ],
            "image/png": "[encoded data removed]"
          },
          "metadata": {}
        }
      ]
    },
    {
      "cell_type": "markdown",
      "source": [
        "🧠 설명:\n",
        "\n",
        "- 각 Segment 그룹의 연령 중앙값, 범위, 이상치를 확인\n",
        "- AE 그룹 중 고령층 중심인지, 또는 **2030대 중심인지** 파악 가능\n",
        "\n",
        "🔍 활용 예시:\n",
        "\n",
        "- Segment A: 평균 연령 높으면 장기 고객\n",
        "- Segment E: 젊은 고객 비중 높다면 신규 또는 저위험군"
      ],
      "metadata": {
        "id": "dctvOBg6_ZkX"
      }
    },
    {
      "cell_type": "markdown",
      "source": [
        "### 👨‍👩‍👧 세그먼트 별 성별 분포"
      ],
      "metadata": {
        "id": "xACE13TI_gH3"
      }
    },
    {
      "cell_type": "code",
      "source": [
        "plt.figure(figsize=(8,5))\n",
        "sns.countplot(x='Segment', hue='남녀구분코드', data=df)\n",
        "plt.title(\"Segment별 성별 분포\")\n",
        "plt.xlabel(\"Segment\")\n",
        "plt.ylabel(\"고객 수\")\n",
        "plt.legend(title=\"성별\", labels=[\"남성\", \"여성\"])\n",
        "plt.show()"
      ],
      "metadata": {
        "id": "V1y8nwoR_r6d",
        "outputId": "408d30ba-b4ef-4cdb-f9b1-d558e8dbd9c8",
        "colab": {
          "base_uri": "https://localhost:8080/",
          "height": 1000
        }
      },
      "execution_count": 9,
      "outputs": [
        {
          "output_type": "stream",
          "name": "stderr",
          "text": [
            "WARNING:matplotlib.font_manager:findfont: Font family 'NanumGothic' not found.\n",
            "WARNING:matplotlib.font_manager:findfont: Font family 'NanumGothic' not found.\n",
            "WARNING:matplotlib.font_manager:findfont: Font family 'NanumGothic' not found.\n",
            "WARNING:matplotlib.font_manager:findfont: Font family 'NanumGothic' not found.\n",
            "WARNING:matplotlib.font_manager:findfont: Font family 'NanumGothic' not found.\n",
            "WARNING:matplotlib.font_manager:findfont: Font family 'NanumGothic' not found.\n",
            "WARNING:matplotlib.font_manager:findfont: Font family 'NanumGothic' not found.\n",
            "WARNING:matplotlib.font_manager:findfont: Font family 'NanumGothic' not found.\n",
            "WARNING:matplotlib.font_manager:findfont: Font family 'NanumGothic' not found.\n",
            "WARNING:matplotlib.font_manager:findfont: Font family 'NanumGothic' not found.\n",
            "WARNING:matplotlib.font_manager:findfont: Font family 'NanumGothic' not found.\n",
            "/usr/local/lib/python3.11/dist-packages/IPython/core/pylabtools.py:151: UserWarning: Glyph 44256 (\\N{HANGUL SYLLABLE GO}) missing from font(s) DejaVu Sans.\n",
            "  fig.canvas.print_figure(bytes_io, **kw)\n",
            "/usr/local/lib/python3.11/dist-packages/IPython/core/pylabtools.py:151: UserWarning: Glyph 44061 (\\N{HANGUL SYLLABLE GAEG}) missing from font(s) DejaVu Sans.\n",
            "  fig.canvas.print_figure(bytes_io, **kw)\n",
            "/usr/local/lib/python3.11/dist-packages/IPython/core/pylabtools.py:151: UserWarning: Glyph 49688 (\\N{HANGUL SYLLABLE SU}) missing from font(s) DejaVu Sans.\n",
            "  fig.canvas.print_figure(bytes_io, **kw)\n",
            "WARNING:matplotlib.font_manager:findfont: Font family 'NanumGothic' not found.\n",
            "WARNING:matplotlib.font_manager:findfont: Font family 'NanumGothic' not found.\n",
            "/usr/local/lib/python3.11/dist-packages/IPython/core/pylabtools.py:151: UserWarning: Glyph 48324 (\\N{HANGUL SYLLABLE BYEOL}) missing from font(s) DejaVu Sans.\n",
            "  fig.canvas.print_figure(bytes_io, **kw)\n",
            "/usr/local/lib/python3.11/dist-packages/IPython/core/pylabtools.py:151: UserWarning: Glyph 49457 (\\N{HANGUL SYLLABLE SEONG}) missing from font(s) DejaVu Sans.\n",
            "  fig.canvas.print_figure(bytes_io, **kw)\n",
            "/usr/local/lib/python3.11/dist-packages/IPython/core/pylabtools.py:151: UserWarning: Glyph 48516 (\\N{HANGUL SYLLABLE BUN}) missing from font(s) DejaVu Sans.\n",
            "  fig.canvas.print_figure(bytes_io, **kw)\n",
            "/usr/local/lib/python3.11/dist-packages/IPython/core/pylabtools.py:151: UserWarning: Glyph 54252 (\\N{HANGUL SYLLABLE PO}) missing from font(s) DejaVu Sans.\n",
            "  fig.canvas.print_figure(bytes_io, **kw)\n",
            "WARNING:matplotlib.font_manager:findfont: Font family 'NanumGothic' not found.\n",
            "WARNING:matplotlib.font_manager:findfont: Font family 'NanumGothic' not found.\n",
            "WARNING:matplotlib.font_manager:findfont: Font family 'NanumGothic' not found.\n",
            "WARNING:matplotlib.font_manager:findfont: Font family 'NanumGothic' not found.\n",
            "WARNING:matplotlib.font_manager:findfont: Font family 'NanumGothic' not found.\n",
            "WARNING:matplotlib.font_manager:findfont: Font family 'NanumGothic' not found.\n",
            "WARNING:matplotlib.font_manager:findfont: Font family 'NanumGothic' not found.\n",
            "WARNING:matplotlib.font_manager:findfont: Font family 'NanumGothic' not found.\n",
            "WARNING:matplotlib.font_manager:findfont: Font family 'NanumGothic' not found.\n",
            "WARNING:matplotlib.font_manager:findfont: Font family 'NanumGothic' not found.\n",
            "/usr/local/lib/python3.11/dist-packages/IPython/core/pylabtools.py:151: UserWarning: Glyph 45224 (\\N{HANGUL SYLLABLE NAM}) missing from font(s) DejaVu Sans.\n",
            "  fig.canvas.print_figure(bytes_io, **kw)\n",
            "WARNING:matplotlib.font_manager:findfont: Font family 'NanumGothic' not found.\n",
            "WARNING:matplotlib.font_manager:findfont: Font family 'NanumGothic' not found.\n",
            "/usr/local/lib/python3.11/dist-packages/IPython/core/pylabtools.py:151: UserWarning: Glyph 50668 (\\N{HANGUL SYLLABLE YEO}) missing from font(s) DejaVu Sans.\n",
            "  fig.canvas.print_figure(bytes_io, **kw)\n",
            "WARNING:matplotlib.font_manager:findfont: Font family 'NanumGothic' not found.\n",
            "WARNING:matplotlib.font_manager:findfont: Font family 'NanumGothic' not found.\n",
            "WARNING:matplotlib.font_manager:findfont: Font family 'NanumGothic' not found.\n",
            "WARNING:matplotlib.font_manager:findfont: Font family 'NanumGothic' not found.\n",
            "WARNING:matplotlib.font_manager:findfont: Font family 'NanumGothic' not found.\n",
            "WARNING:matplotlib.font_manager:findfont: Font family 'NanumGothic' not found.\n",
            "WARNING:matplotlib.font_manager:findfont: Font family 'NanumGothic' not found.\n",
            "WARNING:matplotlib.font_manager:findfont: Font family 'NanumGothic' not found.\n",
            "WARNING:matplotlib.font_manager:findfont: Font family 'NanumGothic' not found.\n",
            "WARNING:matplotlib.font_manager:findfont: Font family 'NanumGothic' not found.\n",
            "WARNING:matplotlib.font_manager:findfont: Font family 'NanumGothic' not found.\n",
            "WARNING:matplotlib.font_manager:findfont: Font family 'NanumGothic' not found.\n",
            "WARNING:matplotlib.font_manager:findfont: Font family 'NanumGothic' not found.\n",
            "WARNING:matplotlib.font_manager:findfont: Font family 'NanumGothic' not found.\n",
            "WARNING:matplotlib.font_manager:findfont: Font family 'NanumGothic' not found.\n",
            "WARNING:matplotlib.font_manager:findfont: Font family 'NanumGothic' not found.\n",
            "WARNING:matplotlib.font_manager:findfont: Font family 'NanumGothic' not found.\n",
            "WARNING:matplotlib.font_manager:findfont: Font family 'NanumGothic' not found.\n",
            "WARNING:matplotlib.font_manager:findfont: Font family 'NanumGothic' not found.\n",
            "WARNING:matplotlib.font_manager:findfont: Font family 'NanumGothic' not found.\n",
            "WARNING:matplotlib.font_manager:findfont: Font family 'NanumGothic' not found.\n",
            "WARNING:matplotlib.font_manager:findfont: Font family 'NanumGothic' not found.\n",
            "WARNING:matplotlib.font_manager:findfont: Font family 'NanumGothic' not found.\n",
            "WARNING:matplotlib.font_manager:findfont: Font family 'NanumGothic' not found.\n",
            "WARNING:matplotlib.font_manager:findfont: Font family 'NanumGothic' not found.\n",
            "WARNING:matplotlib.font_manager:findfont: Font family 'NanumGothic' not found.\n",
            "WARNING:matplotlib.font_manager:findfont: Font family 'NanumGothic' not found.\n",
            "WARNING:matplotlib.font_manager:findfont: Font family 'NanumGothic' not found.\n",
            "WARNING:matplotlib.font_manager:findfont: Font family 'NanumGothic' not found.\n",
            "WARNING:matplotlib.font_manager:findfont: Font family 'NanumGothic' not found.\n",
            "WARNING:matplotlib.font_manager:findfont: Font family 'NanumGothic' not found.\n",
            "WARNING:matplotlib.font_manager:findfont: Font family 'NanumGothic' not found.\n",
            "WARNING:matplotlib.font_manager:findfont: Font family 'NanumGothic' not found.\n",
            "WARNING:matplotlib.font_manager:findfont: Font family 'NanumGothic' not found.\n",
            "WARNING:matplotlib.font_manager:findfont: Font family 'NanumGothic' not found.\n",
            "WARNING:matplotlib.font_manager:findfont: Font family 'NanumGothic' not found.\n",
            "WARNING:matplotlib.font_manager:findfont: Font family 'NanumGothic' not found.\n",
            "WARNING:matplotlib.font_manager:findfont: Font family 'NanumGothic' not found.\n",
            "WARNING:matplotlib.font_manager:findfont: Font family 'NanumGothic' not found.\n",
            "WARNING:matplotlib.font_manager:findfont: Font family 'NanumGothic' not found.\n",
            "WARNING:matplotlib.font_manager:findfont: Font family 'NanumGothic' not found.\n",
            "WARNING:matplotlib.font_manager:findfont: Font family 'NanumGothic' not found.\n",
            "WARNING:matplotlib.font_manager:findfont: Font family 'NanumGothic' not found.\n",
            "WARNING:matplotlib.font_manager:findfont: Font family 'NanumGothic' not found.\n",
            "WARNING:matplotlib.font_manager:findfont: Font family 'NanumGothic' not found.\n",
            "WARNING:matplotlib.font_manager:findfont: Font family 'NanumGothic' not found.\n",
            "WARNING:matplotlib.font_manager:findfont: Font family 'NanumGothic' not found.\n",
            "WARNING:matplotlib.font_manager:findfont: Font family 'NanumGothic' not found.\n",
            "WARNING:matplotlib.font_manager:findfont: Font family 'NanumGothic' not found.\n",
            "WARNING:matplotlib.font_manager:findfont: Font family 'NanumGothic' not found.\n",
            "WARNING:matplotlib.font_manager:findfont: Font family 'NanumGothic' not found.\n",
            "WARNING:matplotlib.font_manager:findfont: Font family 'NanumGothic' not found.\n",
            "WARNING:matplotlib.font_manager:findfont: Font family 'NanumGothic' not found.\n",
            "WARNING:matplotlib.font_manager:findfont: Font family 'NanumGothic' not found.\n",
            "WARNING:matplotlib.font_manager:findfont: Font family 'NanumGothic' not found.\n",
            "WARNING:matplotlib.font_manager:findfont: Font family 'NanumGothic' not found.\n",
            "WARNING:matplotlib.font_manager:findfont: Font family 'NanumGothic' not found.\n",
            "WARNING:matplotlib.font_manager:findfont: Font family 'NanumGothic' not found.\n",
            "WARNING:matplotlib.font_manager:findfont: Font family 'NanumGothic' not found.\n",
            "WARNING:matplotlib.font_manager:findfont: Font family 'NanumGothic' not found.\n",
            "WARNING:matplotlib.font_manager:findfont: Font family 'NanumGothic' not found.\n",
            "WARNING:matplotlib.font_manager:findfont: Font family 'NanumGothic' not found.\n",
            "WARNING:matplotlib.font_manager:findfont: Font family 'NanumGothic' not found.\n",
            "WARNING:matplotlib.font_manager:findfont: Font family 'NanumGothic' not found.\n",
            "WARNING:matplotlib.font_manager:findfont: Font family 'NanumGothic' not found.\n",
            "WARNING:matplotlib.font_manager:findfont: Font family 'NanumGothic' not found.\n"
          ]
        },
        {
          "output_type": "display_data",
          "data": {
            "text/plain": [
              "<Figure size 800x500 with 1 Axes>"
            ],
            "image/png": "[encoded data removed]"
          },
          "metadata": {}
        }
      ]
    },
    {
      "cell_type": "markdown",
      "source": [
        "🧠 설명:\n",
        "\n",
        "- 각 Segment에서 남성과 여성의 비율 확인\n",
        "- 특정 Segment에 여성 고객이 많다면 마케팅 타겟에 활용 가능\n",
        "\n",
        "🔍 해석 포인트:\n",
        "\n",
        "- Segment D가 여성 중심이라면 → 여성 대상 혜택 반응이 클 수도 있음"
      ],
      "metadata": {
        "id": "EsJ0eH6Z_yw3"
      }
    },
    {
      "cell_type": "markdown",
      "source": [
        "### 💳 Segment별 회원 이용 가능 여부"
      ],
      "metadata": {
        "id": "hz6TDybF_6Os"
      }
    },
    {
      "cell_type": "code",
      "source": [
        "plt.figure(figsize=(8,5))\n",
        "sns.countplot(x='Segment', hue='회원여부_이용가능', data=df)\n",
        "plt.title(\"Segment별 이용가능 여부 분포\")\n",
        "plt.xlabel(\"Segment\")\n",
        "plt.ylabel(\"고객 수\")\n",
        "plt.legend(title=\"이용가능 여부\")\n",
        "plt.show()"
      ],
      "metadata": {
        "id": "8x1iYT1Y_97_",
        "outputId": "47804340-bbc4-4442-a9a3-a93e1b327778",
        "colab": {
          "base_uri": "https://localhost:8080/",
          "height": 1000
        }
      },
      "execution_count": 10,
      "outputs": [
        {
          "output_type": "stream",
          "name": "stderr",
          "text": [
            "WARNING:matplotlib.font_manager:findfont: Font family 'NanumGothic' not found.\n",
            "WARNING:matplotlib.font_manager:findfont: Font family 'NanumGothic' not found.\n",
            "WARNING:matplotlib.font_manager:findfont: Font family 'NanumGothic' not found.\n",
            "WARNING:matplotlib.font_manager:findfont: Font family 'NanumGothic' not found.\n",
            "WARNING:matplotlib.font_manager:findfont: Font family 'NanumGothic' not found.\n",
            "WARNING:matplotlib.font_manager:findfont: Font family 'NanumGothic' not found.\n",
            "WARNING:matplotlib.font_manager:findfont: Font family 'NanumGothic' not found.\n",
            "WARNING:matplotlib.font_manager:findfont: Font family 'NanumGothic' not found.\n",
            "WARNING:matplotlib.font_manager:findfont: Font family 'NanumGothic' not found.\n",
            "/usr/local/lib/python3.11/dist-packages/IPython/core/pylabtools.py:151: UserWarning: Glyph 44256 (\\N{HANGUL SYLLABLE GO}) missing from font(s) DejaVu Sans.\n",
            "  fig.canvas.print_figure(bytes_io, **kw)\n",
            "/usr/local/lib/python3.11/dist-packages/IPython/core/pylabtools.py:151: UserWarning: Glyph 44061 (\\N{HANGUL SYLLABLE GAEG}) missing from font(s) DejaVu Sans.\n",
            "  fig.canvas.print_figure(bytes_io, **kw)\n",
            "/usr/local/lib/python3.11/dist-packages/IPython/core/pylabtools.py:151: UserWarning: Glyph 49688 (\\N{HANGUL SYLLABLE SU}) missing from font(s) DejaVu Sans.\n",
            "  fig.canvas.print_figure(bytes_io, **kw)\n",
            "WARNING:matplotlib.font_manager:findfont: Font family 'NanumGothic' not found.\n",
            "WARNING:matplotlib.font_manager:findfont: Font family 'NanumGothic' not found.\n",
            "/usr/local/lib/python3.11/dist-packages/IPython/core/pylabtools.py:151: UserWarning: Glyph 48324 (\\N{HANGUL SYLLABLE BYEOL}) missing from font(s) DejaVu Sans.\n",
            "  fig.canvas.print_figure(bytes_io, **kw)\n",
            "/usr/local/lib/python3.11/dist-packages/IPython/core/pylabtools.py:151: UserWarning: Glyph 51060 (\\N{HANGUL SYLLABLE I}) missing from font(s) DejaVu Sans.\n",
            "  fig.canvas.print_figure(bytes_io, **kw)\n",
            "/usr/local/lib/python3.11/dist-packages/IPython/core/pylabtools.py:151: UserWarning: Glyph 50857 (\\N{HANGUL SYLLABLE YONG}) missing from font(s) DejaVu Sans.\n",
            "  fig.canvas.print_figure(bytes_io, **kw)\n",
            "/usr/local/lib/python3.11/dist-packages/IPython/core/pylabtools.py:151: UserWarning: Glyph 44032 (\\N{HANGUL SYLLABLE GA}) missing from font(s) DejaVu Sans.\n",
            "  fig.canvas.print_figure(bytes_io, **kw)\n",
            "/usr/local/lib/python3.11/dist-packages/IPython/core/pylabtools.py:151: UserWarning: Glyph 45733 (\\N{HANGUL SYLLABLE NEUNG}) missing from font(s) DejaVu Sans.\n",
            "  fig.canvas.print_figure(bytes_io, **kw)\n",
            "/usr/local/lib/python3.11/dist-packages/IPython/core/pylabtools.py:151: UserWarning: Glyph 50668 (\\N{HANGUL SYLLABLE YEO}) missing from font(s) DejaVu Sans.\n",
            "  fig.canvas.print_figure(bytes_io, **kw)\n",
            "/usr/local/lib/python3.11/dist-packages/IPython/core/pylabtools.py:151: UserWarning: Glyph 48512 (\\N{HANGUL SYLLABLE BU}) missing from font(s) DejaVu Sans.\n",
            "  fig.canvas.print_figure(bytes_io, **kw)\n",
            "/usr/local/lib/python3.11/dist-packages/IPython/core/pylabtools.py:151: UserWarning: Glyph 48516 (\\N{HANGUL SYLLABLE BUN}) missing from font(s) DejaVu Sans.\n",
            "  fig.canvas.print_figure(bytes_io, **kw)\n",
            "/usr/local/lib/python3.11/dist-packages/IPython/core/pylabtools.py:151: UserWarning: Glyph 54252 (\\N{HANGUL SYLLABLE PO}) missing from font(s) DejaVu Sans.\n",
            "  fig.canvas.print_figure(bytes_io, **kw)\n",
            "WARNING:matplotlib.font_manager:findfont: Font family 'NanumGothic' not found.\n",
            "WARNING:matplotlib.font_manager:findfont: Font family 'NanumGothic' not found.\n",
            "WARNING:matplotlib.font_manager:findfont: Font family 'NanumGothic' not found.\n",
            "WARNING:matplotlib.font_manager:findfont: Font family 'NanumGothic' not found.\n",
            "WARNING:matplotlib.font_manager:findfont: Font family 'NanumGothic' not found.\n",
            "WARNING:matplotlib.font_manager:findfont: Font family 'NanumGothic' not found.\n",
            "WARNING:matplotlib.font_manager:findfont: Font family 'NanumGothic' not found.\n",
            "WARNING:matplotlib.font_manager:findfont: Font family 'NanumGothic' not found.\n",
            "WARNING:matplotlib.font_manager:findfont: Font family 'NanumGothic' not found.\n",
            "WARNING:matplotlib.font_manager:findfont: Font family 'NanumGothic' not found.\n",
            "WARNING:matplotlib.font_manager:findfont: Font family 'NanumGothic' not found.\n",
            "WARNING:matplotlib.font_manager:findfont: Font family 'NanumGothic' not found.\n",
            "WARNING:matplotlib.font_manager:findfont: Font family 'NanumGothic' not found.\n",
            "WARNING:matplotlib.font_manager:findfont: Font family 'NanumGothic' not found.\n",
            "WARNING:matplotlib.font_manager:findfont: Font family 'NanumGothic' not found.\n",
            "WARNING:matplotlib.font_manager:findfont: Font family 'NanumGothic' not found.\n",
            "WARNING:matplotlib.font_manager:findfont: Font family 'NanumGothic' not found.\n",
            "WARNING:matplotlib.font_manager:findfont: Font family 'NanumGothic' not found.\n",
            "WARNING:matplotlib.font_manager:findfont: Font family 'NanumGothic' not found.\n",
            "WARNING:matplotlib.font_manager:findfont: Font family 'NanumGothic' not found.\n",
            "WARNING:matplotlib.font_manager:findfont: Font family 'NanumGothic' not found.\n",
            "WARNING:matplotlib.font_manager:findfont: Font family 'NanumGothic' not found.\n",
            "WARNING:matplotlib.font_manager:findfont: Font family 'NanumGothic' not found.\n",
            "WARNING:matplotlib.font_manager:findfont: Font family 'NanumGothic' not found.\n",
            "WARNING:matplotlib.font_manager:findfont: Font family 'NanumGothic' not found.\n",
            "WARNING:matplotlib.font_manager:findfont: Font family 'NanumGothic' not found.\n",
            "WARNING:matplotlib.font_manager:findfont: Font family 'NanumGothic' not found.\n",
            "WARNING:matplotlib.font_manager:findfont: Font family 'NanumGothic' not found.\n",
            "WARNING:matplotlib.font_manager:findfont: Font family 'NanumGothic' not found.\n",
            "WARNING:matplotlib.font_manager:findfont: Font family 'NanumGothic' not found.\n",
            "WARNING:matplotlib.font_manager:findfont: Font family 'NanumGothic' not found.\n",
            "WARNING:matplotlib.font_manager:findfont: Font family 'NanumGothic' not found.\n",
            "WARNING:matplotlib.font_manager:findfont: Font family 'NanumGothic' not found.\n",
            "WARNING:matplotlib.font_manager:findfont: Font family 'NanumGothic' not found.\n",
            "WARNING:matplotlib.font_manager:findfont: Font family 'NanumGothic' not found.\n",
            "WARNING:matplotlib.font_manager:findfont: Font family 'NanumGothic' not found.\n",
            "WARNING:matplotlib.font_manager:findfont: Font family 'NanumGothic' not found.\n",
            "WARNING:matplotlib.font_manager:findfont: Font family 'NanumGothic' not found.\n",
            "WARNING:matplotlib.font_manager:findfont: Font family 'NanumGothic' not found.\n",
            "WARNING:matplotlib.font_manager:findfont: Font family 'NanumGothic' not found.\n",
            "WARNING:matplotlib.font_manager:findfont: Font family 'NanumGothic' not found.\n",
            "WARNING:matplotlib.font_manager:findfont: Font family 'NanumGothic' not found.\n",
            "WARNING:matplotlib.font_manager:findfont: Font family 'NanumGothic' not found.\n",
            "WARNING:matplotlib.font_manager:findfont: Font family 'NanumGothic' not found.\n",
            "WARNING:matplotlib.font_manager:findfont: Font family 'NanumGothic' not found.\n",
            "WARNING:matplotlib.font_manager:findfont: Font family 'NanumGothic' not found.\n",
            "WARNING:matplotlib.font_manager:findfont: Font family 'NanumGothic' not found.\n",
            "WARNING:matplotlib.font_manager:findfont: Font family 'NanumGothic' not found.\n",
            "WARNING:matplotlib.font_manager:findfont: Font family 'NanumGothic' not found.\n",
            "WARNING:matplotlib.font_manager:findfont: Font family 'NanumGothic' not found.\n",
            "WARNING:matplotlib.font_manager:findfont: Font family 'NanumGothic' not found.\n",
            "WARNING:matplotlib.font_manager:findfont: Font family 'NanumGothic' not found.\n",
            "WARNING:matplotlib.font_manager:findfont: Font family 'NanumGothic' not found.\n",
            "WARNING:matplotlib.font_manager:findfont: Font family 'NanumGothic' not found.\n",
            "WARNING:matplotlib.font_manager:findfont: Font family 'NanumGothic' not found.\n",
            "WARNING:matplotlib.font_manager:findfont: Font family 'NanumGothic' not found.\n",
            "WARNING:matplotlib.font_manager:findfont: Font family 'NanumGothic' not found.\n",
            "WARNING:matplotlib.font_manager:findfont: Font family 'NanumGothic' not found.\n",
            "WARNING:matplotlib.font_manager:findfont: Font family 'NanumGothic' not found.\n",
            "WARNING:matplotlib.font_manager:findfont: Font family 'NanumGothic' not found.\n",
            "WARNING:matplotlib.font_manager:findfont: Font family 'NanumGothic' not found.\n",
            "WARNING:matplotlib.font_manager:findfont: Font family 'NanumGothic' not found.\n",
            "WARNING:matplotlib.font_manager:findfont: Font family 'NanumGothic' not found.\n",
            "WARNING:matplotlib.font_manager:findfont: Font family 'NanumGothic' not found.\n",
            "WARNING:matplotlib.font_manager:findfont: Font family 'NanumGothic' not found.\n",
            "WARNING:matplotlib.font_manager:findfont: Font family 'NanumGothic' not found.\n",
            "WARNING:matplotlib.font_manager:findfont: Font family 'NanumGothic' not found.\n",
            "WARNING:matplotlib.font_manager:findfont: Font family 'NanumGothic' not found.\n",
            "WARNING:matplotlib.font_manager:findfont: Font family 'NanumGothic' not found.\n",
            "WARNING:matplotlib.font_manager:findfont: Font family 'NanumGothic' not found.\n",
            "WARNING:matplotlib.font_manager:findfont: Font family 'NanumGothic' not found.\n",
            "WARNING:matplotlib.font_manager:findfont: Font family 'NanumGothic' not found.\n"
          ]
        },
        {
          "output_type": "display_data",
          "data": {
            "text/plain": [
              "<Figure size 800x500 with 1 Axes>"
            ],
            "image/png": "[encoded data removed]"
          },
          "metadata": {}
        }
      ]
    },
    {
      "cell_type": "markdown",
      "source": [
        "🧠 설명:\n",
        "- 고객이 블랙리스트로 등재되지 않았는지 여부\n",
        "- Segment E에 이용 불가능 비율이 높다면 → 위험군 고객"
      ],
      "metadata": {
        "id": "flxqQ9YM__le"
      }
    },
    {
      "cell_type": "markdown",
      "source": [
        "### 💳 유효/이용가능 신용카드 수 평균"
      ],
      "metadata": {
        "id": "U7ssffbsAJzz"
      }
    },
    {
      "cell_type": "code",
      "source": [
        "card_stats = df.groupby('Segment')[['소지카드수_유효_신용', '소지카드수_이용가능_신용']].mean()\n",
        "card_stats.plot(kind='bar', figsize=(8,5))\n",
        "plt.title(\"Segment별 유효/이용가능 신용카드 수 평균\")\n",
        "plt.ylabel(\"카드 수\")\n",
        "plt.xticks(rotation=0)\n",
        "plt.grid(axis='y')\n",
        "plt.show()"
      ],
      "metadata": {
        "id": "5XgoPhozAMYs",
        "outputId": "7882ecf0-12dc-44eb-e351-2cb259a9d1dc",
        "colab": {
          "base_uri": "https://localhost:8080/",
          "height": 1000
        }
      },
      "execution_count": 11,
      "outputs": [
        {
          "output_type": "stream",
          "name": "stderr",
          "text": [
            "WARNING:matplotlib.font_manager:findfont: Font family 'NanumGothic' not found.\n",
            "WARNING:matplotlib.font_manager:findfont: Font family 'NanumGothic' not found.\n",
            "WARNING:matplotlib.font_manager:findfont: Font family 'NanumGothic' not found.\n",
            "WARNING:matplotlib.font_manager:findfont: Font family 'NanumGothic' not found.\n",
            "WARNING:matplotlib.font_manager:findfont: Font family 'NanumGothic' not found.\n",
            "WARNING:matplotlib.font_manager:findfont: Font family 'NanumGothic' not found.\n",
            "WARNING:matplotlib.font_manager:findfont: Font family 'NanumGothic' not found.\n",
            "/usr/local/lib/python3.11/dist-packages/IPython/core/pylabtools.py:151: UserWarning: Glyph 52852 (\\N{HANGUL SYLLABLE KA}) missing from font(s) DejaVu Sans.\n",
            "  fig.canvas.print_figure(bytes_io, **kw)\n",
            "/usr/local/lib/python3.11/dist-packages/IPython/core/pylabtools.py:151: UserWarning: Glyph 46300 (\\N{HANGUL SYLLABLE DEU}) missing from font(s) DejaVu Sans.\n",
            "  fig.canvas.print_figure(bytes_io, **kw)\n",
            "/usr/local/lib/python3.11/dist-packages/IPython/core/pylabtools.py:151: UserWarning: Glyph 49688 (\\N{HANGUL SYLLABLE SU}) missing from font(s) DejaVu Sans.\n",
            "  fig.canvas.print_figure(bytes_io, **kw)\n",
            "WARNING:matplotlib.font_manager:findfont: Font family 'NanumGothic' not found.\n",
            "WARNING:matplotlib.font_manager:findfont: Font family 'NanumGothic' not found.\n",
            "/usr/local/lib/python3.11/dist-packages/IPython/core/pylabtools.py:151: UserWarning: Glyph 48324 (\\N{HANGUL SYLLABLE BYEOL}) missing from font(s) DejaVu Sans.\n",
            "  fig.canvas.print_figure(bytes_io, **kw)\n",
            "/usr/local/lib/python3.11/dist-packages/IPython/core/pylabtools.py:151: UserWarning: Glyph 50976 (\\N{HANGUL SYLLABLE YU}) missing from font(s) DejaVu Sans.\n",
            "  fig.canvas.print_figure(bytes_io, **kw)\n",
            "/usr/local/lib/python3.11/dist-packages/IPython/core/pylabtools.py:151: UserWarning: Glyph 54952 (\\N{HANGUL SYLLABLE HYO}) missing from font(s) DejaVu Sans.\n",
            "  fig.canvas.print_figure(bytes_io, **kw)\n",
            "/usr/local/lib/python3.11/dist-packages/IPython/core/pylabtools.py:151: UserWarning: Glyph 51060 (\\N{HANGUL SYLLABLE I}) missing from font(s) DejaVu Sans.\n",
            "  fig.canvas.print_figure(bytes_io, **kw)\n",
            "/usr/local/lib/python3.11/dist-packages/IPython/core/pylabtools.py:151: UserWarning: Glyph 50857 (\\N{HANGUL SYLLABLE YONG}) missing from font(s) DejaVu Sans.\n",
            "  fig.canvas.print_figure(bytes_io, **kw)\n",
            "/usr/local/lib/python3.11/dist-packages/IPython/core/pylabtools.py:151: UserWarning: Glyph 44032 (\\N{HANGUL SYLLABLE GA}) missing from font(s) DejaVu Sans.\n",
            "  fig.canvas.print_figure(bytes_io, **kw)\n",
            "/usr/local/lib/python3.11/dist-packages/IPython/core/pylabtools.py:151: UserWarning: Glyph 45733 (\\N{HANGUL SYLLABLE NEUNG}) missing from font(s) DejaVu Sans.\n",
            "  fig.canvas.print_figure(bytes_io, **kw)\n",
            "/usr/local/lib/python3.11/dist-packages/IPython/core/pylabtools.py:151: UserWarning: Glyph 49888 (\\N{HANGUL SYLLABLE SIN}) missing from font(s) DejaVu Sans.\n",
            "  fig.canvas.print_figure(bytes_io, **kw)\n",
            "/usr/local/lib/python3.11/dist-packages/IPython/core/pylabtools.py:151: UserWarning: Glyph 54217 (\\N{HANGUL SYLLABLE PYEONG}) missing from font(s) DejaVu Sans.\n",
            "  fig.canvas.print_figure(bytes_io, **kw)\n",
            "/usr/local/lib/python3.11/dist-packages/IPython/core/pylabtools.py:151: UserWarning: Glyph 44512 (\\N{HANGUL SYLLABLE GYUN}) missing from font(s) DejaVu Sans.\n",
            "  fig.canvas.print_figure(bytes_io, **kw)\n",
            "WARNING:matplotlib.font_manager:findfont: Font family 'NanumGothic' not found.\n",
            "WARNING:matplotlib.font_manager:findfont: Font family 'NanumGothic' not found.\n",
            "WARNING:matplotlib.font_manager:findfont: Font family 'NanumGothic' not found.\n",
            "WARNING:matplotlib.font_manager:findfont: Font family 'NanumGothic' not found.\n",
            "WARNING:matplotlib.font_manager:findfont: Font family 'NanumGothic' not found.\n",
            "WARNING:matplotlib.font_manager:findfont: Font family 'NanumGothic' not found.\n",
            "WARNING:matplotlib.font_manager:findfont: Font family 'NanumGothic' not found.\n",
            "WARNING:matplotlib.font_manager:findfont: Font family 'NanumGothic' not found.\n",
            "/usr/local/lib/python3.11/dist-packages/IPython/core/pylabtools.py:151: UserWarning: Glyph 49548 (\\N{HANGUL SYLLABLE SO}) missing from font(s) DejaVu Sans.\n",
            "  fig.canvas.print_figure(bytes_io, **kw)\n",
            "/usr/local/lib/python3.11/dist-packages/IPython/core/pylabtools.py:151: UserWarning: Glyph 51648 (\\N{HANGUL SYLLABLE JI}) missing from font(s) DejaVu Sans.\n",
            "  fig.canvas.print_figure(bytes_io, **kw)\n",
            "WARNING:matplotlib.font_manager:findfont: Font family 'NanumGothic' not found.\n",
            "WARNING:matplotlib.font_manager:findfont: Font family 'NanumGothic' not found.\n",
            "WARNING:matplotlib.font_manager:findfont: Font family 'NanumGothic' not found.\n",
            "WARNING:matplotlib.font_manager:findfont: Font family 'NanumGothic' not found.\n",
            "WARNING:matplotlib.font_manager:findfont: Font family 'NanumGothic' not found.\n",
            "WARNING:matplotlib.font_manager:findfont: Font family 'NanumGothic' not found.\n",
            "WARNING:matplotlib.font_manager:findfont: Font family 'NanumGothic' not found.\n",
            "WARNING:matplotlib.font_manager:findfont: Font family 'NanumGothic' not found.\n",
            "WARNING:matplotlib.font_manager:findfont: Font family 'NanumGothic' not found.\n",
            "WARNING:matplotlib.font_manager:findfont: Font family 'NanumGothic' not found.\n",
            "WARNING:matplotlib.font_manager:findfont: Font family 'NanumGothic' not found.\n",
            "WARNING:matplotlib.font_manager:findfont: Font family 'NanumGothic' not found.\n",
            "WARNING:matplotlib.font_manager:findfont: Font family 'NanumGothic' not found.\n",
            "WARNING:matplotlib.font_manager:findfont: Font family 'NanumGothic' not found.\n",
            "WARNING:matplotlib.font_manager:findfont: Font family 'NanumGothic' not found.\n",
            "WARNING:matplotlib.font_manager:findfont: Font family 'NanumGothic' not found.\n",
            "WARNING:matplotlib.font_manager:findfont: Font family 'NanumGothic' not found.\n",
            "WARNING:matplotlib.font_manager:findfont: Font family 'NanumGothic' not found.\n",
            "WARNING:matplotlib.font_manager:findfont: Font family 'NanumGothic' not found.\n",
            "WARNING:matplotlib.font_manager:findfont: Font family 'NanumGothic' not found.\n",
            "WARNING:matplotlib.font_manager:findfont: Font family 'NanumGothic' not found.\n",
            "WARNING:matplotlib.font_manager:findfont: Font family 'NanumGothic' not found.\n",
            "WARNING:matplotlib.font_manager:findfont: Font family 'NanumGothic' not found.\n",
            "WARNING:matplotlib.font_manager:findfont: Font family 'NanumGothic' not found.\n",
            "WARNING:matplotlib.font_manager:findfont: Font family 'NanumGothic' not found.\n",
            "WARNING:matplotlib.font_manager:findfont: Font family 'NanumGothic' not found.\n",
            "WARNING:matplotlib.font_manager:findfont: Font family 'NanumGothic' not found.\n",
            "WARNING:matplotlib.font_manager:findfont: Font family 'NanumGothic' not found.\n",
            "WARNING:matplotlib.font_manager:findfont: Font family 'NanumGothic' not found.\n",
            "WARNING:matplotlib.font_manager:findfont: Font family 'NanumGothic' not found.\n",
            "WARNING:matplotlib.font_manager:findfont: Font family 'NanumGothic' not found.\n",
            "WARNING:matplotlib.font_manager:findfont: Font family 'NanumGothic' not found.\n",
            "WARNING:matplotlib.font_manager:findfont: Font family 'NanumGothic' not found.\n",
            "WARNING:matplotlib.font_manager:findfont: Font family 'NanumGothic' not found.\n",
            "WARNING:matplotlib.font_manager:findfont: Font family 'NanumGothic' not found.\n",
            "WARNING:matplotlib.font_manager:findfont: Font family 'NanumGothic' not found.\n",
            "WARNING:matplotlib.font_manager:findfont: Font family 'NanumGothic' not found.\n",
            "WARNING:matplotlib.font_manager:findfont: Font family 'NanumGothic' not found.\n",
            "WARNING:matplotlib.font_manager:findfont: Font family 'NanumGothic' not found.\n",
            "WARNING:matplotlib.font_manager:findfont: Font family 'NanumGothic' not found.\n",
            "WARNING:matplotlib.font_manager:findfont: Font family 'NanumGothic' not found.\n",
            "WARNING:matplotlib.font_manager:findfont: Font family 'NanumGothic' not found.\n",
            "WARNING:matplotlib.font_manager:findfont: Font family 'NanumGothic' not found.\n",
            "WARNING:matplotlib.font_manager:findfont: Font family 'NanumGothic' not found.\n",
            "WARNING:matplotlib.font_manager:findfont: Font family 'NanumGothic' not found.\n",
            "WARNING:matplotlib.font_manager:findfont: Font family 'NanumGothic' not found.\n",
            "WARNING:matplotlib.font_manager:findfont: Font family 'NanumGothic' not found.\n",
            "WARNING:matplotlib.font_manager:findfont: Font family 'NanumGothic' not found.\n",
            "WARNING:matplotlib.font_manager:findfont: Font family 'NanumGothic' not found.\n",
            "WARNING:matplotlib.font_manager:findfont: Font family 'NanumGothic' not found.\n",
            "WARNING:matplotlib.font_manager:findfont: Font family 'NanumGothic' not found.\n",
            "WARNING:matplotlib.font_manager:findfont: Font family 'NanumGothic' not found.\n",
            "WARNING:matplotlib.font_manager:findfont: Font family 'NanumGothic' not found.\n",
            "WARNING:matplotlib.font_manager:findfont: Font family 'NanumGothic' not found.\n"
          ]
        },
        {
          "output_type": "display_data",
          "data": {
            "text/plain": [
              "<Figure size 800x500 with 1 Axes>"
            ],
            "image/png": "[encoded data removed]"
          },
          "metadata": {}
        }
      ]
    },
    {
      "cell_type": "markdown",
      "source": [
        "🧠 설명:\n",
        "\n",
        "- Segment별 카드 소지 및 실제 사용 가능 수 비교\n",
        "- A~C 그룹은 카드 수가 많고, E는 적을 가능성 있음"
      ],
      "metadata": {
        "id": "lLPV-ACuAN_7"
      }
    },
    {
      "cell_type": "markdown",
      "source": [
        "### ⏱ Segment별 카드 입회 경과 개월 수"
      ],
      "metadata": {
        "id": "A-Q0zIMPAVcC"
      }
    },
    {
      "cell_type": "code",
      "source": [
        "plt.figure(figsize=(8,5))\n",
        "sns.boxplot(x='Segment', y='입회경과개월수_신용', data=df)\n",
        "plt.title(\"Segment별 신용카드 입회 경과 개월 수\")\n",
        "plt.xlabel(\"Segment\")\n",
        "plt.ylabel(\"개월 수\")\n",
        "plt.show()"
      ],
      "metadata": {
        "id": "2Oomc5hdAWne",
        "outputId": "e1ee5d7b-dd7d-481e-9d5d-6d9555ccb38c",
        "colab": {
          "base_uri": "https://localhost:8080/",
          "height": 1000
        }
      },
      "execution_count": 12,
      "outputs": [
        {
          "output_type": "stream",
          "name": "stderr",
          "text": [
            "WARNING:matplotlib.font_manager:findfont: Font family 'NanumGothic' not found.\n",
            "WARNING:matplotlib.font_manager:findfont: Font family 'NanumGothic' not found.\n",
            "WARNING:matplotlib.font_manager:findfont: Font family 'NanumGothic' not found.\n",
            "WARNING:matplotlib.font_manager:findfont: Font family 'NanumGothic' not found.\n",
            "WARNING:matplotlib.font_manager:findfont: Font family 'NanumGothic' not found.\n",
            "WARNING:matplotlib.font_manager:findfont: Font family 'NanumGothic' not found.\n",
            "WARNING:matplotlib.font_manager:findfont: Font family 'NanumGothic' not found.\n",
            "WARNING:matplotlib.font_manager:findfont: Font family 'NanumGothic' not found.\n",
            "WARNING:matplotlib.font_manager:findfont: Font family 'NanumGothic' not found.\n",
            "WARNING:matplotlib.font_manager:findfont: Font family 'NanumGothic' not found.\n",
            "/usr/local/lib/python3.11/dist-packages/IPython/core/pylabtools.py:151: UserWarning: Glyph 44060 (\\N{HANGUL SYLLABLE GAE}) missing from font(s) DejaVu Sans.\n",
            "  fig.canvas.print_figure(bytes_io, **kw)\n",
            "/usr/local/lib/python3.11/dist-packages/IPython/core/pylabtools.py:151: UserWarning: Glyph 50900 (\\N{HANGUL SYLLABLE WEOL}) missing from font(s) DejaVu Sans.\n",
            "  fig.canvas.print_figure(bytes_io, **kw)\n",
            "/usr/local/lib/python3.11/dist-packages/IPython/core/pylabtools.py:151: UserWarning: Glyph 49688 (\\N{HANGUL SYLLABLE SU}) missing from font(s) DejaVu Sans.\n",
            "  fig.canvas.print_figure(bytes_io, **kw)\n",
            "WARNING:matplotlib.font_manager:findfont: Font family 'NanumGothic' not found.\n",
            "WARNING:matplotlib.font_manager:findfont: Font family 'NanumGothic' not found.\n",
            "/usr/local/lib/python3.11/dist-packages/IPython/core/pylabtools.py:151: UserWarning: Glyph 48324 (\\N{HANGUL SYLLABLE BYEOL}) missing from font(s) DejaVu Sans.\n",
            "  fig.canvas.print_figure(bytes_io, **kw)\n",
            "/usr/local/lib/python3.11/dist-packages/IPython/core/pylabtools.py:151: UserWarning: Glyph 49888 (\\N{HANGUL SYLLABLE SIN}) missing from font(s) DejaVu Sans.\n",
            "  fig.canvas.print_figure(bytes_io, **kw)\n",
            "/usr/local/lib/python3.11/dist-packages/IPython/core/pylabtools.py:151: UserWarning: Glyph 50857 (\\N{HANGUL SYLLABLE YONG}) missing from font(s) DejaVu Sans.\n",
            "  fig.canvas.print_figure(bytes_io, **kw)\n",
            "/usr/local/lib/python3.11/dist-packages/IPython/core/pylabtools.py:151: UserWarning: Glyph 52852 (\\N{HANGUL SYLLABLE KA}) missing from font(s) DejaVu Sans.\n",
            "  fig.canvas.print_figure(bytes_io, **kw)\n",
            "/usr/local/lib/python3.11/dist-packages/IPython/core/pylabtools.py:151: UserWarning: Glyph 46300 (\\N{HANGUL SYLLABLE DEU}) missing from font(s) DejaVu Sans.\n",
            "  fig.canvas.print_figure(bytes_io, **kw)\n",
            "/usr/local/lib/python3.11/dist-packages/IPython/core/pylabtools.py:151: UserWarning: Glyph 51077 (\\N{HANGUL SYLLABLE IB}) missing from font(s) DejaVu Sans.\n",
            "  fig.canvas.print_figure(bytes_io, **kw)\n",
            "/usr/local/lib/python3.11/dist-packages/IPython/core/pylabtools.py:151: UserWarning: Glyph 54924 (\\N{HANGUL SYLLABLE HOE}) missing from font(s) DejaVu Sans.\n",
            "  fig.canvas.print_figure(bytes_io, **kw)\n",
            "/usr/local/lib/python3.11/dist-packages/IPython/core/pylabtools.py:151: UserWarning: Glyph 44221 (\\N{HANGUL SYLLABLE GYEONG}) missing from font(s) DejaVu Sans.\n",
            "  fig.canvas.print_figure(bytes_io, **kw)\n",
            "/usr/local/lib/python3.11/dist-packages/IPython/core/pylabtools.py:151: UserWarning: Glyph 44284 (\\N{HANGUL SYLLABLE GWA}) missing from font(s) DejaVu Sans.\n",
            "  fig.canvas.print_figure(bytes_io, **kw)\n",
            "WARNING:matplotlib.font_manager:findfont: Font family 'NanumGothic' not found.\n",
            "WARNING:matplotlib.font_manager:findfont: Font family 'NanumGothic' not found.\n",
            "WARNING:matplotlib.font_manager:findfont: Font family 'NanumGothic' not found.\n",
            "WARNING:matplotlib.font_manager:findfont: Font family 'NanumGothic' not found.\n",
            "WARNING:matplotlib.font_manager:findfont: Font family 'NanumGothic' not found.\n",
            "WARNING:matplotlib.font_manager:findfont: Font family 'NanumGothic' not found.\n",
            "WARNING:matplotlib.font_manager:findfont: Font family 'NanumGothic' not found.\n",
            "WARNING:matplotlib.font_manager:findfont: Font family 'NanumGothic' not found.\n",
            "WARNING:matplotlib.font_manager:findfont: Font family 'NanumGothic' not found.\n",
            "WARNING:matplotlib.font_manager:findfont: Font family 'NanumGothic' not found.\n",
            "WARNING:matplotlib.font_manager:findfont: Font family 'NanumGothic' not found.\n",
            "WARNING:matplotlib.font_manager:findfont: Font family 'NanumGothic' not found.\n",
            "WARNING:matplotlib.font_manager:findfont: Font family 'NanumGothic' not found.\n",
            "WARNING:matplotlib.font_manager:findfont: Font family 'NanumGothic' not found.\n",
            "WARNING:matplotlib.font_manager:findfont: Font family 'NanumGothic' not found.\n",
            "WARNING:matplotlib.font_manager:findfont: Font family 'NanumGothic' not found.\n",
            "WARNING:matplotlib.font_manager:findfont: Font family 'NanumGothic' not found.\n",
            "WARNING:matplotlib.font_manager:findfont: Font family 'NanumGothic' not found.\n",
            "WARNING:matplotlib.font_manager:findfont: Font family 'NanumGothic' not found.\n",
            "WARNING:matplotlib.font_manager:findfont: Font family 'NanumGothic' not found.\n",
            "WARNING:matplotlib.font_manager:findfont: Font family 'NanumGothic' not found.\n",
            "WARNING:matplotlib.font_manager:findfont: Font family 'NanumGothic' not found.\n",
            "WARNING:matplotlib.font_manager:findfont: Font family 'NanumGothic' not found.\n",
            "WARNING:matplotlib.font_manager:findfont: Font family 'NanumGothic' not found.\n",
            "WARNING:matplotlib.font_manager:findfont: Font family 'NanumGothic' not found.\n",
            "WARNING:matplotlib.font_manager:findfont: Font family 'NanumGothic' not found.\n",
            "WARNING:matplotlib.font_manager:findfont: Font family 'NanumGothic' not found.\n",
            "WARNING:matplotlib.font_manager:findfont: Font family 'NanumGothic' not found.\n",
            "WARNING:matplotlib.font_manager:findfont: Font family 'NanumGothic' not found.\n",
            "WARNING:matplotlib.font_manager:findfont: Font family 'NanumGothic' not found.\n",
            "WARNING:matplotlib.font_manager:findfont: Font family 'NanumGothic' not found.\n",
            "WARNING:matplotlib.font_manager:findfont: Font family 'NanumGothic' not found.\n",
            "WARNING:matplotlib.font_manager:findfont: Font family 'NanumGothic' not found.\n",
            "WARNING:matplotlib.font_manager:findfont: Font family 'NanumGothic' not found.\n",
            "WARNING:matplotlib.font_manager:findfont: Font family 'NanumGothic' not found.\n",
            "WARNING:matplotlib.font_manager:findfont: Font family 'NanumGothic' not found.\n",
            "WARNING:matplotlib.font_manager:findfont: Font family 'NanumGothic' not found.\n",
            "WARNING:matplotlib.font_manager:findfont: Font family 'NanumGothic' not found.\n",
            "WARNING:matplotlib.font_manager:findfont: Font family 'NanumGothic' not found.\n",
            "WARNING:matplotlib.font_manager:findfont: Font family 'NanumGothic' not found.\n"
          ]
        },
        {
          "output_type": "display_data",
          "data": {
            "text/plain": [
              "<Figure size 800x500 with 1 Axes>"
            ],
            "image/png": "[encoded data removed]"
          },
          "metadata": {}
        }
      ]
    },
    {
      "cell_type": "markdown",
      "source": [
        "🧠 설명:\n",
        "\n",
        "- 장기 고객과 신규 고객을 나누는 지표\n",
        "- A는 오래된 고객, E는 신규일 가능성?"
      ],
      "metadata": {
        "id": "f6dcSDZ3AZwY"
      }
    },
    {
      "cell_type": "markdown",
      "source": [
        "### 📩 Segment별 마케팅 동의율"
      ],
      "metadata": {
        "id": "Kfnr1EX5AgQH"
      }
    },
    {
      "cell_type": "code",
      "source": [
        "marketing_rate = df.groupby(\"Segment\")[\"마케팅동의여부\"].mean()\n",
        "print(marketing_rate)"
      ],
      "metadata": {
        "id": "mx6RdvQiAhV9",
        "outputId": "4cdbbf39-d251-4ef4-8176-72f3e5e23988",
        "colab": {
          "base_uri": "https://localhost:8080/"
        }
      },
      "execution_count": 13,
      "outputs": [
        {
          "output_type": "stream",
          "name": "stdout",
          "text": [
            "Segment\n",
            "A    0.753086\n",
            "B    0.875000\n",
            "C    0.754667\n",
            "D    0.777175\n",
            "E    0.818313\n",
            "Name: 마케팅동의여부, dtype: float64\n"
          ]
        }
      ]
    },
    {
      "cell_type": "markdown",
      "source": [
        "🧠 설명:\n",
        "- 마케팅 수신 동의율이 높은 Segment는 고객 접촉 가능성 높음\n",
        "- 마케팅 전략 수립에 활용 가능"
      ],
      "metadata": {
        "id": "VLrNgCKVAljN"
      }
    },
    {
      "cell_type": "markdown",
      "source": [
        "### 👣 Segment별 생애주기 (Life Stage)"
      ],
      "metadata": {
        "id": "FCiAK4FoAqpl"
      }
    },
    {
      "cell_type": "code",
      "source": [
        "plt.figure(figsize=(10,6))\n",
        "sns.countplot(x='Life_Stage', hue='Segment', data=df)\n",
        "plt.title(\"Segment별 생애주기(Life Stage) 분포\")\n",
        "plt.xlabel(\"Life Stage\")\n",
        "plt.ylabel(\"고객 수\")\n",
        "plt.xticks(rotation=45)\n",
        "plt.legend(title=\"Segment\")\n",
        "plt.tight_layout()\n",
        "plt.show()"
      ],
      "metadata": {
        "id": "lHDEKCFAArXg",
        "outputId": "000c8fc8-1acf-4a04-f931-378901944195",
        "colab": {
          "base_uri": "https://localhost:8080/",
          "height": 1000
        }
      },
      "execution_count": 14,
      "outputs": [
        {
          "output_type": "stream",
          "name": "stderr",
          "text": [
            "WARNING:matplotlib.font_manager:findfont: Font family 'NanumGothic' not found.\n",
            "WARNING:matplotlib.font_manager:findfont: Font family 'NanumGothic' not found.\n",
            "<ipython-input-14-1151e553a0e1>:8: UserWarning: Glyph 51088 (\\N{HANGUL SYLLABLE JA}) missing from font(s) DejaVu Sans.\n",
            "  plt.tight_layout()\n",
            "<ipython-input-14-1151e553a0e1>:8: UserWarning: Glyph 45376 (\\N{HANGUL SYLLABLE NYEO}) missing from font(s) DejaVu Sans.\n",
            "  plt.tight_layout()\n",
            "<ipython-input-14-1151e553a0e1>:8: UserWarning: Glyph 49457 (\\N{HANGUL SYLLABLE SEONG}) missing from font(s) DejaVu Sans.\n",
            "  plt.tight_layout()\n",
            "<ipython-input-14-1151e553a0e1>:8: UserWarning: Glyph 51109 (\\N{HANGUL SYLLABLE JANG}) missing from font(s) DejaVu Sans.\n",
            "  plt.tight_layout()\n",
            "WARNING:matplotlib.font_manager:findfont: Font family 'NanumGothic' not found.\n",
            "WARNING:matplotlib.font_manager:findfont: Font family 'NanumGothic' not found.\n",
            "<ipython-input-14-1151e553a0e1>:8: UserWarning: Glyph 52636 (\\N{HANGUL SYLLABLE CUL}) missing from font(s) DejaVu Sans.\n",
            "  plt.tight_layout()\n",
            "<ipython-input-14-1151e553a0e1>:8: UserWarning: Glyph 49328 (\\N{HANGUL SYLLABLE SAN}) missing from font(s) DejaVu Sans.\n",
            "  plt.tight_layout()\n",
            "<ipython-input-14-1151e553a0e1>:8: UserWarning: Glyph 44592 (\\N{HANGUL SYLLABLE GI}) missing from font(s) DejaVu Sans.\n",
            "  plt.tight_layout()\n",
            "WARNING:matplotlib.font_manager:findfont: Font family 'NanumGothic' not found.\n",
            "<ipython-input-14-1151e553a0e1>:8: UserWarning: Glyph 46021 (\\N{HANGUL SYLLABLE DOG}) missing from font(s) DejaVu Sans.\n",
            "  plt.tight_layout()\n",
            "<ipython-input-14-1151e553a0e1>:8: UserWarning: Glyph 49888 (\\N{HANGUL SYLLABLE SIN}) missing from font(s) DejaVu Sans.\n",
            "  plt.tight_layout()\n",
            "WARNING:matplotlib.font_manager:findfont: Font family 'NanumGothic' not found.\n",
            "<ipython-input-14-1151e553a0e1>:8: UserWarning: Glyph 45432 (\\N{HANGUL SYLLABLE NO}) missing from font(s) DejaVu Sans.\n",
            "  plt.tight_layout()\n",
            "<ipython-input-14-1151e553a0e1>:8: UserWarning: Glyph 45380 (\\N{HANGUL SYLLABLE NYEON}) missing from font(s) DejaVu Sans.\n",
            "  plt.tight_layout()\n",
            "<ipython-input-14-1151e553a0e1>:8: UserWarning: Glyph 49373 (\\N{HANGUL SYLLABLE SAENG}) missing from font(s) DejaVu Sans.\n",
            "  plt.tight_layout()\n",
            "<ipython-input-14-1151e553a0e1>:8: UserWarning: Glyph 54876 (\\N{HANGUL SYLLABLE HWAL}) missing from font(s) DejaVu Sans.\n",
            "  plt.tight_layout()\n",
            "WARNING:matplotlib.font_manager:findfont: Font family 'NanumGothic' not found.\n",
            "<ipython-input-14-1151e553a0e1>:8: UserWarning: Glyph 44032 (\\N{HANGUL SYLLABLE GA}) missing from font(s) DejaVu Sans.\n",
            "  plt.tight_layout()\n",
            "<ipython-input-14-1151e553a0e1>:8: UserWarning: Glyph 51313 (\\N{HANGUL SYLLABLE JOG}) missing from font(s) DejaVu Sans.\n",
            "  plt.tight_layout()\n",
            "<ipython-input-14-1151e553a0e1>:8: UserWarning: Glyph 44396 (\\N{HANGUL SYLLABLE GU}) missing from font(s) DejaVu Sans.\n",
            "  plt.tight_layout()\n",
            "<ipython-input-14-1151e553a0e1>:8: UserWarning: Glyph 52629 (\\N{HANGUL SYLLABLE CUG}) missing from font(s) DejaVu Sans.\n",
            "  plt.tight_layout()\n",
            "WARNING:matplotlib.font_manager:findfont: Font family 'NanumGothic' not found.\n",
            "<ipython-input-14-1151e553a0e1>:8: UserWarning: Glyph 47549 (\\N{HANGUL SYLLABLE RIB}) missing from font(s) DejaVu Sans.\n",
            "  plt.tight_layout()\n",
            "WARNING:matplotlib.font_manager:findfont: Font family 'NanumGothic' not found.\n",
            "WARNING:matplotlib.font_manager:findfont: Font family 'NanumGothic' not found.\n",
            "WARNING:matplotlib.font_manager:findfont: Font family 'NanumGothic' not found.\n",
            "WARNING:matplotlib.font_manager:findfont: Font family 'NanumGothic' not found.\n",
            "WARNING:matplotlib.font_manager:findfont: Font family 'NanumGothic' not found.\n",
            "WARNING:matplotlib.font_manager:findfont: Font family 'NanumGothic' not found.\n",
            "WARNING:matplotlib.font_manager:findfont: Font family 'NanumGothic' not found.\n",
            "WARNING:matplotlib.font_manager:findfont: Font family 'NanumGothic' not found.\n",
            "<ipython-input-14-1151e553a0e1>:8: UserWarning: Glyph 44256 (\\N{HANGUL SYLLABLE GO}) missing from font(s) DejaVu Sans.\n",
            "  plt.tight_layout()\n",
            "<ipython-input-14-1151e553a0e1>:8: UserWarning: Glyph 44061 (\\N{HANGUL SYLLABLE GAEG}) missing from font(s) DejaVu Sans.\n",
            "  plt.tight_layout()\n",
            "<ipython-input-14-1151e553a0e1>:8: UserWarning: Glyph 49688 (\\N{HANGUL SYLLABLE SU}) missing from font(s) DejaVu Sans.\n",
            "  plt.tight_layout()\n",
            "WARNING:matplotlib.font_manager:findfont: Font family 'NanumGothic' not found.\n",
            "WARNING:matplotlib.font_manager:findfont: Font family 'NanumGothic' not found.\n",
            "<ipython-input-14-1151e553a0e1>:8: UserWarning: Glyph 48324 (\\N{HANGUL SYLLABLE BYEOL}) missing from font(s) DejaVu Sans.\n",
            "  plt.tight_layout()\n",
            "<ipython-input-14-1151e553a0e1>:8: UserWarning: Glyph 50528 (\\N{HANGUL SYLLABLE AE}) missing from font(s) DejaVu Sans.\n",
            "  plt.tight_layout()\n",
            "<ipython-input-14-1151e553a0e1>:8: UserWarning: Glyph 51452 (\\N{HANGUL SYLLABLE JU}) missing from font(s) DejaVu Sans.\n",
            "  plt.tight_layout()\n",
            "<ipython-input-14-1151e553a0e1>:8: UserWarning: Glyph 48516 (\\N{HANGUL SYLLABLE BUN}) missing from font(s) DejaVu Sans.\n",
            "  plt.tight_layout()\n",
            "<ipython-input-14-1151e553a0e1>:8: UserWarning: Glyph 54252 (\\N{HANGUL SYLLABLE PO}) missing from font(s) DejaVu Sans.\n",
            "  plt.tight_layout()\n",
            "WARNING:matplotlib.font_manager:findfont: Font family 'NanumGothic' not found.\n",
            "WARNING:matplotlib.font_manager:findfont: Font family 'NanumGothic' not found.\n",
            "WARNING:matplotlib.font_manager:findfont: Font family 'NanumGothic' not found.\n",
            "WARNING:matplotlib.font_manager:findfont: Font family 'NanumGothic' not found.\n",
            "WARNING:matplotlib.font_manager:findfont: Font family 'NanumGothic' not found.\n",
            "WARNING:matplotlib.font_manager:findfont: Font family 'NanumGothic' not found.\n",
            "WARNING:matplotlib.font_manager:findfont: Font family 'NanumGothic' not found.\n",
            "WARNING:matplotlib.font_manager:findfont: Font family 'NanumGothic' not found.\n",
            "WARNING:matplotlib.font_manager:findfont: Font family 'NanumGothic' not found.\n",
            "WARNING:matplotlib.font_manager:findfont: Font family 'NanumGothic' not found.\n",
            "WARNING:matplotlib.font_manager:findfont: Font family 'NanumGothic' not found.\n",
            "WARNING:matplotlib.font_manager:findfont: Font family 'NanumGothic' not found.\n",
            "WARNING:matplotlib.font_manager:findfont: Font family 'NanumGothic' not found.\n",
            "WARNING:matplotlib.font_manager:findfont: Font family 'NanumGothic' not found.\n",
            "WARNING:matplotlib.font_manager:findfont: Font family 'NanumGothic' not found.\n",
            "WARNING:matplotlib.font_manager:findfont: Font family 'NanumGothic' not found.\n",
            "WARNING:matplotlib.font_manager:findfont: Font family 'NanumGothic' not found.\n",
            "WARNING:matplotlib.font_manager:findfont: Font family 'NanumGothic' not found.\n",
            "WARNING:matplotlib.font_manager:findfont: Font family 'NanumGothic' not found.\n",
            "WARNING:matplotlib.font_manager:findfont: Font family 'NanumGothic' not found.\n",
            "WARNING:matplotlib.font_manager:findfont: Font family 'NanumGothic' not found.\n",
            "WARNING:matplotlib.font_manager:findfont: Font family 'NanumGothic' not found.\n",
            "WARNING:matplotlib.font_manager:findfont: Font family 'NanumGothic' not found.\n",
            "WARNING:matplotlib.font_manager:findfont: Font family 'NanumGothic' not found.\n",
            "WARNING:matplotlib.font_manager:findfont: Font family 'NanumGothic' not found.\n",
            "WARNING:matplotlib.font_manager:findfont: Font family 'NanumGothic' not found.\n",
            "WARNING:matplotlib.font_manager:findfont: Font family 'NanumGothic' not found.\n",
            "WARNING:matplotlib.font_manager:findfont: Font family 'NanumGothic' not found.\n",
            "WARNING:matplotlib.font_manager:findfont: Font family 'NanumGothic' not found.\n",
            "WARNING:matplotlib.font_manager:findfont: Font family 'NanumGothic' not found.\n",
            "WARNING:matplotlib.font_manager:findfont: Font family 'NanumGothic' not found.\n",
            "WARNING:matplotlib.font_manager:findfont: Font family 'NanumGothic' not found.\n",
            "WARNING:matplotlib.font_manager:findfont: Font family 'NanumGothic' not found.\n",
            "WARNING:matplotlib.font_manager:findfont: Font family 'NanumGothic' not found.\n",
            "WARNING:matplotlib.font_manager:findfont: Font family 'NanumGothic' not found.\n",
            "WARNING:matplotlib.font_manager:findfont: Font family 'NanumGothic' not found.\n",
            "WARNING:matplotlib.font_manager:findfont: Font family 'NanumGothic' not found.\n",
            "WARNING:matplotlib.font_manager:findfont: Font family 'NanumGothic' not found.\n",
            "WARNING:matplotlib.font_manager:findfont: Font family 'NanumGothic' not found.\n",
            "WARNING:matplotlib.font_manager:findfont: Font family 'NanumGothic' not found.\n",
            "WARNING:matplotlib.font_manager:findfont: Font family 'NanumGothic' not found.\n",
            "WARNING:matplotlib.font_manager:findfont: Font family 'NanumGothic' not found.\n",
            "WARNING:matplotlib.font_manager:findfont: Font family 'NanumGothic' not found.\n",
            "WARNING:matplotlib.font_manager:findfont: Font family 'NanumGothic' not found.\n",
            "WARNING:matplotlib.font_manager:findfont: Font family 'NanumGothic' not found.\n",
            "WARNING:matplotlib.font_manager:findfont: Font family 'NanumGothic' not found.\n",
            "WARNING:matplotlib.font_manager:findfont: Font family 'NanumGothic' not found.\n",
            "WARNING:matplotlib.font_manager:findfont: Font family 'NanumGothic' not found.\n",
            "WARNING:matplotlib.font_manager:findfont: Font family 'NanumGothic' not found.\n",
            "WARNING:matplotlib.font_manager:findfont: Font family 'NanumGothic' not found.\n",
            "WARNING:matplotlib.font_manager:findfont: Font family 'NanumGothic' not found.\n",
            "WARNING:matplotlib.font_manager:findfont: Font family 'NanumGothic' not found.\n",
            "WARNING:matplotlib.font_manager:findfont: Font family 'NanumGothic' not found.\n",
            "/usr/local/lib/python3.11/dist-packages/IPython/core/pylabtools.py:151: UserWarning: Glyph 44256 (\\N{HANGUL SYLLABLE GO}) missing from font(s) DejaVu Sans.\n",
            "  fig.canvas.print_figure(bytes_io, **kw)\n",
            "/usr/local/lib/python3.11/dist-packages/IPython/core/pylabtools.py:151: UserWarning: Glyph 44061 (\\N{HANGUL SYLLABLE GAEG}) missing from font(s) DejaVu Sans.\n",
            "  fig.canvas.print_figure(bytes_io, **kw)\n",
            "/usr/local/lib/python3.11/dist-packages/IPython/core/pylabtools.py:151: UserWarning: Glyph 49688 (\\N{HANGUL SYLLABLE SU}) missing from font(s) DejaVu Sans.\n",
            "  fig.canvas.print_figure(bytes_io, **kw)\n",
            "WARNING:matplotlib.font_manager:findfont: Font family 'NanumGothic' not found.\n",
            "WARNING:matplotlib.font_manager:findfont: Font family 'NanumGothic' not found.\n",
            "/usr/local/lib/python3.11/dist-packages/IPython/core/pylabtools.py:151: UserWarning: Glyph 48324 (\\N{HANGUL SYLLABLE BYEOL}) missing from font(s) DejaVu Sans.\n",
            "  fig.canvas.print_figure(bytes_io, **kw)\n",
            "/usr/local/lib/python3.11/dist-packages/IPython/core/pylabtools.py:151: UserWarning: Glyph 49373 (\\N{HANGUL SYLLABLE SAENG}) missing from font(s) DejaVu Sans.\n",
            "  fig.canvas.print_figure(bytes_io, **kw)\n",
            "/usr/local/lib/python3.11/dist-packages/IPython/core/pylabtools.py:151: UserWarning: Glyph 50528 (\\N{HANGUL SYLLABLE AE}) missing from font(s) DejaVu Sans.\n",
            "  fig.canvas.print_figure(bytes_io, **kw)\n",
            "/usr/local/lib/python3.11/dist-packages/IPython/core/pylabtools.py:151: UserWarning: Glyph 51452 (\\N{HANGUL SYLLABLE JU}) missing from font(s) DejaVu Sans.\n",
            "  fig.canvas.print_figure(bytes_io, **kw)\n",
            "/usr/local/lib/python3.11/dist-packages/IPython/core/pylabtools.py:151: UserWarning: Glyph 44592 (\\N{HANGUL SYLLABLE GI}) missing from font(s) DejaVu Sans.\n",
            "  fig.canvas.print_figure(bytes_io, **kw)\n",
            "/usr/local/lib/python3.11/dist-packages/IPython/core/pylabtools.py:151: UserWarning: Glyph 48516 (\\N{HANGUL SYLLABLE BUN}) missing from font(s) DejaVu Sans.\n",
            "  fig.canvas.print_figure(bytes_io, **kw)\n",
            "/usr/local/lib/python3.11/dist-packages/IPython/core/pylabtools.py:151: UserWarning: Glyph 54252 (\\N{HANGUL SYLLABLE PO}) missing from font(s) DejaVu Sans.\n",
            "  fig.canvas.print_figure(bytes_io, **kw)\n",
            "WARNING:matplotlib.font_manager:findfont: Font family 'NanumGothic' not found.\n",
            "/usr/local/lib/python3.11/dist-packages/IPython/core/pylabtools.py:151: UserWarning: Glyph 51088 (\\N{HANGUL SYLLABLE JA}) missing from font(s) DejaVu Sans.\n",
            "  fig.canvas.print_figure(bytes_io, **kw)\n",
            "/usr/local/lib/python3.11/dist-packages/IPython/core/pylabtools.py:151: UserWarning: Glyph 45376 (\\N{HANGUL SYLLABLE NYEO}) missing from font(s) DejaVu Sans.\n",
            "  fig.canvas.print_figure(bytes_io, **kw)\n",
            "/usr/local/lib/python3.11/dist-packages/IPython/core/pylabtools.py:151: UserWarning: Glyph 49457 (\\N{HANGUL SYLLABLE SEONG}) missing from font(s) DejaVu Sans.\n",
            "  fig.canvas.print_figure(bytes_io, **kw)\n",
            "/usr/local/lib/python3.11/dist-packages/IPython/core/pylabtools.py:151: UserWarning: Glyph 51109 (\\N{HANGUL SYLLABLE JANG}) missing from font(s) DejaVu Sans.\n",
            "  fig.canvas.print_figure(bytes_io, **kw)\n",
            "WARNING:matplotlib.font_manager:findfont: Font family 'NanumGothic' not found.\n",
            "WARNING:matplotlib.font_manager:findfont: Font family 'NanumGothic' not found.\n",
            "/usr/local/lib/python3.11/dist-packages/IPython/core/pylabtools.py:151: UserWarning: Glyph 52636 (\\N{HANGUL SYLLABLE CUL}) missing from font(s) DejaVu Sans.\n",
            "  fig.canvas.print_figure(bytes_io, **kw)\n",
            "/usr/local/lib/python3.11/dist-packages/IPython/core/pylabtools.py:151: UserWarning: Glyph 49328 (\\N{HANGUL SYLLABLE SAN}) missing from font(s) DejaVu Sans.\n",
            "  fig.canvas.print_figure(bytes_io, **kw)\n",
            "WARNING:matplotlib.font_manager:findfont: Font family 'NanumGothic' not found.\n",
            "/usr/local/lib/python3.11/dist-packages/IPython/core/pylabtools.py:151: UserWarning: Glyph 46021 (\\N{HANGUL SYLLABLE DOG}) missing from font(s) DejaVu Sans.\n",
            "  fig.canvas.print_figure(bytes_io, **kw)\n",
            "/usr/local/lib/python3.11/dist-packages/IPython/core/pylabtools.py:151: UserWarning: Glyph 49888 (\\N{HANGUL SYLLABLE SIN}) missing from font(s) DejaVu Sans.\n",
            "  fig.canvas.print_figure(bytes_io, **kw)\n",
            "WARNING:matplotlib.font_manager:findfont: Font family 'NanumGothic' not found.\n",
            "/usr/local/lib/python3.11/dist-packages/IPython/core/pylabtools.py:151: UserWarning: Glyph 45432 (\\N{HANGUL SYLLABLE NO}) missing from font(s) DejaVu Sans.\n",
            "  fig.canvas.print_figure(bytes_io, **kw)\n",
            "/usr/local/lib/python3.11/dist-packages/IPython/core/pylabtools.py:151: UserWarning: Glyph 45380 (\\N{HANGUL SYLLABLE NYEON}) missing from font(s) DejaVu Sans.\n",
            "  fig.canvas.print_figure(bytes_io, **kw)\n",
            "/usr/local/lib/python3.11/dist-packages/IPython/core/pylabtools.py:151: UserWarning: Glyph 54876 (\\N{HANGUL SYLLABLE HWAL}) missing from font(s) DejaVu Sans.\n",
            "  fig.canvas.print_figure(bytes_io, **kw)\n",
            "WARNING:matplotlib.font_manager:findfont: Font family 'NanumGothic' not found.\n",
            "/usr/local/lib/python3.11/dist-packages/IPython/core/pylabtools.py:151: UserWarning: Glyph 44032 (\\N{HANGUL SYLLABLE GA}) missing from font(s) DejaVu Sans.\n",
            "  fig.canvas.print_figure(bytes_io, **kw)\n",
            "/usr/local/lib/python3.11/dist-packages/IPython/core/pylabtools.py:151: UserWarning: Glyph 51313 (\\N{HANGUL SYLLABLE JOG}) missing from font(s) DejaVu Sans.\n",
            "  fig.canvas.print_figure(bytes_io, **kw)\n",
            "/usr/local/lib/python3.11/dist-packages/IPython/core/pylabtools.py:151: UserWarning: Glyph 44396 (\\N{HANGUL SYLLABLE GU}) missing from font(s) DejaVu Sans.\n",
            "  fig.canvas.print_figure(bytes_io, **kw)\n",
            "/usr/local/lib/python3.11/dist-packages/IPython/core/pylabtools.py:151: UserWarning: Glyph 52629 (\\N{HANGUL SYLLABLE CUG}) missing from font(s) DejaVu Sans.\n",
            "  fig.canvas.print_figure(bytes_io, **kw)\n",
            "WARNING:matplotlib.font_manager:findfont: Font family 'NanumGothic' not found.\n",
            "/usr/local/lib/python3.11/dist-packages/IPython/core/pylabtools.py:151: UserWarning: Glyph 47549 (\\N{HANGUL SYLLABLE RIB}) missing from font(s) DejaVu Sans.\n",
            "  fig.canvas.print_figure(bytes_io, **kw)\n",
            "WARNING:matplotlib.font_manager:findfont: Font family 'NanumGothic' not found.\n",
            "WARNING:matplotlib.font_manager:findfont: Font family 'NanumGothic' not found.\n",
            "WARNING:matplotlib.font_manager:findfont: Font family 'NanumGothic' not found.\n",
            "WARNING:matplotlib.font_manager:findfont: Font family 'NanumGothic' not found.\n",
            "WARNING:matplotlib.font_manager:findfont: Font family 'NanumGothic' not found.\n",
            "WARNING:matplotlib.font_manager:findfont: Font family 'NanumGothic' not found.\n",
            "WARNING:matplotlib.font_manager:findfont: Font family 'NanumGothic' not found.\n",
            "WARNING:matplotlib.font_manager:findfont: Font family 'NanumGothic' not found.\n",
            "WARNING:matplotlib.font_manager:findfont: Font family 'NanumGothic' not found.\n",
            "WARNING:matplotlib.font_manager:findfont: Font family 'NanumGothic' not found.\n",
            "WARNING:matplotlib.font_manager:findfont: Font family 'NanumGothic' not found.\n",
            "WARNING:matplotlib.font_manager:findfont: Font family 'NanumGothic' not found.\n",
            "WARNING:matplotlib.font_manager:findfont: Font family 'NanumGothic' not found.\n",
            "WARNING:matplotlib.font_manager:findfont: Font family 'NanumGothic' not found.\n",
            "WARNING:matplotlib.font_manager:findfont: Font family 'NanumGothic' not found.\n",
            "WARNING:matplotlib.font_manager:findfont: Font family 'NanumGothic' not found.\n",
            "WARNING:matplotlib.font_manager:findfont: Font family 'NanumGothic' not found.\n",
            "WARNING:matplotlib.font_manager:findfont: Font family 'NanumGothic' not found.\n",
            "WARNING:matplotlib.font_manager:findfont: Font family 'NanumGothic' not found.\n",
            "WARNING:matplotlib.font_manager:findfont: Font family 'NanumGothic' not found.\n",
            "WARNING:matplotlib.font_manager:findfont: Font family 'NanumGothic' not found.\n",
            "WARNING:matplotlib.font_manager:findfont: Font family 'NanumGothic' not found.\n",
            "WARNING:matplotlib.font_manager:findfont: Font family 'NanumGothic' not found.\n",
            "WARNING:matplotlib.font_manager:findfont: Font family 'NanumGothic' not found.\n",
            "WARNING:matplotlib.font_manager:findfont: Font family 'NanumGothic' not found.\n",
            "WARNING:matplotlib.font_manager:findfont: Font family 'NanumGothic' not found.\n",
            "WARNING:matplotlib.font_manager:findfont: Font family 'NanumGothic' not found.\n",
            "WARNING:matplotlib.font_manager:findfont: Font family 'NanumGothic' not found.\n",
            "WARNING:matplotlib.font_manager:findfont: Font family 'NanumGothic' not found.\n",
            "WARNING:matplotlib.font_manager:findfont: Font family 'NanumGothic' not found.\n",
            "WARNING:matplotlib.font_manager:findfont: Font family 'NanumGothic' not found.\n",
            "WARNING:matplotlib.font_manager:findfont: Font family 'NanumGothic' not found.\n",
            "WARNING:matplotlib.font_manager:findfont: Font family 'NanumGothic' not found.\n",
            "WARNING:matplotlib.font_manager:findfont: Font family 'NanumGothic' not found.\n",
            "WARNING:matplotlib.font_manager:findfont: Font family 'NanumGothic' not found.\n",
            "WARNING:matplotlib.font_manager:findfont: Font family 'NanumGothic' not found.\n",
            "WARNING:matplotlib.font_manager:findfont: Font family 'NanumGothic' not found.\n",
            "WARNING:matplotlib.font_manager:findfont: Font family 'NanumGothic' not found.\n",
            "WARNING:matplotlib.font_manager:findfont: Font family 'NanumGothic' not found.\n",
            "WARNING:matplotlib.font_manager:findfont: Font family 'NanumGothic' not found.\n",
            "WARNING:matplotlib.font_manager:findfont: Font family 'NanumGothic' not found.\n",
            "WARNING:matplotlib.font_manager:findfont: Font family 'NanumGothic' not found.\n",
            "WARNING:matplotlib.font_manager:findfont: Font family 'NanumGothic' not found.\n",
            "WARNING:matplotlib.font_manager:findfont: Font family 'NanumGothic' not found.\n",
            "WARNING:matplotlib.font_manager:findfont: Font family 'NanumGothic' not found.\n",
            "WARNING:matplotlib.font_manager:findfont: Font family 'NanumGothic' not found.\n",
            "WARNING:matplotlib.font_manager:findfont: Font family 'NanumGothic' not found.\n",
            "WARNING:matplotlib.font_manager:findfont: Font family 'NanumGothic' not found.\n",
            "WARNING:matplotlib.font_manager:findfont: Font family 'NanumGothic' not found.\n",
            "WARNING:matplotlib.font_manager:findfont: Font family 'NanumGothic' not found.\n",
            "WARNING:matplotlib.font_manager:findfont: Font family 'NanumGothic' not found.\n",
            "WARNING:matplotlib.font_manager:findfont: Font family 'NanumGothic' not found.\n",
            "WARNING:matplotlib.font_manager:findfont: Font family 'NanumGothic' not found.\n",
            "WARNING:matplotlib.font_manager:findfont: Font family 'NanumGothic' not found.\n",
            "WARNING:matplotlib.font_manager:findfont: Font family 'NanumGothic' not found.\n",
            "WARNING:matplotlib.font_manager:findfont: Font family 'NanumGothic' not found.\n"
          ]
        },
        {
          "output_type": "display_data",
          "data": {
            "text/plain": [
              "<Figure size 1000x600 with 1 Axes>"
            ],
            "image/png": "[encoded data removed]"
          },
          "metadata": {}
        }
      ]
    },
    {
      "cell_type": "markdown",
      "source": [
        "🧠 설명:\n",
        "\n",
        "- Life Stage: 예) 대학생, 신입사회인, 자녀양육기, 은퇴 후 등\n",
        "- Segment C는 직장 초기, D는 은퇴 후 등으로 구별 가능\n",
        "\n",
        "🔍 활용 예시:\n",
        "\n",
        "- 특정 Segment에 “자녀양육기” 고객이 많다면 → 육아 혜택 마케팅 연결 가능"
      ],
      "metadata": {
        "id": "ReAOtm-dAsbo"
      }
    },
    {
      "cell_type": "markdown",
      "source": [
        "# 결론\n",
        "- 대용량 데이터를 사람이 직접 모든 요소를 분석하기에는 한계가 존재\n",
        "- 머신러닝 모델을 이용하여 상관관계를 분석하여 예측 가능"
      ],
      "metadata": {
        "id": "tqF1pnxER6ix"
      }
    }
  ]
}