{
  "nbformat": 4,
  "nbformat_minor": 0,
  "metadata": {
    "colab": {
      "provenance": [],
      "include_colab_link": true
    },
    "kernelspec": {
      "name": "python3",
      "display_name": "Python 3"
    },
    "language_info": {
      "name": "python"
    }
  },
  "cells": [
    {
      "cell_type": "markdown",
      "metadata": {
        "id": "view-in-github",
        "colab_type": "text"
      },
      "source": [
        "<a href=\"https://colab.research.google.com/github/BinarySstar/Credit-Card-Segment-Classfication/blob/master/Credit_Card_Segment_Classfication.ipynb\" target=\"_parent\"><img src=\"https://colab.research.google.com/assets/colab-badge.svg\" alt=\"Open In Colab\"/></a>"
      ]
    },
    {
      "cell_type": "markdown",
      "source": [
        "# Google Drive Mount\n",
        "train 및 test 데이터를 drive에 저장하기 위해 mount를 진행"
      ],
      "metadata": {
        "id": "tBmDuNY0FVBS"
      }
    },
    {
      "cell_type": "code",
      "execution_count": 1,
      "metadata": {
        "id": "IuJ22cW7yp5u",
        "outputId": "867e5778-c128-4ddd-9202-14a74354fc2d",
        "colab": {
          "base_uri": "https://localhost:8080/"
        }
      },
      "outputs": [
        {
          "output_type": "stream",
          "name": "stdout",
          "text": [
            "Mounted at /content/drive\n"
          ]
        }
      ],
      "source": [
        "from google.colab import drive\n",
        "\n",
        "drive.mount('/content/drive')"
      ]
    },
    {
      "cell_type": "markdown",
      "source": [
        "# EDA\n",
        "## 데이터 로드 및 전처리\n",
        "- parquet 형식의 데이터를 로드\n",
        "- parquet 파일 단위로 이상치 및 결측치를 탐지하여 이를 제거"
      ],
      "metadata": {
        "id": "FNfQPGs6_D3M"
      }
    },
    {
      "cell_type": "code",
      "source": [
        "!pip install fastparquet"
      ],
      "metadata": {
        "id": "pr7ODr1W_gow",
        "outputId": "bcb855a0-09ad-4253-bbb2-ba068782e500",
        "colab": {
          "base_uri": "https://localhost:8080/"
        }
      },
      "execution_count": 2,
      "outputs": [
        {
          "output_type": "stream",
          "name": "stdout",
          "text": [
            "Collecting fastparquet\n",
            "  Downloading fastparquet-2024.11.0-cp311-cp311-manylinux_2_17_x86_64.manylinux2014_x86_64.whl.metadata (4.2 kB)\n",
            "Requirement already satisfied: pandas>=1.5.0 in /usr/local/lib/python3.11/dist-packages (from fastparquet) (2.2.2)\n",
            "Requirement already satisfied: numpy in /usr/local/lib/python3.11/dist-packages (from fastparquet) (2.0.2)\n",
            "Requirement already satisfied: cramjam>=2.3 in /usr/local/lib/python3.11/dist-packages (from fastparquet) (2.9.1)\n",
            "Requirement already satisfied: fsspec in /usr/local/lib/python3.11/dist-packages (from fastparquet) (2025.3.0)\n",
            "Requirement already satisfied: packaging in /usr/local/lib/python3.11/dist-packages (from fastparquet) (24.2)\n",
            "Requirement already satisfied: python-dateutil>=2.8.2 in /usr/local/lib/python3.11/dist-packages (from pandas>=1.5.0->fastparquet) (2.8.2)\n",
            "Requirement already satisfied: pytz>=2020.1 in /usr/local/lib/python3.11/dist-packages (from pandas>=1.5.0->fastparquet) (2025.2)\n",
            "Requirement already satisfied: tzdata>=2022.7 in /usr/local/lib/python3.11/dist-packages (from pandas>=1.5.0->fastparquet) (2025.2)\n",
            "Requirement already satisfied: six>=1.5 in /usr/local/lib/python3.11/dist-packages (from python-dateutil>=2.8.2->pandas>=1.5.0->fastparquet) (1.17.0)\n",
            "Downloading fastparquet-2024.11.0-cp311-cp311-manylinux_2_17_x86_64.manylinux2014_x86_64.whl (1.8 MB)\n",
            "\u001b[2K   \u001b[90m━━━━━━━━━━━━━━━━━━━━━━━━━━━━━━━━━━━━━━━━\u001b[0m \u001b[32m1.8/1.8 MB\u001b[0m \u001b[31m18.2 MB/s\u001b[0m eta \u001b[36m0:00:00\u001b[0m\n",
            "\u001b[?25hInstalling collected packages: fastparquet\n",
            "Successfully installed fastparquet-2024.11.0\n"
          ]
        }
      ]
    },
    {
      "cell_type": "code",
      "source": [
        "import pandas as pd\n",
        "import os\n",
        "from glob import glob\n",
        "\n",
        "base_path = 'drive/MyDrive/고급프로그래밍/train'\n",
        "\n",
        "for subdir in os.listdir(base_path):\n",
        "    sub_path = os.path.join(base_path, subdir)\n",
        "    save_path = os.path.join(\"drive/MyDrive/고급프로그래밍/전처리완료\", subdir)\n",
        "    os.makedirs(save_path, exist_ok=True)\n",
        "\n",
        "    if os.path.isdir(sub_path):\n",
        "        parquet_files = glob(os.path.join(sub_path, \"*.parquet\"))\n",
        "\n",
        "        for file in parquet_files:\n",
        "            df = pd.read_parquet(file)\n",
        "\n",
        "            # 예시: 결측치 제거 + 이상치 제거 (단순 Z-score 방식)\n",
        "            df_clean = df.dropna()\n",
        "            for col in df_clean.select_dtypes(include='number').columns:\n",
        "                mean = df_clean[col].mean()\n",
        "                std = df_clean[col].std()\n",
        "                df_clean = df_clean[(df_clean[col] - mean).abs() < 3 * std]\n",
        "\n",
        "            # 처리된 파일 저장\n",
        "            fname = os.path.basename(file)\n",
        "            df_clean.to_parquet(os.path.join(save_path, fname), index=False)"
      ],
      "metadata": {
        "id": "23roIUhj_WHi"
      },
      "execution_count": 1,
      "outputs": []
    },
    {
      "cell_type": "markdown",
      "source": [
        "- 전처리된 parquet 파일에 대해 점검 진행"
      ],
      "metadata": {
        "id": "0wvugBuWF9lY"
      }
    },
    {
      "cell_type": "code",
      "source": [
        "# 전처리된 데이터가 저장된 경로\n",
        "cleaned_base_path = \"drive/MyDrive/고급프로그래밍/전처리완료\"\n",
        "\n",
        "# 이상치 기준 설정 (예: Z-score > 3)\n",
        "z_threshold = 3\n",
        "\n",
        "# 이상치/결측치 존재 여부 기록\n",
        "check_results = {}\n",
        "\n",
        "for subdir in os.listdir(cleaned_base_path):\n",
        "    sub_path = os.path.join(cleaned_base_path, subdir)\n",
        "\n",
        "    if os.path.isdir(sub_path):\n",
        "        parquet_files = glob(os.path.join(sub_path, \"*.parquet\"))\n",
        "        has_missing = False\n",
        "        has_outliers = False\n",
        "\n",
        "        for file in parquet_files:\n",
        "            try:\n",
        "                df = pd.read_parquet(file)\n",
        "\n",
        "                # 1. 결측치 확인\n",
        "                if df.isnull().values.any():\n",
        "                    has_missing = True\n",
        "\n",
        "                # 2. 이상치 확인 (수치형 컬럼 대상 Z-score 검사)\n",
        "                numeric_cols = df.select_dtypes(include='number').columns\n",
        "                for col in numeric_cols:\n",
        "                    col_z = ((df[col] - df[col].mean()) / df[col].std()).abs()\n",
        "                    if (col_z > z_threshold).any():\n",
        "                        has_outliers = True\n",
        "                        break  # 하나라도 발견되면 더 안 봐도 됨\n",
        "\n",
        "                if has_missing or has_outliers:\n",
        "                    break\n",
        "\n",
        "            except Exception as e:\n",
        "                print(f\"파일 오류: {file} | {e}\")\n",
        "\n",
        "        check_results[subdir] = {\n",
        "            '결측치_존재': has_missing,\n",
        "            '이상치_존재': has_outliers\n",
        "        }\n",
        "\n",
        "# 결과 출력\n",
        "for key, value in check_results.items():\n",
        "    print(f\"[{key}] 결측치: {value['결측치_존재']}, 이상치: {value['이상치_존재']}\")"
      ],
      "metadata": {
        "id": "n8SM0tRREtc_",
        "outputId": "eac4228d-6b76-4d7d-f86a-5fbe3bc782de",
        "colab": {
          "base_uri": "https://localhost:8080/"
        }
      },
      "execution_count": 2,
      "outputs": [
        {
          "output_type": "stream",
          "name": "stdout",
          "text": [
            "[8.성과정보] 결측치: False, 이상치: False\n",
            "[7.마케팅정보] 결측치: False, 이상치: False\n",
            "[6.채널정보] 결측치: False, 이상치: False\n",
            "[5.잔액정보] 결측치: False, 이상치: False\n",
            "[4.청구입금정보] 결측치: False, 이상치: False\n",
            "[3.승인매출정보] 결측치: False, 이상치: False\n",
            "[2.신용정보] 결측치: False, 이상치: False\n",
            "[1.회원정보] 결측치: False, 이상치: False\n"
          ]
        }
      ]
    }
  ]
}