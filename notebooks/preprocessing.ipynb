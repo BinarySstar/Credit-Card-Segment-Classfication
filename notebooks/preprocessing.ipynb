{
 "cells": [
  {
   "cell_type": "code",
   "execution_count": 125,
   "id": "e7d3b829",
   "metadata": {},
   "outputs": [],
   "source": [
    "save_path = \"../dataset/train/merged_optimized\"\n",
    "save_test_path = \"../dataset/test/merged_optimized\"\n",
    "\n",
    "# file_dict = {\n",
    "#     \"1.회원정보\": \"member_optimized.parquet\",\n",
    "#     \"2.신용정보\": \"credit_optimized.parquet\",\n",
    "#     \"3.승인매출정보\": \"tx_optimized.parquet\",\n",
    "#     \"4.청구입금정보\": \"bill_optimized.parquet\",\n",
    "#     \"5.잔액정보\": \"balance_optimized.parquet\",\n",
    "#     \"6.채널정보\": \"channel_optimized.parquet\",\n",
    "#     \"7.마케팅정보\": \"mkt_optimized.parquet\",\n",
    "#     \"8.성과정보\": \"perf_optimized.parquet\"\n",
    "# }"
   ]
  },
  {
   "cell_type": "code",
   "execution_count": 2,
   "id": "ac889db4",
   "metadata": {},
   "outputs": [],
   "source": [
    "import pandas as pd\n",
    "import os"
   ]
  },
  {
   "cell_type": "code",
   "execution_count": 10,
   "id": "8557fd51",
   "metadata": {},
   "outputs": [],
   "source": [
    "def detect_missing_values(df : pd.DataFrame):\n",
    "    \n",
    "    # 각 열의 결측치 개수 및 결측치 비율 계산\n",
    "    missing_count = df.isnull().sum()\n",
    "    missing_percentage = (missing_count / len(df)) * 100\n",
    "    \n",
    "    missing_summary = pd.DataFrame({\n",
    "        'missing_count': missing_count,\n",
    "        'missing_percentage': missing_percentage,\n",
    "        'type': df.dtypes,\n",
    "    })\n",
    "     \n",
    "     # 결측치가 있는 열만 반환환\n",
    "    return missing_summary[missing_summary['missing_count'] > 0]"
   ]
  },
  {
   "cell_type": "code",
   "execution_count": 11,
   "id": "4d4d6d82",
   "metadata": {},
   "outputs": [],
   "source": [
    "def convert_to_datetime(df : pd.DataFrame, date_cols : list):\n",
    "    for col in date_cols:\n",
    "        df[col] = pd.to_datetime(df[col], errors='coerce', format='%Y%m%d')\n",
    "    return df"
   ]
  },
  {
   "cell_type": "markdown",
   "id": "e74fedd4",
   "metadata": {},
   "source": [
    "## 회원정보"
   ]
  },
  {
   "cell_type": "code",
   "execution_count": 8,
   "id": "82e9a751",
   "metadata": {},
   "outputs": [
    {
     "name": "stdout",
     "output_type": "stream",
     "text": [
      "<class 'pandas.core.frame.DataFrame'>\n",
      "RangeIndex: 600000 entries, 0 to 599999\n",
      "Data columns (total 77 columns):\n",
      " #   Column              Non-Null Count   Dtype   \n",
      "---  ------              --------------   -----   \n",
      " 0   기준년월                600000 non-null  int32   \n",
      " 1   ID                  600000 non-null  category\n",
      " 2   남녀구분코드              600000 non-null  int8    \n",
      " 3   연령                  600000 non-null  category\n",
      " 4   회원여부_이용가능           600000 non-null  int8    \n",
      " 5   회원여부_이용가능_CA        600000 non-null  int8    \n",
      " 6   회원여부_이용가능_카드론       600000 non-null  int8    \n",
      " 7   소지여부_신용             600000 non-null  int8    \n",
      " 8   소지카드수_유효_신용         600000 non-null  int8    \n",
      " 9   소지카드수_이용가능_신용       600000 non-null  int8    \n",
      " 10  입회일자_신용             600000 non-null  int32   \n",
      " 11  입회경과개월수_신용          600000 non-null  int16   \n",
      " 12  회원여부_연체             600000 non-null  int8    \n",
      " 13  이용거절여부_카드론          600000 non-null  int8    \n",
      " 14  동의여부_한도증액안내         600000 non-null  int8    \n",
      " 15  수신거부여부_TM           600000 non-null  int8    \n",
      " 16  수신거부여부_DM           600000 non-null  int8    \n",
      " 17  수신거부여부_메일           600000 non-null  int8    \n",
      " 18  수신거부여부_SMS          600000 non-null  int8    \n",
      " 19  가입통신회사코드            502917 non-null  category\n",
      " 20  탈회횟수_누적             600000 non-null  int8    \n",
      " 21  최종탈회후경과월            600000 non-null  int8    \n",
      " 22  탈회횟수_발급6개월이내        600000 non-null  int8    \n",
      " 23  탈회횟수_발급1년이내         600000 non-null  int8    \n",
      " 24  거주시도명               600000 non-null  category\n",
      " 25  직장시도명               537767 non-null  category\n",
      " 26  마케팅동의여부             600000 non-null  int8    \n",
      " 27  유효카드수_신용체크          600000 non-null  int8    \n",
      " 28  유효카드수_신용            600000 non-null  int8    \n",
      " 29  유효카드수_신용_가족         600000 non-null  int8    \n",
      " 30  유효카드수_체크            600000 non-null  int8    \n",
      " 31  유효카드수_체크_가족         600000 non-null  int8    \n",
      " 32  이용가능카드수_신용체크        600000 non-null  int8    \n",
      " 33  이용가능카드수_신용          600000 non-null  int8    \n",
      " 34  이용가능카드수_신용_가족       600000 non-null  int8    \n",
      " 35  이용가능카드수_체크          600000 non-null  int8    \n",
      " 36  이용가능카드수_체크_가족       600000 non-null  int8    \n",
      " 37  이용카드수_신용체크          600000 non-null  int8    \n",
      " 38  이용카드수_신용            600000 non-null  int8    \n",
      " 39  이용카드수_신용_가족         600000 non-null  int8    \n",
      " 40  이용카드수_체크            600000 non-null  int8    \n",
      " 41  이용카드수_체크_가족         600000 non-null  int8    \n",
      " 42  이용금액_R3M_신용체크       600000 non-null  int32   \n",
      " 43  이용금액_R3M_신용         600000 non-null  int32   \n",
      " 44  이용금액_R3M_신용_가족      600000 non-null  int16   \n",
      " 45  이용금액_R3M_체크         600000 non-null  int32   \n",
      " 46  이용금액_R3M_체크_가족      600000 non-null  int8    \n",
      " 47  _1순위카드이용금액          600000 non-null  int32   \n",
      " 48  _1순위카드이용건수          600000 non-null  int16   \n",
      " 49  _1순위신용체크구분          592769 non-null  category\n",
      " 50  _2순위카드이용금액          600000 non-null  int32   \n",
      " 51  _2순위카드이용건수          600000 non-null  int16   \n",
      " 52  _2순위신용체크구분          360112 non-null  category\n",
      " 53  최종유효년월_신용_이용가능      546851 non-null  float32 \n",
      " 54  최종유효년월_신용_이용        465183 non-null  float32 \n",
      " 55  최종카드발급일자            589146 non-null  float32 \n",
      " 56  보유여부_해외겸용_본인        600000 non-null  int8    \n",
      " 57  이용가능여부_해외겸용_본인      600000 non-null  int8    \n",
      " 58  이용여부_3M_해외겸용_본인     600000 non-null  int8    \n",
      " 59  보유여부_해외겸용_신용_본인     600000 non-null  int8    \n",
      " 60  이용가능여부_해외겸용_신용_본인   600000 non-null  int8    \n",
      " 61  이용여부_3M_해외겸용_신용_본인  600000 non-null  int8    \n",
      " 62  연회비발생카드수_B0M        600000 non-null  category\n",
      " 63  연회비할인카드수_B0M        600000 non-null  int8    \n",
      " 64  기본연회비_B0M           600000 non-null  int8    \n",
      " 65  제휴연회비_B0M           600000 non-null  int16   \n",
      " 66  할인금액_기본연회비_B0M      600000 non-null  int8    \n",
      " 67  할인금액_제휴연회비_B0M      600000 non-null  int8    \n",
      " 68  청구금액_기본연회비_B0M      600000 non-null  int8    \n",
      " 69  청구금액_제휴연회비_B0M      600000 non-null  int16   \n",
      " 70  상품관련면제카드수_B0M       600000 non-null  category\n",
      " 71  임직원면제카드수_B0M        600000 non-null  category\n",
      " 72  우수회원면제카드수_B0M       600000 non-null  category\n",
      " 73  기타면제카드수_B0M         600000 non-null  category\n",
      " 74  카드신청건수              600000 non-null  int8    \n",
      " 75  Life_Stage          600000 non-null  category\n",
      " 76  최종카드발급경과월           600000 non-null  int8    \n",
      "dtypes: category(13), float32(3), int16(6), int32(7), int8(48)\n",
      "memory usage: 69.2 MB\n"
     ]
    }
   ],
   "source": [
    "file_name = \"member_optimized.parquet\"\n",
    "# file_path = os.path.join(save_path, file_name)\n",
    "file_path = os.path.join(save_test_path, file_name)\n",
    "\n",
    "df = pd.read_parquet(file_path)\n",
    "df.info()"
   ]
  },
  {
   "cell_type": "code",
   "execution_count": 12,
   "id": "1872acda",
   "metadata": {},
   "outputs": [
    {
     "data": {
      "text/html": [
       "<div>\n",
       "<style scoped>\n",
       "    .dataframe tbody tr th:only-of-type {\n",
       "        vertical-align: middle;\n",
       "    }\n",
       "\n",
       "    .dataframe tbody tr th {\n",
       "        vertical-align: top;\n",
       "    }\n",
       "\n",
       "    .dataframe thead th {\n",
       "        text-align: right;\n",
       "    }\n",
       "</style>\n",
       "<table border=\"1\" class=\"dataframe\">\n",
       "  <thead>\n",
       "    <tr style=\"text-align: right;\">\n",
       "      <th></th>\n",
       "      <th>missing_count</th>\n",
       "      <th>missing_percentage</th>\n",
       "      <th>type</th>\n",
       "    </tr>\n",
       "  </thead>\n",
       "  <tbody>\n",
       "    <tr>\n",
       "      <th>가입통신회사코드</th>\n",
       "      <td>97083</td>\n",
       "      <td>16.180500</td>\n",
       "      <td>category</td>\n",
       "    </tr>\n",
       "    <tr>\n",
       "      <th>직장시도명</th>\n",
       "      <td>62233</td>\n",
       "      <td>10.372167</td>\n",
       "      <td>category</td>\n",
       "    </tr>\n",
       "    <tr>\n",
       "      <th>_1순위신용체크구분</th>\n",
       "      <td>7231</td>\n",
       "      <td>1.205167</td>\n",
       "      <td>category</td>\n",
       "    </tr>\n",
       "    <tr>\n",
       "      <th>_2순위신용체크구분</th>\n",
       "      <td>239888</td>\n",
       "      <td>39.981333</td>\n",
       "      <td>category</td>\n",
       "    </tr>\n",
       "    <tr>\n",
       "      <th>최종유효년월_신용_이용가능</th>\n",
       "      <td>53149</td>\n",
       "      <td>8.858167</td>\n",
       "      <td>float32</td>\n",
       "    </tr>\n",
       "    <tr>\n",
       "      <th>최종유효년월_신용_이용</th>\n",
       "      <td>134817</td>\n",
       "      <td>22.469500</td>\n",
       "      <td>float32</td>\n",
       "    </tr>\n",
       "    <tr>\n",
       "      <th>최종카드발급일자</th>\n",
       "      <td>10854</td>\n",
       "      <td>1.809000</td>\n",
       "      <td>float32</td>\n",
       "    </tr>\n",
       "  </tbody>\n",
       "</table>\n",
       "</div>"
      ],
      "text/plain": [
       "                missing_count  missing_percentage      type\n",
       "가입통신회사코드                97083           16.180500  category\n",
       "직장시도명                   62233           10.372167  category\n",
       "_1순위신용체크구분               7231            1.205167  category\n",
       "_2순위신용체크구분             239888           39.981333  category\n",
       "최종유효년월_신용_이용가능          53149            8.858167   float32\n",
       "최종유효년월_신용_이용           134817           22.469500   float32\n",
       "최종카드발급일자                10854            1.809000   float32"
      ]
     },
     "execution_count": 12,
     "metadata": {},
     "output_type": "execute_result"
    }
   ],
   "source": [
    "detect_missing_values(df)"
   ]
  },
  {
   "cell_type": "code",
   "execution_count": 13,
   "id": "426b228d",
   "metadata": {},
   "outputs": [
    {
     "data": {
      "text/plain": [
       "['K사', 'S사', NaN, 'L사']\n",
       "Categories (3, object): ['K사', 'L사', 'S사']"
      ]
     },
     "execution_count": 13,
     "metadata": {},
     "output_type": "execute_result"
    }
   ],
   "source": [
    "df[\"가입통신회사코드\"].unique()"
   ]
  },
  {
   "cell_type": "code",
   "execution_count": 14,
   "id": "5b117952",
   "metadata": {},
   "outputs": [
    {
     "data": {
      "text/plain": [
       "['K사', 'S사', 'unknown', 'L사']\n",
       "Categories (4, object): ['K사', 'L사', 'S사', 'unknown']"
      ]
     },
     "execution_count": 14,
     "metadata": {},
     "output_type": "execute_result"
    }
   ],
   "source": [
    "df['가입통신회사코드'] = df['가입통신회사코드'].cat.add_categories('unknown')\n",
    "df['가입통신회사코드'] = df['가입통신회사코드'].fillna('unknown') # inplace는 추천하지 않음.\n",
    "\n",
    "df[\"가입통신회사코드\"].unique()"
   ]
  },
  {
   "cell_type": "code",
   "execution_count": 15,
   "id": "23edc159",
   "metadata": {},
   "outputs": [
    {
     "data": {
      "text/plain": [
       "['경기', '인천', '서울', '충북', '전북', ..., '경북', '울산', '경남', '제주', '세종']\n",
       "Length: 18\n",
       "Categories (17, object): ['강원', '경기', '경남', '경북', ..., '전북', '제주', '충남', '충북']"
      ]
     },
     "execution_count": 15,
     "metadata": {},
     "output_type": "execute_result"
    }
   ],
   "source": [
    "df[\"직장시도명\"].unique()"
   ]
  },
  {
   "cell_type": "code",
   "execution_count": 16,
   "id": "499bc78b",
   "metadata": {},
   "outputs": [
    {
     "data": {
      "text/plain": [
       "['경기', '인천', '서울', '충북', '전북', ..., '경북', '울산', '경남', '제주', '세종']\n",
       "Length: 18\n",
       "Categories (18, object): ['강원', '경기', '경남', '경북', ..., '제주', '충남', '충북', 'unknown']"
      ]
     },
     "execution_count": 16,
     "metadata": {},
     "output_type": "execute_result"
    }
   ],
   "source": [
    "df[\"직장시도명\"] = df[\"직장시도명\"].cat.add_categories('unknown')\n",
    "df[\"직장시도명\"] = df[\"직장시도명\"].fillna('unknown') # inplace는 추천하지 않음.\n",
    "\n",
    "df[\"직장시도명\"].unique()"
   ]
  },
  {
   "cell_type": "code",
   "execution_count": 17,
   "id": "cc74813f",
   "metadata": {},
   "outputs": [
    {
     "data": {
      "text/plain": [
       "['신용', '체크', NaN]\n",
       "Categories (2, object): ['신용', '체크']"
      ]
     },
     "execution_count": 17,
     "metadata": {},
     "output_type": "execute_result"
    }
   ],
   "source": [
    "df[\"_1순위신용체크구분\"].unique()"
   ]
  },
  {
   "cell_type": "code",
   "execution_count": 18,
   "id": "3b24b826",
   "metadata": {},
   "outputs": [
    {
     "data": {
      "text/plain": [
       "['신용', '체크', 'unknown']\n",
       "Categories (3, object): ['신용', '체크', 'unknown']"
      ]
     },
     "execution_count": 18,
     "metadata": {},
     "output_type": "execute_result"
    }
   ],
   "source": [
    "df[\"_1순위신용체크구분\"] = df[\"_1순위신용체크구분\"].cat.add_categories('unknown')\n",
    "df[\"_1순위신용체크구분\"] = df[\"_1순위신용체크구분\"].fillna('unknown') # inplace는 추천하지 않음.\n",
    "\n",
    "df[\"_1순위신용체크구분\"].unique()"
   ]
  },
  {
   "cell_type": "code",
   "execution_count": 19,
   "id": "8975159d",
   "metadata": {},
   "outputs": [
    {
     "data": {
      "text/plain": [
       "['신용', '체크', NaN]\n",
       "Categories (2, object): ['신용', '체크']"
      ]
     },
     "execution_count": 19,
     "metadata": {},
     "output_type": "execute_result"
    }
   ],
   "source": [
    "df[\"_2순위신용체크구분\"].unique()"
   ]
  },
  {
   "cell_type": "code",
   "execution_count": 20,
   "id": "88da49d3",
   "metadata": {},
   "outputs": [
    {
     "data": {
      "text/plain": [
       "['신용', '체크', 'unknown']\n",
       "Categories (3, object): ['신용', '체크', 'unknown']"
      ]
     },
     "execution_count": 20,
     "metadata": {},
     "output_type": "execute_result"
    }
   ],
   "source": [
    "df[\"_2순위신용체크구분\"] = df[\"_2순위신용체크구분\"].cat.add_categories('unknown')\n",
    "df[\"_2순위신용체크구분\"] = df[\"_2순위신용체크구분\"].fillna('unknown') # inplace는 추천하지 않음.\n",
    "\n",
    "df[\"_2순위신용체크구분\"].unique()"
   ]
  },
  {
   "cell_type": "code",
   "execution_count": 21,
   "id": "299896cc",
   "metadata": {},
   "outputs": [
    {
     "data": {
      "text/plain": [
       "array([201806., 201807., 201808., 201809., 201810., 201811., 201812.,\n",
       "       201901., 201902., 201903., 201904., 201905., 201906., 201907.,\n",
       "       201908., 201909., 201910., 201911., 201912., 202001., 202002.,\n",
       "       202003., 202004., 202005., 202006., 202007., 202008., 202009.,\n",
       "       202010., 202011., 202012., 202101., 202102., 202103., 202104.,\n",
       "       202105., 202106., 202107., 202108., 202109., 202110., 202111.,\n",
       "       202112., 202201., 202202., 202203., 202204., 202205., 202206.,\n",
       "       202207., 202208., 202209., 202210., 202211., 202212., 202301.,\n",
       "       202302., 202303., 202304., 202305., 202306., 202307., 202308.,\n",
       "       202309., 202310., 202311., 202312., 202401., 202402., 202403.,\n",
       "       202404., 202405., 202406.,     nan], dtype=float32)"
      ]
     },
     "execution_count": 21,
     "metadata": {},
     "output_type": "execute_result"
    }
   ],
   "source": [
    "list = df[\"최종유효년월_신용_이용가능\"].unique()\n",
    "list.sort()\n",
    "list"
   ]
  },
  {
   "cell_type": "code",
   "execution_count": 22,
   "id": "ef2bef8e",
   "metadata": {},
   "outputs": [
    {
     "name": "stdout",
     "output_type": "stream",
     "text": [
      "<class 'pandas.core.series.Series'>\n",
      "RangeIndex: 600000 entries, 0 to 599999\n",
      "Series name: 최종유효년월_신용_이용가능\n",
      "Non-Null Count  Dtype         \n",
      "--------------  -----         \n",
      "92852 non-null  datetime64[ns]\n",
      "dtypes: datetime64[ns](1)\n",
      "memory usage: 4.6 MB\n"
     ]
    },
    {
     "data": {
      "text/plain": [
       "<DatetimeArray>\n",
       "[                'NaT', '2022-01-02 00:00:00', '2019-01-02 00:00:00',\n",
       " '2022-01-01 00:00:00', '2018-01-02 00:00:00', '2023-01-02 00:00:00',\n",
       " '2021-01-02 00:00:00', '2019-01-01 00:00:00', '2020-01-02 00:00:00',\n",
       " '2021-01-01 00:00:00', '2020-01-01 00:00:00', '2023-01-01 00:00:00',\n",
       " '2018-01-01 00:00:00']\n",
       "Length: 13, dtype: datetime64[ns]"
      ]
     },
     "execution_count": 22,
     "metadata": {},
     "output_type": "execute_result"
    }
   ],
   "source": [
    "df[\"최종유효년월_신용_이용가능\"] = pd.to_datetime(df[\"최종유효년월_신용_이용가능\"], format='%Y%m%d', errors='coerce')\n",
    "df[\"최종유효년월_신용_이용가능\"].info()\n",
    "df[\"최종유효년월_신용_이용가능\"].unique()"
   ]
  },
  {
   "cell_type": "code",
   "execution_count": 23,
   "id": "cba16e7c",
   "metadata": {},
   "outputs": [
    {
     "data": {
      "text/plain": [
       "array([201908., 202108., 202301., 202212., 202306.,     nan, 202105.,\n",
       "       202201., 202107., 202110., 202211., 201910., 202111., 202005.,\n",
       "       202206., 202207., 202106., 202102., 202209., 202002., 202304.,\n",
       "       202307., 202210., 202302., 202205., 201911., 202006., 201909.,\n",
       "       202203., 202004., 201904., 202303., 202008., 202112., 202109.,\n",
       "       201912., 202104., 202208., 202003., 202101., 202204., 202309.,\n",
       "       202202., 202305., 202311., 202012., 202011., 202007., 202009.,\n",
       "       202010., 202308., 202001., 202103., 201906., 201905., 201903.,\n",
       "       202312., 202310., 201907., 201901., 201812., 201902., 201811.,\n",
       "       201810., 201809., 202401., 202402., 202403., 202404., 202405.,\n",
       "       202406.], dtype=float32)"
      ]
     },
     "execution_count": 23,
     "metadata": {},
     "output_type": "execute_result"
    }
   ],
   "source": [
    "df[\"최종유효년월_신용_이용\"].unique()"
   ]
  },
  {
   "cell_type": "code",
   "execution_count": 24,
   "id": "8c7f908d",
   "metadata": {},
   "outputs": [
    {
     "name": "stdout",
     "output_type": "stream",
     "text": [
      "<class 'pandas.core.series.Series'>\n",
      "RangeIndex: 600000 entries, 0 to 599999\n",
      "Series name: 최종유효년월_신용_이용\n",
      "Non-Null Count  Dtype         \n",
      "--------------  -----         \n",
      "79224 non-null  datetime64[ns]\n",
      "dtypes: datetime64[ns](1)\n",
      "memory usage: 4.6 MB\n"
     ]
    },
    {
     "data": {
      "text/plain": [
       "<DatetimeArray>\n",
       "[                'NaT', '2022-01-02 00:00:00', '2022-01-01 00:00:00',\n",
       " '2021-01-01 00:00:00', '2019-01-01 00:00:00', '2021-01-02 00:00:00',\n",
       " '2019-01-02 00:00:00', '2023-01-01 00:00:00', '2020-01-02 00:00:00',\n",
       " '2020-01-01 00:00:00', '2023-01-02 00:00:00', '2018-01-02 00:00:00',\n",
       " '2018-01-01 00:00:00']\n",
       "Length: 13, dtype: datetime64[ns]"
      ]
     },
     "execution_count": 24,
     "metadata": {},
     "output_type": "execute_result"
    }
   ],
   "source": [
    "df[\"최종유효년월_신용_이용\"] = pd.to_datetime(df[\"최종유효년월_신용_이용\"], format='%Y%m%d', errors='coerce')\n",
    "df[\"최종유효년월_신용_이용\"].info()\n",
    "df[\"최종유효년월_신용_이용\"].unique()"
   ]
  },
  {
   "cell_type": "code",
   "execution_count": 25,
   "id": "2a994b5c",
   "metadata": {},
   "outputs": [
    {
     "data": {
      "text/plain": [
       "array([20141008., 20161228., 20180224., ..., 20181210., 20181232.,\n",
       "       20181230.], dtype=float32)"
      ]
     },
     "execution_count": 25,
     "metadata": {},
     "output_type": "execute_result"
    }
   ],
   "source": [
    "df[\"최종카드발급일자\"].unique()"
   ]
  },
  {
   "cell_type": "code",
   "execution_count": 26,
   "id": "cce7e0df",
   "metadata": {},
   "outputs": [
    {
     "name": "stdout",
     "output_type": "stream",
     "text": [
      "<DatetimeArray>\n",
      "['2014-10-08 00:00:00', '2016-12-28 00:00:00', '2018-02-24 00:00:00',\n",
      " '2017-12-20 00:00:00', '2018-06-16 00:00:00', '2016-12-04 00:00:00',\n",
      " '2016-07-12 00:00:00', '2018-04-14 00:00:00', '2016-12-12 00:00:00',\n",
      " '2016-08-12 00:00:00',\n",
      " ...\n",
      " '2018-12-04 00:00:00', '2018-12-12 00:00:00', '2018-12-14 00:00:00',\n",
      " '2018-12-06 00:00:00', '2018-12-20 00:00:00', '2018-12-22 00:00:00',\n",
      " '2018-12-18 00:00:00', '2018-12-02 00:00:00', '2018-12-10 00:00:00',\n",
      " '2018-12-30 00:00:00']\n",
      "Length: 936, dtype: datetime64[ns]\n",
      "<DatetimeArray>\n",
      "[                'NaT', '2022-01-02 00:00:00', '2022-01-01 00:00:00',\n",
      " '2021-01-01 00:00:00', '2019-01-01 00:00:00', '2021-01-02 00:00:00',\n",
      " '2019-01-02 00:00:00', '2023-01-01 00:00:00', '2020-01-02 00:00:00',\n",
      " '2020-01-01 00:00:00', '2023-01-02 00:00:00', '2018-01-02 00:00:00',\n",
      " '2018-01-01 00:00:00']\n",
      "Length: 13, dtype: datetime64[ns]\n",
      "<DatetimeArray>\n",
      "[                'NaT', '2022-01-02 00:00:00', '2019-01-02 00:00:00',\n",
      " '2022-01-01 00:00:00', '2018-01-02 00:00:00', '2023-01-02 00:00:00',\n",
      " '2021-01-02 00:00:00', '2019-01-01 00:00:00', '2020-01-02 00:00:00',\n",
      " '2021-01-01 00:00:00', '2020-01-01 00:00:00', '2023-01-01 00:00:00',\n",
      " '2018-01-01 00:00:00']\n",
      "Length: 13, dtype: datetime64[ns]\n"
     ]
    }
   ],
   "source": [
    "# df[\"최종카드발급일자\"] = pd.to_datetime(df[\"최종카드발급일자\"], format=\"%Y%m%d\", errors='coerce')\n",
    "# df[\"최종카드발급일자\"].info()\n",
    "# df[\"최종카드발급일자\"].unique()\n",
    "\n",
    "columns = [\"최종카드발급일자\", \"최종유효년월_신용_이용\", \"최종유효년월_신용_이용가능\"]\n",
    "df = convert_to_datetime(df, columns)\n",
    "\n",
    "for col in columns:\n",
    "    print(df[col].unique())"
   ]
  },
  {
   "cell_type": "code",
   "execution_count": 27,
   "id": "5d9b8772",
   "metadata": {},
   "outputs": [
    {
     "name": "stdout",
     "output_type": "stream",
     "text": [
      "<class 'pandas.core.frame.DataFrame'>\n",
      "RangeIndex: 600000 entries, 0 to 599999\n",
      "Data columns (total 77 columns):\n",
      " #   Column              Non-Null Count   Dtype         \n",
      "---  ------              --------------   -----         \n",
      " 0   기준년월                600000 non-null  int32         \n",
      " 1   ID                  600000 non-null  category      \n",
      " 2   남녀구분코드              600000 non-null  int8          \n",
      " 3   연령                  600000 non-null  category      \n",
      " 4   회원여부_이용가능           600000 non-null  int8          \n",
      " 5   회원여부_이용가능_CA        600000 non-null  int8          \n",
      " 6   회원여부_이용가능_카드론       600000 non-null  int8          \n",
      " 7   소지여부_신용             600000 non-null  int8          \n",
      " 8   소지카드수_유효_신용         600000 non-null  int8          \n",
      " 9   소지카드수_이용가능_신용       600000 non-null  int8          \n",
      " 10  입회일자_신용             600000 non-null  int32         \n",
      " 11  입회경과개월수_신용          600000 non-null  int16         \n",
      " 12  회원여부_연체             600000 non-null  int8          \n",
      " 13  이용거절여부_카드론          600000 non-null  int8          \n",
      " 14  동의여부_한도증액안내         600000 non-null  int8          \n",
      " 15  수신거부여부_TM           600000 non-null  int8          \n",
      " 16  수신거부여부_DM           600000 non-null  int8          \n",
      " 17  수신거부여부_메일           600000 non-null  int8          \n",
      " 18  수신거부여부_SMS          600000 non-null  int8          \n",
      " 19  가입통신회사코드            600000 non-null  category      \n",
      " 20  탈회횟수_누적             600000 non-null  int8          \n",
      " 21  최종탈회후경과월            600000 non-null  int8          \n",
      " 22  탈회횟수_발급6개월이내        600000 non-null  int8          \n",
      " 23  탈회횟수_발급1년이내         600000 non-null  int8          \n",
      " 24  거주시도명               600000 non-null  category      \n",
      " 25  직장시도명               600000 non-null  category      \n",
      " 26  마케팅동의여부             600000 non-null  int8          \n",
      " 27  유효카드수_신용체크          600000 non-null  int8          \n",
      " 28  유효카드수_신용            600000 non-null  int8          \n",
      " 29  유효카드수_신용_가족         600000 non-null  int8          \n",
      " 30  유효카드수_체크            600000 non-null  int8          \n",
      " 31  유효카드수_체크_가족         600000 non-null  int8          \n",
      " 32  이용가능카드수_신용체크        600000 non-null  int8          \n",
      " 33  이용가능카드수_신용          600000 non-null  int8          \n",
      " 34  이용가능카드수_신용_가족       600000 non-null  int8          \n",
      " 35  이용가능카드수_체크          600000 non-null  int8          \n",
      " 36  이용가능카드수_체크_가족       600000 non-null  int8          \n",
      " 37  이용카드수_신용체크          600000 non-null  int8          \n",
      " 38  이용카드수_신용            600000 non-null  int8          \n",
      " 39  이용카드수_신용_가족         600000 non-null  int8          \n",
      " 40  이용카드수_체크            600000 non-null  int8          \n",
      " 41  이용카드수_체크_가족         600000 non-null  int8          \n",
      " 42  이용금액_R3M_신용체크       600000 non-null  int32         \n",
      " 43  이용금액_R3M_신용         600000 non-null  int32         \n",
      " 44  이용금액_R3M_신용_가족      600000 non-null  int16         \n",
      " 45  이용금액_R3M_체크         600000 non-null  int32         \n",
      " 46  이용금액_R3M_체크_가족      600000 non-null  int8          \n",
      " 47  _1순위카드이용금액          600000 non-null  int32         \n",
      " 48  _1순위카드이용건수          600000 non-null  int16         \n",
      " 49  _1순위신용체크구분          600000 non-null  category      \n",
      " 50  _2순위카드이용금액          600000 non-null  int32         \n",
      " 51  _2순위카드이용건수          600000 non-null  int16         \n",
      " 52  _2순위신용체크구분          600000 non-null  category      \n",
      " 53  최종유효년월_신용_이용가능      92852 non-null   datetime64[ns]\n",
      " 54  최종유효년월_신용_이용        79224 non-null   datetime64[ns]\n",
      " 55  최종카드발급일자            558090 non-null  datetime64[ns]\n",
      " 56  보유여부_해외겸용_본인        600000 non-null  int8          \n",
      " 57  이용가능여부_해외겸용_본인      600000 non-null  int8          \n",
      " 58  이용여부_3M_해외겸용_본인     600000 non-null  int8          \n",
      " 59  보유여부_해외겸용_신용_본인     600000 non-null  int8          \n",
      " 60  이용가능여부_해외겸용_신용_본인   600000 non-null  int8          \n",
      " 61  이용여부_3M_해외겸용_신용_본인  600000 non-null  int8          \n",
      " 62  연회비발생카드수_B0M        600000 non-null  category      \n",
      " 63  연회비할인카드수_B0M        600000 non-null  int8          \n",
      " 64  기본연회비_B0M           600000 non-null  int8          \n",
      " 65  제휴연회비_B0M           600000 non-null  int16         \n",
      " 66  할인금액_기본연회비_B0M      600000 non-null  int8          \n",
      " 67  할인금액_제휴연회비_B0M      600000 non-null  int8          \n",
      " 68  청구금액_기본연회비_B0M      600000 non-null  int8          \n",
      " 69  청구금액_제휴연회비_B0M      600000 non-null  int16         \n",
      " 70  상품관련면제카드수_B0M       600000 non-null  category      \n",
      " 71  임직원면제카드수_B0M        600000 non-null  category      \n",
      " 72  우수회원면제카드수_B0M       600000 non-null  category      \n",
      " 73  기타면제카드수_B0M         600000 non-null  category      \n",
      " 74  카드신청건수              600000 non-null  int8          \n",
      " 75  Life_Stage          600000 non-null  category      \n",
      " 76  최종카드발급경과월           600000 non-null  int8          \n",
      "dtypes: category(13), datetime64[ns](3), int16(6), int32(7), int8(48)\n",
      "memory usage: 76.0 MB\n"
     ]
    }
   ],
   "source": [
    "df.info()"
   ]
  },
  {
   "cell_type": "code",
   "execution_count": 28,
   "id": "4a02ea57",
   "metadata": {},
   "outputs": [],
   "source": [
    "df.to_parquet(file_path, index=False)"
   ]
  },
  {
   "cell_type": "markdown",
   "id": "376d111e",
   "metadata": {},
   "source": [
    "## 신용정보"
   ]
  },
  {
   "cell_type": "code",
   "execution_count": 29,
   "id": "90c8f53d",
   "metadata": {},
   "outputs": [
    {
     "name": "stdout",
     "output_type": "stream",
     "text": [
      "<class 'pandas.core.frame.DataFrame'>\n",
      "RangeIndex: 600000 entries, 0 to 599999\n",
      "Data columns (total 42 columns):\n",
      " #   Column          Non-Null Count   Dtype   \n",
      "---  ------          --------------   -----   \n",
      " 0   기준년월            600000 non-null  int32   \n",
      " 1   ID              600000 non-null  category\n",
      " 2   최초한도금액          600000 non-null  int32   \n",
      " 3   카드이용한도금액        600000 non-null  int32   \n",
      " 4   CA한도금액          600000 non-null  int32   \n",
      " 5   일시상환론한도금액       600000 non-null  int32   \n",
      " 6   월상환론한도금액        600000 non-null  int32   \n",
      " 7   CA이자율_할인전       600000 non-null  float32 \n",
      " 8   CL이자율_할인전       600000 non-null  float32 \n",
      " 9   RV일시불이자율_할인전    600000 non-null  float32 \n",
      " 10  RV현금서비스이자율_할인전  600000 non-null  float32 \n",
      " 11  RV신청일자          112482 non-null  float32 \n",
      " 12  RV약정청구율         600000 non-null  float32 \n",
      " 13  RV최소결제비율        600000 non-null  float32 \n",
      " 14  자발한도감액횟수_R12M   600000 non-null  category\n",
      " 15  자발한도감액금액_R12M   600000 non-null  int8    \n",
      " 16  자발한도감액후경과월      600000 non-null  int8    \n",
      " 17  강제한도감액횟수_R12M   600000 non-null  int8    \n",
      " 18  강제한도감액금액_R12M   600000 non-null  int8    \n",
      " 19  강제한도감액후경과월      600000 non-null  int8    \n",
      " 20  한도증액횟수_R12M     600000 non-null  category\n",
      " 21  한도증액금액_R12M     600000 non-null  int8    \n",
      " 22  한도증액후경과월        600000 non-null  int8    \n",
      " 23  상향가능한도금액        600000 non-null  int8    \n",
      " 24  상향가능CA한도금액      600000 non-null  int8    \n",
      " 25  카드론동의여부         600000 non-null  category\n",
      " 26  월상환론상향가능한도금액    600000 non-null  int8    \n",
      " 27  RV전환가능여부        592366 non-null  category\n",
      " 28  일시불ONLY전환가능여부   600000 non-null  int8    \n",
      " 29  카드이용한도금액_B1M    600000 non-null  int32   \n",
      " 30  카드이용한도금액_B2M    600000 non-null  int32   \n",
      " 31  특별한도보유여부_R3M    600000 non-null  int8    \n",
      " 32  연체감액여부_R3M      600000 non-null  int8    \n",
      " 33  한도심사요청건수        600000 non-null  category\n",
      " 34  한도요청거절건수        600000 non-null  int8    \n",
      " 35  한도심사요청후경과월      600000 non-null  int8    \n",
      " 36  한도심사거절후경과월      600000 non-null  int8    \n",
      " 37  시장단기연체여부_R6M    600000 non-null  int8    \n",
      " 38  시장단기연체여부_R3M    600000 non-null  int8    \n",
      " 39  시장연체상환여부_R6M    600000 non-null  int8    \n",
      " 40  시장연체상환여부_R3M    600000 non-null  int8    \n",
      " 41  rv최초시작후경과일      600000 non-null  int32   \n",
      "dtypes: category(6), float32(7), int32(9), int8(20)\n",
      "memory usage: 56.0 MB\n"
     ]
    }
   ],
   "source": [
    "file_name = \"credit_optimized.parquet\"\n",
    "# file_path = os.path.join(save_path, file_name)\n",
    "file_path = os.path.join(save_test_path, file_name)\n",
    "\n",
    "df = pd.read_parquet(file_path)\n",
    "df.info()"
   ]
  },
  {
   "cell_type": "code",
   "execution_count": 30,
   "id": "a2f30a4e",
   "metadata": {},
   "outputs": [
    {
     "data": {
      "text/html": [
       "<div>\n",
       "<style scoped>\n",
       "    .dataframe tbody tr th:only-of-type {\n",
       "        vertical-align: middle;\n",
       "    }\n",
       "\n",
       "    .dataframe tbody tr th {\n",
       "        vertical-align: top;\n",
       "    }\n",
       "\n",
       "    .dataframe thead th {\n",
       "        text-align: right;\n",
       "    }\n",
       "</style>\n",
       "<table border=\"1\" class=\"dataframe\">\n",
       "  <thead>\n",
       "    <tr style=\"text-align: right;\">\n",
       "      <th></th>\n",
       "      <th>missing_count</th>\n",
       "      <th>missing_percentage</th>\n",
       "      <th>type</th>\n",
       "    </tr>\n",
       "  </thead>\n",
       "  <tbody>\n",
       "    <tr>\n",
       "      <th>RV신청일자</th>\n",
       "      <td>487518</td>\n",
       "      <td>81.253000</td>\n",
       "      <td>float32</td>\n",
       "    </tr>\n",
       "    <tr>\n",
       "      <th>RV전환가능여부</th>\n",
       "      <td>7634</td>\n",
       "      <td>1.272333</td>\n",
       "      <td>category</td>\n",
       "    </tr>\n",
       "  </tbody>\n",
       "</table>\n",
       "</div>"
      ],
      "text/plain": [
       "          missing_count  missing_percentage      type\n",
       "RV신청일자           487518           81.253000   float32\n",
       "RV전환가능여부           7634            1.272333  category"
      ]
     },
     "execution_count": 30,
     "metadata": {},
     "output_type": "execute_result"
    }
   ],
   "source": [
    "detect_missing_values(df)"
   ]
  },
  {
   "cell_type": "code",
   "execution_count": 31,
   "id": "b8c4f8d8",
   "metadata": {},
   "outputs": [
    {
     "data": {
      "text/plain": [
       "['Z', 'N', NaN]\n",
       "Categories (2, object): ['N', 'Z']"
      ]
     },
     "execution_count": 31,
     "metadata": {},
     "output_type": "execute_result"
    }
   ],
   "source": [
    "df[\"RV전환가능여부\"].unique()"
   ]
  },
  {
   "cell_type": "code",
   "execution_count": 32,
   "id": "258b6d61",
   "metadata": {},
   "outputs": [
    {
     "data": {
      "text/plain": [
       "['Z', 'N', 'unknown']\n",
       "Categories (3, object): ['N', 'Z', 'unknown']"
      ]
     },
     "execution_count": 32,
     "metadata": {},
     "output_type": "execute_result"
    }
   ],
   "source": [
    "df[\"RV전환가능여부\"] = df[\"RV전환가능여부\"].cat.add_categories('unknown')\n",
    "df[\"RV전환가능여부\"] = df[\"RV전환가능여부\"].fillna('unknown') # inplace는 추천하지 않음.\n",
    "\n",
    "df[\"RV전환가능여부\"].unique()"
   ]
  },
  {
   "cell_type": "code",
   "execution_count": 33,
   "id": "ce3f75a0",
   "metadata": {},
   "outputs": [
    {
     "data": {
      "text/plain": [
       "array([      nan, 20170924., 20140416., 20120324., 20160424., 20120310.,\n",
       "       20140408., 20120424., 20180224., 20171004., 20120400., 20160408.,\n",
       "       20171008., 20160512., 20120302., 20120318., 20120312., 20170128.,\n",
       "       20120116., 20170118., 20120220., 20111224., 20170928., 20170922.,\n",
       "       20120204., 20160600., 20171016., 20160528., 20170920., 20120416.,\n",
       "       20120414., 20160516., 20120124., 20120126., 20180214., 20120510.,\n",
       "       20051116., 20120320., 20160604., 20111020., 20171010., 20171002.,\n",
       "       20160406., 20171012., 20160428., 20120304., 20120222., 20170916.,\n",
       "       20160606., 20180220., 20170124., 20170202., 20120120., 20170116.,\n",
       "       20160520., 20120216., 20120316., 20140318., 20111232., 20120202.,\n",
       "       20160518., 20111206., 20120228., 20160602., 20160526., 20160500.,\n",
       "       20160422., 20111112., 20160416., 20120212., 20170926., 20160506.,\n",
       "       20160524., 20160618., 20160616., 20160530., 20180222., 20160420.,\n",
       "       20120226., 20111210., 20120308., 20120106., 20120210., 20160504.,\n",
       "       20120108., 20120420., 20120122., 20170914., 20120404., 20160510.,\n",
       "       20160514., 20160322., 20111212., 20160412., 20120528., 20120132.,\n",
       "       20160430., 20120328., 20120200., 20160404., 20140412., 20170930.,\n",
       "       20111128., 20120500., 20160508., 20171014., 20160628., 20160608.,\n",
       "       20170112., 20170208., 20170132., 20170130., 20171020., 20160612.,\n",
       "       20120524., 20180226., 20160328., 20120300., 20120128., 20170204.,\n",
       "       20160400., 20120410., 20160410., 20111202., 20160522., 20160502.,\n",
       "       20120114., 20170918., 20111124., 20180228., 20120412., 20140224.,\n",
       "       20120224., 20120332., 20170912., 20170120., 20120112., 20171018.,\n",
       "       20120504., 20120218., 20120408., 20111216., 20120314., 20160418.,\n",
       "       20120330., 20140422., 20160324., 20180304., 20120104., 20160532.,\n",
       "       20160330., 20171006., 20160426., 20180216., 20111208., 20171000.,\n",
       "       20160402., 20111114., 20120214., 20120322., 20170216., 20120428.,\n",
       "       20120100., 20111230., 20111228., 20120612., 20120406., 20160630.,\n",
       "       20140420., 20160610., 20120110., 20180212., 20170206., 20120326.,\n",
       "       20140320., 20140500., 20120130., 20120208., 20120422., 20140414.,\n",
       "       20160614., 20140324., 20170122., 20170126., 20120206., 20120604.,\n",
       "       20140520., 20111204., 20120430., 20170114., 20160620., 20160624.,\n",
       "       20120600., 20060204., 20120402., 20140304., 20180518., 20120306.,\n",
       "       20120512., 20170200., 20140208., 20160414., 20160228., 20111110.,\n",
       "       20160704., 20170108., 20180218., 20120520., 20120518., 20120530.,\n",
       "       20111222., 20120620., 20140418., 20140300., 20160326., 20140202.,\n",
       "       20111214., 20160312., 20140528., 20120516., 20140330., 20140508.,\n",
       "       20140126., 20140322., 20120418., 20140328., 20140228., 20140308.,\n",
       "       20111108., 20111218., 20160332., 20140402., 20111220., 20120506.,\n",
       "       20120606., 20120118., 20180520., 20170110., 20160320., 20170212.,\n",
       "       20140332., 20160626., 20120608., 20140114., 20120514., 20060226.,\n",
       "       20140316., 20140502., 20120426., 20120508., 20160622., 20140326.,\n",
       "       20120526., 20140220., 20180308., 20140200., 20171024., 20170908.,\n",
       "       20180516., 20171022., 20111120., 20111226., 20140310., 20140312.,\n",
       "       20140314., 20140430., 20170104., 20140204., 20140400., 20140504.,\n",
       "       20180300., 20050908., 20140604., 20180302., 20111104., 20140218.,\n",
       "       20111130., 20170210., 20111200., 20060316., 20140302., 20140404.,\n",
       "       20140406., 20140512., 20140212., 20120102., 20140424., 20140124.,\n",
       "       20140226., 20120502., 20140524., 20120522., 20180210., 20111126.,\n",
       "       20060206., 20140516., 20140426., 20111116., 20140306., 20131224.,\n",
       "       20140214., 20111032., 20120532., 20140120., 20120610., 20111122.,\n",
       "       20140216., 20111010., 20170220., 20171026., 20050922., 20160314.,\n",
       "       20140102., 20140130., 20140410., 20111102., 20120614., 20171028.,\n",
       "       20120616., 20140128., 20160700., 20111106., 20120602., 20140428.,\n",
       "       20161228., 20120624., 20180514., 20111024., 20051100., 20131228.,\n",
       "       20170910., 20170904., 20140610., 20140222., 20120628., 20140116.,\n",
       "       20160310., 20170214., 20111118., 20140530., 20051224., 20140506.,\n",
       "       20140612., 20060220., 20060308., 20180512., 20160304., 20161232.,\n",
       "       20051120., 20170906., 20111022., 20120618., 20060118., 20060120.,\n",
       "       20051216., 20140510., 20140514., 20111100., 20051024., 20051208.,\n",
       "       20160706., 20170106., 20120714., 20120712., 20180328., 20171102.,\n",
       "       20171108., 20171124., 20160712., 20171104., 20171032., 20170310.,\n",
       "       20160800., 20171112., 20171100., 20180324., 20051108., 20171118.,\n",
       "       20171120., 20160708., 20180330., 20170318., 20170306., 20170226.,\n",
       "       20170222., 20160702., 20171116., 20171128., 20171030., 20140532.,\n",
       "       20160716., 20170316., 20170224., 20170314., 20171110., 20120700.,\n",
       "       20170308., 20171106., 20120716., 20170228., 20120728., 20160720.,\n",
       "       20120722., 20170218., 20160710., 20180404., 20171122., 20180402.,\n",
       "       20160718., 20170302., 20170322., 20160714., 20171114., 20140608.,\n",
       "       20170320., 20160728., 20180326., 20140708., 20160802., 20160816.,\n",
       "       20120702., 20160722., 20170300., 20180316., 20180320., 20180332.,\n",
       "       20120802., 20170304., 20170404., 20170324., 20160724., 20120806.,\n",
       "       20180322., 20180624., 20160726., 20160804., 20180312., 20160316.,\n",
       "       20160904., 20180400., 20170330., 20160824., 20171206., 20170328.,\n",
       "       20120622., 20160730., 20140616., 20180318., 20140712., 20170312.,\n",
       "       20160906., 20120704., 20171200., 20160812., 20140628., 20120908.,\n",
       "       20140526., 20171204., 20111016., 20120626., 20140606., 20180620.,\n",
       "       20171130., 20160806., 20050930., 20140630., 20161220., 20160732.,\n",
       "       20160808., 20171126., 20120724., 20120710., 20180408., 20060624.,\n",
       "       20180314., 20180406., 20120706., 20110906., 20060304., 20140824.,\n",
       "       20120920., 20180622., 20120630., 20180412., 20060314., 20140724.,\n",
       "       20111004., 20120726., 20050628., 20140614., 20160828., 20051004.,\n",
       "       20140522., 20171202., 20160810., 20120708., 20180310., 20120820.,\n",
       "       20111012., 20120824., 20120916., 20160900., 20180614., 20160820.,\n",
       "       20120808., 20120730., 20180616., 20120804., 20171208., 20120718.,\n",
       "       20131128., 20131112., 20120810., 20120720., 20140624., 20120830.,\n",
       "       20160814., 20160926., 20051226., 20140702., 20140720., 20170408.,\n",
       "       20060208., 20120732., 20060306., 20110730., 20140704., 20120800.,\n",
       "       20140620., 20160830., 20140718., 20120910., 20180410., 20120816.,\n",
       "       20140816., 20140518., 20060122., 20120828., 20111030., 20170326.,\n",
       "       20060330., 20140122., 20060108., 20050808., 20171220., 20171210.,\n",
       "       20171212., 20160908., 20171222., 20170332., 20060406., 20171226.,\n",
       "       20180502., 20170402., 20180106., 20171216., 20170412., 20171232.,\n",
       "       20171214., 20180416., 20180428., 20171218., 20171224., 20180422.,\n",
       "       20180504., 20180426., 20170416., 20140730., 20170428., 20140812.,\n",
       "       20140710., 20171228., 20180508., 20180506., 20180420., 20170414.,\n",
       "       20180424., 20060312., 20120812., 20170422., 20160818., 20160922.,\n",
       "       20170406., 20160826., 20180722., 20170400., 20180418., 20160916.,\n",
       "       20180430., 20160832., 20160822., 20140732., 20160912., 20180500.,\n",
       "       20140618., 20140802., 20121024., 20160918., 20060902., 20170418.,\n",
       "       20170410., 20140622., 20140818., 20120924., 20180720., 20140602.,\n",
       "       20060114., 20140804., 20120826., 20160902., 20120906., 20061116.,\n",
       "       20120900., 20171230., 20060414., 20140722., 20180110., 20140716.,\n",
       "       20140600., 20180102., 20180104., 20120912., 20180716., 20140626.,\n",
       "       20170420., 20140808., 20140728., 20170426., 20120814., 20050914.,\n",
       "       20180718., 20141028., 20120904., 20170504., 20180804., 20170424.,\n",
       "       20160920., 20120832., 20060124., 20170508., 20160924., 20160928.,\n",
       "       20140706., 20120818., 20140112., 20180414., 20180100., 20160910.,\n",
       "       20120922., 20180724., 20161008., 20060410., 20120902., 20060324.,\n",
       "       20140726., 20140912., 20060520., 20170430., 20060102., 20120928.,\n",
       "       20160914., 20140700., 20060216., 20060224., 20121004., 20180726.,\n",
       "       20060608., 20121016., 20140810., 20180714., 20180112., 20180530.,\n",
       "       20060824., 20170512., 20170510., 20180116., 20180108., 20170506.,\n",
       "       20170520., 20180120., 20180124., 20170502., 20180128., 20180118.,\n",
       "       20161102., 20161004., 20121002., 20161002., 20180604., 20180600.,\n",
       "       20141108., 20161020., 20180528., 20140908., 20160930., 20121006.,\n",
       "       20180114., 20170516., 20140828., 20180522., 20161012., 20140832.,\n",
       "       20180526., 20060516., 20180524., 20161000., 20060428., 20120918.,\n",
       "       20170524., 20121100., 20161024., 20161026., 20170500., 20161014.,\n",
       "       20120822., 20120914., 20161124., 20180824., 20050830., 20180820.,\n",
       "       20121000., 20161028., 20180122., 20140814., 20170526., 20170528.,\n",
       "       20170514., 20121008., 20161204., 20140822., 20121128., 20180130.,\n",
       "       20121120., 20060704., 20170604., 20180132., 20161016., 20140714.,\n",
       "       20180126., 20180818., 20141012., 20170518., 20170600., 20140820.,\n",
       "       20140914., 20121012., 20180208., 20140800., 20161104., 20180602.,\n",
       "       20060404., 20140902., 20121116., 20060928., 20140900., 20161006.,\n",
       "       20120926., 20180202., 20161032., 20161010., 20180204., 20170608.,\n",
       "       20060512., 20060920., 20180532., 20180612., 20180510., 20180200.,\n",
       "       20060622., 20121018., 20060610., 20170522., 20060506., 20060712.,\n",
       "       20180610., 20060424., 20120930., 20161114., 20170606., 20141000.,\n",
       "       20140910., 20121020., 20180816., 20121028., 20180814., 20140806.,\n",
       "       20161100., 20140826., 20121010., 20121104., 20180608., 20140904.,\n",
       "       20060128., 20170612., 20161030., 20060900., 20180206., 20170616.,\n",
       "       20170602., 20140830., 20121110., 20161212., 20170708., 20170532.,\n",
       "       20180700., 20161018., 20180628., 20121124., 20161112., 20161200.,\n",
       "       20180702., 20161106., 20161122., 20170610., 20161108., 20170624.,\n",
       "       20161222., 20060212., 20161116., 20121112., 20121108., 20141112.,\n",
       "       20121014., 20141124., 20170614., 20180920., 20140922., 20161120.,\n",
       "       20161128., 20170620., 20161022., 20180618., 20180306., 20180928.,\n",
       "       20060318., 20140924., 20180704., 20141026., 20170530., 20180626.,\n",
       "       20170710., 20170618., 20161110., 20121204., 20180708., 20051210.,\n",
       "       20141002., 20121022., 20060504., 20140918., 20141004., 20170704.,\n",
       "       20161126., 20161208., 20060618., 20141010., 20180916., 20161130.,\n",
       "       20141032., 20141018., 20170628., 20121208., 20140916., 20140928.,\n",
       "       20141008., 20141104., 20170700., 20130118., 20170712., 20121210.,\n",
       "       20121106., 20121232., 20180710., 20140930., 20180924., 20050912.,\n",
       "       20141120., 20161210., 20161118., 20180918., 20060420., 20180706.,\n",
       "       20051212., 20070428., 20161214., 20140926., 20121102., 20180630.,\n",
       "       20060724., 20180712., 20121026., 20060228., 20170622., 20170706.,\n",
       "       20060612., 20140906., 20170626., 20141102., 20170718., 20170702.,\n",
       "       20140920., 20141014., 20141006., 20161216., 20180922., 20121212.,\n",
       "       20121114., 20170728., 20180808., 20161224., 20180730., 20170720.,\n",
       "       20170808., 20141022., 20141128., 20180728., 20121200., 20170716.,\n",
       "       20170724., 20121216., 20161202., 20170722., 20121032., 20130408.,\n",
       "       20170726., 20170714., 20121030., 20161230., 20180800., 20121206.,\n",
       "       20170630., 20141020., 20121126., 20170814., 20060320., 20161206.,\n",
       "       20141212., 20170816., 20141130., 20170800., 20181022., 20121220.,\n",
       "       20121122., 20170812., 20161218., 20141116., 20150108., 20121214.,\n",
       "       20121224., 20170802., 20060710., 20170732., 20170102., 20170804.,\n",
       "       20141118., 20141016., 20161226., 20170730., 20180732., 20141024.,\n",
       "       20121226., 20130108., 20141122., 20130106., 20130120., 20130116.,\n",
       "       20121222., 20121118., 20121130., 20130122., 20181012., 20181100.,\n",
       "       20121228., 20130102., 20130112., 20141208., 20141030., 20180802.,\n",
       "       20180806., 20170100., 20061028., 20181026., 20141100., 20170806.,\n",
       "       20060514., 20060904., 20060524., 20060416.], dtype=float32)"
      ]
     },
     "execution_count": 33,
     "metadata": {},
     "output_type": "execute_result"
    }
   ],
   "source": [
    "df[\"RV신청일자\"].unique()"
   ]
  },
  {
   "cell_type": "code",
   "execution_count": 34,
   "id": "f0525e8e",
   "metadata": {},
   "outputs": [
    {
     "name": "stdout",
     "output_type": "stream",
     "text": [
      "<DatetimeArray>\n",
      "[                'NaT', '2017-09-24 00:00:00', '2014-04-16 00:00:00',\n",
      " '2012-03-24 00:00:00', '2016-04-24 00:00:00', '2012-03-10 00:00:00',\n",
      " '2014-04-08 00:00:00', '2012-04-24 00:00:00', '2018-02-24 00:00:00',\n",
      " '2017-10-04 00:00:00',\n",
      " ...\n",
      " '2014-10-30 00:00:00', '2018-08-02 00:00:00', '2018-08-06 00:00:00',\n",
      " '2006-10-28 00:00:00', '2018-10-26 00:00:00', '2017-08-06 00:00:00',\n",
      " '2006-05-14 00:00:00', '2006-09-04 00:00:00', '2006-05-24 00:00:00',\n",
      " '2006-04-16 00:00:00']\n",
      "Length: 903, dtype: datetime64[ns]\n"
     ]
    }
   ],
   "source": [
    "columns = [\"RV신청일자\"]\n",
    "df = convert_to_datetime(df, columns)\n",
    "\n",
    "for col in columns:\n",
    "    print(df[col].unique())"
   ]
  },
  {
   "cell_type": "code",
   "execution_count": 35,
   "id": "285d89c5",
   "metadata": {},
   "outputs": [],
   "source": [
    "df.to_parquet(file_path, index=False)"
   ]
  },
  {
   "cell_type": "markdown",
   "id": "639b968e",
   "metadata": {},
   "source": [
    "## 승인매출정보"
   ]
  },
  {
   "cell_type": "code",
   "execution_count": 36,
   "id": "c8e12452",
   "metadata": {},
   "outputs": [
    {
     "name": "stdout",
     "output_type": "stream",
     "text": [
      "<class 'pandas.core.frame.DataFrame'>\n",
      "RangeIndex: 600000 entries, 0 to 599999\n",
      "Columns: 406 entries, 기준년월 to 이용금액대\n",
      "dtypes: category(18), float32(3), int16(110), int32(65), int8(210)\n",
      "memory usage: 416.5 MB\n"
     ]
    }
   ],
   "source": [
    "file_name = \"tx_optimized.parquet\"\n",
    "# file_path = os.path.join(save_path, file_name)\n",
    "file_path = os.path.join(save_test_path, file_name)\n",
    "\n",
    "df = pd.read_parquet(file_path)\n",
    "df.info()"
   ]
  },
  {
   "cell_type": "code",
   "execution_count": 37,
   "id": "f36ec48f",
   "metadata": {},
   "outputs": [
    {
     "data": {
      "text/html": [
       "<div>\n",
       "<style scoped>\n",
       "    .dataframe tbody tr th:only-of-type {\n",
       "        vertical-align: middle;\n",
       "    }\n",
       "\n",
       "    .dataframe tbody tr th {\n",
       "        vertical-align: top;\n",
       "    }\n",
       "\n",
       "    .dataframe thead th {\n",
       "        text-align: right;\n",
       "    }\n",
       "</style>\n",
       "<table border=\"1\" class=\"dataframe\">\n",
       "  <thead>\n",
       "    <tr style=\"text-align: right;\">\n",
       "      <th></th>\n",
       "      <th>missing_count</th>\n",
       "      <th>missing_percentage</th>\n",
       "      <th>type</th>\n",
       "    </tr>\n",
       "  </thead>\n",
       "  <tbody>\n",
       "    <tr>\n",
       "      <th>_1순위업종</th>\n",
       "      <td>136575</td>\n",
       "      <td>22.762500</td>\n",
       "      <td>category</td>\n",
       "    </tr>\n",
       "    <tr>\n",
       "      <th>_2순위업종</th>\n",
       "      <td>231087</td>\n",
       "      <td>38.514500</td>\n",
       "      <td>category</td>\n",
       "    </tr>\n",
       "    <tr>\n",
       "      <th>_3순위업종</th>\n",
       "      <td>279806</td>\n",
       "      <td>46.634333</td>\n",
       "      <td>category</td>\n",
       "    </tr>\n",
       "    <tr>\n",
       "      <th>_1순위쇼핑업종</th>\n",
       "      <td>232771</td>\n",
       "      <td>38.795167</td>\n",
       "      <td>category</td>\n",
       "    </tr>\n",
       "    <tr>\n",
       "      <th>_2순위쇼핑업종</th>\n",
       "      <td>286358</td>\n",
       "      <td>47.726333</td>\n",
       "      <td>category</td>\n",
       "    </tr>\n",
       "    <tr>\n",
       "      <th>_3순위쇼핑업종</th>\n",
       "      <td>330955</td>\n",
       "      <td>55.159167</td>\n",
       "      <td>category</td>\n",
       "    </tr>\n",
       "    <tr>\n",
       "      <th>_1순위교통업종</th>\n",
       "      <td>292960</td>\n",
       "      <td>48.826667</td>\n",
       "      <td>category</td>\n",
       "    </tr>\n",
       "    <tr>\n",
       "      <th>_2순위교통업종</th>\n",
       "      <td>414730</td>\n",
       "      <td>69.121667</td>\n",
       "      <td>category</td>\n",
       "    </tr>\n",
       "    <tr>\n",
       "      <th>_3순위교통업종</th>\n",
       "      <td>510729</td>\n",
       "      <td>85.121500</td>\n",
       "      <td>category</td>\n",
       "    </tr>\n",
       "    <tr>\n",
       "      <th>_1순위여유업종</th>\n",
       "      <td>498313</td>\n",
       "      <td>83.052167</td>\n",
       "      <td>category</td>\n",
       "    </tr>\n",
       "    <tr>\n",
       "      <th>_2순위여유업종</th>\n",
       "      <td>575821</td>\n",
       "      <td>95.970167</td>\n",
       "      <td>category</td>\n",
       "    </tr>\n",
       "    <tr>\n",
       "      <th>_3순위여유업종</th>\n",
       "      <td>594565</td>\n",
       "      <td>99.094167</td>\n",
       "      <td>category</td>\n",
       "    </tr>\n",
       "    <tr>\n",
       "      <th>_1순위납부업종</th>\n",
       "      <td>305994</td>\n",
       "      <td>50.999000</td>\n",
       "      <td>category</td>\n",
       "    </tr>\n",
       "    <tr>\n",
       "      <th>_2순위납부업종</th>\n",
       "      <td>510271</td>\n",
       "      <td>85.045167</td>\n",
       "      <td>category</td>\n",
       "    </tr>\n",
       "    <tr>\n",
       "      <th>_3순위납부업종</th>\n",
       "      <td>578711</td>\n",
       "      <td>96.451833</td>\n",
       "      <td>category</td>\n",
       "    </tr>\n",
       "    <tr>\n",
       "      <th>최종카드론_금융상환방식코드</th>\n",
       "      <td>489771</td>\n",
       "      <td>81.628500</td>\n",
       "      <td>float32</td>\n",
       "    </tr>\n",
       "    <tr>\n",
       "      <th>최종카드론_신청경로코드</th>\n",
       "      <td>489783</td>\n",
       "      <td>81.630500</td>\n",
       "      <td>category</td>\n",
       "    </tr>\n",
       "    <tr>\n",
       "      <th>최종카드론_대출일자</th>\n",
       "      <td>497538</td>\n",
       "      <td>82.923000</td>\n",
       "      <td>float32</td>\n",
       "    </tr>\n",
       "  </tbody>\n",
       "</table>\n",
       "</div>"
      ],
      "text/plain": [
       "                missing_count  missing_percentage      type\n",
       "_1순위업종                 136575           22.762500  category\n",
       "_2순위업종                 231087           38.514500  category\n",
       "_3순위업종                 279806           46.634333  category\n",
       "_1순위쇼핑업종               232771           38.795167  category\n",
       "_2순위쇼핑업종               286358           47.726333  category\n",
       "_3순위쇼핑업종               330955           55.159167  category\n",
       "_1순위교통업종               292960           48.826667  category\n",
       "_2순위교통업종               414730           69.121667  category\n",
       "_3순위교통업종               510729           85.121500  category\n",
       "_1순위여유업종               498313           83.052167  category\n",
       "_2순위여유업종               575821           95.970167  category\n",
       "_3순위여유업종               594565           99.094167  category\n",
       "_1순위납부업종               305994           50.999000  category\n",
       "_2순위납부업종               510271           85.045167  category\n",
       "_3순위납부업종               578711           96.451833  category\n",
       "최종카드론_금융상환방식코드         489771           81.628500   float32\n",
       "최종카드론_신청경로코드           489783           81.630500  category\n",
       "최종카드론_대출일자             497538           82.923000   float32"
      ]
     },
     "execution_count": 37,
     "metadata": {},
     "output_type": "execute_result"
    }
   ],
   "source": [
    "detect_missing_values(df)"
   ]
  },
  {
   "cell_type": "code",
   "execution_count": 38,
   "id": "7bd00cbf",
   "metadata": {},
   "outputs": [
    {
     "data": {
      "text/plain": [
       "['쇼핑', nan, '사교활동', '해외', '납부', '교육', '교통', '의료', '여유생활', '일상생활', '요식']"
      ]
     },
     "execution_count": 38,
     "metadata": {},
     "output_type": "execute_result"
    }
   ],
   "source": [
    "df[\"_1순위업종\"].unique().tolist()"
   ]
  },
  {
   "cell_type": "code",
   "execution_count": 39,
   "id": "0c85a08a",
   "metadata": {},
   "outputs": [
    {
     "data": {
      "text/plain": [
       "['쇼핑', 'unknown', '사교활동', '해외', '납부', '교육', '교통', '의료', '여유생활', '일상생활', '요식']"
      ]
     },
     "execution_count": 39,
     "metadata": {},
     "output_type": "execute_result"
    }
   ],
   "source": [
    "df[\"_1순위업종\"] = df[\"_1순위업종\"].cat.add_categories('unknown')\n",
    "df[\"_1순위업종\"] = df[\"_1순위업종\"].fillna('unknown') # inplace는 추천하지 않음.\n",
    "\n",
    "df[\"_1순위업종\"].unique().tolist()"
   ]
  },
  {
   "cell_type": "code",
   "execution_count": 40,
   "id": "305eae99",
   "metadata": {},
   "outputs": [
    {
     "data": {
      "text/plain": [
       "['여유생활', '사교활동', '교통', nan, '쇼핑', '의료', '납부', '교육', '해외', '일상생활', '요식']"
      ]
     },
     "execution_count": 40,
     "metadata": {},
     "output_type": "execute_result"
    }
   ],
   "source": [
    "df[\"_2순위업종\"].unique().tolist()"
   ]
  },
  {
   "cell_type": "code",
   "execution_count": 41,
   "id": "4dde775b",
   "metadata": {},
   "outputs": [
    {
     "data": {
      "text/plain": [
       "['여유생활', '사교활동', '교통', 'unknown', '쇼핑', '의료', '납부', '교육', '해외', '일상생활', '요식']"
      ]
     },
     "execution_count": 41,
     "metadata": {},
     "output_type": "execute_result"
    }
   ],
   "source": [
    "df[\"_2순위업종\"] = df[\"_2순위업종\"].cat.add_categories('unknown')\n",
    "df[\"_2순위업종\"] = df[\"_2순위업종\"].fillna('unknown') # inplace는 추천하지 않음.\n",
    "\n",
    "df[\"_2순위업종\"].unique().tolist()"
   ]
  },
  {
   "cell_type": "code",
   "execution_count": 42,
   "id": "6f451754",
   "metadata": {},
   "outputs": [
    {
     "data": {
      "text/plain": [
       "['교통', '사교활동', nan, '납부', '의료', '쇼핑', '요식', '일상생활', '여유생활', '해외', '교육']"
      ]
     },
     "execution_count": 42,
     "metadata": {},
     "output_type": "execute_result"
    }
   ],
   "source": [
    "df[\"_3순위업종\"].unique().tolist()"
   ]
  },
  {
   "cell_type": "code",
   "execution_count": 73,
   "id": "13f1f283",
   "metadata": {},
   "outputs": [
    {
     "data": {
      "text/plain": [
       "['교통', '사교활동', 'unknown', '납부', '의료', '쇼핑', '요식', '일상생활', '여유생활', '해외', '교육']"
      ]
     },
     "execution_count": 73,
     "metadata": {},
     "output_type": "execute_result"
    }
   ],
   "source": [
    "df[\"_3순위업종\"] = df[\"_3순위업종\"].cat.add_categories('unknown')\n",
    "df[\"_3순위업종\"] = df[\"_3순위업종\"].fillna('unknown') # inplace는 추천하지 않음.\n",
    "\n",
    "df[\"_3순위업종\"].unique().tolist()"
   ]
  },
  {
   "cell_type": "code",
   "execution_count": 74,
   "id": "19d4d889",
   "metadata": {},
   "outputs": [
    {
     "data": {
      "text/plain": [
       "['온라인', '도소매', nan, '마트', '아울렛', '편의점', '슈퍼마켓', '백화점', '쇼핑기타']"
      ]
     },
     "execution_count": 74,
     "metadata": {},
     "output_type": "execute_result"
    }
   ],
   "source": [
    "df[\"_1순위쇼핑업종\"].unique().tolist()"
   ]
  },
  {
   "cell_type": "code",
   "execution_count": 75,
   "id": "a1048c62",
   "metadata": {},
   "outputs": [
    {
     "data": {
      "text/plain": [
       "['온라인', '도소매', 'unknown', '마트', '아울렛', '편의점', '슈퍼마켓', '백화점', '쇼핑기타']"
      ]
     },
     "execution_count": 75,
     "metadata": {},
     "output_type": "execute_result"
    }
   ],
   "source": [
    "df[\"_1순위쇼핑업종\"] = df[\"_1순위쇼핑업종\"].cat.add_categories('unknown')\n",
    "df[\"_1순위쇼핑업종\"] = df[\"_1순위쇼핑업종\"].fillna('unknown') # inplace는 추천하지 않음.\n",
    "\n",
    "df[\"_1순위쇼핑업종\"].unique().tolist()"
   ]
  },
  {
   "cell_type": "code",
   "execution_count": 76,
   "id": "78316367",
   "metadata": {},
   "outputs": [
    {
     "data": {
      "text/plain": [
       "['마트', '편의점', 'unknown', '도소매', '슈퍼마켓', '온라인', '백화점', '아울렛', '쇼핑기타']"
      ]
     },
     "execution_count": 76,
     "metadata": {},
     "output_type": "execute_result"
    }
   ],
   "source": [
    "df[\"_2순위쇼핑업종\"].unique().tolist()"
   ]
  },
  {
   "cell_type": "code",
   "execution_count": 77,
   "id": "7a06c649",
   "metadata": {},
   "outputs": [
    {
     "ename": "ValueError",
     "evalue": "new categories must not include old categories: {'unknown'}",
     "output_type": "error",
     "traceback": [
      "\u001b[1;31m---------------------------------------------------------------------------\u001b[0m",
      "\u001b[1;31mValueError\u001b[0m                                Traceback (most recent call last)",
      "Cell \u001b[1;32mIn[77], line 1\u001b[0m\n\u001b[1;32m----> 1\u001b[0m df[\u001b[38;5;124m\"\u001b[39m\u001b[38;5;124m_2순위쇼핑업종\u001b[39m\u001b[38;5;124m\"\u001b[39m] \u001b[38;5;241m=\u001b[39m \u001b[43mdf\u001b[49m\u001b[43m[\u001b[49m\u001b[38;5;124;43m\"\u001b[39;49m\u001b[38;5;124;43m_2순위쇼핑업종\u001b[39;49m\u001b[38;5;124;43m\"\u001b[39;49m\u001b[43m]\u001b[49m\u001b[38;5;241;43m.\u001b[39;49m\u001b[43mcat\u001b[49m\u001b[38;5;241;43m.\u001b[39;49m\u001b[43madd_categories\u001b[49m\u001b[43m(\u001b[49m\u001b[38;5;124;43m'\u001b[39;49m\u001b[38;5;124;43munknown\u001b[39;49m\u001b[38;5;124;43m'\u001b[39;49m\u001b[43m)\u001b[49m\n\u001b[0;32m      2\u001b[0m df[\u001b[38;5;124m\"\u001b[39m\u001b[38;5;124m_2순위쇼핑업종\u001b[39m\u001b[38;5;124m\"\u001b[39m] \u001b[38;5;241m=\u001b[39m df[\u001b[38;5;124m\"\u001b[39m\u001b[38;5;124m_2순위쇼핑업종\u001b[39m\u001b[38;5;124m\"\u001b[39m]\u001b[38;5;241m.\u001b[39mfillna(\u001b[38;5;124m'\u001b[39m\u001b[38;5;124munknown\u001b[39m\u001b[38;5;124m'\u001b[39m) \u001b[38;5;66;03m# inplace는 추천하지 않음.\u001b[39;00m\n\u001b[0;32m      4\u001b[0m df[\u001b[38;5;124m\"\u001b[39m\u001b[38;5;124m_2순위쇼핑업종\u001b[39m\u001b[38;5;124m\"\u001b[39m]\u001b[38;5;241m.\u001b[39munique()\u001b[38;5;241m.\u001b[39mtolist()\n",
      "File \u001b[1;32mc:\\Users\\Lee JinSeoung\\AppData\\Local\\Programs\\Python\\Python310\\lib\\site-packages\\pandas\\core\\accessor.py:112\u001b[0m, in \u001b[0;36mPandasDelegate._add_delegate_accessors.<locals>._create_delegator_method.<locals>.f\u001b[1;34m(self, *args, **kwargs)\u001b[0m\n\u001b[0;32m    111\u001b[0m \u001b[38;5;28;01mdef\u001b[39;00m\u001b[38;5;250m \u001b[39m\u001b[38;5;21mf\u001b[39m(\u001b[38;5;28mself\u001b[39m, \u001b[38;5;241m*\u001b[39margs, \u001b[38;5;241m*\u001b[39m\u001b[38;5;241m*\u001b[39mkwargs):\n\u001b[1;32m--> 112\u001b[0m     \u001b[38;5;28;01mreturn\u001b[39;00m \u001b[38;5;28mself\u001b[39m\u001b[38;5;241m.\u001b[39m_delegate_method(name, \u001b[38;5;241m*\u001b[39margs, \u001b[38;5;241m*\u001b[39m\u001b[38;5;241m*\u001b[39mkwargs)\n",
      "File \u001b[1;32mc:\\Users\\Lee JinSeoung\\AppData\\Local\\Programs\\Python\\Python310\\lib\\site-packages\\pandas\\core\\arrays\\categorical.py:2941\u001b[0m, in \u001b[0;36mCategoricalAccessor._delegate_method\u001b[1;34m(self, name, *args, **kwargs)\u001b[0m\n\u001b[0;32m   2938\u001b[0m \u001b[38;5;28;01mfrom\u001b[39;00m\u001b[38;5;250m \u001b[39m\u001b[38;5;21;01mpandas\u001b[39;00m\u001b[38;5;250m \u001b[39m\u001b[38;5;28;01mimport\u001b[39;00m Series\n\u001b[0;32m   2940\u001b[0m method \u001b[38;5;241m=\u001b[39m \u001b[38;5;28mgetattr\u001b[39m(\u001b[38;5;28mself\u001b[39m\u001b[38;5;241m.\u001b[39m_parent, name)\n\u001b[1;32m-> 2941\u001b[0m res \u001b[38;5;241m=\u001b[39m method(\u001b[38;5;241m*\u001b[39margs, \u001b[38;5;241m*\u001b[39m\u001b[38;5;241m*\u001b[39mkwargs)\n\u001b[0;32m   2942\u001b[0m \u001b[38;5;28;01mif\u001b[39;00m res \u001b[38;5;129;01mis\u001b[39;00m \u001b[38;5;129;01mnot\u001b[39;00m \u001b[38;5;28;01mNone\u001b[39;00m:\n\u001b[0;32m   2943\u001b[0m     \u001b[38;5;28;01mreturn\u001b[39;00m Series(res, index\u001b[38;5;241m=\u001b[39m\u001b[38;5;28mself\u001b[39m\u001b[38;5;241m.\u001b[39m_index, name\u001b[38;5;241m=\u001b[39m\u001b[38;5;28mself\u001b[39m\u001b[38;5;241m.\u001b[39m_name)\n",
      "File \u001b[1;32mc:\\Users\\Lee JinSeoung\\AppData\\Local\\Programs\\Python\\Python310\\lib\\site-packages\\pandas\\core\\arrays\\categorical.py:1330\u001b[0m, in \u001b[0;36mCategorical.add_categories\u001b[1;34m(self, new_categories)\u001b[0m\n\u001b[0;32m   1328\u001b[0m already_included \u001b[38;5;241m=\u001b[39m \u001b[38;5;28mset\u001b[39m(new_categories) \u001b[38;5;241m&\u001b[39m \u001b[38;5;28mset\u001b[39m(\u001b[38;5;28mself\u001b[39m\u001b[38;5;241m.\u001b[39mdtype\u001b[38;5;241m.\u001b[39mcategories)\n\u001b[0;32m   1329\u001b[0m \u001b[38;5;28;01mif\u001b[39;00m \u001b[38;5;28mlen\u001b[39m(already_included) \u001b[38;5;241m!=\u001b[39m \u001b[38;5;241m0\u001b[39m:\n\u001b[1;32m-> 1330\u001b[0m     \u001b[38;5;28;01mraise\u001b[39;00m \u001b[38;5;167;01mValueError\u001b[39;00m(\n\u001b[0;32m   1331\u001b[0m         \u001b[38;5;124mf\u001b[39m\u001b[38;5;124m\"\u001b[39m\u001b[38;5;124mnew categories must not include old categories: \u001b[39m\u001b[38;5;132;01m{\u001b[39;00malready_included\u001b[38;5;132;01m}\u001b[39;00m\u001b[38;5;124m\"\u001b[39m\n\u001b[0;32m   1332\u001b[0m     )\n\u001b[0;32m   1334\u001b[0m \u001b[38;5;28;01mif\u001b[39;00m \u001b[38;5;28mhasattr\u001b[39m(new_categories, \u001b[38;5;124m\"\u001b[39m\u001b[38;5;124mdtype\u001b[39m\u001b[38;5;124m\"\u001b[39m):\n\u001b[0;32m   1335\u001b[0m     \u001b[38;5;28;01mfrom\u001b[39;00m\u001b[38;5;250m \u001b[39m\u001b[38;5;21;01mpandas\u001b[39;00m\u001b[38;5;250m \u001b[39m\u001b[38;5;28;01mimport\u001b[39;00m Series\n",
      "\u001b[1;31mValueError\u001b[0m: new categories must not include old categories: {'unknown'}"
     ]
    }
   ],
   "source": [
    "df[\"_2순위쇼핑업종\"] = df[\"_2순위쇼핑업종\"].cat.add_categories('unknown')\n",
    "df[\"_2순위쇼핑업종\"] = df[\"_2순위쇼핑업종\"].fillna('unknown') # inplace는 추천하지 않음.\n",
    "\n",
    "df[\"_2순위쇼핑업종\"].unique().tolist()"
   ]
  },
  {
   "cell_type": "code",
   "execution_count": 46,
   "id": "e514c469",
   "metadata": {},
   "outputs": [
    {
     "data": {
      "text/plain": [
       "['백화점', '도소매', '슈퍼마켓', nan, '편의점', '마트', '온라인', '아울렛', '쇼핑기타']"
      ]
     },
     "execution_count": 46,
     "metadata": {},
     "output_type": "execute_result"
    }
   ],
   "source": [
    "df[\"_3순위쇼핑업종\"].unique().tolist()"
   ]
  },
  {
   "cell_type": "code",
   "execution_count": 47,
   "id": "804dfbb5",
   "metadata": {},
   "outputs": [
    {
     "data": {
      "text/plain": [
       "['백화점', '도소매', '슈퍼마켓', 'unknown', '편의점', '마트', '온라인', '아울렛', '쇼핑기타']"
      ]
     },
     "execution_count": 47,
     "metadata": {},
     "output_type": "execute_result"
    }
   ],
   "source": [
    "df[\"_3순위쇼핑업종\"] = df[\"_3순위쇼핑업종\"].cat.add_categories('unknown')\n",
    "df[\"_3순위쇼핑업종\"] = df[\"_3순위쇼핑업종\"].fillna('unknown') # inplace는 추천하지 않음.\n",
    "\n",
    "df[\"_3순위쇼핑업종\"].unique().tolist()"
   ]
  },
  {
   "cell_type": "code",
   "execution_count": 48,
   "id": "2a41125c",
   "metadata": {},
   "outputs": [
    {
     "data": {
      "text/plain": [
       "['주유', '버스지하철', nan, '택시', '철도버스', '정비']"
      ]
     },
     "execution_count": 48,
     "metadata": {},
     "output_type": "execute_result"
    }
   ],
   "source": [
    "df[\"_1순위교통업종\"].unique().tolist()"
   ]
  },
  {
   "cell_type": "code",
   "execution_count": 49,
   "id": "a0bb4272",
   "metadata": {},
   "outputs": [
    {
     "data": {
      "text/plain": [
       "['주유', '버스지하철', 'unknown', '택시', '철도버스', '정비']"
      ]
     },
     "execution_count": 49,
     "metadata": {},
     "output_type": "execute_result"
    }
   ],
   "source": [
    "df[\"_1순위교통업종\"] = df[\"_1순위교통업종\"].cat.add_categories('unknown')\n",
    "df[\"_1순위교통업종\"] = df[\"_1순위교통업종\"].fillna('unknown') # inplace는 추천하지 않음.\n",
    "\n",
    "df[\"_1순위교통업종\"].unique().tolist()"
   ]
  },
  {
   "cell_type": "code",
   "execution_count": 50,
   "id": "2dc95138",
   "metadata": {},
   "outputs": [
    {
     "data": {
      "text/plain": [
       "['철도버스', nan, '정비', '버스지하철', '택시', '주유', '통행료']"
      ]
     },
     "execution_count": 50,
     "metadata": {},
     "output_type": "execute_result"
    }
   ],
   "source": [
    "df[\"_2순위교통업종\"].unique().tolist()"
   ]
  },
  {
   "cell_type": "code",
   "execution_count": 51,
   "id": "5cad7149",
   "metadata": {},
   "outputs": [
    {
     "data": {
      "text/plain": [
       "['철도버스', 'unknown', '정비', '버스지하철', '택시', '주유', '통행료']"
      ]
     },
     "execution_count": 51,
     "metadata": {},
     "output_type": "execute_result"
    }
   ],
   "source": [
    "df[\"_2순위교통업종\"] = df[\"_2순위교통업종\"].cat.add_categories('unknown')\n",
    "df[\"_2순위교통업종\"] = df[\"_2순위교통업종\"].fillna('unknown') # inplace는 추천하지 않음.\n",
    "\n",
    "df[\"_2순위교통업종\"].unique().tolist()"
   ]
  },
  {
   "cell_type": "code",
   "execution_count": 52,
   "id": "2295531d",
   "metadata": {},
   "outputs": [
    {
     "data": {
      "text/plain": [
       "['버스지하철', nan, '택시', '철도버스', '정비', '통행료']"
      ]
     },
     "execution_count": 52,
     "metadata": {},
     "output_type": "execute_result"
    }
   ],
   "source": [
    "df[\"_3순위교통업종\"].unique().tolist()"
   ]
  },
  {
   "cell_type": "code",
   "execution_count": 53,
   "id": "6e5a577f",
   "metadata": {},
   "outputs": [
    {
     "data": {
      "text/plain": [
       "['버스지하철', 'unknown', '택시', '철도버스', '정비', '통행료']"
      ]
     },
     "execution_count": 53,
     "metadata": {},
     "output_type": "execute_result"
    }
   ],
   "source": [
    "df[\"_3순위교통업종\"] = df[\"_3순위교통업종\"].cat.add_categories('unknown')\n",
    "df[\"_3순위교통업종\"] = df[\"_3순위교통업종\"].fillna('unknown') # inplace는 추천하지 않음.\n",
    "\n",
    "df[\"_3순위교통업종\"].unique().tolist()"
   ]
  },
  {
   "cell_type": "code",
   "execution_count": 54,
   "id": "bf332a52",
   "metadata": {},
   "outputs": [
    {
     "data": {
      "text/plain": [
       "['항공', '운동', nan, 'Pet', '공연', '여유기타', '숙박', '공원']"
      ]
     },
     "execution_count": 54,
     "metadata": {},
     "output_type": "execute_result"
    }
   ],
   "source": [
    "df[\"_1순위여유업종\"].unique().tolist()"
   ]
  },
  {
   "cell_type": "code",
   "execution_count": 55,
   "id": "4be173b9",
   "metadata": {},
   "outputs": [
    {
     "data": {
      "text/plain": [
       "['항공', '운동', 'unknown', 'Pet', '공연', '여유기타', '숙박', '공원']"
      ]
     },
     "execution_count": 55,
     "metadata": {},
     "output_type": "execute_result"
    }
   ],
   "source": [
    "df[\"_1순위여유업종\"] = df[\"_1순위여유업종\"].cat.add_categories('unknown')\n",
    "df[\"_1순위여유업종\"] = df[\"_1순위여유업종\"].fillna('unknown') # inplace는 추천하지 않음.\n",
    "\n",
    "df[\"_1순위여유업종\"].unique().tolist()"
   ]
  },
  {
   "cell_type": "code",
   "execution_count": 56,
   "id": "e2a81d45",
   "metadata": {},
   "outputs": [
    {
     "data": {
      "text/plain": [
       "[nan, '숙박', '여유기타', 'Pet', '운동', '공연', '공원']"
      ]
     },
     "execution_count": 56,
     "metadata": {},
     "output_type": "execute_result"
    }
   ],
   "source": [
    "df[\"_2순위여유업종\"].unique().tolist()"
   ]
  },
  {
   "cell_type": "code",
   "execution_count": 57,
   "id": "92139de8",
   "metadata": {},
   "outputs": [
    {
     "data": {
      "text/plain": [
       "['unknown', '숙박', '여유기타', 'Pet', '운동', '공연', '공원']"
      ]
     },
     "execution_count": 57,
     "metadata": {},
     "output_type": "execute_result"
    }
   ],
   "source": [
    "df[\"_2순위여유업종\"] = df[\"_2순위여유업종\"].cat.add_categories('unknown')\n",
    "df[\"_2순위여유업종\"] = df[\"_2순위여유업종\"].fillna('unknown') # inplace는 추천하지 않음.\n",
    "\n",
    "df[\"_2순위여유업종\"].unique().tolist()"
   ]
  },
  {
   "cell_type": "code",
   "execution_count": 58,
   "id": "b162da78",
   "metadata": {},
   "outputs": [
    {
     "data": {
      "text/plain": [
       "[nan, '여유기타', '공연', '숙박', 'Pet', '공원', '운동']"
      ]
     },
     "execution_count": 58,
     "metadata": {},
     "output_type": "execute_result"
    }
   ],
   "source": [
    "df[\"_3순위여유업종\"].unique().tolist()"
   ]
  },
  {
   "cell_type": "code",
   "execution_count": 59,
   "id": "a692564a",
   "metadata": {},
   "outputs": [
    {
     "data": {
      "text/plain": [
       "['unknown', '여유기타', '공연', '숙박', 'Pet', '공원', '운동']"
      ]
     },
     "execution_count": 59,
     "metadata": {},
     "output_type": "execute_result"
    }
   ],
   "source": [
    "df[\"_3순위여유업종\"] = df[\"_3순위여유업종\"].cat.add_categories('unknown')\n",
    "df[\"_3순위여유업종\"] = df[\"_3순위여유업종\"].fillna('unknown') # inplace는 추천하지 않음.\n",
    "\n",
    "df[\"_3순위여유업종\"].unique().tolist()"
   ]
  },
  {
   "cell_type": "code",
   "execution_count": 60,
   "id": "a9bf8154",
   "metadata": {},
   "outputs": [
    {
     "data": {
      "text/plain": [
       "[nan, '통신비', '보험료', '납부기타', '관리비', '가스/전기료']"
      ]
     },
     "execution_count": 60,
     "metadata": {},
     "output_type": "execute_result"
    }
   ],
   "source": [
    "df[\"_1순위납부업종\"].unique().tolist()"
   ]
  },
  {
   "cell_type": "code",
   "execution_count": 61,
   "id": "7ec25e12",
   "metadata": {},
   "outputs": [
    {
     "data": {
      "text/plain": [
       "['unknown', '통신비', '보험료', '납부기타', '관리비', '가스/전기료']"
      ]
     },
     "execution_count": 61,
     "metadata": {},
     "output_type": "execute_result"
    }
   ],
   "source": [
    "df[\"_1순위납부업종\"] = df[\"_1순위납부업종\"].cat.add_categories('unknown')\n",
    "df[\"_1순위납부업종\"] = df[\"_1순위납부업종\"].fillna('unknown') # inplace는 추천하지 않음.\n",
    "\n",
    "df[\"_1순위납부업종\"].unique().tolist()"
   ]
  },
  {
   "cell_type": "code",
   "execution_count": 62,
   "id": "e1df60d3",
   "metadata": {},
   "outputs": [
    {
     "data": {
      "text/plain": [
       "[nan, '보험료', '납부기타', '통신비', '가스/전기료', '관리비']"
      ]
     },
     "execution_count": 62,
     "metadata": {},
     "output_type": "execute_result"
    }
   ],
   "source": [
    "df[\"_2순위납부업종\"].unique().tolist()"
   ]
  },
  {
   "cell_type": "code",
   "execution_count": 63,
   "id": "28157591",
   "metadata": {},
   "outputs": [
    {
     "data": {
      "text/plain": [
       "['unknown', '보험료', '납부기타', '통신비', '가스/전기료', '관리비']"
      ]
     },
     "execution_count": 63,
     "metadata": {},
     "output_type": "execute_result"
    }
   ],
   "source": [
    "df[\"_2순위납부업종\"] = df[\"_2순위납부업종\"].cat.add_categories('unknown')\n",
    "df[\"_2순위납부업종\"] = df[\"_2순위납부업종\"].fillna('unknown') # inplace는 추천하지 않음.\n",
    "\n",
    "df[\"_2순위납부업종\"].unique().tolist()"
   ]
  },
  {
   "cell_type": "code",
   "execution_count": 64,
   "id": "0511804f",
   "metadata": {},
   "outputs": [
    {
     "data": {
      "text/plain": [
       "[nan, '납부기타', '가스/전기료', '통신비', '보험료']"
      ]
     },
     "execution_count": 64,
     "metadata": {},
     "output_type": "execute_result"
    }
   ],
   "source": [
    "df[\"_3순위납부업종\"].unique().tolist()"
   ]
  },
  {
   "cell_type": "code",
   "execution_count": 65,
   "id": "e80fb0e7",
   "metadata": {},
   "outputs": [
    {
     "data": {
      "text/plain": [
       "['unknown', '납부기타', '가스/전기료', '통신비', '보험료']"
      ]
     },
     "execution_count": 65,
     "metadata": {},
     "output_type": "execute_result"
    }
   ],
   "source": [
    "df[\"_3순위납부업종\"] = df[\"_3순위납부업종\"].cat.add_categories('unknown')\n",
    "df[\"_3순위납부업종\"] = df[\"_3순위납부업종\"].fillna('unknown') # inplace는 추천하지 않음.\n",
    "\n",
    "df[\"_3순위납부업종\"].unique().tolist()"
   ]
  },
  {
   "cell_type": "code",
   "execution_count": 81,
   "id": "91dde290",
   "metadata": {},
   "outputs": [
    {
     "data": {
      "text/plain": [
       "[nan, 2.0, 5.0, 3.0]"
      ]
     },
     "execution_count": 81,
     "metadata": {},
     "output_type": "execute_result"
    }
   ],
   "source": [
    "df[\"최종카드론_금융상환방식코드\"].unique().tolist()"
   ]
  },
  {
   "cell_type": "code",
   "execution_count": 67,
   "id": "8e9af353",
   "metadata": {},
   "outputs": [
    {
     "data": {
      "text/plain": [
       "[nan, '8', '7', '1', 'D', '2']"
      ]
     },
     "execution_count": 67,
     "metadata": {},
     "output_type": "execute_result"
    }
   ],
   "source": [
    "df[\"최종카드론_신청경로코드\"].unique().tolist()"
   ]
  },
  {
   "cell_type": "code",
   "execution_count": 68,
   "id": "7e9b62e6",
   "metadata": {},
   "outputs": [
    {
     "data": {
      "text/plain": [
       "['unknown', '8', '7', '1', 'D', '2']"
      ]
     },
     "execution_count": 68,
     "metadata": {},
     "output_type": "execute_result"
    }
   ],
   "source": [
    "df[\"최종카드론_신청경로코드\"] = df[\"최종카드론_신청경로코드\"].cat.add_categories('unknown')\n",
    "df[\"최종카드론_신청경로코드\"] = df[\"최종카드론_신청경로코드\"].fillna('unknown') # inplace는 추천하지 않음.\n",
    "\n",
    "df[\"최종카드론_신청경로코드\"].unique().tolist()"
   ]
  },
  {
   "cell_type": "code",
   "execution_count": 69,
   "id": "7ff2ef93",
   "metadata": {},
   "outputs": [
    {
     "data": {
      "text/plain": [
       "array([      nan, 20171108., 20150800., 20150804., 20170628., 20161210.,\n",
       "       20171202., 20180616., 20160508., 20180308., 20140704., 20180116.,\n",
       "       20151228., 20161108., 20170928., 20180524., 20180624., 20180326.,\n",
       "       20150512., 20150808., 20160418., 20171212., 20150218., 20150612.,\n",
       "       20141224., 20161212., 20141104., 20161224., 20171226., 20151128.,\n",
       "       20180408., 20151212., 20170712., 20180412., 20180610., 20160924.,\n",
       "       20160224., 20151220., 20161104., 20150324., 20171210., 20180608.,\n",
       "       20151028., 20160910., 20150424., 20150226., 20180414., 20161112.,\n",
       "       20150124., 20140804., 20170612., 20180328., 20150828., 20171016.,\n",
       "       20170414., 20160908., 20180620., 20180404., 20150408., 20141228.,\n",
       "       20150728., 20160118., 20141220., 20161124., 20170302., 20150128.,\n",
       "       20150916., 20160128., 20171118., 20161128., 20161000., 20170212.,\n",
       "       20141012., 20150722., 20141108., 20180532., 20161004., 20180420.,\n",
       "       20160720., 20150608., 20171130., 20170128., 20150620., 20170112.,\n",
       "       20150714., 20150520., 20141102., 20150104., 20150116., 20151120.,\n",
       "       20171216., 20160804., 20150216., 20171224., 20150208., 20141024.,\n",
       "       20150302., 20180520., 20171008., 20150416., 20170330., 20150600.,\n",
       "       20160316., 20170106., 20160512., 20180120., 20180424., 20180512.,\n",
       "       20150220., 20180516., 20140730., 20150708., 20160218., 20150812.,\n",
       "       20150726., 20180316., 20151104., 20160624., 20170520., 20180400.,\n",
       "       20150420., 20180410., 20141112., 20150310., 20170508., 20160228.,\n",
       "       20140206., 20170512., 20180416., 20150806., 20170130., 20141124.,\n",
       "       20170424., 20150820., 20150402., 20150626., 20180600., 20150522.,\n",
       "       20161018., 20180428., 20160126., 20141214., 20151114., 20170620.,\n",
       "       20151032., 20160108., 20160324., 20150222., 20180406., 20170220.,\n",
       "       20180504., 20151124., 20161228., 20150224., 20180630., 20180614.,\n",
       "       20180224., 20150320., 20180606., 20150518., 20150108., 20151006.,\n",
       "       20141126., 20171124., 20150716., 20160120., 20170310., 20170516.,\n",
       "       20140920., 20150530., 20150704., 20180320., 20171228., 20161220.,\n",
       "       20160828., 20170524., 20161016., 20150332., 20140924., 20140718.,\n",
       "       20150206., 20150824., 20171232., 20150604., 20160330., 20171028.,\n",
       "       20141120., 20150400., 20161026., 20170216., 20150504., 20180312.,\n",
       "       20151222., 20170514., 20140806., 20150924., 20161116., 20180330.,\n",
       "       20140610., 20151102., 20171200., 20150132., 20170312., 20141130.,\n",
       "       20170108., 20160500., 20171120., 20160308., 20160116., 20180526.,\n",
       "       20180612., 20180220., 20151002., 20170608., 20180508., 20160730.,\n",
       "       20141212., 20140912., 20150328., 20150200., 20171026., 20151112.,\n",
       "       20150906., 20170504., 20150524., 20170716., 20170728., 20150330.,\n",
       "       20160904., 20180208., 20180332., 20180322., 20141230., 20150910.,\n",
       "       20171112., 20151218., 20150126., 20150202., 20150508., 20161118.,\n",
       "       20170408., 20150724., 20160604., 20150822., 20171024., 20180618.,\n",
       "       20150712., 20160812., 20180604., 20180528., 20180324., 20170924.,\n",
       "       20180108., 20180206., 20151224., 20140830., 20180216., 20150210.,\n",
       "       20171030., 20150412., 20180306., 20171204., 20170224., 20150826.,\n",
       "       20160204., 20151208., 20150616., 20140518., 20170418., 20151210.,\n",
       "       20150908., 20171126., 20150214., 20171220., 20161216., 20151230.,\n",
       "       20150920., 20180510., 20180102., 20150904., 20140812., 20180422.,\n",
       "       20150306., 20160800., 20180304., 20150816., 20150410., 20141216.,\n",
       "       20180124., 20161024., 20160918., 20141026., 20160404., 20170822.,\n",
       "       20150418., 20150304., 20180622., 20180418., 20170304., 20141110.,\n",
       "       20170110., 20160816., 20180502., 20150212., 20150628., 20140828.,\n",
       "       20180506., 20171230., 20140916., 20170624., 20160130., 20141020.,\n",
       "       20180402., 20160424., 20151106., 20180628., 20180530., 20151226.,\n",
       "       20171116., 20160504., 20141016., 20171128., 20141208., 20170814.,\n",
       "       20180112., 20170122., 20161208., 20170316., 20151100., 20171012.,\n",
       "       20150308., 20180602., 20140522., 20170904., 20161012., 20170604.,\n",
       "       20160728., 20140226., 20151008., 20170320., 20171102., 20160328.,\n",
       "       20150102., 20151012., 20141222., 20151020., 20160520., 20171222.,\n",
       "       20151216., 20161014., 20160614., 20160402., 20170328., 20151232.,\n",
       "       20180426., 20141030., 20170926., 20170124., 20171002., 20170808.,\n",
       "       20170816., 20160302., 20150300., 20160628., 20160602., 20150532.,\n",
       "       20150112., 20180318., 20160312., 20170606., 20170226., 20170402.,\n",
       "       20141106., 20151110., 20140720., 20180104., 20170912., 20150900.,\n",
       "       20150830., 20180518., 20141218., 20161106., 20170708., 20160102.,\n",
       "       20180514., 20160216., 20160928., 20140422., 20150312., 20150610.,\n",
       "       20170806., 20150922., 20161008., 20160314., 20140532., 20160524.,\n",
       "       20180302., 20170430., 20171208., 20150316., 20151116., 20150918.,\n",
       "       20160320., 20150428., 20150630., 20161230., 20160920., 20150500.,\n",
       "       20160914., 20180218., 20150514., 20170830., 20180300., 20150314.,\n",
       "       20170120., 20160200., 20170204., 20160530., 20180522., 20180114.,\n",
       "       20150624., 20170308., 20160808., 20150818., 20180204., 20170104.,\n",
       "       20151118., 20171218., 20170602., 20171122., 20160310., 20160124.,\n",
       "       20160104., 20161122., 20161120., 20160826., 20171010., 20141116.,\n",
       "       20150928., 20170706., 20160210., 20160926., 20150926., 20140902.,\n",
       "       20150602., 20141028., 20150404., 20160912., 20160208., 20161006.,\n",
       "       20151016., 20170502., 20150528., 20160300., 20180212., 20171004.,\n",
       "       20150912., 20161002., 20160132., 20150406., 20140818., 20150228.,\n",
       "       20180110., 20161100., 20161130., 20151130., 20140408., 20161226.,\n",
       "       20180314., 20150706., 20160416., 20160706., 20170416., 20141128.,\n",
       "       20151014., 20170818., 20140930., 20150718., 20160922., 20171206.,\n",
       "       20160810., 20170210., 20160526., 20150732., 20141206., 20150100.,\n",
       "       20171110., 20160820., 20141008., 20170826., 20150516., 20150902.,\n",
       "       20170820., 20160406., 20180128., 20170522., 20140716., 20160916.,\n",
       "       20150810., 20160818., 20170828., 20180310., 20151204., 20150526.,\n",
       "       20151214., 20150720., 20170426., 20171022., 20140516., 20140800.,\n",
       "       20151024., 20160510., 20170200., 20150120., 20170116., 20140220.,\n",
       "       20170630., 20150326., 20160528., 20150322., 20151004., 20150914.,\n",
       "       20150204., 20180126., 20170510., 20150106., 20170132., 20161032.,\n",
       "       20161204., 20151000., 20160202., 20160220., 20150832., 20150618.,\n",
       "       20170600., 20170404., 20180430., 20160206., 20151022., 20151206.,\n",
       "       20170908., 20160726., 20180228., 20151018., 20160716., 20170218.,\n",
       "       20160318., 20161020., 20180500., 20160428., 20160400., 20141002.,\n",
       "       20160420., 20141006., 20171020., 20140922., 20170618., 20140620.,\n",
       "       20160616., 20160426., 20141204., 20140224., 20160700., 20150110.,\n",
       "       20150510., 20170528., 20170518., 20150118., 20141114., 20150622.,\n",
       "       20171114., 20140604., 20180626., 20140816., 20140628., 20170126.,\n",
       "       20160722., 20161028., 20150814., 20140708., 20170916., 20140726.,\n",
       "       20170420., 20170732., 20140904., 20160824., 20170532., 20151126.,\n",
       "       20150606., 20160708., 20170412., 20141004., 20140104., 20150318.,\n",
       "       20161110., 20161232., 20141202., 20141226., 20141018., 20161206.,\n",
       "       20160212., 20160408., 20160832., 20150506., 20141232., 20150730.,\n",
       "       20170824., 20171100., 20170930., 20161222., 20160704., 20160902.,\n",
       "       20171104., 20151202., 20170114., 20141118., 20161214., 20170804.,\n",
       "       20140524., 20160612., 20160410., 20171214., 20150502., 20170802.,\n",
       "       20160332., 20170206., 20180714., 20160100., 20160724., 20180214.,\n",
       "       20170100., 20160112., 20170720., 20161102., 20170832., 20180202.,\n",
       "       20160600., 20180106., 20180210., 20150700., 20141014., 20160114.,\n",
       "       20160532., 20180712., 20170700., 20170214., 20171106., 20170208.,\n",
       "       20150430., 20170324., 20160422., 20160502., 20171032., 20160702.,\n",
       "       20170318., 20160608., 20170306., 20180118., 20140324., 20140504.,\n",
       "       20140826., 20150702., 20140900., 20170314., 20170812., 20160110.,\n",
       "       20161126., 20160122., 20161200., 20140512., 20170428., 20140712.,\n",
       "       20150426., 20140412., 20170800., 20160322., 20161010., 20140906.,\n",
       "       20150614., 20150122., 20170724., 20150414., 20140510., 20160514.,\n",
       "       20161202., 20170714., 20150930., 20140926., 20160304., 20140914.,\n",
       "       20140602., 20151108., 20170300., 20170202., 20170406., 20180200.,\n",
       "       20170102., 20140908., 20160900., 20151026., 20141122., 20140810.,\n",
       "       20160814., 20180130., 20170910., 20150710., 20180226., 20140528.,\n",
       "       20160620., 20170616., 20180132., 20170704., 20150130., 20170900.,\n",
       "       20180222., 20170710., 20170326., 20140624., 20170810., 20140824.,\n",
       "       20160710., 20160226., 20160622., 20141032., 20140622., 20160522.,\n",
       "       20170322., 20160214., 20160516., 20171006., 20170614., 20140722.,\n",
       "       20160822., 20150802., 20180100., 20161030., 20160506., 20151200.,\n",
       "       20180122., 20180718., 20161022., 20161114., 20150114., 20140724.,\n",
       "       20170222., 20151030., 20141200., 20170918., 20140808., 20140428.,\n",
       "       20171018., 20150422., 20140700., 20160732., 20140822., 20170526.,\n",
       "       20140416., 20170530., 20160414., 20141010., 20171014., 20160610.,\n",
       "       20170228., 20170920., 20151122., 20160326., 20170118., 20140424.,\n",
       "       20141210., 20170422., 20170702., 20170506., 20171000., 20170610.,\n",
       "       20160712., 20140606., 20160412., 20140608., 20180716., 20160718.,\n",
       "       20140420., 20160222., 20170500., 20160806., 20170922., 20160802.,\n",
       "       20170730., 20170902., 20160306., 20160714., 20170332., 20170726.,\n",
       "       20160626., 20140304., 20170906., 20140918., 20151010., 20141022.,\n",
       "       20140212., 20140612., 20160906., 20170722., 20140702., 20140820.,\n",
       "       20180728., 20160106., 20140530., 20140618., 20140910., 20170622.,\n",
       "       20160618., 20140310., 20140732., 20161218., 20140616., 20140728.,\n",
       "       20140630., 20141100., 20140928., 20160518., 20160830., 20140614.,\n",
       "       20140322., 20140526., 20140300., 20140714., 20140320., 20140832.,\n",
       "       20160606., 20140508., 20131222., 20180726., 20170410., 20140520.,\n",
       "       20170914., 20140308., 20170400., 20140200., 20130832., 20170718.,\n",
       "       20131116., 20140814., 20180730., 20130920., 20180720., 20140426.,\n",
       "       20140626., 20180708., 20160430., 20140418., 20140108., 20140506.,\n",
       "       20140328., 20160630., 20160930., 20140410., 20131028., 20170626.,\n",
       "       20140706., 20130708., 20140318., 20131204., 20140404., 20140502.,\n",
       "       20140802., 20140514., 20180808., 20180912., 20181212.],\n",
       "      dtype=float32)"
      ]
     },
     "execution_count": 69,
     "metadata": {},
     "output_type": "execute_result"
    }
   ],
   "source": [
    "df[\"최종카드론_대출일자\"].unique()"
   ]
  },
  {
   "cell_type": "code",
   "execution_count": 79,
   "id": "9eb7071c",
   "metadata": {},
   "outputs": [
    {
     "name": "stdout",
     "output_type": "stream",
     "text": [
      "<DatetimeArray>\n",
      "[                'NaT', '2017-11-08 00:00:00', '2015-08-04 00:00:00',\n",
      " '2017-06-28 00:00:00', '2016-12-10 00:00:00', '2017-12-02 00:00:00',\n",
      " '2018-06-16 00:00:00', '2016-05-08 00:00:00', '2018-03-08 00:00:00',\n",
      " '2014-07-04 00:00:00',\n",
      " ...\n",
      " '2013-07-08 00:00:00', '2014-03-18 00:00:00', '2013-12-04 00:00:00',\n",
      " '2014-04-04 00:00:00', '2014-05-02 00:00:00', '2014-08-02 00:00:00',\n",
      " '2014-05-14 00:00:00', '2018-08-08 00:00:00', '2018-09-12 00:00:00',\n",
      " '2018-12-12 00:00:00']\n",
      "Length: 790, dtype: datetime64[ns]\n"
     ]
    }
   ],
   "source": [
    "columns = [\"최종카드론_대출일자\"]\n",
    "df = convert_to_datetime(df, columns)\n",
    "\n",
    "for col in columns:\n",
    "    print(df[col].unique())"
   ]
  },
  {
   "cell_type": "code",
   "execution_count": 71,
   "id": "f1a35a2d",
   "metadata": {},
   "outputs": [
    {
     "name": "stdout",
     "output_type": "stream",
     "text": [
      "<class 'pandas.core.frame.DataFrame'>\n",
      "RangeIndex: 600000 entries, 0 to 599999\n",
      "Columns: 406 entries, 기준년월 to 이용금액대\n",
      "dtypes: category(18), datetime64[ns](1), float32(2), int16(110), int32(65), int8(210)\n",
      "memory usage: 418.8 MB\n"
     ]
    }
   ],
   "source": [
    "df.info()"
   ]
  },
  {
   "cell_type": "code",
   "execution_count": 80,
   "id": "22d957fd",
   "metadata": {},
   "outputs": [
    {
     "data": {
      "text/html": [
       "<div>\n",
       "<style scoped>\n",
       "    .dataframe tbody tr th:only-of-type {\n",
       "        vertical-align: middle;\n",
       "    }\n",
       "\n",
       "    .dataframe tbody tr th {\n",
       "        vertical-align: top;\n",
       "    }\n",
       "\n",
       "    .dataframe thead th {\n",
       "        text-align: right;\n",
       "    }\n",
       "</style>\n",
       "<table border=\"1\" class=\"dataframe\">\n",
       "  <thead>\n",
       "    <tr style=\"text-align: right;\">\n",
       "      <th></th>\n",
       "      <th>missing_count</th>\n",
       "      <th>missing_percentage</th>\n",
       "      <th>type</th>\n",
       "    </tr>\n",
       "  </thead>\n",
       "  <tbody>\n",
       "    <tr>\n",
       "      <th>최종카드론_금융상환방식코드</th>\n",
       "      <td>489771</td>\n",
       "      <td>81.6285</td>\n",
       "      <td>float32</td>\n",
       "    </tr>\n",
       "    <tr>\n",
       "      <th>최종카드론_대출일자</th>\n",
       "      <td>503040</td>\n",
       "      <td>83.8400</td>\n",
       "      <td>datetime64[ns]</td>\n",
       "    </tr>\n",
       "  </tbody>\n",
       "</table>\n",
       "</div>"
      ],
      "text/plain": [
       "                missing_count  missing_percentage            type\n",
       "최종카드론_금융상환방식코드         489771             81.6285         float32\n",
       "최종카드론_대출일자             503040             83.8400  datetime64[ns]"
      ]
     },
     "execution_count": 80,
     "metadata": {},
     "output_type": "execute_result"
    }
   ],
   "source": [
    "detect_missing_values(df)"
   ]
  },
  {
   "cell_type": "code",
   "execution_count": 82,
   "id": "c1254c5e",
   "metadata": {},
   "outputs": [],
   "source": [
    "df.to_parquet(file_path, index=False)"
   ]
  },
  {
   "cell_type": "markdown",
   "id": "7f4e9ceb",
   "metadata": {},
   "source": [
    "## 청구입금정보"
   ]
  },
  {
   "cell_type": "code",
   "execution_count": 83,
   "id": "040d54c4",
   "metadata": {},
   "outputs": [
    {
     "name": "stdout",
     "output_type": "stream",
     "text": [
      "<class 'pandas.core.frame.DataFrame'>\n",
      "RangeIndex: 600000 entries, 0 to 599999\n",
      "Data columns (total 46 columns):\n",
      " #   Column            Non-Null Count   Dtype   \n",
      "---  ------            --------------   -----   \n",
      " 0   기준년월              600000 non-null  int32   \n",
      " 1   ID                600000 non-null  category\n",
      " 2   대표결제일             600000 non-null  int8    \n",
      " 3   대표결제방법코드          600000 non-null  category\n",
      " 4   대표청구지고객주소구분코드     600000 non-null  category\n",
      " 5   대표청구서수령지구분코드      600000 non-null  category\n",
      " 6   청구서수령방법           600000 non-null  category\n",
      " 7   청구서발송여부_B0        600000 non-null  int8    \n",
      " 8   청구서발송여부_R3M       600000 non-null  int8    \n",
      " 9   청구서발송여부_R6M       600000 non-null  int8    \n",
      " 10  청구금액_B0           600000 non-null  int32   \n",
      " 11  청구금액_R3M          600000 non-null  int32   \n",
      " 12  청구금액_R6M          600000 non-null  int32   \n",
      " 13  포인트_마일리지_건별_B0M   600000 non-null  int16   \n",
      " 14  포인트_마일리지_건별_R3M   600000 non-null  int16   \n",
      " 15  포인트_포인트_건별_B0M    600000 non-null  int16   \n",
      " 16  포인트_포인트_건별_R3M    600000 non-null  int16   \n",
      " 17  포인트_마일리지_월적립_B0M  600000 non-null  int16   \n",
      " 18  포인트_마일리지_월적립_R3M  600000 non-null  int16   \n",
      " 19  포인트_포인트_월적립_B0M   600000 non-null  int16   \n",
      " 20  포인트_포인트_월적립_R3M   600000 non-null  int32   \n",
      " 21  포인트_적립포인트_R12M    600000 non-null  int32   \n",
      " 22  포인트_적립포인트_R3M     600000 non-null  int32   \n",
      " 23  포인트_이용포인트_R12M    600000 non-null  int32   \n",
      " 24  포인트_이용포인트_R3M     600000 non-null  int32   \n",
      " 25  포인트_잔여포인트_B0M     600000 non-null  int16   \n",
      " 26  마일_적립포인트_R12M     600000 non-null  int32   \n",
      " 27  마일_적립포인트_R3M      600000 non-null  int16   \n",
      " 28  마일_이용포인트_R12M     600000 non-null  int32   \n",
      " 29  마일_이용포인트_R3M      600000 non-null  int16   \n",
      " 30  마일_잔여포인트_B0M      600000 non-null  int16   \n",
      " 31  할인건수_R3M          600000 non-null  category\n",
      " 32  할인금액_R3M          600000 non-null  int16   \n",
      " 33  할인건수_B0M          600000 non-null  category\n",
      " 34  할인금액_B0M          600000 non-null  int16   \n",
      " 35  할인금액_청구서_R3M      600000 non-null  int16   \n",
      " 36  할인금액_청구서_B0M      600000 non-null  int16   \n",
      " 37  상환개월수_결제일_R6M     600000 non-null  int8    \n",
      " 38  상환개월수_결제일_R3M     600000 non-null  int8    \n",
      " 39  선결제건수_R6M         600000 non-null  int8    \n",
      " 40  선결제건수_R3M         600000 non-null  int8    \n",
      " 41  연체건수_R6M          600000 non-null  int8    \n",
      " 42  연체건수_R3M          600000 non-null  int8    \n",
      " 43  혜택수혜금액_R3M        600000 non-null  int16   \n",
      " 44  포인트_마일리지_환산_B0M   600000 non-null  int16   \n",
      " 45  혜택수혜금액            600000 non-null  int16   \n",
      "dtypes: category(7), int16(18), int32(11), int8(10)\n",
      "memory usage: 60.0 MB\n"
     ]
    }
   ],
   "source": [
    "file_name = \"bill_optimized.parquet\"\n",
    "# file_path = os.path.join(save_path, file_name)\n",
    "file_path = os.path.join(save_test_path, file_name)\n",
    "\n",
    "df = pd.read_parquet(file_path)\n",
    "df.info()"
   ]
  },
  {
   "cell_type": "code",
   "execution_count": 84,
   "id": "6a448ea3",
   "metadata": {},
   "outputs": [
    {
     "data": {
      "text/html": [
       "<div>\n",
       "<style scoped>\n",
       "    .dataframe tbody tr th:only-of-type {\n",
       "        vertical-align: middle;\n",
       "    }\n",
       "\n",
       "    .dataframe tbody tr th {\n",
       "        vertical-align: top;\n",
       "    }\n",
       "\n",
       "    .dataframe thead th {\n",
       "        text-align: right;\n",
       "    }\n",
       "</style>\n",
       "<table border=\"1\" class=\"dataframe\">\n",
       "  <thead>\n",
       "    <tr style=\"text-align: right;\">\n",
       "      <th></th>\n",
       "      <th>missing_count</th>\n",
       "      <th>missing_percentage</th>\n",
       "      <th>type</th>\n",
       "    </tr>\n",
       "  </thead>\n",
       "  <tbody>\n",
       "  </tbody>\n",
       "</table>\n",
       "</div>"
      ],
      "text/plain": [
       "Empty DataFrame\n",
       "Columns: [missing_count, missing_percentage, type]\n",
       "Index: []"
      ]
     },
     "execution_count": 84,
     "metadata": {},
     "output_type": "execute_result"
    }
   ],
   "source": [
    "detect_missing_values(df)"
   ]
  },
  {
   "cell_type": "markdown",
   "id": "2f169065",
   "metadata": {},
   "source": [
    "## 잔액정보"
   ]
  },
  {
   "cell_type": "code",
   "execution_count": 85,
   "id": "7cd2a7c4",
   "metadata": {},
   "outputs": [
    {
     "name": "stdout",
     "output_type": "stream",
     "text": [
      "<class 'pandas.core.frame.DataFrame'>\n",
      "RangeIndex: 600000 entries, 0 to 599999\n",
      "Data columns (total 82 columns):\n",
      " #   Column             Non-Null Count   Dtype   \n",
      "---  ------             --------------   -----   \n",
      " 0   기준년월               600000 non-null  int32   \n",
      " 1   ID                 600000 non-null  category\n",
      " 2   잔액_일시불_B0M         600000 non-null  int32   \n",
      " 3   잔액_할부_B0M          600000 non-null  int32   \n",
      " 4   잔액_현금서비스_B0M       600000 non-null  int32   \n",
      " 5   잔액_리볼빙일시불이월_B0M    600000 non-null  int32   \n",
      " 6   잔액_리볼빙CA이월_B0M     600000 non-null  int32   \n",
      " 7   잔액_카드론_B0M         600000 non-null  int32   \n",
      " 8   월중평잔_일시불_B0M       600000 non-null  int32   \n",
      " 9   월중평잔_할부_B0M        600000 non-null  int32   \n",
      " 10  월중평잔_CA_B0M        600000 non-null  int32   \n",
      " 11  카드론잔액_최종경과월        600000 non-null  int8    \n",
      " 12  연체일자_B0M           1395 non-null    float32 \n",
      " 13  연체잔액_B0M           600000 non-null  int32   \n",
      " 14  연체잔액_일시불_B0M       600000 non-null  int16   \n",
      " 15  연체잔액_할부_B0M        600000 non-null  int16   \n",
      " 16  연체잔액_현금서비스_B0M     600000 non-null  int16   \n",
      " 17  연체잔액_카드론_B0M       600000 non-null  int16   \n",
      " 18  연체잔액_대환론_B0M       600000 non-null  int8    \n",
      " 19  잔액_현금서비스_B1M       600000 non-null  int32   \n",
      " 20  잔액_현금서비스_B2M       600000 non-null  int32   \n",
      " 21  잔액_카드론_B1M         600000 non-null  int32   \n",
      " 22  잔액_카드론_B2M         600000 non-null  int32   \n",
      " 23  잔액_카드론_B3M         600000 non-null  int32   \n",
      " 24  잔액_카드론_B4M         600000 non-null  int32   \n",
      " 25  잔액_카드론_B5M         600000 non-null  int32   \n",
      " 26  잔액_할부_B1M          600000 non-null  int32   \n",
      " 27  잔액_할부_B2M          600000 non-null  int32   \n",
      " 28  잔액_일시불_B1M         600000 non-null  int32   \n",
      " 29  잔액_일시불_B2M         600000 non-null  int32   \n",
      " 30  연체일수_B1M           600000 non-null  int32   \n",
      " 31  연체일수_B2M           600000 non-null  int32   \n",
      " 32  연체원금_B1M           600000 non-null  int16   \n",
      " 33  연체원금_B2M           600000 non-null  int16   \n",
      " 34  연체일수_최근            600000 non-null  int32   \n",
      " 35  연체원금_최근            600000 non-null  int16   \n",
      " 36  최종연체회차             600000 non-null  int8    \n",
      " 37  매각잔액_B1M           600000 non-null  int8    \n",
      " 38  최종연체개월수_R15M       600000 non-null  int8    \n",
      " 39  RV_평균잔액_R12M       600000 non-null  int32   \n",
      " 40  RV_최대잔액_R12M       600000 non-null  int32   \n",
      " 41  RV_평균잔액_R6M        600000 non-null  int32   \n",
      " 42  RV_최대잔액_R6M        600000 non-null  int32   \n",
      " 43  RV_평균잔액_R3M        600000 non-null  int32   \n",
      " 44  RV_최대잔액_R3M        600000 non-null  int32   \n",
      " 45  RV잔액이월횟수_R6M       600000 non-null  int8    \n",
      " 46  RV잔액이월횟수_R3M       600000 non-null  int8    \n",
      " 47  잔액_할부_유이자_B0M      600000 non-null  int32   \n",
      " 48  잔액_할부_무이자_B0M      600000 non-null  int32   \n",
      " 49  잔액_할부_해외_B0M       600000 non-null  int16   \n",
      " 50  연체잔액_일시불_해외_B0M    600000 non-null  int8    \n",
      " 51  연체잔액_RV일시불_B0M     600000 non-null  int16   \n",
      " 52  연체잔액_RV일시불_해외_B0M  600000 non-null  int8    \n",
      " 53  연체잔액_할부_해외_B0M     600000 non-null  int8    \n",
      " 54  연체잔액_CA_B0M        600000 non-null  int16   \n",
      " 55  연체잔액_CA_해외_B0M     600000 non-null  int8    \n",
      " 56  월중평잔               600000 non-null  int32   \n",
      " 57  월중평잔_일시불           600000 non-null  int32   \n",
      " 58  월중평잔_RV일시불         600000 non-null  int32   \n",
      " 59  월중평잔_할부            600000 non-null  int32   \n",
      " 60  월중평잔_CA            600000 non-null  int32   \n",
      " 61  월중평잔_카드론           600000 non-null  int32   \n",
      " 62  평잔_3M              600000 non-null  int32   \n",
      " 63  평잔_일시불_3M          600000 non-null  int32   \n",
      " 64  평잔_일시불_해외_3M       600000 non-null  int16   \n",
      " 65  평잔_RV일시불_3M        600000 non-null  int32   \n",
      " 66  평잔_RV일시불_해외_3M     600000 non-null  int16   \n",
      " 67  평잔_할부_3M           600000 non-null  int32   \n",
      " 68  평잔_할부_해외_3M        600000 non-null  int16   \n",
      " 69  평잔_CA_3M           600000 non-null  int32   \n",
      " 70  평잔_CA_해외_3M        600000 non-null  int16   \n",
      " 71  평잔_카드론_3M          600000 non-null  int32   \n",
      " 72  평잔_6M              600000 non-null  int32   \n",
      " 73  평잔_일시불_6M          600000 non-null  int32   \n",
      " 74  평잔_일시불_해외_6M       600000 non-null  int16   \n",
      " 75  평잔_RV일시불_6M        600000 non-null  int32   \n",
      " 76  평잔_RV일시불_해외_6M     600000 non-null  int16   \n",
      " 77  평잔_할부_6M           600000 non-null  int32   \n",
      " 78  평잔_할부_해외_6M        600000 non-null  int16   \n",
      " 79  평잔_CA_6M           600000 non-null  int32   \n",
      " 80  평잔_CA_해외_6M        600000 non-null  int16   \n",
      " 81  평잔_카드론_6M          600000 non-null  int32   \n",
      "dtypes: category(1), float32(1), int16(18), int32(51), int8(11)\n",
      "memory usage: 151.0 MB\n"
     ]
    }
   ],
   "source": [
    "file_name = \"balance_optimized.parquet\"\n",
    "# file_path = os.path.join(save_path, file_name)\n",
    "file_path = os.path.join(save_test_path, file_name)\n",
    "\n",
    "df = pd.read_parquet(file_path)\n",
    "df.info()"
   ]
  },
  {
   "cell_type": "code",
   "execution_count": 86,
   "id": "91c72d1f",
   "metadata": {},
   "outputs": [
    {
     "data": {
      "text/html": [
       "<div>\n",
       "<style scoped>\n",
       "    .dataframe tbody tr th:only-of-type {\n",
       "        vertical-align: middle;\n",
       "    }\n",
       "\n",
       "    .dataframe tbody tr th {\n",
       "        vertical-align: top;\n",
       "    }\n",
       "\n",
       "    .dataframe thead th {\n",
       "        text-align: right;\n",
       "    }\n",
       "</style>\n",
       "<table border=\"1\" class=\"dataframe\">\n",
       "  <thead>\n",
       "    <tr style=\"text-align: right;\">\n",
       "      <th></th>\n",
       "      <th>missing_count</th>\n",
       "      <th>missing_percentage</th>\n",
       "      <th>type</th>\n",
       "    </tr>\n",
       "  </thead>\n",
       "  <tbody>\n",
       "    <tr>\n",
       "      <th>연체일자_B0M</th>\n",
       "      <td>598605</td>\n",
       "      <td>99.7675</td>\n",
       "      <td>float32</td>\n",
       "    </tr>\n",
       "  </tbody>\n",
       "</table>\n",
       "</div>"
      ],
      "text/plain": [
       "          missing_count  missing_percentage     type\n",
       "연체일자_B0M         598605             99.7675  float32"
      ]
     },
     "execution_count": 86,
     "metadata": {},
     "output_type": "execute_result"
    }
   ],
   "source": [
    "detect_missing_values(df)"
   ]
  },
  {
   "cell_type": "code",
   "execution_count": 87,
   "id": "2d881802",
   "metadata": {},
   "outputs": [
    {
     "data": {
      "text/plain": [
       "array([      nan, 20180424., 20180504., 20180422., 20180520., 20180428.,\n",
       "       20180506., 20180420., 20180416., 20180510., 20180502., 20180524.,\n",
       "       20180508., 20180426., 20180514., 20180412., 20180500., 20180512.,\n",
       "       20180516., 20180414., 20180430., 20180418., 20180518., 20180528.,\n",
       "       20180410., 20180408., 20180522., 20180526., 20180608., 20180604.,\n",
       "       20180616., 20180532., 20180600., 20180610., 20180620., 20180612.,\n",
       "       20180606., 20180618., 20180530., 20180614., 20180602., 20180622.,\n",
       "       20180628., 20180704., 20180624., 20180700., 20180714., 20180712.,\n",
       "       20180708., 20180706., 20180702., 20180720., 20180710., 20180716.,\n",
       "       20180626., 20180630., 20180730., 20180726., 20180804., 20180728.,\n",
       "       20180722., 20180812., 20180724., 20180732., 20180808., 20180816.,\n",
       "       20180806., 20180718., 20180802., 20180800., 20180820., 20180822.,\n",
       "       20180818., 20180810., 20180814., 20180904., 20180828., 20180824.,\n",
       "       20180912., 20180826., 20180832., 20180920., 20180908., 20180902.,\n",
       "       20180830., 20180918., 20180906., 20180916., 20180914., 20180910.,\n",
       "       20180900., 20181004., 20180926., 20180928., 20180924., 20181014.,\n",
       "       20181016., 20181020., 20181000., 20181012., 20181002., 20180930.,\n",
       "       20181018., 20181010., 20180922., 20181006., 20181008.],\n",
       "      dtype=float32)"
      ]
     },
     "execution_count": 87,
     "metadata": {},
     "output_type": "execute_result"
    }
   ],
   "source": [
    "df[\"연체일자_B0M\"].unique()"
   ]
  },
  {
   "cell_type": "code",
   "execution_count": 88,
   "id": "c2ad65b1",
   "metadata": {},
   "outputs": [
    {
     "name": "stdout",
     "output_type": "stream",
     "text": [
      "<DatetimeArray>\n",
      "[                'NaT', '2018-04-24 00:00:00', '2018-05-04 00:00:00',\n",
      " '2018-04-22 00:00:00', '2018-05-20 00:00:00', '2018-04-28 00:00:00',\n",
      " '2018-05-06 00:00:00', '2018-04-20 00:00:00', '2018-04-16 00:00:00',\n",
      " '2018-05-10 00:00:00', '2018-05-02 00:00:00', '2018-05-24 00:00:00',\n",
      " '2018-05-08 00:00:00', '2018-04-26 00:00:00', '2018-05-14 00:00:00',\n",
      " '2018-04-12 00:00:00', '2018-05-12 00:00:00', '2018-05-16 00:00:00',\n",
      " '2018-04-14 00:00:00', '2018-04-30 00:00:00', '2018-04-18 00:00:00',\n",
      " '2018-05-18 00:00:00', '2018-05-28 00:00:00', '2018-04-10 00:00:00',\n",
      " '2018-04-08 00:00:00', '2018-05-22 00:00:00', '2018-05-26 00:00:00',\n",
      " '2018-06-08 00:00:00', '2018-06-04 00:00:00', '2018-06-16 00:00:00',\n",
      " '2018-06-10 00:00:00', '2018-06-20 00:00:00', '2018-06-12 00:00:00',\n",
      " '2018-06-06 00:00:00', '2018-06-18 00:00:00', '2018-05-30 00:00:00',\n",
      " '2018-06-14 00:00:00', '2018-06-02 00:00:00', '2018-06-22 00:00:00',\n",
      " '2018-06-28 00:00:00', '2018-07-04 00:00:00', '2018-06-24 00:00:00',\n",
      " '2018-07-14 00:00:00', '2018-07-12 00:00:00', '2018-07-08 00:00:00',\n",
      " '2018-07-06 00:00:00', '2018-07-02 00:00:00', '2018-07-20 00:00:00',\n",
      " '2018-07-10 00:00:00', '2018-07-16 00:00:00', '2018-06-26 00:00:00',\n",
      " '2018-06-30 00:00:00', '2018-07-30 00:00:00', '2018-07-26 00:00:00',\n",
      " '2018-08-04 00:00:00', '2018-07-28 00:00:00', '2018-07-22 00:00:00',\n",
      " '2018-08-12 00:00:00', '2018-07-24 00:00:00', '2018-08-08 00:00:00',\n",
      " '2018-08-16 00:00:00', '2018-08-06 00:00:00', '2018-07-18 00:00:00',\n",
      " '2018-08-02 00:00:00', '2018-08-20 00:00:00', '2018-08-22 00:00:00',\n",
      " '2018-08-18 00:00:00', '2018-08-10 00:00:00', '2018-08-14 00:00:00',\n",
      " '2018-09-04 00:00:00', '2018-08-28 00:00:00', '2018-08-24 00:00:00',\n",
      " '2018-09-12 00:00:00', '2018-08-26 00:00:00', '2018-09-20 00:00:00',\n",
      " '2018-09-08 00:00:00', '2018-09-02 00:00:00', '2018-08-30 00:00:00',\n",
      " '2018-09-18 00:00:00', '2018-09-06 00:00:00', '2018-09-16 00:00:00',\n",
      " '2018-09-14 00:00:00', '2018-09-10 00:00:00', '2018-10-04 00:00:00',\n",
      " '2018-09-26 00:00:00', '2018-09-28 00:00:00', '2018-09-24 00:00:00',\n",
      " '2018-10-14 00:00:00', '2018-10-16 00:00:00', '2018-10-20 00:00:00',\n",
      " '2018-10-12 00:00:00', '2018-10-02 00:00:00', '2018-09-30 00:00:00',\n",
      " '2018-10-18 00:00:00', '2018-10-10 00:00:00', '2018-09-22 00:00:00',\n",
      " '2018-10-06 00:00:00', '2018-10-08 00:00:00']\n",
      "Length: 98, dtype: datetime64[ns]\n"
     ]
    }
   ],
   "source": [
    "columns = [\"연체일자_B0M\"]\n",
    "df = convert_to_datetime(df, columns)\n",
    "\n",
    "for col in columns:\n",
    "    print(df[col].unique())"
   ]
  },
  {
   "cell_type": "code",
   "execution_count": 89,
   "id": "6ffce840",
   "metadata": {},
   "outputs": [
    {
     "name": "stdout",
     "output_type": "stream",
     "text": [
      "<class 'pandas.core.frame.DataFrame'>\n",
      "RangeIndex: 600000 entries, 0 to 599999\n",
      "Data columns (total 82 columns):\n",
      " #   Column             Non-Null Count   Dtype         \n",
      "---  ------             --------------   -----         \n",
      " 0   기준년월               600000 non-null  int32         \n",
      " 1   ID                 600000 non-null  category      \n",
      " 2   잔액_일시불_B0M         600000 non-null  int32         \n",
      " 3   잔액_할부_B0M          600000 non-null  int32         \n",
      " 4   잔액_현금서비스_B0M       600000 non-null  int32         \n",
      " 5   잔액_리볼빙일시불이월_B0M    600000 non-null  int32         \n",
      " 6   잔액_리볼빙CA이월_B0M     600000 non-null  int32         \n",
      " 7   잔액_카드론_B0M         600000 non-null  int32         \n",
      " 8   월중평잔_일시불_B0M       600000 non-null  int32         \n",
      " 9   월중평잔_할부_B0M        600000 non-null  int32         \n",
      " 10  월중평잔_CA_B0M        600000 non-null  int32         \n",
      " 11  카드론잔액_최종경과월        600000 non-null  int8          \n",
      " 12  연체일자_B0M           1348 non-null    datetime64[ns]\n",
      " 13  연체잔액_B0M           600000 non-null  int32         \n",
      " 14  연체잔액_일시불_B0M       600000 non-null  int16         \n",
      " 15  연체잔액_할부_B0M        600000 non-null  int16         \n",
      " 16  연체잔액_현금서비스_B0M     600000 non-null  int16         \n",
      " 17  연체잔액_카드론_B0M       600000 non-null  int16         \n",
      " 18  연체잔액_대환론_B0M       600000 non-null  int8          \n",
      " 19  잔액_현금서비스_B1M       600000 non-null  int32         \n",
      " 20  잔액_현금서비스_B2M       600000 non-null  int32         \n",
      " 21  잔액_카드론_B1M         600000 non-null  int32         \n",
      " 22  잔액_카드론_B2M         600000 non-null  int32         \n",
      " 23  잔액_카드론_B3M         600000 non-null  int32         \n",
      " 24  잔액_카드론_B4M         600000 non-null  int32         \n",
      " 25  잔액_카드론_B5M         600000 non-null  int32         \n",
      " 26  잔액_할부_B1M          600000 non-null  int32         \n",
      " 27  잔액_할부_B2M          600000 non-null  int32         \n",
      " 28  잔액_일시불_B1M         600000 non-null  int32         \n",
      " 29  잔액_일시불_B2M         600000 non-null  int32         \n",
      " 30  연체일수_B1M           600000 non-null  int32         \n",
      " 31  연체일수_B2M           600000 non-null  int32         \n",
      " 32  연체원금_B1M           600000 non-null  int16         \n",
      " 33  연체원금_B2M           600000 non-null  int16         \n",
      " 34  연체일수_최근            600000 non-null  int32         \n",
      " 35  연체원금_최근            600000 non-null  int16         \n",
      " 36  최종연체회차             600000 non-null  int8          \n",
      " 37  매각잔액_B1M           600000 non-null  int8          \n",
      " 38  최종연체개월수_R15M       600000 non-null  int8          \n",
      " 39  RV_평균잔액_R12M       600000 non-null  int32         \n",
      " 40  RV_최대잔액_R12M       600000 non-null  int32         \n",
      " 41  RV_평균잔액_R6M        600000 non-null  int32         \n",
      " 42  RV_최대잔액_R6M        600000 non-null  int32         \n",
      " 43  RV_평균잔액_R3M        600000 non-null  int32         \n",
      " 44  RV_최대잔액_R3M        600000 non-null  int32         \n",
      " 45  RV잔액이월횟수_R6M       600000 non-null  int8          \n",
      " 46  RV잔액이월횟수_R3M       600000 non-null  int8          \n",
      " 47  잔액_할부_유이자_B0M      600000 non-null  int32         \n",
      " 48  잔액_할부_무이자_B0M      600000 non-null  int32         \n",
      " 49  잔액_할부_해외_B0M       600000 non-null  int16         \n",
      " 50  연체잔액_일시불_해외_B0M    600000 non-null  int8          \n",
      " 51  연체잔액_RV일시불_B0M     600000 non-null  int16         \n",
      " 52  연체잔액_RV일시불_해외_B0M  600000 non-null  int8          \n",
      " 53  연체잔액_할부_해외_B0M     600000 non-null  int8          \n",
      " 54  연체잔액_CA_B0M        600000 non-null  int16         \n",
      " 55  연체잔액_CA_해외_B0M     600000 non-null  int8          \n",
      " 56  월중평잔               600000 non-null  int32         \n",
      " 57  월중평잔_일시불           600000 non-null  int32         \n",
      " 58  월중평잔_RV일시불         600000 non-null  int32         \n",
      " 59  월중평잔_할부            600000 non-null  int32         \n",
      " 60  월중평잔_CA            600000 non-null  int32         \n",
      " 61  월중평잔_카드론           600000 non-null  int32         \n",
      " 62  평잔_3M              600000 non-null  int32         \n",
      " 63  평잔_일시불_3M          600000 non-null  int32         \n",
      " 64  평잔_일시불_해외_3M       600000 non-null  int16         \n",
      " 65  평잔_RV일시불_3M        600000 non-null  int32         \n",
      " 66  평잔_RV일시불_해외_3M     600000 non-null  int16         \n",
      " 67  평잔_할부_3M           600000 non-null  int32         \n",
      " 68  평잔_할부_해외_3M        600000 non-null  int16         \n",
      " 69  평잔_CA_3M           600000 non-null  int32         \n",
      " 70  평잔_CA_해외_3M        600000 non-null  int16         \n",
      " 71  평잔_카드론_3M          600000 non-null  int32         \n",
      " 72  평잔_6M              600000 non-null  int32         \n",
      " 73  평잔_일시불_6M          600000 non-null  int32         \n",
      " 74  평잔_일시불_해외_6M       600000 non-null  int16         \n",
      " 75  평잔_RV일시불_6M        600000 non-null  int32         \n",
      " 76  평잔_RV일시불_해외_6M     600000 non-null  int16         \n",
      " 77  평잔_할부_6M           600000 non-null  int32         \n",
      " 78  평잔_할부_해외_6M        600000 non-null  int16         \n",
      " 79  평잔_CA_6M           600000 non-null  int32         \n",
      " 80  평잔_CA_해외_6M        600000 non-null  int16         \n",
      " 81  평잔_카드론_6M          600000 non-null  int32         \n",
      "dtypes: category(1), datetime64[ns](1), int16(18), int32(51), int8(11)\n",
      "memory usage: 153.3 MB\n"
     ]
    }
   ],
   "source": [
    "df.info()"
   ]
  },
  {
   "cell_type": "code",
   "execution_count": 90,
   "id": "198e31e5",
   "metadata": {},
   "outputs": [],
   "source": [
    "df.to_parquet(file_path, index=False)"
   ]
  },
  {
   "cell_type": "markdown",
   "id": "aa1eb598",
   "metadata": {},
   "source": [
    "## 채널정보"
   ]
  },
  {
   "cell_type": "code",
   "execution_count": 91,
   "id": "c4eb505d",
   "metadata": {},
   "outputs": [
    {
     "name": "stdout",
     "output_type": "stream",
     "text": [
      "<class 'pandas.core.frame.DataFrame'>\n",
      "RangeIndex: 600000 entries, 0 to 599999\n",
      "Columns: 105 entries, 기준년월 to 홈페이지_선결제건수_R3M\n",
      "dtypes: category(7), int16(1), int32(1), int8(96)\n",
      "memory usage: 66.9 MB\n"
     ]
    }
   ],
   "source": [
    "file_name = \"channel_optimized.parquet\"\n",
    "# file_path = os.path.join(save_path, file_name)\n",
    "file_path = os.path.join(save_test_path, file_name)\n",
    "\n",
    "df = pd.read_parquet(file_path)\n",
    "df.info()"
   ]
  },
  {
   "cell_type": "code",
   "execution_count": 92,
   "id": "fd1c6547",
   "metadata": {},
   "outputs": [
    {
     "data": {
      "text/html": [
       "<div>\n",
       "<style scoped>\n",
       "    .dataframe tbody tr th:only-of-type {\n",
       "        vertical-align: middle;\n",
       "    }\n",
       "\n",
       "    .dataframe tbody tr th {\n",
       "        vertical-align: top;\n",
       "    }\n",
       "\n",
       "    .dataframe thead th {\n",
       "        text-align: right;\n",
       "    }\n",
       "</style>\n",
       "<table border=\"1\" class=\"dataframe\">\n",
       "  <thead>\n",
       "    <tr style=\"text-align: right;\">\n",
       "      <th></th>\n",
       "      <th>missing_count</th>\n",
       "      <th>missing_percentage</th>\n",
       "      <th>type</th>\n",
       "    </tr>\n",
       "  </thead>\n",
       "  <tbody>\n",
       "    <tr>\n",
       "      <th>OS구분코드</th>\n",
       "      <td>407652</td>\n",
       "      <td>67.942</td>\n",
       "      <td>category</td>\n",
       "    </tr>\n",
       "  </tbody>\n",
       "</table>\n",
       "</div>"
      ],
      "text/plain": [
       "        missing_count  missing_percentage      type\n",
       "OS구분코드         407652              67.942  category"
      ]
     },
     "execution_count": 92,
     "metadata": {},
     "output_type": "execute_result"
    }
   ],
   "source": [
    "detect_missing_values(df)"
   ]
  },
  {
   "cell_type": "code",
   "execution_count": 93,
   "id": "7afebe62",
   "metadata": {},
   "outputs": [
    {
     "data": {
      "text/plain": [
       "['IOS', 'Android', NaN]\n",
       "Categories (2, object): ['Android', 'IOS']"
      ]
     },
     "execution_count": 93,
     "metadata": {},
     "output_type": "execute_result"
    }
   ],
   "source": [
    "df[\"OS구분코드\"].unique()"
   ]
  },
  {
   "cell_type": "code",
   "execution_count": 94,
   "id": "6dc7996d",
   "metadata": {},
   "outputs": [
    {
     "data": {
      "text/plain": [
       "['IOS', 'Android', 'unknown']\n",
       "Categories (3, object): ['Android', 'IOS', 'unknown']"
      ]
     },
     "execution_count": 94,
     "metadata": {},
     "output_type": "execute_result"
    }
   ],
   "source": [
    "df[\"OS구분코드\"] = df[\"OS구분코드\"].cat.add_categories('unknown')\n",
    "df[\"OS구분코드\"] = df[\"OS구분코드\"].fillna('unknown') # inplace는 추천하지 않음.\n",
    "\n",
    "df[\"OS구분코드\"].unique()"
   ]
  },
  {
   "cell_type": "code",
   "execution_count": 95,
   "id": "8b0be453",
   "metadata": {},
   "outputs": [
    {
     "name": "stdout",
     "output_type": "stream",
     "text": [
      "<class 'pandas.core.frame.DataFrame'>\n",
      "RangeIndex: 600000 entries, 0 to 599999\n",
      "Columns: 105 entries, 기준년월 to 홈페이지_선결제건수_R3M\n",
      "dtypes: category(7), int16(1), int32(1), int8(96)\n",
      "memory usage: 66.9 MB\n"
     ]
    }
   ],
   "source": [
    "df.info()"
   ]
  },
  {
   "cell_type": "code",
   "execution_count": 96,
   "id": "533ac8ca",
   "metadata": {},
   "outputs": [],
   "source": [
    "df.to_parquet(file_path, index=False)"
   ]
  },
  {
   "cell_type": "markdown",
   "id": "f9abf0bb",
   "metadata": {},
   "source": [
    "## 마케팅정보"
   ]
  },
  {
   "cell_type": "code",
   "execution_count": 97,
   "id": "1ec8f308",
   "metadata": {},
   "outputs": [
    {
     "name": "stdout",
     "output_type": "stream",
     "text": [
      "<class 'pandas.core.frame.DataFrame'>\n",
      "RangeIndex: 600000 entries, 0 to 599999\n",
      "Data columns (total 64 columns):\n",
      " #   Column             Non-Null Count   Dtype   \n",
      "---  ------             --------------   -----   \n",
      " 0   기준년월               600000 non-null  int32   \n",
      " 1   ID                 600000 non-null  category\n",
      " 2   컨택건수_카드론_TM_B0M    600000 non-null  int8    \n",
      " 3   컨택건수_리볼빙_TM_B0M    600000 non-null  int8    \n",
      " 4   컨택건수_CA_TM_B0M     600000 non-null  int8    \n",
      " 5   컨택건수_이용유도_TM_B0M   600000 non-null  int8    \n",
      " 6   컨택건수_신용발급_TM_B0M   600000 non-null  int8    \n",
      " 7   컨택건수_부대서비스_TM_B0M  600000 non-null  int8    \n",
      " 8   컨택건수_포인트소진_TM_B0M  600000 non-null  int8    \n",
      " 9   컨택건수_보험_TM_B0M     600000 non-null  int8    \n",
      " 10  컨택건수_카드론_LMS_B0M   600000 non-null  int8    \n",
      " 11  컨택건수_CA_LMS_B0M    600000 non-null  int8    \n",
      " 12  컨택건수_리볼빙_LMS_B0M   600000 non-null  int8    \n",
      " 13  컨택건수_이용유도_LMS_B0M  600000 non-null  int8    \n",
      " 14  컨택건수_카드론_EM_B0M    600000 non-null  int8    \n",
      " 15  컨택건수_CA_EM_B0M     600000 non-null  int8    \n",
      " 16  컨택건수_리볼빙_EM_B0M    600000 non-null  int8    \n",
      " 17  컨택건수_이용유도_EM_B0M   600000 non-null  int8    \n",
      " 18  컨택건수_카드론_청구서_B0M   600000 non-null  int8    \n",
      " 19  컨택건수_CA_청구서_B0M    600000 non-null  int8    \n",
      " 20  컨택건수_리볼빙_청구서_B0M   600000 non-null  int8    \n",
      " 21  컨택건수_이용유도_청구서_B0M  600000 non-null  int8    \n",
      " 22  컨택건수_카드론_인터넷_B0M   600000 non-null  int8    \n",
      " 23  컨택건수_CA_인터넷_B0M    600000 non-null  int8    \n",
      " 24  컨택건수_리볼빙_인터넷_B0M   600000 non-null  int8    \n",
      " 25  컨택건수_이용유도_인터넷_B0M  600000 non-null  int8    \n",
      " 26  컨택건수_카드론_당사앱_B0M   600000 non-null  int8    \n",
      " 27  컨택건수_CA_당사앱_B0M    600000 non-null  int8    \n",
      " 28  컨택건수_리볼빙_당사앱_B0M   600000 non-null  int8    \n",
      " 29  컨택건수_이용유도_당사앱_B0M  600000 non-null  int8    \n",
      " 30  컨택건수_카드론_TM_R6M    600000 non-null  int8    \n",
      " 31  컨택건수_CA_TM_R6M     600000 non-null  int8    \n",
      " 32  컨택건수_리볼빙_TM_R6M    600000 non-null  int8    \n",
      " 33  컨택건수_이용유도_TM_R6M   600000 non-null  int8    \n",
      " 34  컨택건수_신용발급_TM_R6M   600000 non-null  int8    \n",
      " 35  컨택건수_부대서비스_TM_R6M  600000 non-null  int8    \n",
      " 36  컨택건수_포인트소진_TM_R6M  600000 non-null  int8    \n",
      " 37  컨택건수_보험_TM_R6M     600000 non-null  int8    \n",
      " 38  컨택건수_카드론_LMS_R6M   600000 non-null  int8    \n",
      " 39  컨택건수_CA_LMS_R6M    600000 non-null  int8    \n",
      " 40  컨택건수_리볼빙_LMS_R6M   600000 non-null  int8    \n",
      " 41  컨택건수_이용유도_LMS_R6M  600000 non-null  int8    \n",
      " 42  컨택건수_카드론_EM_R6M    600000 non-null  int8    \n",
      " 43  컨택건수_CA_EM_R6M     600000 non-null  int8    \n",
      " 44  컨택건수_리볼빙_EM_R6M    600000 non-null  int8    \n",
      " 45  컨택건수_이용유도_EM_R6M   600000 non-null  int8    \n",
      " 46  컨택건수_카드론_청구서_R6M   600000 non-null  int8    \n",
      " 47  컨택건수_CA_청구서_R6M    600000 non-null  int8    \n",
      " 48  컨택건수_리볼빙_청구서_R6M   600000 non-null  int8    \n",
      " 49  컨택건수_이용유도_청구서_R6M  600000 non-null  int8    \n",
      " 50  컨택건수_카드론_인터넷_R6M   600000 non-null  int8    \n",
      " 51  컨택건수_CA_인터넷_R6M    600000 non-null  int8    \n",
      " 52  컨택건수_리볼빙_인터넷_R6M   600000 non-null  int8    \n",
      " 53  컨택건수_이용유도_인터넷_R6M  600000 non-null  int8    \n",
      " 54  컨택건수_카드론_당사앱_R6M   600000 non-null  int8    \n",
      " 55  컨택건수_CA_당사앱_R6M    600000 non-null  int8    \n",
      " 56  컨택건수_리볼빙_당사앱_R6M   600000 non-null  int8    \n",
      " 57  컨택건수_이용유도_당사앱_R6M  600000 non-null  int8    \n",
      " 58  컨택건수_채권_B0M        600000 non-null  int8    \n",
      " 59  컨택건수_FDS_B0M       600000 non-null  int8    \n",
      " 60  컨택건수_채권_R6M        600000 non-null  int8    \n",
      " 61  컨택건수_FDS_R6M       600000 non-null  int8    \n",
      " 62  캠페인접촉건수_R12M       600000 non-null  category\n",
      " 63  캠페인접촉일수_R12M       600000 non-null  category\n",
      "dtypes: category(3), int32(1), int8(60)\n",
      "memory usage: 42.8 MB\n"
     ]
    }
   ],
   "source": [
    "file_name = \"mkt_optimized.parquet\"\n",
    "# file_path = os.path.join(save_path, file_name)\n",
    "file_path = os.path.join(save_test_path, file_name)\n",
    "\n",
    "df = pd.read_parquet(file_path)\n",
    "df.info()"
   ]
  },
  {
   "cell_type": "code",
   "execution_count": 98,
   "id": "1cf188be",
   "metadata": {},
   "outputs": [
    {
     "data": {
      "text/html": [
       "<div>\n",
       "<style scoped>\n",
       "    .dataframe tbody tr th:only-of-type {\n",
       "        vertical-align: middle;\n",
       "    }\n",
       "\n",
       "    .dataframe tbody tr th {\n",
       "        vertical-align: top;\n",
       "    }\n",
       "\n",
       "    .dataframe thead th {\n",
       "        text-align: right;\n",
       "    }\n",
       "</style>\n",
       "<table border=\"1\" class=\"dataframe\">\n",
       "  <thead>\n",
       "    <tr style=\"text-align: right;\">\n",
       "      <th></th>\n",
       "      <th>missing_count</th>\n",
       "      <th>missing_percentage</th>\n",
       "      <th>type</th>\n",
       "    </tr>\n",
       "  </thead>\n",
       "  <tbody>\n",
       "  </tbody>\n",
       "</table>\n",
       "</div>"
      ],
      "text/plain": [
       "Empty DataFrame\n",
       "Columns: [missing_count, missing_percentage, type]\n",
       "Index: []"
      ]
     },
     "execution_count": 98,
     "metadata": {},
     "output_type": "execute_result"
    }
   ],
   "source": [
    "detect_missing_values(df)"
   ]
  },
  {
   "cell_type": "markdown",
   "id": "4866edac",
   "metadata": {},
   "source": [
    "## 성과정보"
   ]
  },
  {
   "cell_type": "code",
   "execution_count": 99,
   "id": "d4147a25",
   "metadata": {},
   "outputs": [
    {
     "name": "stdout",
     "output_type": "stream",
     "text": [
      "<class 'pandas.core.frame.DataFrame'>\n",
      "RangeIndex: 600000 entries, 0 to 599999\n",
      "Data columns (total 49 columns):\n",
      " #   Column              Non-Null Count   Dtype   \n",
      "---  ------              --------------   -----   \n",
      " 0   기준년월                600000 non-null  int32   \n",
      " 1   ID                  600000 non-null  category\n",
      " 2   증감율_이용건수_신용_전월      600000 non-null  float32 \n",
      " 3   증감율_이용건수_신판_전월      600000 non-null  float32 \n",
      " 4   증감율_이용건수_일시불_전월     600000 non-null  float32 \n",
      " 5   증감율_이용건수_할부_전월      600000 non-null  float32 \n",
      " 6   증감율_이용건수_CA_전월      600000 non-null  float32 \n",
      " 7   증감율_이용건수_체크_전월      600000 non-null  float32 \n",
      " 8   증감율_이용건수_카드론_전월     600000 non-null  float32 \n",
      " 9   증감율_이용금액_신용_전월      600000 non-null  float32 \n",
      " 10  증감율_이용금액_신판_전월      600000 non-null  float32 \n",
      " 11  증감율_이용금액_일시불_전월     600000 non-null  float32 \n",
      " 12  증감율_이용금액_할부_전월      600000 non-null  float32 \n",
      " 13  증감율_이용금액_CA_전월      600000 non-null  float32 \n",
      " 14  증감율_이용금액_체크_전월      600000 non-null  float32 \n",
      " 15  증감율_이용금액_카드론_전월     600000 non-null  float32 \n",
      " 16  증감율_이용건수_신용_분기      600000 non-null  float32 \n",
      " 17  증감율_이용건수_신판_분기      600000 non-null  float32 \n",
      " 18  증감율_이용건수_일시불_분기     600000 non-null  float32 \n",
      " 19  증감율_이용건수_할부_분기      600000 non-null  float32 \n",
      " 20  증감율_이용건수_CA_분기      600000 non-null  float32 \n",
      " 21  증감율_이용건수_체크_분기      600000 non-null  float32 \n",
      " 22  증감율_이용건수_카드론_분기     600000 non-null  float32 \n",
      " 23  증감율_이용금액_신용_분기      600000 non-null  float32 \n",
      " 24  증감율_이용금액_신판_분기      600000 non-null  float32 \n",
      " 25  증감율_이용금액_일시불_분기     600000 non-null  float32 \n",
      " 26  증감율_이용금액_할부_분기      600000 non-null  float32 \n",
      " 27  증감율_이용금액_CA_분기      600000 non-null  float32 \n",
      " 28  증감율_이용금액_체크_분기      600000 non-null  float32 \n",
      " 29  증감율_이용금액_카드론_분기     600000 non-null  float32 \n",
      " 30  잔액_신판평균한도소진율_r6m    600000 non-null  float32 \n",
      " 31  잔액_신판최대한도소진율_r6m    600000 non-null  float32 \n",
      " 32  잔액_신판평균한도소진율_r3m    600000 non-null  float32 \n",
      " 33  잔액_신판최대한도소진율_r3m    600000 non-null  float32 \n",
      " 34  잔액_신판ca평균한도소진율_r6m  600000 non-null  float32 \n",
      " 35  잔액_신판ca최대한도소진율_r6m  600000 non-null  float32 \n",
      " 36  잔액_신판ca평균한도소진율_r3m  600000 non-null  float32 \n",
      " 37  잔액_신판ca최대한도소진율_r3m  600000 non-null  float32 \n",
      " 38  변동률_일시불평잔           600000 non-null  float32 \n",
      " 39  변동률_RV일시불평잔         600000 non-null  float32 \n",
      " 40  변동률_할부평잔            600000 non-null  float32 \n",
      " 41  변동률_CA평잔            600000 non-null  float32 \n",
      " 42  변동률_RVCA평잔          600000 non-null  float32 \n",
      " 43  변동률_카드론평잔           600000 non-null  float32 \n",
      " 44  변동률_잔액_B1M          600000 non-null  float32 \n",
      " 45  변동률_잔액_일시불_B1M      600000 non-null  float32 \n",
      " 46  변동률_잔액_CA_B1M       600000 non-null  float32 \n",
      " 47  혜택수혜율_R3M           476285 non-null  float32 \n",
      " 48  혜택수혜율_B0M           459204 non-null  float32 \n",
      "dtypes: category(1), float32(47), int32(1)\n",
      "memory usage: 114.9 MB\n"
     ]
    }
   ],
   "source": [
    "file_name = \"perf_optimized.parquet\"\n",
    "# file_path = os.path.join(save_path, file_name)\n",
    "file_path = os.path.join(save_test_path, file_name)\n",
    "\n",
    "df = pd.read_parquet(file_path)\n",
    "df.info()"
   ]
  },
  {
   "cell_type": "code",
   "execution_count": 100,
   "id": "2c5fefe0",
   "metadata": {},
   "outputs": [
    {
     "data": {
      "text/html": [
       "<div>\n",
       "<style scoped>\n",
       "    .dataframe tbody tr th:only-of-type {\n",
       "        vertical-align: middle;\n",
       "    }\n",
       "\n",
       "    .dataframe tbody tr th {\n",
       "        vertical-align: top;\n",
       "    }\n",
       "\n",
       "    .dataframe thead th {\n",
       "        text-align: right;\n",
       "    }\n",
       "</style>\n",
       "<table border=\"1\" class=\"dataframe\">\n",
       "  <thead>\n",
       "    <tr style=\"text-align: right;\">\n",
       "      <th></th>\n",
       "      <th>missing_count</th>\n",
       "      <th>missing_percentage</th>\n",
       "      <th>type</th>\n",
       "    </tr>\n",
       "  </thead>\n",
       "  <tbody>\n",
       "    <tr>\n",
       "      <th>혜택수혜율_R3M</th>\n",
       "      <td>123715</td>\n",
       "      <td>20.619167</td>\n",
       "      <td>float32</td>\n",
       "    </tr>\n",
       "    <tr>\n",
       "      <th>혜택수혜율_B0M</th>\n",
       "      <td>140796</td>\n",
       "      <td>23.466000</td>\n",
       "      <td>float32</td>\n",
       "    </tr>\n",
       "  </tbody>\n",
       "</table>\n",
       "</div>"
      ],
      "text/plain": [
       "           missing_count  missing_percentage     type\n",
       "혜택수혜율_R3M         123715           20.619167  float32\n",
       "혜택수혜율_B0M         140796           23.466000  float32"
      ]
     },
     "execution_count": 100,
     "metadata": {},
     "output_type": "execute_result"
    }
   ],
   "source": [
    "detect_missing_values(df)"
   ]
  },
  {
   "cell_type": "code",
   "execution_count": 101,
   "id": "29399df6",
   "metadata": {},
   "outputs": [
    {
     "data": {
      "text/plain": [
       "array([ 1.3327699 ,  0.        ,  4.123738  , ...,  3.6863422 ,\n",
       "        8.564683  , -0.24152997], dtype=float32)"
      ]
     },
     "execution_count": 101,
     "metadata": {},
     "output_type": "execute_result"
    }
   ],
   "source": [
    "df[\"혜택수혜율_R3M\"].unique()"
   ]
  },
  {
   "cell_type": "code",
   "execution_count": 102,
   "id": "7aab8c27",
   "metadata": {},
   "outputs": [
    {
     "data": {
      "text/plain": [
       "count    476285.000000\n",
       "mean          4.839880\n",
       "std          18.444223\n",
       "min          -2.200005\n",
       "25%           0.000000\n",
       "50%           0.765533\n",
       "75%           2.196505\n",
       "max          99.999802\n",
       "Name: 혜택수혜율_R3M, dtype: float64"
      ]
     },
     "execution_count": 102,
     "metadata": {},
     "output_type": "execute_result"
    }
   ],
   "source": [
    "df[\"혜택수혜율_R3M\"].describe()"
   ]
  },
  {
   "cell_type": "markdown",
   "id": "cc9f1b54",
   "metadata": {},
   "source": [
    "- 최소값: -2.35 (음수 값이 존재)\n",
    "- 25% 분위수: 0\n",
    "- 50% 분위수 (중앙값): 0.76\n",
    "- 75% 분위수: 2.19\n",
    "- 최대값: 99.99\n",
    "- **평균이 약 4.76이고, 표준편차는 18.24로 상당히 큼**\n",
    "    - 평균에 영향을 덜 받는 중앙값으로 결측치 대체"
   ]
  },
  {
   "cell_type": "code",
   "execution_count": 103,
   "id": "462fc8e9",
   "metadata": {},
   "outputs": [
    {
     "data": {
      "text/plain": [
       "np.int64(0)"
      ]
     },
     "execution_count": 103,
     "metadata": {},
     "output_type": "execute_result"
    }
   ],
   "source": [
    "median_value = df[\"혜택수혜율_R3M\"].median()\n",
    "df[\"혜택수혜율_R3M\"] = df[\"혜택수혜율_R3M\"].fillna(median_value) # inplace는 추천하지 않음.\n",
    "df[\"혜택수혜율_R3M\"].isnull().sum()"
   ]
  },
  {
   "cell_type": "code",
   "execution_count": 104,
   "id": "b2e5b733",
   "metadata": {},
   "outputs": [
    {
     "data": {
      "text/plain": [
       "array([ 1.780392  ,  0.        ,  5.1155887 , ...,  4.732311  ,\n",
       "       11.379632  ,  0.49907917], dtype=float32)"
      ]
     },
     "execution_count": 104,
     "metadata": {},
     "output_type": "execute_result"
    }
   ],
   "source": [
    "df[\"혜택수혜율_B0M\"].unique()"
   ]
  },
  {
   "cell_type": "code",
   "execution_count": 105,
   "id": "f755df28",
   "metadata": {},
   "outputs": [
    {
     "data": {
      "text/plain": [
       "count    459204.000000\n",
       "mean          5.637671\n",
       "std          19.878920\n",
       "min          -1.947862\n",
       "25%           0.000000\n",
       "50%           0.993765\n",
       "75%           2.677982\n",
       "max          99.999802\n",
       "Name: 혜택수혜율_B0M, dtype: float64"
      ]
     },
     "execution_count": 105,
     "metadata": {},
     "output_type": "execute_result"
    }
   ],
   "source": [
    "df[\"혜택수혜율_B0M\"].describe()"
   ]
  },
  {
   "cell_type": "code",
   "execution_count": 106,
   "id": "143ca948",
   "metadata": {},
   "outputs": [
    {
     "data": {
      "text/plain": [
       "np.int64(0)"
      ]
     },
     "execution_count": 106,
     "metadata": {},
     "output_type": "execute_result"
    }
   ],
   "source": [
    "median_value = df[\"혜택수혜율_B0M\"].median()\n",
    "df[\"혜택수혜율_B0M\"] = df[\"혜택수혜율_B0M\"].fillna(median_value) # inplace는 추천하지 않음.\n",
    "df[\"혜택수혜율_B0M\"].isnull().sum()"
   ]
  },
  {
   "cell_type": "code",
   "execution_count": 107,
   "id": "d7733940",
   "metadata": {},
   "outputs": [],
   "source": [
    "df.to_parquet(file_path, index=False)"
   ]
  },
  {
   "cell_type": "markdown",
   "id": "fec0cd57",
   "metadata": {},
   "source": [
    "# Feature Engineering\n",
    "\n",
    "- 불필요한 column을 전처리하여 데이터 크기 감소"
   ]
  },
  {
   "cell_type": "code",
   "execution_count": 156,
   "id": "6f86634d",
   "metadata": {},
   "outputs": [],
   "source": [
    "def optimize_dataframe(df):\n",
    "    # 정수형 데이터 최적화\n",
    "    for col in df.select_dtypes(include=[\"int64\"]).columns:\n",
    "        min_val, max_val = df[col].min(), df[col].max()\n",
    "        if min_val >= -128 and max_val <= 127:\n",
    "            df[col] = df[col].astype(\"int8\")\n",
    "        elif min_val >= -32768 and max_val <= 32767:\n",
    "            df[col] = df[col].astype(\"int16\")\n",
    "        elif min_val >= -2147483648 and max_val <= 2147483647:\n",
    "            df[col] = df[col].astype(\"int32\")\n",
    "\n",
    "    # 실수형 데이터 최적화\n",
    "    for col in df.select_dtypes(include=[\"float64\"]).columns:\n",
    "        df[col] = df[col].astype(\"float32\")\n",
    "\n",
    "    # 문자열 데이터 최적화\n",
    "    for col in df.select_dtypes(include=[\"object\"]).columns:\n",
    "        df[col] = df[col].astype(\"category\")\n",
    "\n",
    "    return df"
   ]
  },
  {
   "cell_type": "markdown",
   "id": "2a8a6304",
   "metadata": {},
   "source": [
    "## 회원정보"
   ]
  },
  {
   "cell_type": "markdown",
   "id": "0de6bf0b",
   "metadata": {},
   "source": [
    "### Label Encoding"
   ]
  },
  {
   "cell_type": "code",
   "execution_count": 120,
   "id": "2ed1ee4d",
   "metadata": {},
   "outputs": [
    {
     "name": "stdout",
     "output_type": "stream",
     "text": [
      "✅ Label Encoding 완료:\n"
     ]
    },
    {
     "data": {
      "text/html": [
       "<div>\n",
       "<style scoped>\n",
       "    .dataframe tbody tr th:only-of-type {\n",
       "        vertical-align: middle;\n",
       "    }\n",
       "\n",
       "    .dataframe tbody tr th {\n",
       "        vertical-align: top;\n",
       "    }\n",
       "\n",
       "    .dataframe thead th {\n",
       "        text-align: right;\n",
       "    }\n",
       "</style>\n",
       "<table border=\"1\" class=\"dataframe\">\n",
       "  <thead>\n",
       "    <tr style=\"text-align: right;\">\n",
       "      <th></th>\n",
       "      <th>남녀구분코드</th>\n",
       "      <th>가입통신회사코드</th>\n",
       "      <th>거주시도명</th>\n",
       "      <th>직장시도명</th>\n",
       "      <th>Life_Stage</th>\n",
       "    </tr>\n",
       "  </thead>\n",
       "  <tbody>\n",
       "    <tr>\n",
       "      <th>0</th>\n",
       "      <td>1</td>\n",
       "      <td>1</td>\n",
       "      <td>8</td>\n",
       "      <td>9</td>\n",
       "      <td>5</td>\n",
       "    </tr>\n",
       "    <tr>\n",
       "      <th>1</th>\n",
       "      <td>0</td>\n",
       "      <td>0</td>\n",
       "      <td>1</td>\n",
       "      <td>2</td>\n",
       "      <td>4</td>\n",
       "    </tr>\n",
       "    <tr>\n",
       "      <th>2</th>\n",
       "      <td>0</td>\n",
       "      <td>2</td>\n",
       "      <td>8</td>\n",
       "      <td>9</td>\n",
       "      <td>6</td>\n",
       "    </tr>\n",
       "    <tr>\n",
       "      <th>3</th>\n",
       "      <td>1</td>\n",
       "      <td>1</td>\n",
       "      <td>7</td>\n",
       "      <td>8</td>\n",
       "      <td>5</td>\n",
       "    </tr>\n",
       "    <tr>\n",
       "      <th>4</th>\n",
       "      <td>1</td>\n",
       "      <td>0</td>\n",
       "      <td>4</td>\n",
       "      <td>5</td>\n",
       "      <td>4</td>\n",
       "    </tr>\n",
       "  </tbody>\n",
       "</table>\n",
       "</div>"
      ],
      "text/plain": [
       "   남녀구분코드  가입통신회사코드  거주시도명  직장시도명  Life_Stage\n",
       "0       1         1      8      9           5\n",
       "1       0         0      1      2           4\n",
       "2       0         2      8      9           6\n",
       "3       1         1      7      8           5\n",
       "4       1         0      4      5           4"
      ]
     },
     "execution_count": 120,
     "metadata": {},
     "output_type": "execute_result"
    }
   ],
   "source": [
    "from sklearn.preprocessing import LabelEncoder\n",
    "\n",
    "file_name = \"member_optimized.parquet\"\n",
    "save_path = \"../dataset/train/merged_optimized\"\n",
    "file_path = os.path.join(save_path, file_name)\n",
    "df = pd.read_parquet(file_path)\n",
    "\n",
    "label_columns = [\"남녀구분코드\", \"가입통신회사코드\", \"거주시도명\", \"직장시도명\", \"Life_Stage\"]\n",
    "\n",
    "# 각 컬럼별로 LabelEncoder 적용\n",
    "label_encoders = {}\n",
    "for col in label_columns:\n",
    "    le = LabelEncoder()\n",
    "    df[col] = le.fit_transform(df[col].astype(str))  # 결측치나 숫자형을 string으로 변환해 안전하게 처리\n",
    "    label_encoders[col] = le  # 나중에 test set에도 동일한 인코딩 적용할 수 있도록 저장\n",
    "\n",
    "\n",
    "print(\"✅ Label Encoding 완료:\")\n",
    "df[label_columns].head()"
   ]
  },
  {
   "cell_type": "code",
   "execution_count": null,
   "id": "8cb8c8a8",
   "metadata": {},
   "outputs": [],
   "source": [
    "# Test\n",
    "save_path = \"../dataset/test/merged_optimized\"\n",
    "df = pd.read_parquet(os.path.join(save_path, file_name))\n",
    "for col in label_columns:\n",
    "    df[col] = label_encoders[col].transform(df[col].astype(str))  # test set에도 동일한 인코딩 적용\n",
    "\n",
    "print(\"✅ Test set Label Encoding 완료:\")\n",
    "print(df[label_columns].head())\n",
    "\n",
    "df.to_parquet(os.path.join(save_path, file_name), index=False)"
   ]
  },
  {
   "cell_type": "markdown",
   "id": "92eef543",
   "metadata": {},
   "source": [
    "### Column 통합\n",
    "- 같은 범주의 Column은 총합 혹은 하나의 컬럼으로 통합"
   ]
  },
  {
   "cell_type": "code",
   "execution_count": 121,
   "id": "85f95ed5",
   "metadata": {},
   "outputs": [],
   "source": [
    "# 카드 개수 통합\n",
    "df[\"유효카드수_전체\"] = (\n",
    "    df[\"유효카드수_신용체크\"] + df[\"유효카드수_신용\"] + df[\"유효카드수_신용_가족\"] +\n",
    "    df[\"유효카드수_체크\"] + df[\"유효카드수_체크_가족\"]\n",
    ")\n",
    "\n",
    "df[\"이용가능카드수_전체\"] = (\n",
    "    df[\"이용가능카드수_신용체크\"] + df[\"이용가능카드수_신용\"] +\n",
    "    df[\"이용가능카드수_신용_가족\"] + df[\"이용가능카드수_체크\"] + df[\"이용가능카드수_체크_가족\"]\n",
    ")\n",
    "\n",
    "df[\"이용카드수_전체\"] = (\n",
    "    df[\"이용카드수_신용체크\"] + df[\"이용카드수_신용\"] + df[\"이용카드수_신용_가족\"] +\n",
    "    df[\"이용카드수_체크\"] + df[\"이용카드수_체크_가족\"]\n",
    ")\n",
    "\n",
    "# 카드 이용 금액 통합\n",
    "df[\"이용금액_R3M_총합\"] = (\n",
    "    df[\"이용금액_R3M_신용체크\"] + df[\"이용금액_R3M_신용\"] +\n",
    "    df[\"이용금액_R3M_신용_가족\"] + df[\"이용금액_R3M_체크\"] +\n",
    "    df[\"이용금액_R3M_체크_가족\"]\n",
    ")\n",
    "\n",
    "target1 = [\n",
    "    \"유효카드수_신용체크\", \"유효카드수_신용\", \"유효카드수_신용_가족\", \"유효카드수_체크\", \"유효카드수_체크_가족\",\n",
    "    \"이용가능카드수_신용체크\", \"이용가능카드수_신용\", \"이용가능카드수_신용_가족\", \"이용가능카드수_체크\", \"이용가능카드수_체크_가족\",\n",
    "    \"이용카드수_신용체크\", \"이용카드수_신용\", \"이용카드수_신용_가족\", \"이용카드수_체크\", \"이용카드수_체크_가족\",\n",
    "    \"이용금액_R3M_신용체크\", \"이용금액_R3M_신용\", \"이용금액_R3M_신용_가족\", \"이용금액_R3M_체크\", \"이용금액_R3M_체크_가족\",\n",
    "]\n",
    "\n",
    "# 연회비 통합\n",
    "df[\"총연회비_B0M\"] = df[\"기본연회비_B0M\"] + df[\"제휴연회비_B0M\"]\n",
    "df[\"총할인금액_B0M\"] = df[\"할인금액_기본연회비_B0M\"] + df[\"할인금액_제휴연회비_B0M\"]\n",
    "df[\"총청구연회비_B0M\"] = df[\"청구금액_기본연회비_B0M\"] + df[\"청구금액_제휴연회비_B0M\"]\n",
    "\n",
    "target2 = [\n",
    "    \"기본연회비_B0M\", \"제휴연회비_B0M\",\n",
    "    \"할인금액_기본연회비_B0M\", \"할인금액_제휴연회비_B0M\",\n",
    "    \"청구금액_기본연회비_B0M\", \"청구금액_제휴연회비_B0M\",\n",
    "]\n",
    "\n",
    "# 회원 이탈 경향 Feature\n",
    "# 탈회 비율 (입회 경과 기간에 대한 탈회 빈도)\n",
    "df[\"탈회비율\"] = df[\"탈회횟수_누적\"] / (df[\"입회경과개월수_신용\"] + 1)\n",
    "\n",
    "target3 = [\n",
    "    \"탈회횟수_누적\", \"입회경과개월수_신용\",\n",
    "]\n",
    "\n",
    "# 최근 카드 발급 후 시간 비율\n",
    "df[\"카드발급후경과비율\"] = df[\"최종카드발급경과월\"] / (df[\"입회경과개월수_신용\"] + 1)\n",
    "\n",
    "target4 = [\"최종카드발급경과월\"]\n",
    "\n",
    "# 우선순위 카드 집중도\n",
    "# 1순위 카드와 2순위 카드 금액 차이\n",
    "df[\"주이용카드_금액차\"] = df[\"_1순위카드이용금액\"] - df[\"_2순위카드이용금액\"]\n",
    "df[\"주이용카드_건수차\"] = df[\"_1순위카드이용건수\"] - df[\"_2순위카드이용건수\"]\n",
    "\n",
    "target5 = [\"_1순위카드이용금액\", \"_2순위카드이용금액\", \"_1순위카드이용건수\", \"_2순위카드이용건수\"]\n",
    "\n",
    "drop_columns = target1 + target2 + target3 + target4 + target5\n",
    "df = df.drop(columns=drop_columns)\n"
   ]
  },
  {
   "cell_type": "code",
   "execution_count": 122,
   "id": "feb63b8a",
   "metadata": {},
   "outputs": [
    {
     "name": "stdout",
     "output_type": "stream",
     "text": [
      "<class 'pandas.core.frame.DataFrame'>\n",
      "RangeIndex: 2400000 entries, 0 to 2399999\n",
      "Data columns (total 56 columns):\n",
      " #   Column              Dtype         \n",
      "---  ------              -----         \n",
      " 0   기준년월                int32         \n",
      " 1   ID                  category      \n",
      " 2   남녀구분코드              int64         \n",
      " 3   연령                  category      \n",
      " 4   Segment             category      \n",
      " 5   회원여부_이용가능           int8          \n",
      " 6   회원여부_이용가능_CA        int8          \n",
      " 7   회원여부_이용가능_카드론       int8          \n",
      " 8   소지여부_신용             int8          \n",
      " 9   소지카드수_유효_신용         int8          \n",
      " 10  소지카드수_이용가능_신용       int8          \n",
      " 11  입회일자_신용             int32         \n",
      " 12  회원여부_연체             int8          \n",
      " 13  이용거절여부_카드론          int8          \n",
      " 14  동의여부_한도증액안내         int8          \n",
      " 15  수신거부여부_TM           int8          \n",
      " 16  수신거부여부_DM           int8          \n",
      " 17  수신거부여부_메일           int8          \n",
      " 18  수신거부여부_SMS          int8          \n",
      " 19  가입통신회사코드            int64         \n",
      " 20  최종탈회후경과월            int8          \n",
      " 21  탈회횟수_발급6개월이내        int8          \n",
      " 22  탈회횟수_발급1년이내         int8          \n",
      " 23  거주시도명               int64         \n",
      " 24  직장시도명               int64         \n",
      " 25  마케팅동의여부             int8          \n",
      " 26  _1순위신용체크구분          category      \n",
      " 27  _2순위신용체크구분          category      \n",
      " 28  최종유효년월_신용_이용가능      datetime64[ns]\n",
      " 29  최종유효년월_신용_이용        datetime64[ns]\n",
      " 30  최종카드발급일자            datetime64[ns]\n",
      " 31  보유여부_해외겸용_본인        int8          \n",
      " 32  이용가능여부_해외겸용_본인      int8          \n",
      " 33  이용여부_3M_해외겸용_본인     int8          \n",
      " 34  보유여부_해외겸용_신용_본인     int8          \n",
      " 35  이용가능여부_해외겸용_신용_본인   int8          \n",
      " 36  이용여부_3M_해외겸용_신용_본인  int8          \n",
      " 37  연회비발생카드수_B0M        category      \n",
      " 38  연회비할인카드수_B0M        int8          \n",
      " 39  상품관련면제카드수_B0M       category      \n",
      " 40  임직원면제카드수_B0M        category      \n",
      " 41  우수회원면제카드수_B0M       category      \n",
      " 42  기타면제카드수_B0M         category      \n",
      " 43  카드신청건수              int8          \n",
      " 44  Life_Stage          int64         \n",
      " 45  유효카드수_전체            int8          \n",
      " 46  이용가능카드수_전체          int8          \n",
      " 47  이용카드수_전체            int8          \n",
      " 48  이용금액_R3M_총합         int32         \n",
      " 49  총연회비_B0M            int16         \n",
      " 50  총할인금액_B0M           int8          \n",
      " 51  총청구연회비_B0M          int16         \n",
      " 52  탈회비율                float64       \n",
      " 53  카드발급후경과비율           float64       \n",
      " 54  주이용카드_금액차           int32         \n",
      " 55  주이용카드_건수차           int16         \n",
      "dtypes: category(10), datetime64[ns](3), float64(2), int16(3), int32(4), int64(5), int8(29)\n",
      "memory usage: 340.7 MB\n",
      "../dataset/train/merged_optimized\\member_optimized.parquet 저장 완료\n"
     ]
    }
   ],
   "source": [
    "df.info()\n",
    "\n",
    "file_path = os.path.join(save_path, file_name)\n",
    "df.to_parquet(file_path, index=False)\n",
    "print(f\"{file_path} 저장 완료\")"
   ]
  },
  {
   "cell_type": "markdown",
   "id": "ce005772",
   "metadata": {},
   "source": [
    "## 신용정보"
   ]
  },
  {
   "cell_type": "markdown",
   "id": "752f2137",
   "metadata": {},
   "source": [
    "### Label Encoding"
   ]
  },
  {
   "cell_type": "code",
   "execution_count": 140,
   "id": "f177035e",
   "metadata": {},
   "outputs": [
    {
     "name": "stdout",
     "output_type": "stream",
     "text": [
      "<class 'pandas.core.frame.DataFrame'>\n",
      "RangeIndex: 600000 entries, 0 to 599999\n",
      "Data columns (total 42 columns):\n",
      " #   Column          Non-Null Count   Dtype         \n",
      "---  ------          --------------   -----         \n",
      " 0   기준년월            600000 non-null  int32         \n",
      " 1   ID              600000 non-null  category      \n",
      " 2   최초한도금액          600000 non-null  int32         \n",
      " 3   카드이용한도금액        600000 non-null  int32         \n",
      " 4   CA한도금액          600000 non-null  int32         \n",
      " 5   일시상환론한도금액       600000 non-null  int32         \n",
      " 6   월상환론한도금액        600000 non-null  int32         \n",
      " 7   CA이자율_할인전       600000 non-null  float32       \n",
      " 8   CL이자율_할인전       600000 non-null  float32       \n",
      " 9   RV일시불이자율_할인전    600000 non-null  float32       \n",
      " 10  RV현금서비스이자율_할인전  600000 non-null  float32       \n",
      " 11  RV신청일자          106572 non-null  datetime64[ns]\n",
      " 12  RV약정청구율         600000 non-null  float32       \n",
      " 13  RV최소결제비율        600000 non-null  float32       \n",
      " 14  자발한도감액횟수_R12M   600000 non-null  category      \n",
      " 15  자발한도감액금액_R12M   600000 non-null  int8          \n",
      " 16  자발한도감액후경과월      600000 non-null  int8          \n",
      " 17  강제한도감액횟수_R12M   600000 non-null  int8          \n",
      " 18  강제한도감액금액_R12M   600000 non-null  int8          \n",
      " 19  강제한도감액후경과월      600000 non-null  int8          \n",
      " 20  한도증액횟수_R12M     600000 non-null  category      \n",
      " 21  한도증액금액_R12M     600000 non-null  int8          \n",
      " 22  한도증액후경과월        600000 non-null  int8          \n",
      " 23  상향가능한도금액        600000 non-null  int8          \n",
      " 24  상향가능CA한도금액      600000 non-null  int8          \n",
      " 25  카드론동의여부         600000 non-null  category      \n",
      " 26  월상환론상향가능한도금액    600000 non-null  int8          \n",
      " 27  RV전환가능여부        600000 non-null  category      \n",
      " 28  일시불ONLY전환가능여부   600000 non-null  int8          \n",
      " 29  카드이용한도금액_B1M    600000 non-null  int32         \n",
      " 30  카드이용한도금액_B2M    600000 non-null  int32         \n",
      " 31  특별한도보유여부_R3M    600000 non-null  int8          \n",
      " 32  연체감액여부_R3M      600000 non-null  int8          \n",
      " 33  한도심사요청건수        600000 non-null  category      \n",
      " 34  한도요청거절건수        600000 non-null  int8          \n",
      " 35  한도심사요청후경과월      600000 non-null  int8          \n",
      " 36  한도심사거절후경과월      600000 non-null  int8          \n",
      " 37  시장단기연체여부_R6M    600000 non-null  int8          \n",
      " 38  시장단기연체여부_R3M    600000 non-null  int8          \n",
      " 39  시장연체상환여부_R6M    600000 non-null  int8          \n",
      " 40  시장연체상환여부_R3M    600000 non-null  int8          \n",
      " 41  rv최초시작후경과일      600000 non-null  int32         \n",
      "dtypes: category(6), datetime64[ns](1), float32(6), int32(9), int8(20)\n",
      "memory usage: 58.3 MB\n"
     ]
    }
   ],
   "source": [
    "file_name = \"credit_optimized.parquet\"\n",
    "# file_path = os.path.join(save_path, file_name)\n",
    "file_path = os.path.join(save_test_path, file_name)\n",
    "\n",
    "df = pd.read_parquet(file_path)\n",
    "df.info()"
   ]
  },
  {
   "cell_type": "code",
   "execution_count": 141,
   "id": "272bf54f",
   "metadata": {},
   "outputs": [
    {
     "name": "stdout",
     "output_type": "stream",
     "text": [
      "Unique values for 카드론동의여부:\n",
      "['N', 'Y']\n",
      "Categories (2, object): ['N', 'Y']\n",
      "\n",
      "\n",
      "Unique values for RV전환가능여부:\n",
      "['Z', 'N', 'unknown']\n",
      "Categories (3, object): ['N', 'Z', 'unknown']\n",
      "\n",
      "\n",
      "Unique values for 일시불ONLY전환가능여부:\n",
      "[1 0]\n",
      "\n",
      "\n",
      "Unique values for 특별한도보유여부_R3M:\n",
      "[0 1]\n",
      "\n",
      "\n",
      "Unique values for 연체감액여부_R3M:\n",
      "[0 1]\n",
      "\n",
      "\n",
      "Unique values for 시장단기연체여부_R3M:\n",
      "[0 1]\n",
      "\n",
      "\n",
      "Unique values for 시장단기연체여부_R6M:\n",
      "[0 1]\n",
      "\n",
      "\n",
      "Unique values for 시장연체상환여부_R3M:\n",
      "[0]\n",
      "\n",
      "\n",
      "Unique values for 시장연체상환여부_R6M:\n",
      "[0 1]\n",
      "\n",
      "\n"
     ]
    }
   ],
   "source": [
    "binary_cols = [\n",
    "    \"카드론동의여부\", \"RV전환가능여부\", \"일시불ONLY전환가능여부\",\n",
    "    \"특별한도보유여부_R3M\", \"연체감액여부_R3M\",\n",
    "    \"시장단기연체여부_R3M\", \"시장단기연체여부_R6M\",\n",
    "    \"시장연체상환여부_R3M\", \"시장연체상환여부_R6M\"\n",
    "]\n",
    "\n",
    "# 이진 변수는 직접 매핑\n",
    "for col in binary_cols:\n",
    "   print(f\"Unique values for {col}:\")\n",
    "   print(df[col].unique())\n",
    "   print(end=\"\\n\\n\")\n"
   ]
  },
  {
   "cell_type": "code",
   "execution_count": null,
   "id": "2a6f8fac",
   "metadata": {},
   "outputs": [],
   "source": [
    "# 카드론동의여부: Y/N → 1/0\n",
    "df[\"카드론동의여부\"] = df[\"카드론동의여부\"].map({\"Y\": 1, \"N\": 0})\n",
    "\n",
    "# RV전환가능여부: 다범주형이므로 LabelEncoding\n",
    "le_rv = LabelEncoder()\n",
    "df[\"RV전환가능여부\"] = le_rv.fit_transform(df[\"RV전환가능여부\"].astype(str))\n"
   ]
  },
  {
   "cell_type": "code",
   "execution_count": 142,
   "id": "17a731f7",
   "metadata": {},
   "outputs": [],
   "source": [
    "# Test\n",
    "# 카드론동의여부: Y/N → 1/0\n",
    "df[\"카드론동의여부\"] = df[\"카드론동의여부\"].map({\"Y\": 1, \"N\": 0})\n",
    "\n",
    "# RV전환가능여부: 다범주형이므로 LabelEncoding\n",
    "df[\"RV전환가능여부\"] = le_rv.fit_transform(df[\"RV전환가능여부\"].astype(str))\n"
   ]
  },
  {
   "cell_type": "markdown",
   "id": "d8525e1f",
   "metadata": {},
   "source": [
    "### Feature Engineering"
   ]
  },
  {
   "cell_type": "code",
   "execution_count": 143,
   "id": "c779c72d",
   "metadata": {},
   "outputs": [],
   "source": [
    "# 전체 한도 합산\n",
    "df[\"총한도금액\"] = (\n",
    "    df[\"카드이용한도금액\"] +\n",
    "    df[\"CA한도금액\"] +\n",
    "    df[\"일시상환론한도금액\"] +\n",
    "    df[\"월상환론한도금액\"]\n",
    ")\n",
    "\n",
    "target1 = [\"카드이용한도금액\", \"CA한도금액\", \"일시상환론한도금액\", \"월상환론한도금액\"]\n",
    "\n",
    "# 항목별 구성 비율\n",
    "df[\"한도비율_CA\"] = df[\"CA한도금액\"] / (df[\"총한도금액\"] + 1)\n",
    "df[\"한도비율_카드론\"] = df[\"월상환론한도금액\"] / (df[\"총한도금액\"] + 1)\n",
    "\n",
    "# 총 자발 감액 vs 강제 감액\n",
    "df[\"감액총액\"] = df[\"자발한도감액금액_R12M\"] + df[\"강제한도감액금액_R12M\"]\n",
    "\n",
    "target2 = [\"자발한도감액금액_R12M\", \"강제한도감액금액_R12M\", \"자발한도감액횟수_R12M\", \"강제한도감액횟수_R12M\"]\n",
    "\n",
    "# 증액 후 감액 여부\n",
    "df[\"감액후증액\"] = (df[\"한도증액후경과월\"] > df[\"자발한도감액후경과월\"]).astype(int)\n",
    "\n",
    "# 전체 이자율 평균\n",
    "df[\"평균이자율\"] = df[[\n",
    "    \"CA이자율_할인전\",\n",
    "    \"CL이자율_할인전\",\n",
    "    \"RV일시불이자율_할인전\",\n",
    "    \"RV현금서비스이자율_할인전\"\n",
    "]].mean(axis=1)\n",
    "\n",
    "target3 = [\"CA이자율_할인전\", \"CL이자율_할인전\", \"RV일시불이자율_할인전\", \"RV현금서비스이자율_할인전\"]\n",
    "\n",
    "# 리볼빙 비율이 일정 이상이면 적극적 사용자\n",
    "df[\"리볼빙_활성사용자\"] = (df[\"RV약정청구율\"] > 50).astype(int)\n",
    "\n",
    "# 리볼빙 신청 이후 경과일 수 기준\n",
    "df[\"리볼빙신청_경과일수\"] = df[\"rv최초시작후경과일\"]\n",
    "\n",
    "# 한도 변화 추이\n",
    "df[\"한도변화_1M\"] = df[\"카드이용한도금액\"] - df[\"카드이용한도금액_B1M\"]\n",
    "df[\"한도변화_2M\"] = df[\"카드이용한도금액_B1M\"] - df[\"카드이용한도금액_B2M\"]\n",
    "\n",
    "target4 = [\"카드이용한도금액_B1M\", \"카드이용한도금액_B2M\"]\n",
    "\n",
    "drop_columns = target1 + target2 + target3 + target4\n"
   ]
  },
  {
   "cell_type": "code",
   "execution_count": 144,
   "id": "a37781bc",
   "metadata": {},
   "outputs": [
    {
     "name": "stdout",
     "output_type": "stream",
     "text": [
      "<class 'pandas.core.frame.DataFrame'>\n",
      "RangeIndex: 600000 entries, 0 to 599999\n",
      "Data columns (total 38 columns):\n",
      " #   Column         Non-Null Count   Dtype         \n",
      "---  ------         --------------   -----         \n",
      " 0   기준년월           600000 non-null  int32         \n",
      " 1   ID             600000 non-null  category      \n",
      " 2   최초한도금액         600000 non-null  int32         \n",
      " 3   RV신청일자         106572 non-null  datetime64[ns]\n",
      " 4   RV약정청구율        600000 non-null  float32       \n",
      " 5   RV최소결제비율       600000 non-null  float32       \n",
      " 6   자발한도감액후경과월     600000 non-null  int8          \n",
      " 7   강제한도감액후경과월     600000 non-null  int8          \n",
      " 8   한도증액횟수_R12M    600000 non-null  category      \n",
      " 9   한도증액금액_R12M    600000 non-null  int8          \n",
      " 10  한도증액후경과월       600000 non-null  int8          \n",
      " 11  상향가능한도금액       600000 non-null  int8          \n",
      " 12  상향가능CA한도금액     600000 non-null  int8          \n",
      " 13  카드론동의여부        600000 non-null  category      \n",
      " 14  월상환론상향가능한도금액   600000 non-null  int8          \n",
      " 15  RV전환가능여부       600000 non-null  int64         \n",
      " 16  일시불ONLY전환가능여부  600000 non-null  int8          \n",
      " 17  특별한도보유여부_R3M   600000 non-null  int8          \n",
      " 18  연체감액여부_R3M     600000 non-null  int8          \n",
      " 19  한도심사요청건수       600000 non-null  category      \n",
      " 20  한도요청거절건수       600000 non-null  int8          \n",
      " 21  한도심사요청후경과월     600000 non-null  int8          \n",
      " 22  한도심사거절후경과월     600000 non-null  int8          \n",
      " 23  시장단기연체여부_R6M   600000 non-null  int8          \n",
      " 24  시장단기연체여부_R3M   600000 non-null  int8          \n",
      " 25  시장연체상환여부_R6M   600000 non-null  int8          \n",
      " 26  시장연체상환여부_R3M   600000 non-null  int8          \n",
      " 27  rv최초시작후경과일     600000 non-null  int32         \n",
      " 28  총한도금액          600000 non-null  int32         \n",
      " 29  한도비율_CA        600000 non-null  float64       \n",
      " 30  한도비율_카드론       600000 non-null  float64       \n",
      " 31  감액총액           600000 non-null  int8          \n",
      " 32  감액후증액          600000 non-null  int64         \n",
      " 33  평균이자율          600000 non-null  float32       \n",
      " 34  리볼빙_활성사용자      600000 non-null  int64         \n",
      " 35  리볼빙신청_경과일수     600000 non-null  int32         \n",
      " 36  한도변화_1M        600000 non-null  int32         \n",
      " 37  한도변화_2M        600000 non-null  int32         \n",
      "dtypes: category(4), datetime64[ns](1), float32(3), float64(2), int32(7), int64(3), int8(18)\n",
      "memory usage: 67.4 MB\n"
     ]
    }
   ],
   "source": [
    "df = df.drop(columns=drop_columns)\n",
    "df.info()"
   ]
  },
  {
   "cell_type": "code",
   "execution_count": 145,
   "id": "98808509",
   "metadata": {},
   "outputs": [],
   "source": [
    "df.to_parquet(file_path, index=False)"
   ]
  },
  {
   "cell_type": "markdown",
   "id": "270b18b8",
   "metadata": {},
   "source": [
    "## 승인매출정보"
   ]
  },
  {
   "cell_type": "markdown",
   "id": "3604dc48",
   "metadata": {},
   "source": [
    "### Label Encoding"
   ]
  },
  {
   "cell_type": "code",
   "execution_count": 164,
   "id": "50d2c184",
   "metadata": {},
   "outputs": [
    {
     "name": "stdout",
     "output_type": "stream",
     "text": [
      "<class 'pandas.core.frame.DataFrame'>\n",
      "RangeIndex: 600000 entries, 0 to 599999\n",
      "Columns: 406 entries, 기준년월 to 이용금액대\n",
      "dtypes: category(18), datetime64[ns](1), float32(2), int16(110), int32(65), int8(210)\n",
      "memory usage: 418.8 MB\n"
     ]
    }
   ],
   "source": [
    "file_name = \"tx_optimized.parquet\"\n",
    "# file_path = os.path.join(save_path, file_name)\n",
    "file_path = os.path.join(save_test_path, file_name)\n",
    "\n",
    "df = pd.read_parquet(file_path)\n",
    "df.info()"
   ]
  },
  {
   "cell_type": "code",
   "execution_count": 165,
   "id": "32c8bfdb",
   "metadata": {},
   "outputs": [],
   "source": [
    "label_cols = [\n",
    "    \"_1순위업종\", \"_2순위업종\", \"_3순위업종\",\n",
    "    \"_1순위쇼핑업종\", \"_2순위쇼핑업종\", \"_3순위쇼핑업종\",\n",
    "    \"_1순위교통업종\", \"_2순위교통업종\", \"_3순위교통업종\",\n",
    "    \"_1순위여유업종\", \"_2순위여유업종\", \"_3순위여유업종\",\n",
    "    \"_1순위납부업종\", \"_2순위납부업종\", \"_3순위납부업종\",\n",
    "    \"이용금액대\"\n",
    "]\n",
    "\n",
    "label_encoders = {}\n",
    "\n",
    "for col in label_cols:\n",
    "    le = LabelEncoder()\n",
    "    df[col] = le.fit_transform(df[col].astype(str))\n",
    "    label_encoders[col] = le"
   ]
  },
  {
   "cell_type": "markdown",
   "id": "9ca264e8",
   "metadata": {},
   "source": [
    "### Column 통합"
   ]
  },
  {
   "cell_type": "code",
   "execution_count": 166,
   "id": "996233d1",
   "metadata": {},
   "outputs": [],
   "source": [
    "# 당월 총 이용금액\n",
    "df[\"이용금액_B0M_총합\"] = (\n",
    "    df[\"이용금액_일시불_B0M\"] + df[\"이용금액_할부_B0M\"] +\n",
    "    df[\"이용금액_CA_B0M\"] + df[\"이용금액_체크_B0M\"] +\n",
    "    df[\"이용금액_카드론_B0M\"]\n",
    ")\n",
    "\n",
    "# 당월 총 이용건수\n",
    "df[\"이용건수_B0M_총합\"] = (\n",
    "    df[\"이용건수_일시불_B0M\"] + df[\"이용건수_할부_B0M\"] +\n",
    "    df[\"이용건수_CA_B0M\"] + df[\"이용건수_체크_B0M\"] +\n",
    "    df[\"이용건수_카드론_B0M\"]\n",
    ")\n",
    "\n",
    "# 최근 3개월 온라인/오프라인 총액\n",
    "df[\"이용금액_온라인오프라인_R3M\"] = df[\"이용금액_온라인_R3M\"] + df[\"이용금액_오프라인_R3M\"]\n",
    "df[\"이용건수_온라인오프라인_R3M\"] = df[\"이용건수_온라인_R3M\"] + df[\"이용건수_오프라인_R3M\"]\n",
    "\n",
    "할부총 = (\n",
    "    df[\"이용금액_할부_유이자_R12M\"] +\n",
    "    df[\"이용금액_할부_무이자_R12M\"] +\n",
    "    df[\"이용금액_부분무이자_R12M\"]\n",
    ")\n",
    "\n",
    "df[\"할부비율_유이자\"] = df[\"이용금액_할부_유이자_R12M\"] / (할부총 + 1)\n",
    "df[\"할부비율_무이자\"] = df[\"이용금액_할부_무이자_R12M\"] / (할부총 + 1)\n",
    "df[\"할부비율_부분무이자\"] = df[\"이용금액_부분무이자_R12M\"] / (할부총 + 1)\n",
    "\n",
    "df[\"RP_활성도지수\"] = df[\"RP건수_B0M\"] / (df[\"RP후경과월\"] + 1)\n",
    "df[\"간편결제_활성도\"] = df[\"이용금액_간편결제_R3M\"] / (df[\"이용개월수_간편결제_R6M\"] + 1)\n",
    "df[\"승인거절비율_B0M\"] = df[\"승인거절건수_B0M\"] / (df[\"이용건수_B0M_총합\"] + 1)\n",
    "\n",
    "df[\"월평균이용금액_R3M\"] = df[\"이용금액_B0M_총합\"] / (df[\"이용개월수_전체_R3M\"] + 1)\n",
    "df[\"월평균이용금액_R6M\"] = df[\"이용금액_온라인_R6M\"] + df[\"이용금액_오프라인_R6M\"] / (df[\"이용개월수_전체_R6M\"] + 1)\n",
    "\n",
    "cols_to_drop = [\n",
    "    \"이용금액_일시불_B0M\", \"이용금액_할부_B0M\", \"이용금액_CA_B0M\", \"이용금액_체크_B0M\", \"이용금액_카드론_B0M\",\n",
    "    \"이용건수_일시불_B0M\", \"이용건수_할부_B0M\", \"이용건수_CA_B0M\", \"이용건수_체크_B0M\", \"이용건수_카드론_B0M\",\n",
    "    \"이용금액_온라인_R3M\", \"이용금액_오프라인_R3M\",\n",
    "    \"이용금액_할부_유이자_R12M\", \"이용금액_할부_무이자_R12M\", \"이용금액_부분무이자_R12M\",\n",
    "    \"RP건수_B0M\", \"RP후경과월\",\n",
    "    \"이용개월수_전체_R3M\", \"이용개월수_전체_R6M\",\n",
    "    \"이용금액_온라인_R6M\", \"이용금액_오프라인_R6M\",\n",
    "    \"이용금액_간편결제_R3M\", \"이용개월수_간편결제_R6M\", \"승인거절건수_B0M\"\n",
    "]\n",
    "\n",
    "df = df.drop(columns=cols_to_drop)\n"
   ]
  },
  {
   "cell_type": "code",
   "execution_count": 167,
   "id": "0d528f5c",
   "metadata": {},
   "outputs": [
    {
     "name": "stdout",
     "output_type": "stream",
     "text": [
      "<class 'pandas.core.frame.DataFrame'>\n",
      "RangeIndex: 600000 entries, 0 to 599999\n",
      "Columns: 394 entries, 기준년월 to 월평균이용금액_R6M\n",
      "dtypes: category(2), datetime64[ns](1), float32(10), int16(106), int32(59), int8(216)\n",
      "memory usage: 413.0 MB\n"
     ]
    }
   ],
   "source": [
    "df = optimize_dataframe(df)\n",
    "df.info()"
   ]
  },
  {
   "cell_type": "code",
   "execution_count": 168,
   "id": "abe63744",
   "metadata": {},
   "outputs": [],
   "source": [
    "df.to_parquet(file_path, index=False)"
   ]
  },
  {
   "cell_type": "markdown",
   "id": "4cb6c868",
   "metadata": {},
   "source": [
    "## 청구입금정보"
   ]
  },
  {
   "cell_type": "markdown",
   "id": "43962179",
   "metadata": {},
   "source": [
    "### Label Encoding"
   ]
  },
  {
   "cell_type": "code",
   "execution_count": 176,
   "id": "8a81cb84",
   "metadata": {},
   "outputs": [
    {
     "name": "stdout",
     "output_type": "stream",
     "text": [
      "<class 'pandas.core.frame.DataFrame'>\n",
      "RangeIndex: 600000 entries, 0 to 599999\n",
      "Data columns (total 46 columns):\n",
      " #   Column            Non-Null Count   Dtype   \n",
      "---  ------            --------------   -----   \n",
      " 0   기준년월              600000 non-null  int32   \n",
      " 1   ID                600000 non-null  category\n",
      " 2   대표결제일             600000 non-null  int8    \n",
      " 3   대표결제방법코드          600000 non-null  category\n",
      " 4   대표청구지고객주소구분코드     600000 non-null  category\n",
      " 5   대표청구서수령지구분코드      600000 non-null  category\n",
      " 6   청구서수령방법           600000 non-null  category\n",
      " 7   청구서발송여부_B0        600000 non-null  int8    \n",
      " 8   청구서발송여부_R3M       600000 non-null  int8    \n",
      " 9   청구서발송여부_R6M       600000 non-null  int8    \n",
      " 10  청구금액_B0           600000 non-null  int32   \n",
      " 11  청구금액_R3M          600000 non-null  int32   \n",
      " 12  청구금액_R6M          600000 non-null  int32   \n",
      " 13  포인트_마일리지_건별_B0M   600000 non-null  int16   \n",
      " 14  포인트_마일리지_건별_R3M   600000 non-null  int16   \n",
      " 15  포인트_포인트_건별_B0M    600000 non-null  int16   \n",
      " 16  포인트_포인트_건별_R3M    600000 non-null  int16   \n",
      " 17  포인트_마일리지_월적립_B0M  600000 non-null  int16   \n",
      " 18  포인트_마일리지_월적립_R3M  600000 non-null  int16   \n",
      " 19  포인트_포인트_월적립_B0M   600000 non-null  int16   \n",
      " 20  포인트_포인트_월적립_R3M   600000 non-null  int32   \n",
      " 21  포인트_적립포인트_R12M    600000 non-null  int32   \n",
      " 22  포인트_적립포인트_R3M     600000 non-null  int32   \n",
      " 23  포인트_이용포인트_R12M    600000 non-null  int32   \n",
      " 24  포인트_이용포인트_R3M     600000 non-null  int32   \n",
      " 25  포인트_잔여포인트_B0M     600000 non-null  int16   \n",
      " 26  마일_적립포인트_R12M     600000 non-null  int32   \n",
      " 27  마일_적립포인트_R3M      600000 non-null  int16   \n",
      " 28  마일_이용포인트_R12M     600000 non-null  int32   \n",
      " 29  마일_이용포인트_R3M      600000 non-null  int16   \n",
      " 30  마일_잔여포인트_B0M      600000 non-null  int16   \n",
      " 31  할인건수_R3M          600000 non-null  category\n",
      " 32  할인금액_R3M          600000 non-null  int16   \n",
      " 33  할인건수_B0M          600000 non-null  category\n",
      " 34  할인금액_B0M          600000 non-null  int16   \n",
      " 35  할인금액_청구서_R3M      600000 non-null  int16   \n",
      " 36  할인금액_청구서_B0M      600000 non-null  int16   \n",
      " 37  상환개월수_결제일_R6M     600000 non-null  int8    \n",
      " 38  상환개월수_결제일_R3M     600000 non-null  int8    \n",
      " 39  선결제건수_R6M         600000 non-null  int8    \n",
      " 40  선결제건수_R3M         600000 non-null  int8    \n",
      " 41  연체건수_R6M          600000 non-null  int8    \n",
      " 42  연체건수_R3M          600000 non-null  int8    \n",
      " 43  혜택수혜금액_R3M        600000 non-null  int16   \n",
      " 44  포인트_마일리지_환산_B0M   600000 non-null  int16   \n",
      " 45  혜택수혜금액            600000 non-null  int16   \n",
      "dtypes: category(7), int16(18), int32(11), int8(10)\n",
      "memory usage: 60.0 MB\n"
     ]
    }
   ],
   "source": [
    "file_name = \"bill_optimized.parquet\"\n",
    "# file_path = os.path.join(save_path, file_name)\n",
    "file_path = os.path.join(save_test_path, file_name)\n",
    "\n",
    "df = pd.read_parquet(file_path)\n",
    "df.info()"
   ]
  },
  {
   "cell_type": "code",
   "execution_count": 177,
   "id": "2baaf6f4",
   "metadata": {},
   "outputs": [],
   "source": [
    "from sklearn.preprocessing import LabelEncoder\n",
    "\n",
    "label_cols = [\n",
    "    \"대표결제방법코드\", \"대표청구지고객주소구분코드\",\n",
    "    \"대표청구서수령지구분코드\", \"청구서수령방법\"\n",
    "]\n",
    "\n",
    "label_encoders = {}\n",
    "\n",
    "# Label Encoding\n",
    "for col in label_cols:\n",
    "    le = LabelEncoder()\n",
    "    df[col] = le.fit_transform(df[col].astype(str))\n",
    "    label_encoders[col] = le\n"
   ]
  },
  {
   "cell_type": "code",
   "execution_count": 178,
   "id": "5c390998",
   "metadata": {},
   "outputs": [],
   "source": [
    "# 이진 여부 처리\n",
    "\n",
    "binary_cols = [\"청구서발송여부_B0\", \"청구서발송여부_R3M\", \"청구서발송여부_R6M\"]\n",
    "for col in binary_cols:\n",
    "    # print(f\"Unique values for {col}:\")\n",
    "    # print(df[col].unique())\n",
    "    df[col] = df[col].map({'Y': 1, 'N': 0})"
   ]
  },
  {
   "cell_type": "markdown",
   "id": "9a21e723",
   "metadata": {},
   "source": [
    "### Column 통합"
   ]
  },
  {
   "cell_type": "code",
   "execution_count": 179,
   "id": "846ee1a6",
   "metadata": {},
   "outputs": [],
   "source": [
    "df[\"청구금액_총합\"] = df[\"청구금액_B0\"] + df[\"청구금액_R3M\"] + df[\"청구금액_R6M\"]\n",
    "df[\"청구금액_증감률\"] = (df[\"청구금액_B0\"] + 1) / (df[\"청구금액_R3M\"] + 1)\n",
    "\n",
    "# 총 적립 포인트 및 마일리지\n",
    "df[\"총_포인트_적립\"] = (\n",
    "    df[\"포인트_포인트_건별_B0M\"] + df[\"포인트_포인트_월적립_B0M\"] +\n",
    "    df[\"포인트_적립포인트_R3M\"] + df[\"포인트_적립포인트_R12M\"]\n",
    ")\n",
    "\n",
    "df[\"총_마일리지_적립\"] = (\n",
    "    df[\"포인트_마일리지_건별_B0M\"] + df[\"포인트_마일리지_월적립_B0M\"] +\n",
    "    df[\"마일_적립포인트_R3M\"] + df[\"마일_적립포인트_R12M\"]\n",
    ")\n",
    "\n",
    "# 총 잔여 포인트 금액화\n",
    "df[\"포인트_잔여_환산\"] = df[\"포인트_잔여포인트_B0M\"] + (df[\"마일_잔여포인트_B0M\"] * 15)\n",
    "\n",
    "df[\"총_할인금액\"] = df[\"할인금액_R3M\"] + df[\"할인금액_B0M\"]\n",
    "df[\"총_혜택금액\"] = df[\"혜택수혜금액\"] + df[\"혜택수혜금액_R3M\"] + df[\"포인트_마일리지_환산_B0M\"]\n",
    "\n",
    "df[\"연체건수_총합\"] = df[\"연체건수_R3M\"] + df[\"연체건수_R6M\"]\n",
    "df[\"선결제건수_총합\"] = df[\"선결제건수_R3M\"] + df[\"선결제건수_R6M\"]\n",
    "df[\"납부개월수_총합\"] = df[\"상환개월수_결제일_R3M\"] + df[\"상환개월수_결제일_R6M\"]\n",
    "\n",
    "cols_to_drop = [\n",
    "    \"청구금액_B0\", \"청구금액_R3M\", \"청구금액_R6M\",\n",
    "    \"포인트_포인트_건별_B0M\", \"포인트_포인트_월적립_B0M\", \"포인트_적립포인트_R3M\", \"포인트_적립포인트_R12M\",\n",
    "    \"포인트_마일리지_건별_B0M\", \"포인트_마일리지_월적립_B0M\", \"마일_적립포인트_R3M\", \"마일_적립포인트_R12M\",\n",
    "    \"할인금액_B0M\", \"할인금액_R3M\"\n",
    "]\n",
    "\n",
    "df = df.drop(columns=cols_to_drop)\n"
   ]
  },
  {
   "cell_type": "code",
   "execution_count": 180,
   "id": "855dd519",
   "metadata": {},
   "outputs": [
    {
     "name": "stdout",
     "output_type": "stream",
     "text": [
      "<class 'pandas.core.frame.DataFrame'>\n",
      "RangeIndex: 600000 entries, 0 to 599999\n",
      "Data columns (total 43 columns):\n",
      " #   Column            Non-Null Count   Dtype   \n",
      "---  ------            --------------   -----   \n",
      " 0   기준년월              600000 non-null  int32   \n",
      " 1   ID                600000 non-null  category\n",
      " 2   대표결제일             600000 non-null  int8    \n",
      " 3   대표결제방법코드          600000 non-null  int8    \n",
      " 4   대표청구지고객주소구분코드     600000 non-null  int8    \n",
      " 5   대표청구서수령지구분코드      600000 non-null  int8    \n",
      " 6   청구서수령방법           600000 non-null  int8    \n",
      " 7   청구서발송여부_B0        0 non-null       float32 \n",
      " 8   청구서발송여부_R3M       0 non-null       float32 \n",
      " 9   청구서발송여부_R6M       0 non-null       float32 \n",
      " 10  포인트_마일리지_건별_R3M   600000 non-null  int16   \n",
      " 11  포인트_포인트_건별_R3M    600000 non-null  int16   \n",
      " 12  포인트_마일리지_월적립_R3M  600000 non-null  int16   \n",
      " 13  포인트_포인트_월적립_R3M   600000 non-null  int32   \n",
      " 14  포인트_이용포인트_R12M    600000 non-null  int32   \n",
      " 15  포인트_이용포인트_R3M     600000 non-null  int32   \n",
      " 16  포인트_잔여포인트_B0M     600000 non-null  int16   \n",
      " 17  마일_이용포인트_R12M     600000 non-null  int32   \n",
      " 18  마일_이용포인트_R3M      600000 non-null  int16   \n",
      " 19  마일_잔여포인트_B0M      600000 non-null  int16   \n",
      " 20  할인건수_R3M          600000 non-null  category\n",
      " 21  할인건수_B0M          600000 non-null  category\n",
      " 22  할인금액_청구서_R3M      600000 non-null  int16   \n",
      " 23  할인금액_청구서_B0M      600000 non-null  int16   \n",
      " 24  상환개월수_결제일_R6M     600000 non-null  int8    \n",
      " 25  상환개월수_결제일_R3M     600000 non-null  int8    \n",
      " 26  선결제건수_R6M         600000 non-null  int8    \n",
      " 27  선결제건수_R3M         600000 non-null  int8    \n",
      " 28  연체건수_R6M          600000 non-null  int8    \n",
      " 29  연체건수_R3M          600000 non-null  int8    \n",
      " 30  혜택수혜금액_R3M        600000 non-null  int16   \n",
      " 31  포인트_마일리지_환산_B0M   600000 non-null  int16   \n",
      " 32  혜택수혜금액            600000 non-null  int16   \n",
      " 33  청구금액_총합           600000 non-null  int32   \n",
      " 34  청구금액_증감률          600000 non-null  float32 \n",
      " 35  총_포인트_적립          600000 non-null  int32   \n",
      " 36  총_마일리지_적립         600000 non-null  int32   \n",
      " 37  포인트_잔여_환산         600000 non-null  int16   \n",
      " 38  총_할인금액            600000 non-null  int16   \n",
      " 39  총_혜택금액            600000 non-null  int16   \n",
      " 40  연체건수_총합           600000 non-null  int8    \n",
      " 41  선결제건수_총합          600000 non-null  int8    \n",
      " 42  납부개월수_총합          600000 non-null  int8    \n",
      "dtypes: category(3), float32(4), int16(14), int32(8), int8(14)\n",
      "memory usage: 57.7 MB\n"
     ]
    }
   ],
   "source": [
    "df = optimize_dataframe(df)\n",
    "df.info()"
   ]
  },
  {
   "cell_type": "code",
   "execution_count": 181,
   "id": "e9abbca3",
   "metadata": {},
   "outputs": [],
   "source": [
    "df.to_parquet(file_path, index=False)"
   ]
  },
  {
   "cell_type": "markdown",
   "id": "179079dc",
   "metadata": {},
   "source": [
    "## 잔액정보"
   ]
  },
  {
   "cell_type": "code",
   "execution_count": 188,
   "id": "f255e417",
   "metadata": {},
   "outputs": [
    {
     "name": "stdout",
     "output_type": "stream",
     "text": [
      "<class 'pandas.core.frame.DataFrame'>\n",
      "RangeIndex: 600000 entries, 0 to 599999\n",
      "Data columns (total 82 columns):\n",
      " #   Column             Non-Null Count   Dtype         \n",
      "---  ------             --------------   -----         \n",
      " 0   기준년월               600000 non-null  int32         \n",
      " 1   ID                 600000 non-null  category      \n",
      " 2   잔액_일시불_B0M         600000 non-null  int32         \n",
      " 3   잔액_할부_B0M          600000 non-null  int32         \n",
      " 4   잔액_현금서비스_B0M       600000 non-null  int32         \n",
      " 5   잔액_리볼빙일시불이월_B0M    600000 non-null  int32         \n",
      " 6   잔액_리볼빙CA이월_B0M     600000 non-null  int32         \n",
      " 7   잔액_카드론_B0M         600000 non-null  int32         \n",
      " 8   월중평잔_일시불_B0M       600000 non-null  int32         \n",
      " 9   월중평잔_할부_B0M        600000 non-null  int32         \n",
      " 10  월중평잔_CA_B0M        600000 non-null  int32         \n",
      " 11  카드론잔액_최종경과월        600000 non-null  int8          \n",
      " 12  연체일자_B0M           1348 non-null    datetime64[ns]\n",
      " 13  연체잔액_B0M           600000 non-null  int32         \n",
      " 14  연체잔액_일시불_B0M       600000 non-null  int16         \n",
      " 15  연체잔액_할부_B0M        600000 non-null  int16         \n",
      " 16  연체잔액_현금서비스_B0M     600000 non-null  int16         \n",
      " 17  연체잔액_카드론_B0M       600000 non-null  int16         \n",
      " 18  연체잔액_대환론_B0M       600000 non-null  int8          \n",
      " 19  잔액_현금서비스_B1M       600000 non-null  int32         \n",
      " 20  잔액_현금서비스_B2M       600000 non-null  int32         \n",
      " 21  잔액_카드론_B1M         600000 non-null  int32         \n",
      " 22  잔액_카드론_B2M         600000 non-null  int32         \n",
      " 23  잔액_카드론_B3M         600000 non-null  int32         \n",
      " 24  잔액_카드론_B4M         600000 non-null  int32         \n",
      " 25  잔액_카드론_B5M         600000 non-null  int32         \n",
      " 26  잔액_할부_B1M          600000 non-null  int32         \n",
      " 27  잔액_할부_B2M          600000 non-null  int32         \n",
      " 28  잔액_일시불_B1M         600000 non-null  int32         \n",
      " 29  잔액_일시불_B2M         600000 non-null  int32         \n",
      " 30  연체일수_B1M           600000 non-null  int32         \n",
      " 31  연체일수_B2M           600000 non-null  int32         \n",
      " 32  연체원금_B1M           600000 non-null  int16         \n",
      " 33  연체원금_B2M           600000 non-null  int16         \n",
      " 34  연체일수_최근            600000 non-null  int32         \n",
      " 35  연체원금_최근            600000 non-null  int16         \n",
      " 36  최종연체회차             600000 non-null  int8          \n",
      " 37  매각잔액_B1M           600000 non-null  int8          \n",
      " 38  최종연체개월수_R15M       600000 non-null  int8          \n",
      " 39  RV_평균잔액_R12M       600000 non-null  int32         \n",
      " 40  RV_최대잔액_R12M       600000 non-null  int32         \n",
      " 41  RV_평균잔액_R6M        600000 non-null  int32         \n",
      " 42  RV_최대잔액_R6M        600000 non-null  int32         \n",
      " 43  RV_평균잔액_R3M        600000 non-null  int32         \n",
      " 44  RV_최대잔액_R3M        600000 non-null  int32         \n",
      " 45  RV잔액이월횟수_R6M       600000 non-null  int8          \n",
      " 46  RV잔액이월횟수_R3M       600000 non-null  int8          \n",
      " 47  잔액_할부_유이자_B0M      600000 non-null  int32         \n",
      " 48  잔액_할부_무이자_B0M      600000 non-null  int32         \n",
      " 49  잔액_할부_해외_B0M       600000 non-null  int16         \n",
      " 50  연체잔액_일시불_해외_B0M    600000 non-null  int8          \n",
      " 51  연체잔액_RV일시불_B0M     600000 non-null  int16         \n",
      " 52  연체잔액_RV일시불_해외_B0M  600000 non-null  int8          \n",
      " 53  연체잔액_할부_해외_B0M     600000 non-null  int8          \n",
      " 54  연체잔액_CA_B0M        600000 non-null  int16         \n",
      " 55  연체잔액_CA_해외_B0M     600000 non-null  int8          \n",
      " 56  월중평잔               600000 non-null  int32         \n",
      " 57  월중평잔_일시불           600000 non-null  int32         \n",
      " 58  월중평잔_RV일시불         600000 non-null  int32         \n",
      " 59  월중평잔_할부            600000 non-null  int32         \n",
      " 60  월중평잔_CA            600000 non-null  int32         \n",
      " 61  월중평잔_카드론           600000 non-null  int32         \n",
      " 62  평잔_3M              600000 non-null  int32         \n",
      " 63  평잔_일시불_3M          600000 non-null  int32         \n",
      " 64  평잔_일시불_해외_3M       600000 non-null  int16         \n",
      " 65  평잔_RV일시불_3M        600000 non-null  int32         \n",
      " 66  평잔_RV일시불_해외_3M     600000 non-null  int16         \n",
      " 67  평잔_할부_3M           600000 non-null  int32         \n",
      " 68  평잔_할부_해외_3M        600000 non-null  int16         \n",
      " 69  평잔_CA_3M           600000 non-null  int32         \n",
      " 70  평잔_CA_해외_3M        600000 non-null  int16         \n",
      " 71  평잔_카드론_3M          600000 non-null  int32         \n",
      " 72  평잔_6M              600000 non-null  int32         \n",
      " 73  평잔_일시불_6M          600000 non-null  int32         \n",
      " 74  평잔_일시불_해외_6M       600000 non-null  int16         \n",
      " 75  평잔_RV일시불_6M        600000 non-null  int32         \n",
      " 76  평잔_RV일시불_해외_6M     600000 non-null  int16         \n",
      " 77  평잔_할부_6M           600000 non-null  int32         \n",
      " 78  평잔_할부_해외_6M        600000 non-null  int16         \n",
      " 79  평잔_CA_6M           600000 non-null  int32         \n",
      " 80  평잔_CA_해외_6M        600000 non-null  int16         \n",
      " 81  평잔_카드론_6M          600000 non-null  int32         \n",
      "dtypes: category(1), datetime64[ns](1), int16(18), int32(51), int8(11)\n",
      "memory usage: 153.3 MB\n"
     ]
    }
   ],
   "source": [
    "file_name = \"balance_optimized.parquet\"\n",
    "# file_path = os.path.join(save_path, file_name)\n",
    "file_path = os.path.join(save_test_path, file_name)\n",
    "\n",
    "df = pd.read_parquet(file_path)\n",
    "df.info()"
   ]
  },
  {
   "cell_type": "code",
   "execution_count": 189,
   "id": "1ddca464",
   "metadata": {},
   "outputs": [],
   "source": [
    "# 당월 총 잔액\n",
    "df[\"총잔액_B0M\"] = (\n",
    "    df[\"잔액_일시불_B0M\"] + df[\"잔액_할부_B0M\"] + df[\"잔액_현금서비스_B0M\"] +\n",
    "    df[\"잔액_리볼빙일시불이월_B0M\"] + df[\"잔액_리볼빙CA이월_B0M\"] + df[\"잔액_카드론_B0M\"]\n",
    ")\n",
    "\n",
    "# 당월 총 연체잔액\n",
    "df[\"총연체잔액_B0M\"] = (\n",
    "    df[\"연체잔액_B0M\"] + df[\"연체잔액_일시불_B0M\"] + df[\"연체잔액_할부_B0M\"] +\n",
    "    df[\"연체잔액_현금서비스_B0M\"] + df[\"연체잔액_카드론_B0M\"] + df[\"연체잔액_CA_B0M\"]\n",
    ")\n",
    "\n",
    "# 최근 3개월간 평균 잔액 총합\n",
    "df[\"평균잔액_총합_3M\"] = (\n",
    "    df[\"평잔_일시불_3M\"] + df[\"평잔_할부_3M\"] + df[\"평잔_CA_3M\"] +\n",
    "    df[\"평잔_카드론_3M\"] + df[\"평잔_RV일시불_3M\"]\n",
    ")\n",
    "\n",
    "# 리볼빙 비중\n",
    "df[\"리볼빙비율_평잔3M\"] = df[\"평잔_RV일시불_3M\"] / (df[\"평균잔액_총합_3M\"] + 1)\n",
    "\n",
    "# 연체 원금 평균\n",
    "df[\"연체원금_평균\"] = (df[\"연체원금_B1M\"] + df[\"연체원금_B2M\"] + df[\"연체원금_최근\"]) / 3\n",
    "\n",
    "# 연체 일수 평균\n",
    "df[\"연체일수_평균\"] = (df[\"연체일수_B1M\"] + df[\"연체일수_B2M\"] + df[\"연체일수_최근\"]) / 3\n",
    "\n",
    "# 연체 건/월수 비율\n",
    "df[\"연체심각도지수\"] = df[\"연체원금_평균\"] * df[\"연체일수_평균\"]\n",
    "\n",
    "# 카드론 추세 (최근 3개월간)\n",
    "df[\"카드론_변동폭\"] = df[\"잔액_카드론_B0M\"] - df[\"잔액_카드론_B2M\"]\n",
    "\n",
    "# 리볼빙 평균잔액 추세\n",
    "df[\"RV_평잔_증감_3M6M\"] = df[\"RV_평균잔액_R3M\"] - df[\"RV_평균잔액_R6M\"]\n",
    "\n",
    "cols_to_drop = [\n",
    "    # 총잔액 구성 항목\n",
    "    \"잔액_일시불_B0M\", \"잔액_할부_B0M\", \"잔액_현금서비스_B0M\", \"잔액_리볼빙일시불이월_B0M\", \"잔액_리볼빙CA이월_B0M\", \"잔액_카드론_B0M\",\n",
    "    # 연체 구성 항목\n",
    "    \"연체잔액_B0M\", \"연체잔액_일시불_B0M\", \"연체잔액_할부_B0M\", \"연체잔액_현금서비스_B0M\", \"연체잔액_카드론_B0M\", \"연체잔액_CA_B0M\",\n",
    "    # 평균잔액 개별 항목\n",
    "    \"평잔_일시불_3M\", \"평잔_할부_3M\", \"평잔_CA_3M\", \"평잔_카드론_3M\", \"평잔_RV일시불_3M\",\n",
    "    # 연체 정보 항목\n",
    "    \"연체원금_B1M\", \"연체원금_B2M\", \"연체원금_최근\", \"연체일수_B1M\", \"연체일수_B2M\", \"연체일수_최근\"\n",
    "]\n",
    "df = df.drop(columns=cols_to_drop)"
   ]
  },
  {
   "cell_type": "code",
   "execution_count": 190,
   "id": "7d017707",
   "metadata": {},
   "outputs": [
    {
     "name": "stdout",
     "output_type": "stream",
     "text": [
      "<class 'pandas.core.frame.DataFrame'>\n",
      "RangeIndex: 600000 entries, 0 to 599999\n",
      "Data columns (total 68 columns):\n",
      " #   Column             Non-Null Count   Dtype         \n",
      "---  ------             --------------   -----         \n",
      " 0   기준년월               600000 non-null  int32         \n",
      " 1   ID                 600000 non-null  category      \n",
      " 2   월중평잔_일시불_B0M       600000 non-null  int32         \n",
      " 3   월중평잔_할부_B0M        600000 non-null  int32         \n",
      " 4   월중평잔_CA_B0M        600000 non-null  int32         \n",
      " 5   카드론잔액_최종경과월        600000 non-null  int8          \n",
      " 6   연체일자_B0M           1348 non-null    datetime64[ns]\n",
      " 7   연체잔액_대환론_B0M       600000 non-null  int8          \n",
      " 8   잔액_현금서비스_B1M       600000 non-null  int32         \n",
      " 9   잔액_현금서비스_B2M       600000 non-null  int32         \n",
      " 10  잔액_카드론_B1M         600000 non-null  int32         \n",
      " 11  잔액_카드론_B2M         600000 non-null  int32         \n",
      " 12  잔액_카드론_B3M         600000 non-null  int32         \n",
      " 13  잔액_카드론_B4M         600000 non-null  int32         \n",
      " 14  잔액_카드론_B5M         600000 non-null  int32         \n",
      " 15  잔액_할부_B1M          600000 non-null  int32         \n",
      " 16  잔액_할부_B2M          600000 non-null  int32         \n",
      " 17  잔액_일시불_B1M         600000 non-null  int32         \n",
      " 18  잔액_일시불_B2M         600000 non-null  int32         \n",
      " 19  최종연체회차             600000 non-null  int8          \n",
      " 20  매각잔액_B1M           600000 non-null  int8          \n",
      " 21  최종연체개월수_R15M       600000 non-null  int8          \n",
      " 22  RV_평균잔액_R12M       600000 non-null  int32         \n",
      " 23  RV_최대잔액_R12M       600000 non-null  int32         \n",
      " 24  RV_평균잔액_R6M        600000 non-null  int32         \n",
      " 25  RV_최대잔액_R6M        600000 non-null  int32         \n",
      " 26  RV_평균잔액_R3M        600000 non-null  int32         \n",
      " 27  RV_최대잔액_R3M        600000 non-null  int32         \n",
      " 28  RV잔액이월횟수_R6M       600000 non-null  int8          \n",
      " 29  RV잔액이월횟수_R3M       600000 non-null  int8          \n",
      " 30  잔액_할부_유이자_B0M      600000 non-null  int32         \n",
      " 31  잔액_할부_무이자_B0M      600000 non-null  int32         \n",
      " 32  잔액_할부_해외_B0M       600000 non-null  int16         \n",
      " 33  연체잔액_일시불_해외_B0M    600000 non-null  int8          \n",
      " 34  연체잔액_RV일시불_B0M     600000 non-null  int16         \n",
      " 35  연체잔액_RV일시불_해외_B0M  600000 non-null  int8          \n",
      " 36  연체잔액_할부_해외_B0M     600000 non-null  int8          \n",
      " 37  연체잔액_CA_해외_B0M     600000 non-null  int8          \n",
      " 38  월중평잔               600000 non-null  int32         \n",
      " 39  월중평잔_일시불           600000 non-null  int32         \n",
      " 40  월중평잔_RV일시불         600000 non-null  int32         \n",
      " 41  월중평잔_할부            600000 non-null  int32         \n",
      " 42  월중평잔_CA            600000 non-null  int32         \n",
      " 43  월중평잔_카드론           600000 non-null  int32         \n",
      " 44  평잔_3M              600000 non-null  int32         \n",
      " 45  평잔_일시불_해외_3M       600000 non-null  int16         \n",
      " 46  평잔_RV일시불_해외_3M     600000 non-null  int16         \n",
      " 47  평잔_할부_해외_3M        600000 non-null  int16         \n",
      " 48  평잔_CA_해외_3M        600000 non-null  int16         \n",
      " 49  평잔_6M              600000 non-null  int32         \n",
      " 50  평잔_일시불_6M          600000 non-null  int32         \n",
      " 51  평잔_일시불_해외_6M       600000 non-null  int16         \n",
      " 52  평잔_RV일시불_6M        600000 non-null  int32         \n",
      " 53  평잔_RV일시불_해외_6M     600000 non-null  int16         \n",
      " 54  평잔_할부_6M           600000 non-null  int32         \n",
      " 55  평잔_할부_해외_6M        600000 non-null  int16         \n",
      " 56  평잔_CA_6M           600000 non-null  int32         \n",
      " 57  평잔_CA_해외_6M        600000 non-null  int16         \n",
      " 58  평잔_카드론_6M          600000 non-null  int32         \n",
      " 59  총잔액_B0M            600000 non-null  int32         \n",
      " 60  총연체잔액_B0M          600000 non-null  int32         \n",
      " 61  평균잔액_총합_3M         600000 non-null  int32         \n",
      " 62  리볼빙비율_평잔3M         600000 non-null  float32       \n",
      " 63  연체원금_평균            600000 non-null  float32       \n",
      " 64  연체일수_평균            600000 non-null  float32       \n",
      " 65  연체심각도지수            600000 non-null  float32       \n",
      " 66  카드론_변동폭            600000 non-null  int32         \n",
      " 67  RV_평잔_증감_3M6M      600000 non-null  int32         \n",
      "dtypes: category(1), datetime64[ns](1), float32(4), int16(10), int32(41), int8(11)\n",
      "memory usage: 130.4 MB\n"
     ]
    }
   ],
   "source": [
    "df = optimize_dataframe(df)\n",
    "df.info()"
   ]
  },
  {
   "cell_type": "code",
   "execution_count": 191,
   "id": "26930870",
   "metadata": {},
   "outputs": [],
   "source": [
    "df.to_parquet(file_path, index=False)"
   ]
  },
  {
   "cell_type": "markdown",
   "id": "6e354270",
   "metadata": {},
   "source": [
    "## 채널정보"
   ]
  },
  {
   "cell_type": "code",
   "execution_count": 202,
   "id": "b9dad772",
   "metadata": {},
   "outputs": [
    {
     "name": "stdout",
     "output_type": "stream",
     "text": [
      "<class 'pandas.core.frame.DataFrame'>\n",
      "RangeIndex: 600000 entries, 0 to 599999\n",
      "Columns: 105 entries, 기준년월 to 홈페이지_선결제건수_R3M\n",
      "dtypes: category(7), int16(1), int32(1), int8(96)\n",
      "memory usage: 66.9 MB\n"
     ]
    }
   ],
   "source": [
    "file_name = \"channel_optimized.parquet\"\n",
    "# file_path = os.path.join(save_path, file_name)\n",
    "file_path = os.path.join(save_test_path, file_name)\n",
    "\n",
    "df = pd.read_parquet(file_path)\n",
    "df.info()"
   ]
  },
  {
   "cell_type": "code",
   "execution_count": 193,
   "id": "c58b2dc3",
   "metadata": {},
   "outputs": [],
   "source": [
    "le_os = LabelEncoder()\n",
    "df[\"OS구분코드\"] = le_os.fit_transform(df[\"OS구분코드\"].astype(str))"
   ]
  },
  {
   "cell_type": "code",
   "execution_count": 203,
   "id": "156887e6",
   "metadata": {},
   "outputs": [],
   "source": [
    "# Test\n",
    "df[\"OS구분코드\"] = le_os.fit_transform(df[\"OS구분코드\"].astype(str))"
   ]
  },
  {
   "cell_type": "code",
   "execution_count": 204,
   "id": "3cd56c8f",
   "metadata": {},
   "outputs": [],
   "source": [
    "df[\"고객센터불만총합_R6M\"] = (\n",
    "    df[\"인입불만횟수_IB_R6M\"] + df[\"IB상담건수_VOC불만_R6M\"] + df[\"불만제기건수_R12M\"]\n",
    ")\n",
    "\n",
    "# ARS/APP/PC 기준 최근 방문으로부터 경과 개월 평균\n",
    "df[\"경과월_평균\"] = (\n",
    "    df[\"인입후경과월_ARS\"] +\n",
    "    df[\"방문후경과월_PC_R6M\"] +\n",
    "    df[\"방문후경과월_앱_R6M\"] +\n",
    "    df[\"방문후경과월_모바일웹_R6M\"]\n",
    ") / 4\n",
    "\n",
    "\n",
    "# 고객센터 문의 총합\n",
    "문의_cols = [col for col in df.columns if \"IB문의건수\" in col and (\"B0M\" in col or \"R6M\" in col)]\n",
    "df[\"고객센터문의총합\"] = df[문의_cols].sum(axis=1)\n",
    "\n",
    "# 상담/민원 비율\n",
    "df[\"민원비율_R6M\"] = df[\"IB상담건수_VOC민원_R6M\"] / (df[\"IB상담건수_VOC_R6M\"] + 1)\n",
    "\n",
    "df[\"PAY_방문활동\"] = df[\"당사PAY_방문횟수_B0M\"] + df[\"당사PAY_방문횟수_R6M\"]\n",
    "df[\"멤버십_방문활동\"] = df[\"당사멤버쉽_방문횟수_B0M\"] + df[\"당사멤버쉽_방문횟수_R6M\"]\n",
    "\n",
    "cols_to_drop = [\n",
    "    \"IB상담건수_VOC불만_R6M\", \"IB상담건수_VOC_R6M\",\n",
    "    \"당사PAY_방문횟수_B0M\", \"당사PAY_방문횟수_R6M\",\n",
    "    \"당사멤버쉽_방문횟수_B0M\", \"당사멤버쉽_방문횟수_R6M\",\n",
    "] + 문의_cols  # 고객센터문의 세부 항목 전체 제거\n",
    "\n",
    "df = df.drop(columns=cols_to_drop)\n"
   ]
  },
  {
   "cell_type": "code",
   "execution_count": 205,
   "id": "78529f06",
   "metadata": {},
   "outputs": [
    {
     "name": "stdout",
     "output_type": "stream",
     "text": [
      "<class 'pandas.core.frame.DataFrame'>\n",
      "RangeIndex: 600000 entries, 0 to 599999\n",
      "Data columns (total 67 columns):\n",
      " #   Column            Non-Null Count   Dtype   \n",
      "---  ------            --------------   -----   \n",
      " 0   기준년월              600000 non-null  int32   \n",
      " 1   ID                600000 non-null  category\n",
      " 2   인입횟수_ARS_R6M      600000 non-null  category\n",
      " 3   이용메뉴건수_ARS_R6M    600000 non-null  category\n",
      " 4   인입일수_ARS_R6M      600000 non-null  int8    \n",
      " 5   인입월수_ARS_R6M      600000 non-null  int8    \n",
      " 6   인입후경과월_ARS        600000 non-null  int8    \n",
      " 7   인입횟수_ARS_B0M      600000 non-null  int8    \n",
      " 8   이용메뉴건수_ARS_B0M    600000 non-null  int8    \n",
      " 9   인입일수_ARS_B0M      600000 non-null  int8    \n",
      " 10  방문횟수_PC_R6M       600000 non-null  category\n",
      " 11  방문일수_PC_R6M       600000 non-null  category\n",
      " 12  방문월수_PC_R6M       600000 non-null  int8    \n",
      " 13  방문후경과월_PC_R6M     600000 non-null  int8    \n",
      " 14  방문횟수_앱_R6M        600000 non-null  category\n",
      " 15  방문일수_앱_R6M        600000 non-null  int8    \n",
      " 16  방문월수_앱_R6M        600000 non-null  int8    \n",
      " 17  방문후경과월_앱_R6M      600000 non-null  int8    \n",
      " 18  방문횟수_모바일웹_R6M     600000 non-null  int8    \n",
      " 19  방문일수_모바일웹_R6M     600000 non-null  int8    \n",
      " 20  방문월수_모바일웹_R6M     600000 non-null  int8    \n",
      " 21  방문후경과월_모바일웹_R6M   600000 non-null  int8    \n",
      " 22  방문횟수_PC_B0M       600000 non-null  int8    \n",
      " 23  방문일수_PC_B0M       600000 non-null  int8    \n",
      " 24  방문횟수_앱_B0M        600000 non-null  int8    \n",
      " 25  방문일수_앱_B0M        600000 non-null  int8    \n",
      " 26  방문횟수_모바일웹_B0M     600000 non-null  int8    \n",
      " 27  방문일수_모바일웹_B0M     600000 non-null  int8    \n",
      " 28  인입횟수_IB_R6M       600000 non-null  int8    \n",
      " 29  인입횟수_금융_IB_R6M    600000 non-null  int8    \n",
      " 30  인입일수_IB_R6M       600000 non-null  int8    \n",
      " 31  인입월수_IB_R6M       600000 non-null  int8    \n",
      " 32  이용메뉴건수_IB_R6M     600000 non-null  int8    \n",
      " 33  인입후경과월_IB_R6M     600000 non-null  int8    \n",
      " 34  인입횟수_IB_B0M       600000 non-null  int8    \n",
      " 35  인입일수_IB_B0M       600000 non-null  int8    \n",
      " 36  이용메뉴건수_IB_B0M     600000 non-null  int8    \n",
      " 37  인입불만횟수_IB_R6M     600000 non-null  int8    \n",
      " 38  인입불만일수_IB_R6M     600000 non-null  int8    \n",
      " 39  인입불만월수_IB_R6M     600000 non-null  int8    \n",
      " 40  인입불만후경과월_IB_R6M   600000 non-null  int8    \n",
      " 41  인입불만횟수_IB_B0M     600000 non-null  int8    \n",
      " 42  인입불만일수_IB_B0M     600000 non-null  int8    \n",
      " 43  상담건수_B0M          600000 non-null  int8    \n",
      " 44  IB상담건수_VOC_B0M    600000 non-null  int8    \n",
      " 45  IB상담건수_VOC민원_B0M  600000 non-null  int8    \n",
      " 46  IB상담건수_VOC불만_B0M  600000 non-null  int8    \n",
      " 47  IB상담건수_금감원_B0M    600000 non-null  int8    \n",
      " 48  상담건수_R6M          600000 non-null  int8    \n",
      " 49  IB상담건수_VOC민원_R6M  600000 non-null  int8    \n",
      " 50  IB상담건수_금감원_R6M    600000 non-null  int8    \n",
      " 51  불만제기건수_B0M        600000 non-null  int8    \n",
      " 52  불만제기건수_R12M       600000 non-null  int8    \n",
      " 53  불만제기후경과월_R12M     600000 non-null  int8    \n",
      " 54  당사PAY_방문월수_R6M    600000 non-null  int8    \n",
      " 55  당사멤버쉽_방문월수_R6M    600000 non-null  int8    \n",
      " 56  OS구분코드            600000 non-null  int8    \n",
      " 57  홈페이지_금융건수_R6M     600000 non-null  int8    \n",
      " 58  홈페이지_선결제건수_R6M    600000 non-null  int8    \n",
      " 59  홈페이지_금융건수_R3M     600000 non-null  int8    \n",
      " 60  홈페이지_선결제건수_R3M    600000 non-null  int8    \n",
      " 61  고객센터불만총합_R6M      600000 non-null  int8    \n",
      " 62  경과월_평균            600000 non-null  float32 \n",
      " 63  고객센터문의총합          600000 non-null  int8    \n",
      " 64  민원비율_R6M          600000 non-null  float32 \n",
      " 65  PAY_방문활동          600000 non-null  int8    \n",
      " 66  멤버십_방문활동          600000 non-null  int16   \n",
      "dtypes: category(6), float32(2), int16(1), int32(1), int8(57)\n",
      "memory usage: 48.6 MB\n"
     ]
    }
   ],
   "source": [
    "df = optimize_dataframe(df)\n",
    "df.info()"
   ]
  },
  {
   "cell_type": "code",
   "execution_count": 206,
   "id": "c3b8f4a2",
   "metadata": {},
   "outputs": [],
   "source": [
    "df.to_parquet(file_path, index=False)"
   ]
  },
  {
   "cell_type": "markdown",
   "id": "210f1f21",
   "metadata": {},
   "source": [
    "## 마케팅 정보"
   ]
  },
  {
   "cell_type": "code",
   "execution_count": 212,
   "id": "1497ed2c",
   "metadata": {},
   "outputs": [
    {
     "name": "stdout",
     "output_type": "stream",
     "text": [
      "<class 'pandas.core.frame.DataFrame'>\n",
      "RangeIndex: 600000 entries, 0 to 599999\n",
      "Data columns (total 64 columns):\n",
      " #   Column             Non-Null Count   Dtype   \n",
      "---  ------             --------------   -----   \n",
      " 0   기준년월               600000 non-null  int32   \n",
      " 1   ID                 600000 non-null  category\n",
      " 2   컨택건수_카드론_TM_B0M    600000 non-null  int8    \n",
      " 3   컨택건수_리볼빙_TM_B0M    600000 non-null  int8    \n",
      " 4   컨택건수_CA_TM_B0M     600000 non-null  int8    \n",
      " 5   컨택건수_이용유도_TM_B0M   600000 non-null  int8    \n",
      " 6   컨택건수_신용발급_TM_B0M   600000 non-null  int8    \n",
      " 7   컨택건수_부대서비스_TM_B0M  600000 non-null  int8    \n",
      " 8   컨택건수_포인트소진_TM_B0M  600000 non-null  int8    \n",
      " 9   컨택건수_보험_TM_B0M     600000 non-null  int8    \n",
      " 10  컨택건수_카드론_LMS_B0M   600000 non-null  int8    \n",
      " 11  컨택건수_CA_LMS_B0M    600000 non-null  int8    \n",
      " 12  컨택건수_리볼빙_LMS_B0M   600000 non-null  int8    \n",
      " 13  컨택건수_이용유도_LMS_B0M  600000 non-null  int8    \n",
      " 14  컨택건수_카드론_EM_B0M    600000 non-null  int8    \n",
      " 15  컨택건수_CA_EM_B0M     600000 non-null  int8    \n",
      " 16  컨택건수_리볼빙_EM_B0M    600000 non-null  int8    \n",
      " 17  컨택건수_이용유도_EM_B0M   600000 non-null  int8    \n",
      " 18  컨택건수_카드론_청구서_B0M   600000 non-null  int8    \n",
      " 19  컨택건수_CA_청구서_B0M    600000 non-null  int8    \n",
      " 20  컨택건수_리볼빙_청구서_B0M   600000 non-null  int8    \n",
      " 21  컨택건수_이용유도_청구서_B0M  600000 non-null  int8    \n",
      " 22  컨택건수_카드론_인터넷_B0M   600000 non-null  int8    \n",
      " 23  컨택건수_CA_인터넷_B0M    600000 non-null  int8    \n",
      " 24  컨택건수_리볼빙_인터넷_B0M   600000 non-null  int8    \n",
      " 25  컨택건수_이용유도_인터넷_B0M  600000 non-null  int8    \n",
      " 26  컨택건수_카드론_당사앱_B0M   600000 non-null  int8    \n",
      " 27  컨택건수_CA_당사앱_B0M    600000 non-null  int8    \n",
      " 28  컨택건수_리볼빙_당사앱_B0M   600000 non-null  int8    \n",
      " 29  컨택건수_이용유도_당사앱_B0M  600000 non-null  int8    \n",
      " 30  컨택건수_카드론_TM_R6M    600000 non-null  int8    \n",
      " 31  컨택건수_CA_TM_R6M     600000 non-null  int8    \n",
      " 32  컨택건수_리볼빙_TM_R6M    600000 non-null  int8    \n",
      " 33  컨택건수_이용유도_TM_R6M   600000 non-null  int8    \n",
      " 34  컨택건수_신용발급_TM_R6M   600000 non-null  int8    \n",
      " 35  컨택건수_부대서비스_TM_R6M  600000 non-null  int8    \n",
      " 36  컨택건수_포인트소진_TM_R6M  600000 non-null  int8    \n",
      " 37  컨택건수_보험_TM_R6M     600000 non-null  int8    \n",
      " 38  컨택건수_카드론_LMS_R6M   600000 non-null  int8    \n",
      " 39  컨택건수_CA_LMS_R6M    600000 non-null  int8    \n",
      " 40  컨택건수_리볼빙_LMS_R6M   600000 non-null  int8    \n",
      " 41  컨택건수_이용유도_LMS_R6M  600000 non-null  int8    \n",
      " 42  컨택건수_카드론_EM_R6M    600000 non-null  int8    \n",
      " 43  컨택건수_CA_EM_R6M     600000 non-null  int8    \n",
      " 44  컨택건수_리볼빙_EM_R6M    600000 non-null  int8    \n",
      " 45  컨택건수_이용유도_EM_R6M   600000 non-null  int8    \n",
      " 46  컨택건수_카드론_청구서_R6M   600000 non-null  int8    \n",
      " 47  컨택건수_CA_청구서_R6M    600000 non-null  int8    \n",
      " 48  컨택건수_리볼빙_청구서_R6M   600000 non-null  int8    \n",
      " 49  컨택건수_이용유도_청구서_R6M  600000 non-null  int8    \n",
      " 50  컨택건수_카드론_인터넷_R6M   600000 non-null  int8    \n",
      " 51  컨택건수_CA_인터넷_R6M    600000 non-null  int8    \n",
      " 52  컨택건수_리볼빙_인터넷_R6M   600000 non-null  int8    \n",
      " 53  컨택건수_이용유도_인터넷_R6M  600000 non-null  int8    \n",
      " 54  컨택건수_카드론_당사앱_R6M   600000 non-null  int8    \n",
      " 55  컨택건수_CA_당사앱_R6M    600000 non-null  int8    \n",
      " 56  컨택건수_리볼빙_당사앱_R6M   600000 non-null  int8    \n",
      " 57  컨택건수_이용유도_당사앱_R6M  600000 non-null  int8    \n",
      " 58  컨택건수_채권_B0M        600000 non-null  int8    \n",
      " 59  컨택건수_FDS_B0M       600000 non-null  int8    \n",
      " 60  컨택건수_채권_R6M        600000 non-null  int8    \n",
      " 61  컨택건수_FDS_R6M       600000 non-null  int8    \n",
      " 62  캠페인접촉건수_R12M       600000 non-null  category\n",
      " 63  캠페인접촉일수_R12M       600000 non-null  category\n",
      "dtypes: category(3), int32(1), int8(60)\n",
      "memory usage: 42.8 MB\n"
     ]
    }
   ],
   "source": [
    "file_name = \"mkt_optimized.parquet\"\n",
    "# file_path = os.path.join(save_path, file_name)\n",
    "file_path = os.path.join(save_test_path, file_name)\n",
    "\n",
    "df = pd.read_parquet(file_path)\n",
    "df.info()"
   ]
  },
  {
   "cell_type": "code",
   "execution_count": 213,
   "id": "616260ce",
   "metadata": {},
   "outputs": [],
   "source": [
    "# TM, LMS, 이메일, 청구서, 인터넷, 앱 채널별 총합\n",
    "df[\"총컨택_TM_B0M\"] = df[[col for col in df.columns if col.startswith(\"컨택건수_\") and \"_TM_B0M\" in col]].sum(axis=1)\n",
    "df[\"총컨택_LMS_B0M\"] = df[[col for col in df.columns if col.startswith(\"컨택건수_\") and \"_LMS_B0M\" in col]].sum(axis=1)\n",
    "df[\"총컨택_EM_B0M\"] = df[[col for col in df.columns if col.startswith(\"컨택건수_\") and \"_EM_B0M\" in col]].sum(axis=1)\n",
    "df[\"총컨택_청구서_B0M\"] = df[[col for col in df.columns if col.startswith(\"컨택건수_\") and \"_청구서_B0M\" in col]].sum(axis=1)\n",
    "df[\"총컨택_인터넷_B0M\"] = df[[col for col in df.columns if col.startswith(\"컨택건수_\") and \"_인터넷_B0M\" in col]].sum(axis=1)\n",
    "df[\"총컨택_앱_B0M\"] = df[[col for col in df.columns if col.startswith(\"컨택건수_\") and \"_당사앱_B0M\" in col]].sum(axis=1)\n",
    "\n",
    "# 총 컨택 횟수\n",
    "df[\"총컨택건수_B0M\"] = df[[col for col in df.columns if \"_B0M\" in col and \"컨택건수\" in col]].sum(axis=1)\n",
    "df[\"총컨택건수_R6M\"] = df[[col for col in df.columns if \"_R6M\" in col and \"컨택건수\" in col]].sum(axis=1)\n",
    "\n",
    "# 채널 다양성 (얼마나 다양한 채널에 노출됐는지)\n",
    "def count_positive_channels(cols):\n",
    "    return (df[cols] > 0).sum(axis=1)\n",
    "\n",
    "df[\"컨택채널다양성_B0M\"] = count_positive_channels([col for col in df.columns if \"컨택건수\" in col and \"_B0M\" in col])\n",
    "df[\"컨택채널다양성_R6M\"] = count_positive_channels([col for col in df.columns if \"컨택건수\" in col and \"_R6M\" in col])\n",
    "\n",
    "cols_to_drop = [\n",
    "    # 각 채널별 컨택 세부 항목\n",
    "    *[col for col in df.columns if \"_B0M\" in col and \"컨택건수\" in col and any(ch in col for ch in [\"TM\", \"LMS\", \"EM\", \"청구서\", \"인터넷\", \"당사앱\"])],\n",
    "    *[col for col in df.columns if \"_R6M\" in col and \"컨택건수\" in col and any(ch in col for ch in [\"TM\", \"LMS\", \"EM\", \"청구서\", \"인터넷\", \"당사앱\"])]\n",
    "]\n",
    "\n",
    "df = df.drop(columns=cols_to_drop)\n"
   ]
  },
  {
   "cell_type": "code",
   "execution_count": 214,
   "id": "6bb36a2d",
   "metadata": {},
   "outputs": [
    {
     "name": "stdout",
     "output_type": "stream",
     "text": [
      "<class 'pandas.core.frame.DataFrame'>\n",
      "RangeIndex: 600000 entries, 0 to 599999\n",
      "Data columns (total 18 columns):\n",
      " #   Column        Non-Null Count   Dtype   \n",
      "---  ------        --------------   -----   \n",
      " 0   기준년월          600000 non-null  int32   \n",
      " 1   ID            600000 non-null  category\n",
      " 2   컨택건수_채권_B0M   600000 non-null  int8    \n",
      " 3   컨택건수_FDS_B0M  600000 non-null  int8    \n",
      " 4   컨택건수_채권_R6M   600000 non-null  int8    \n",
      " 5   컨택건수_FDS_R6M  600000 non-null  int8    \n",
      " 6   캠페인접촉건수_R12M  600000 non-null  category\n",
      " 7   캠페인접촉일수_R12M  600000 non-null  category\n",
      " 8   총컨택_TM_B0M    600000 non-null  int8    \n",
      " 9   총컨택_LMS_B0M   600000 non-null  int8    \n",
      " 10  총컨택_EM_B0M    600000 non-null  int8    \n",
      " 11  총컨택_청구서_B0M   600000 non-null  int8    \n",
      " 12  총컨택_인터넷_B0M   600000 non-null  int8    \n",
      " 13  총컨택_앱_B0M     600000 non-null  int8    \n",
      " 14  총컨택건수_B0M     600000 non-null  int8    \n",
      " 15  총컨택건수_R6M     600000 non-null  int16   \n",
      " 16  컨택채널다양성_B0M   600000 non-null  int8    \n",
      " 17  컨택채널다양성_R6M   600000 non-null  int8    \n",
      "dtypes: category(3), int16(1), int32(1), int8(13)\n",
      "memory usage: 17.1 MB\n"
     ]
    }
   ],
   "source": [
    "df = optimize_dataframe(df)\n",
    "df.info()"
   ]
  },
  {
   "cell_type": "code",
   "execution_count": 215,
   "id": "7275bd1e",
   "metadata": {},
   "outputs": [],
   "source": [
    "df.to_parquet(file_path, index=False)"
   ]
  },
  {
   "cell_type": "markdown",
   "id": "2c0d44b9",
   "metadata": {},
   "source": [
    "## 성과정보"
   ]
  },
  {
   "cell_type": "code",
   "execution_count": 220,
   "id": "ca2c3582",
   "metadata": {},
   "outputs": [
    {
     "name": "stdout",
     "output_type": "stream",
     "text": [
      "<class 'pandas.core.frame.DataFrame'>\n",
      "RangeIndex: 600000 entries, 0 to 599999\n",
      "Data columns (total 49 columns):\n",
      " #   Column              Non-Null Count   Dtype   \n",
      "---  ------              --------------   -----   \n",
      " 0   기준년월                600000 non-null  int32   \n",
      " 1   ID                  600000 non-null  category\n",
      " 2   증감율_이용건수_신용_전월      600000 non-null  float32 \n",
      " 3   증감율_이용건수_신판_전월      600000 non-null  float32 \n",
      " 4   증감율_이용건수_일시불_전월     600000 non-null  float32 \n",
      " 5   증감율_이용건수_할부_전월      600000 non-null  float32 \n",
      " 6   증감율_이용건수_CA_전월      600000 non-null  float32 \n",
      " 7   증감율_이용건수_체크_전월      600000 non-null  float32 \n",
      " 8   증감율_이용건수_카드론_전월     600000 non-null  float32 \n",
      " 9   증감율_이용금액_신용_전월      600000 non-null  float32 \n",
      " 10  증감율_이용금액_신판_전월      600000 non-null  float32 \n",
      " 11  증감율_이용금액_일시불_전월     600000 non-null  float32 \n",
      " 12  증감율_이용금액_할부_전월      600000 non-null  float32 \n",
      " 13  증감율_이용금액_CA_전월      600000 non-null  float32 \n",
      " 14  증감율_이용금액_체크_전월      600000 non-null  float32 \n",
      " 15  증감율_이용금액_카드론_전월     600000 non-null  float32 \n",
      " 16  증감율_이용건수_신용_분기      600000 non-null  float32 \n",
      " 17  증감율_이용건수_신판_분기      600000 non-null  float32 \n",
      " 18  증감율_이용건수_일시불_분기     600000 non-null  float32 \n",
      " 19  증감율_이용건수_할부_분기      600000 non-null  float32 \n",
      " 20  증감율_이용건수_CA_분기      600000 non-null  float32 \n",
      " 21  증감율_이용건수_체크_분기      600000 non-null  float32 \n",
      " 22  증감율_이용건수_카드론_분기     600000 non-null  float32 \n",
      " 23  증감율_이용금액_신용_분기      600000 non-null  float32 \n",
      " 24  증감율_이용금액_신판_분기      600000 non-null  float32 \n",
      " 25  증감율_이용금액_일시불_분기     600000 non-null  float32 \n",
      " 26  증감율_이용금액_할부_분기      600000 non-null  float32 \n",
      " 27  증감율_이용금액_CA_분기      600000 non-null  float32 \n",
      " 28  증감율_이용금액_체크_분기      600000 non-null  float32 \n",
      " 29  증감율_이용금액_카드론_분기     600000 non-null  float32 \n",
      " 30  잔액_신판평균한도소진율_r6m    600000 non-null  float32 \n",
      " 31  잔액_신판최대한도소진율_r6m    600000 non-null  float32 \n",
      " 32  잔액_신판평균한도소진율_r3m    600000 non-null  float32 \n",
      " 33  잔액_신판최대한도소진율_r3m    600000 non-null  float32 \n",
      " 34  잔액_신판ca평균한도소진율_r6m  600000 non-null  float32 \n",
      " 35  잔액_신판ca최대한도소진율_r6m  600000 non-null  float32 \n",
      " 36  잔액_신판ca평균한도소진율_r3m  600000 non-null  float32 \n",
      " 37  잔액_신판ca최대한도소진율_r3m  600000 non-null  float32 \n",
      " 38  변동률_일시불평잔           600000 non-null  float32 \n",
      " 39  변동률_RV일시불평잔         600000 non-null  float32 \n",
      " 40  변동률_할부평잔            600000 non-null  float32 \n",
      " 41  변동률_CA평잔            600000 non-null  float32 \n",
      " 42  변동률_RVCA평잔          600000 non-null  float32 \n",
      " 43  변동률_카드론평잔           600000 non-null  float32 \n",
      " 44  변동률_잔액_B1M          600000 non-null  float32 \n",
      " 45  변동률_잔액_일시불_B1M      600000 non-null  float32 \n",
      " 46  변동률_잔액_CA_B1M       600000 non-null  float32 \n",
      " 47  혜택수혜율_R3M           600000 non-null  float32 \n",
      " 48  혜택수혜율_B0M           600000 non-null  float32 \n",
      "dtypes: category(1), float32(47), int32(1)\n",
      "memory usage: 114.9 MB\n"
     ]
    }
   ],
   "source": [
    "file_name = \"perf_optimized.parquet\"\n",
    "# file_path = os.path.join(save_path, file_name)\n",
    "file_path = os.path.join(save_test_path, file_name)\n",
    "\n",
    "df = pd.read_parquet(file_path)\n",
    "df.info()"
   ]
  },
  {
   "cell_type": "code",
   "execution_count": 221,
   "id": "ca72cbff",
   "metadata": {},
   "outputs": [],
   "source": [
    "# 전월 기준 증감율 평균\n",
    "cols_amt_mom = [col for col in df.columns if \"증감율\" in col and \"전월\" in col]\n",
    "df[\"전월_이용금액_증감율평균\"] = df[[col for col in cols_amt_mom if \"이용금액\" in col]].mean(axis=1)\n",
    "df[\"전월_이용건수_증감율평균\"] = df[[col for col in cols_amt_mom if \"이용건수\" in col]].mean(axis=1)\n",
    "\n",
    "# 전월 기준 증감율 표준편차 (변동성)\n",
    "df[\"전월_이용금액_변동성\"] = df[[col for col in cols_amt_mom if \"이용금액\" in col]].std(axis=1)\n",
    "df[\"전월_이용건수_변동성\"] = df[[col for col in cols_amt_mom if \"이용건수\" in col]].std(axis=1)\n",
    "\n",
    "cols_amt_q = [col for col in df.columns if \"증감율\" in col and \"분기\" in col]\n",
    "df[\"분기_이용금액_증감율평균\"] = df[[col for col in cols_amt_q if \"이용금액\" in col]].mean(axis=1)\n",
    "df[\"분기_이용건수_증감율평균\"] = df[[col for col in cols_amt_q if \"이용건수\" in col]].mean(axis=1)\n",
    "\n",
    "# 한도소진율 격차 (6M 기준)\n",
    "df[\"소진율차_신판_R6M\"] = df[\"잔액_신판최대한도소진율_r6m\"] - df[\"잔액_신판평균한도소진율_r6m\"]\n",
    "df[\"소진율차_신판CA_R6M\"] = df[\"잔액_신판ca최대한도소진율_r6m\"] - df[\"잔액_신판ca평균한도소진율_r6m\"]\n",
    "\n",
    "cols_var_balance = [col for col in df.columns if col.startswith(\"변동률_\") and \"평잔\" in col]\n",
    "df[\"평잔변동률_평균\"] = df[cols_var_balance].mean(axis=1)\n",
    "\n",
    "df[\"혜택수혜율평균\"] = (df[\"혜택수혜율_R3M\"] + df[\"혜택수혜율_B0M\"]) / 2\n",
    "\n",
    "cols_to_drop = (\n",
    "    cols_amt_mom + cols_amt_q + cols_var_balance +\n",
    "    [\n",
    "        \"잔액_신판최대한도소진율_r6m\", \"잔액_신판평균한도소진율_r6m\",\n",
    "        \"잔액_신판ca최대한도소진율_r6m\", \"잔액_신판ca평균한도소진율_r6m\",\n",
    "        \"혜택수혜율_R3M\", \"혜택수혜율_B0M\"\n",
    "    ]\n",
    ")\n",
    "\n",
    "df = df.drop(columns=cols_to_drop)\n"
   ]
  },
  {
   "cell_type": "code",
   "execution_count": 222,
   "id": "669c5f00",
   "metadata": {},
   "outputs": [
    {
     "name": "stdout",
     "output_type": "stream",
     "text": [
      "<class 'pandas.core.frame.DataFrame'>\n",
      "RangeIndex: 600000 entries, 0 to 599999\n",
      "Data columns (total 19 columns):\n",
      " #   Column              Non-Null Count   Dtype   \n",
      "---  ------              --------------   -----   \n",
      " 0   기준년월                600000 non-null  int32   \n",
      " 1   ID                  600000 non-null  category\n",
      " 2   잔액_신판평균한도소진율_r3m    600000 non-null  float32 \n",
      " 3   잔액_신판최대한도소진율_r3m    600000 non-null  float32 \n",
      " 4   잔액_신판ca평균한도소진율_r3m  600000 non-null  float32 \n",
      " 5   잔액_신판ca최대한도소진율_r3m  600000 non-null  float32 \n",
      " 6   변동률_잔액_B1M          600000 non-null  float32 \n",
      " 7   변동률_잔액_일시불_B1M      600000 non-null  float32 \n",
      " 8   변동률_잔액_CA_B1M       600000 non-null  float32 \n",
      " 9   전월_이용금액_증감율평균       600000 non-null  float32 \n",
      " 10  전월_이용건수_증감율평균       600000 non-null  float32 \n",
      " 11  전월_이용금액_변동성         600000 non-null  float32 \n",
      " 12  전월_이용건수_변동성         600000 non-null  float32 \n",
      " 13  분기_이용금액_증감율평균       600000 non-null  float32 \n",
      " 14  분기_이용건수_증감율평균       600000 non-null  float32 \n",
      " 15  소진율차_신판_R6M         600000 non-null  float32 \n",
      " 16  소진율차_신판CA_R6M       600000 non-null  float32 \n",
      " 17  평잔변동률_평균            600000 non-null  float32 \n",
      " 18  혜택수혜율평균             600000 non-null  float32 \n",
      "dtypes: category(1), float32(17), int32(1)\n",
      "memory usage: 46.3 MB\n"
     ]
    }
   ],
   "source": [
    "df = optimize_dataframe(df)\n",
    "df.info()"
   ]
  },
  {
   "cell_type": "code",
   "execution_count": 223,
   "id": "291b59a8",
   "metadata": {},
   "outputs": [],
   "source": [
    "df.to_parquet(file_path, index=False)"
   ]
  },
  {
   "cell_type": "markdown",
   "id": "f2f5738f",
   "metadata": {},
   "source": [
    "# 하나의 DataFrame으로 합치기"
   ]
  },
  {
   "cell_type": "code",
   "execution_count": null,
   "id": "a2c976dd",
   "metadata": {},
   "outputs": [
    {
     "name": "stdout",
     "output_type": "stream",
     "text": [
      "Step1 저장 완료: train_step1, shape: (2400000, 56)\n",
      "Step2 저장 완료: train_Step2, shape: (2400000, 92)\n",
      "Step3 저장 완료: train_Step3, shape: (2400000, 484)\n",
      "Step4 저장 완료: train_Step4, shape: (2400000, 525)\n",
      "Step5 저장 완료: train_Step5, shape: (2400000, 591)\n",
      "Step6 저장 완료: train_Step6, shape: (2400000, 656)\n",
      "Step7 저장 완료: train_Step7, shape: (2400000, 672)\n",
      "최종 저장 완료: train_최종, shape: (2400000, 689)\n",
      "병합 완료. 최종 shape: (2400000, 689)\n"
     ]
    }
   ],
   "source": [
    "import pandas as pd\n",
    "import os\n",
    "import gc\n",
    "\n",
    "# 병합할 parquet 파일 리스트\n",
    "file_list = [\"member\", \"credit\", \"tx\", \"bill\", \"balance\", \"channel\", \"mkt\", \"perf\"]\n",
    "save_path = \"../dataset/train/merged_optimized\"\n",
    "\n",
    "# Step1: 첫 번째 파일 로드\n",
    "train_df = pd.read_parquet(os.path.join(save_path, f\"{file_list[0]}_optimized.parquet\"))\n",
    "print(f\"Step1 저장 완료: train_step1, shape: {train_df.shape}\")\n",
    "\n",
    "# 병합할 나머지 파일들과 병합 단계 이름\n",
    "merge_list = [\n",
    "    (\"credit\", \"Step2\"),\n",
    "    (\"tx\", \"Step3\"),\n",
    "    (\"bill\", \"Step4\"),\n",
    "    (\"balance\", \"Step5\"),\n",
    "    (\"channel\", \"Step6\"),\n",
    "    (\"mkt\", \"Step7\"),\n",
    "    (\"perf\", \"최종\")\n",
    "]\n",
    "\n",
    "# 순차적으로 merge\n",
    "for name, step in merge_list:\n",
    "    file_path = os.path.join(save_path, f\"{name}_optimized.parquet\")\n",
    "    merge_df = pd.read_parquet(file_path)\n",
    "\n",
    "    train_df = train_df.merge(merge_df, on=[\"기준년월\", \"ID\"], how=\"left\")\n",
    "    print(f\"{step} 저장 완료: train_{step}, shape: {train_df.shape}\")\n",
    "\n",
    "    del merge_df\n",
    "    gc.collect()\n",
    "\n",
    "# 최종 확인\n",
    "print(\"병합 완료. 최종 shape:\", train_df.shape)\n"
   ]
  },
  {
   "cell_type": "code",
   "execution_count": 232,
   "id": "8ea77b19",
   "metadata": {},
   "outputs": [
    {
     "name": "stdout",
     "output_type": "stream",
     "text": [
      "<class 'pandas.core.frame.DataFrame'>\n",
      "RangeIndex: 2400000 entries, 0 to 2399999\n",
      "Columns: 689 entries, 기준년월 to 혜택수혜율평균\n",
      "dtypes: category(22), datetime64[ns](6), float32(40), float64(4), int16(132), int32(121), int64(9), int8(355)\n",
      "memory usage: 3.2 GB\n"
     ]
    }
   ],
   "source": [
    "train_df.info()"
   ]
  },
  {
   "cell_type": "code",
   "execution_count": 229,
   "id": "609c891d",
   "metadata": {},
   "outputs": [],
   "source": [
    "train_df.to_parquet(os.path.join(save_path, \"train.parquet\"), index=False)"
   ]
  },
  {
   "cell_type": "code",
   "execution_count": 230,
   "id": "28c7da1a",
   "metadata": {},
   "outputs": [
    {
     "name": "stdout",
     "output_type": "stream",
     "text": [
      "Step1 저장 완료: train_step1, shape: (600000, 55)\n",
      "Step2 저장 완료: train_Step2, shape: (2400000, 689)\n",
      "Step3 저장 완료: train_Step3, shape: (2400000, 689)\n",
      "Step4 저장 완료: train_Step4, shape: (2400000, 689)\n",
      "Step5 저장 완료: train_Step5, shape: (2400000, 689)\n",
      "Step6 저장 완료: train_Step6, shape: (2400000, 689)\n",
      "Step7 저장 완료: train_Step7, shape: (2400000, 689)\n",
      "최종 저장 완료: train_최종, shape: (2400000, 689)\n",
      "병합 완료. 최종 shape: (600000, 688)\n"
     ]
    }
   ],
   "source": [
    "# 병합할 parquet 파일 리스트\n",
    "file_list = [\"member\", \"credit\", \"tx\", \"bill\", \"balance\", \"channel\", \"mkt\", \"perf\"]\n",
    "save_test_path = \"../dataset/test/merged_optimized\"\n",
    "\n",
    "# Step1: 첫 번째 파일 로드\n",
    "test_df = pd.read_parquet(os.path.join(save_test_path, f\"{file_list[0]}_optimized.parquet\"))\n",
    "print(f\"Step1 저장 완료: train_step1, shape: {test_df.shape}\")\n",
    "\n",
    "# 병합할 나머지 파일들과 병합 단계 이름\n",
    "merge_list = [\n",
    "    (\"credit\", \"Step2\"),\n",
    "    (\"tx\", \"Step3\"),\n",
    "    (\"bill\", \"Step4\"),\n",
    "    (\"balance\", \"Step5\"),\n",
    "    (\"channel\", \"Step6\"),\n",
    "    (\"mkt\", \"Step7\"),\n",
    "    (\"perf\", \"최종\")\n",
    "]\n",
    "\n",
    "# 순차적으로 merge\n",
    "for name, step in merge_list:\n",
    "    file_path = os.path.join(save_path, f\"{name}_optimized.parquet\")\n",
    "    merge_df = pd.read_parquet(file_path)\n",
    "\n",
    "    test_df = test_df.merge(merge_df, on=[\"기준년월\", \"ID\"], how=\"left\")\n",
    "    print(f\"{step} 저장 완료: train_{step}, shape: {test_df.shape}\")\n",
    "\n",
    "    del merge_df\n",
    "    gc.collect()\n",
    "\n",
    "# 최종 확인\n",
    "print(\"병합 완료. 최종 shape:\", test_df.shape)\n"
   ]
  },
  {
   "cell_type": "code",
   "execution_count": 231,
   "id": "c908f460",
   "metadata": {},
   "outputs": [
    {
     "name": "stdout",
     "output_type": "stream",
     "text": [
      "<class 'pandas.core.frame.DataFrame'>\n",
      "RangeIndex: 600000 entries, 0 to 599999\n",
      "Columns: 688 entries, 기준년월 to 혜택수혜율평균\n",
      "dtypes: category(20), datetime64[ns](6), float32(40), float64(580), int16(3), int32(4), int64(5), int8(29), object(1)\n",
      "memory usage: 2.8+ GB\n"
     ]
    }
   ],
   "source": [
    "test_df.info()"
   ]
  },
  {
   "cell_type": "code",
   "execution_count": 233,
   "id": "a45b8d80",
   "metadata": {},
   "outputs": [],
   "source": [
    "test_df.to_parquet(os.path.join(save_test_path, \"test.parquet\"), index=False)"
   ]
  }
 ],
 "metadata": {
  "kernelspec": {
   "display_name": "Python 3",
   "language": "python",
   "name": "python3"
  },
  "language_info": {
   "codemirror_mode": {
    "name": "ipython",
    "version": 3
   },
   "file_extension": ".py",
   "mimetype": "text/x-python",
   "name": "python",
   "nbconvert_exporter": "python",
   "pygments_lexer": "ipython3",
   "version": "3.10.6"
  }
 },
 "nbformat": 4,
 "nbformat_minor": 5
}
