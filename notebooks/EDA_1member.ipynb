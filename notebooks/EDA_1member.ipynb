{
 "cells": [
  {
   "cell_type": "markdown",
   "id": "c5cdd016",
   "metadata": {},
   "source": [
    "# 회원정보 EDA"
   ]
  },
  {
   "cell_type": "markdown",
   "id": "29cb369f",
   "metadata": {},
   "source": [
    "- 필요한 라이브러리 설치 및 초기 설정"
   ]
  },
  {
   "cell_type": "code",
   "execution_count": 1,
   "id": "6c09da6e",
   "metadata": {},
   "outputs": [],
   "source": [
    "# %pip install -qU numpy pandas matplotlib fastparquet pyarrow seaborn scikit-learn lightgbm"
   ]
  },
  {
   "cell_type": "code",
   "execution_count": 2,
   "id": "30df69f8",
   "metadata": {},
   "outputs": [],
   "source": [
    "import matplotlib.pyplot as plt\n",
    "import matplotlib.font_manager as fm\n",
    "\n",
    "# 설치된 폰트 목록을 갱신하고, 'NanumGothic' 폰트를 기본 폰트로 설정합니다.\n",
    "font_path = 'C:/Windows/Fonts/NanumGothic.ttf' \n",
    "font_name = fm.FontProperties(fname=font_path).get_name()\n",
    "plt.rc('font', family=font_name)\n",
    "plt.rcParams['axes.unicode_minus'] = False"
   ]
  },
  {
   "cell_type": "markdown",
   "id": "38efae87",
   "metadata": {},
   "source": [
    "## 데이터 로드"
   ]
  },
  {
   "cell_type": "code",
   "execution_count": 3,
   "id": "aedd7a7c",
   "metadata": {},
   "outputs": [
    {
     "name": "stdout",
     "output_type": "stream",
     "text": [
      "✅ File: ../dataset/train/1.회원정보\\201807_train_회원정보.parquet Completed!\n",
      "✅ File: ../dataset/train/1.회원정보\\201808_train_회원정보.parquet Completed!\n",
      "✅ File: ../dataset/train/1.회원정보\\201809_train_회원정보.parquet Completed!\n",
      "✅ File: ../dataset/train/1.회원정보\\201810_train_회원정보.parquet Completed!\n",
      "✅ File: ../dataset/train/1.회원정보\\201811_train_회원정보.parquet Completed!\n",
      "✅ File: ../dataset/train/1.회원정보\\201812_train_회원정보.parquet Completed!\n",
      "🔹 Shape : (2400000, 78)\n",
      "==============================\n",
      "✅ File: ../dataset/test/1.회원정보\\201807_test_회원정보.parquet Completed!\n",
      "✅ File: ../dataset/test/1.회원정보\\201808_test_회원정보.parquet Completed!\n",
      "✅ File: ../dataset/test/1.회원정보\\201809_test_회원정보.parquet Completed!\n",
      "✅ File: ../dataset/test/1.회원정보\\201810_test_회원정보.parquet Completed!\n",
      "✅ File: ../dataset/test/1.회원정보\\201811_test_회원정보.parquet Completed!\n",
      "✅ File: ../dataset/test/1.회원정보\\201812_test_회원정보.parquet Completed!\n",
      "🔹 Shape : (600000, 77)\n"
     ]
    }
   ],
   "source": [
    "import pandas as pd\n",
    "import os\n",
    "from glob import glob\n",
    "\n",
    "folder_train_path = '../dataset/train/1.회원정보/'\n",
    "folder_test_path = '../dataset/test/1.회원정보/'\n",
    "\n",
    "parquet_train_files = glob(os.path.join(folder_train_path, '*.parquet'))\n",
    "parquet_test_files = glob(os.path.join(folder_test_path, '*.parquet'))\n",
    "\n",
    "member_df = pd.DataFrame()\n",
    "member_test_df = pd.DataFrame()\n",
    "\n",
    "for file in parquet_train_files:\n",
    "    df = pd.read_parquet(file, engine='fastparquet')\n",
    "    member_df = pd.concat([member_df, df], ignore_index=True)\n",
    "    print(f\"✅ File: {file} Completed!\")\n",
    "\n",
    "print(f\"🔹 Shape : {member_df.shape}\")\n",
    "\n",
    "print(\"=\" * 30)\n",
    "\n",
    "for file in parquet_test_files:\n",
    "    df = pd.read_parquet(file, engine='fastparquet')\n",
    "    member_test_df = pd.concat([member_test_df, df], ignore_index=True)\n",
    "    print(f\"✅ File: {file} Completed!\")\n",
    "\n",
    "print(f\"🔹 Shape : {member_test_df.shape}\")\n"
   ]
  },
  {
   "cell_type": "markdown",
   "id": "10a83fab",
   "metadata": {},
   "source": [
    "# 데이터 전처리\n"
   ]
  },
  {
   "cell_type": "markdown",
   "id": "cdb21964",
   "metadata": {},
   "source": [
    "- memory usage를 줄여 메모리가 감당 가능한 데이터로 만들기"
   ]
  },
  {
   "cell_type": "code",
   "execution_count": 4,
   "id": "f06bffdc",
   "metadata": {},
   "outputs": [
    {
     "data": {
      "text/plain": [
       "['ID',\n",
       " '연령',\n",
       " 'Segment',\n",
       " '가입통신회사코드',\n",
       " '거주시도명',\n",
       " '직장시도명',\n",
       " '_1순위신용체크구분',\n",
       " '_2순위신용체크구분',\n",
       " '연회비발생카드수_B0M',\n",
       " '상품관련면제카드수_B0M',\n",
       " '임직원면제카드수_B0M',\n",
       " '우수회원면제카드수_B0M',\n",
       " '기타면제카드수_B0M',\n",
       " 'Life_Stage']"
      ]
     },
     "execution_count": 4,
     "metadata": {},
     "output_type": "execute_result"
    }
   ],
   "source": [
    "# object 타입의 컬럼 확인\n",
    "object_columns = member_df.select_dtypes(include=['object']).columns.tolist()\n",
    "object_columns"
   ]
  },
  {
   "cell_type": "code",
   "execution_count": 5,
   "id": "525da112",
   "metadata": {},
   "outputs": [
    {
     "data": {
      "text/plain": [
       "{'연령': array(['40대', '30대', '20대', '60대', '50대', '70대이상'], dtype=object),\n",
       " 'Segment': array(['D', 'E', 'C', 'A', 'B'], dtype=object),\n",
       " '가입통신회사코드': array(['L사', 'K사', 'S사', None], dtype=object),\n",
       " '거주시도명': array(['서울', '경기', '부산', '광주', '대전', '전북', '인천', '경남', '충북', '전남', '울산',\n",
       "        '경북', '강원', '대구', '충남', '제주', '세종'], dtype=object),\n",
       " '직장시도명': array(['서울', '경기', '부산', '광주', None, '전북', '인천', '대전', '경남', '충북', '전남',\n",
       "        '경북', '울산', '강원', '대구', '세종', '충남', '제주'], dtype=object),\n",
       " '_1순위신용체크구분': array(['신용', None, '체크'], dtype=object),\n",
       " '_2순위신용체크구분': array(['체크', None, '신용'], dtype=object),\n",
       " '연회비발생카드수_B0M': array(['0개', '1개이상'], dtype=object),\n",
       " '상품관련면제카드수_B0M': array(['0개'], dtype=object),\n",
       " '임직원면제카드수_B0M': array(['0개'], dtype=object),\n",
       " '우수회원면제카드수_B0M': array(['0개'], dtype=object),\n",
       " '기타면제카드수_B0M': array(['0개'], dtype=object),\n",
       " 'Life_Stage': array(['자녀성장(2)', '자녀성장(1)', '자녀출산기', '독신', '노년생활', '가족구축기', '자녀독립기'],\n",
       "       dtype=object)}"
      ]
     },
     "execution_count": 5,
     "metadata": {},
     "output_type": "execute_result"
    }
   ],
   "source": [
    "unique_values = {col: member_df[col].unique() for col in object_columns if col != 'ID'}\n",
    "unique_values"
   ]
  },
  {
   "cell_type": "markdown",
   "id": "7ac86bab",
   "metadata": {},
   "source": [
    "- `상품관련면제카드수_B0M`, `임직원면제카드수_B0M`, `우수회원면제카드수_B0M`, `기타면제카드수_B0M`\n",
    "    - unique 값이 모두 0개만 존재하므로 의미없는 column으로 결론\n",
    "\n",
    "- `가입통신회사코드`, `직장시도명`, `_1순위신용체크구분`, `_2순위신용체크구분`에 대해서는 결측치 처리 필요"
   ]
  },
  {
   "cell_type": "code",
   "execution_count": 6,
   "id": "9bbbc079",
   "metadata": {},
   "outputs": [],
   "source": [
    "drop_columns = [\n",
    "    '상품관련면제카드수_B0M', '임직원면제카드수_B0M', \n",
    "    '우수회원면제카드수_B0M', '기타면제카드수_B0M'\n",
    "]\n",
    "\n",
    "member_df.drop(columns=drop_columns, inplace=True)\n",
    "member_test_df.drop(columns=drop_columns, inplace=True)"
   ]
  },
  {
   "cell_type": "code",
   "execution_count": 7,
   "id": "3806b580",
   "metadata": {},
   "outputs": [],
   "source": [
    "fillna_columns = [\n",
    "    '가입통신회사코드', '직장시도명', '_1순위신용체크구분', '_2순위신용체크구분',\n",
    "]\n",
    "\n",
    "for col in fillna_columns:\n",
    "    member_df[col] = member_df[col].fillna('Unknown')\n",
    "    member_test_df[col] = member_test_df[col].fillna('Unknown')"
   ]
  },
  {
   "cell_type": "code",
   "execution_count": 8,
   "id": "7871cff7",
   "metadata": {},
   "outputs": [],
   "source": [
    "# object_columns에서 drop_columns에 포함된 컬럼을 제외한 나머지 컬럼을 선택\n",
    "object_columns = [col for col in object_columns if col not in drop_columns]\n",
    "\n",
    "for col in object_columns:\n",
    "    if col in member_test_df.columns:\n",
    "        member_df[col] = member_df[col].astype('category')\n",
    "        member_test_df[col] = member_test_df[col].astype('category')\n",
    "    else:\n",
    "        member_df[col] = member_df[col].astype('category')"
   ]
  },
  {
   "cell_type": "markdown",
   "id": "63a3a26e",
   "metadata": {},
   "source": [
    "- 수치형 컬럼 확인"
   ]
  },
  {
   "cell_type": "code",
   "execution_count": 9,
   "id": "46ba5911",
   "metadata": {},
   "outputs": [
    {
     "data": {
      "text/plain": [
       "['기준년월',\n",
       " '남녀구분코드',\n",
       " '회원여부_이용가능',\n",
       " '회원여부_이용가능_CA',\n",
       " '회원여부_이용가능_카드론',\n",
       " '소지여부_신용',\n",
       " '소지카드수_유효_신용',\n",
       " '소지카드수_이용가능_신용',\n",
       " '입회일자_신용',\n",
       " '입회경과개월수_신용',\n",
       " '회원여부_연체',\n",
       " '이용거절여부_카드론',\n",
       " '동의여부_한도증액안내',\n",
       " '수신거부여부_TM',\n",
       " '수신거부여부_DM',\n",
       " '수신거부여부_메일',\n",
       " '수신거부여부_SMS',\n",
       " '탈회횟수_누적',\n",
       " '최종탈회후경과월',\n",
       " '탈회횟수_발급6개월이내',\n",
       " '탈회횟수_발급1년이내',\n",
       " '마케팅동의여부',\n",
       " '유효카드수_신용체크',\n",
       " '유효카드수_신용',\n",
       " '유효카드수_신용_가족',\n",
       " '유효카드수_체크',\n",
       " '유효카드수_체크_가족',\n",
       " '이용가능카드수_신용체크',\n",
       " '이용가능카드수_신용',\n",
       " '이용가능카드수_신용_가족',\n",
       " '이용가능카드수_체크',\n",
       " '이용가능카드수_체크_가족',\n",
       " '이용카드수_신용체크',\n",
       " '이용카드수_신용',\n",
       " '이용카드수_신용_가족',\n",
       " '이용카드수_체크',\n",
       " '이용카드수_체크_가족',\n",
       " '이용금액_R3M_신용체크',\n",
       " '이용금액_R3M_신용',\n",
       " '이용금액_R3M_신용_가족',\n",
       " '이용금액_R3M_체크',\n",
       " '이용금액_R3M_체크_가족',\n",
       " '_1순위카드이용금액',\n",
       " '_1순위카드이용건수',\n",
       " '_2순위카드이용금액',\n",
       " '_2순위카드이용건수',\n",
       " '보유여부_해외겸용_본인',\n",
       " '이용가능여부_해외겸용_본인',\n",
       " '이용여부_3M_해외겸용_본인',\n",
       " '보유여부_해외겸용_신용_본인',\n",
       " '이용가능여부_해외겸용_신용_본인',\n",
       " '이용여부_3M_해외겸용_신용_본인',\n",
       " '연회비할인카드수_B0M',\n",
       " '기본연회비_B0M',\n",
       " '제휴연회비_B0M',\n",
       " '할인금액_기본연회비_B0M',\n",
       " '할인금액_제휴연회비_B0M',\n",
       " '청구금액_기본연회비_B0M',\n",
       " '청구금액_제휴연회비_B0M',\n",
       " '카드신청건수',\n",
       " '최종카드발급경과월']"
      ]
     },
     "execution_count": 9,
     "metadata": {},
     "output_type": "execute_result"
    }
   ],
   "source": [
    "int64_columns = member_df.select_dtypes(include=['int64']).columns.tolist()\n",
    "int64_columns"
   ]
  },
  {
   "cell_type": "code",
   "execution_count": 10,
   "id": "94af1f7b",
   "metadata": {},
   "outputs": [
    {
     "data": {
      "text/plain": [
       "{'기준년월': array([201807, 201808, 201809, 201810, 201811, 201812]),\n",
       " '남녀구분코드': array([2, 1]),\n",
       " '회원여부_이용가능': array([1, 0]),\n",
       " '회원여부_이용가능_CA': array([1, 0]),\n",
       " '회원여부_이용가능_카드론': array([0, 1]),\n",
       " '소지여부_신용': array([1, 0]),\n",
       " '소지카드수_유효_신용': array([1, 2, 3, 0, 4]),\n",
       " '소지카드수_이용가능_신용': array([1, 2, 3, 0]),\n",
       " '입회일자_신용': array([20130101, 20170801, 20080401, 20160501, 20180601, 20141001,\n",
       "        20081001, 20070301, 20121001, 20161201, 20080801, 20151001,\n",
       "        20170301, 20150701, 20170601, 20070901, 20180201, 20080601,\n",
       "        20111001, 20140801, 20120401, 20170201, 20160901, 20120201,\n",
       "        19990901, 20140501, 20100101, 20150201, 20170501, 20110601,\n",
       "        20070701, 19970101, 19990501, 20141201, 20060701, 20030601,\n",
       "        20061201, 20090901, 20060601, 19951101, 20060201, 20001101,\n",
       "        20030901, 20170401, 20140701, 20000401, 20160701, 19991001,\n",
       "        20161001, 20180301, 20120701, 20180101, 20130601, 20150101,\n",
       "        20121201, 20111201, 19930601, 19940601, 20110701, 20120901,\n",
       "        20080901, 20130501, 20161101, 19991201, 20160301, 20011001,\n",
       "        19970201, 20111101, 19971201, 20040601, 20140301, 20100801,\n",
       "        19980701, 20130301, 20140401, 20131101, 20170101, 20171001,\n",
       "        20170901, 20091001, 20141101, 19990401, 20100501, 20171201,\n",
       "        20030501, 20100201, 20150501, 20110401, 19950601, 20150401,\n",
       "        20100701, 20040701, 20151201, 20110101, 20120501, 20090101,\n",
       "        20151101, 20160601, 20160401, 19970901, 20010101, 20130901,\n",
       "        20120801, 20180401, 20160201, 20080201, 20061001, 20010401,\n",
       "        20010301, 19991101, 20010501, 20100901, 19980401, 20050201,\n",
       "        19970301, 20180501, 20020201, 19980801, 19971101, 20000501,\n",
       "        20140101, 19960101, 20140901, 19970701, 20020701, 20020401,\n",
       "        20131201, 20040401, 19940201, 20130801, 19940801, 20101201,\n",
       "        20090201, 20121101, 20130401, 20120301, 20170701, 20070801,\n",
       "        20090701, 20050301, 20010701, 20150301, 20070601, 19980101,\n",
       "        20010201, 20031001, 20110801, 20140601, 20120601, 20040901,\n",
       "        20080101, 20071001, 20131001, 20080701, 20090301, 19961201,\n",
       "        20010901, 20130701, 19960801, 20130201, 19981001, 20031101,\n",
       "        20090401, 20030801, 20070501, 20171101, 20110901, 19980601,\n",
       "        20071101, 20021101, 19941001, 19970501, 20100601, 19970601,\n",
       "        20070401, 20120101, 20020501, 20040501, 20150801, 19990301,\n",
       "        20140201, 20011101, 20050801, 20150601, 20160101, 20050601,\n",
       "        19970801, 20000201, 20091201, 20160801, 20090601, 20071201,\n",
       "        19950501, 20100401, 20050701, 20070101, 19961101, 20150901,\n",
       "        20051101, 20110501, 20030301, 20110301, 19940501, 20040101,\n",
       "        20000601, 20040201, 20050501, 20060301, 19990201, 20060901,\n",
       "        20050901, 20091101, 20110201, 19990601, 20080501, 20020801,\n",
       "        19960901, 19980201, 20000301, 20050401, 20030201, 20090501,\n",
       "        20030101, 20021201, 20031201, 20101001, 20101101, 20020301,\n",
       "        20051201, 20000701, 20090801, 20081101, 19930901, 19981201,\n",
       "        19951201, 19950801, 20100301, 20060501, 19950201, 19980501,\n",
       "        20040301, 19990101, 19970401, 19960301, 19950401, 20000901,\n",
       "        20041201, 19950901, 20010601, 19971001, 19960401, 19940401,\n",
       "        20020901, 20020101, 20021001, 20050101, 20000101, 20060801,\n",
       "        19980901, 19980301, 20061101, 19931201, 20030701, 19940901,\n",
       "        20000801, 20060101, 20070201, 19960701, 19961001, 20020601,\n",
       "        20051001, 20041001, 20080301, 19981101, 20010801, 19930701,\n",
       "        20060401, 19990701, 20081201, 19960201, 20011201, 19951001,\n",
       "        20001201, 19931101, 19960501, 19990801, 20001001, 20030401,\n",
       "        19950701, 19960601, 19911101, 19950101, 20040801, 20041101,\n",
       "        19931001, 19921101, 19950301, 19930101, 19941201, 19940701,\n",
       "        19941101, 19930801, 19930301, 19940101, 19940301, 19930201,\n",
       "        19920601, 19920101, 19920901, 19930401, 19921201, 19921001,\n",
       "        19911201, 19930501, 19920401, 19920801, 19920701, 19920301,\n",
       "        19920501, 19920201, 19911001, 19910501, 19910901, 19901101,\n",
       "        19910801]),\n",
       " '입회경과개월수_신용': array([ 67,  12, 124,  27,   2,  46, 118, 137,  70,  20, 120,  34,  17,\n",
       "         37,  14, 131,   6, 122,  82,  48,  76,  18,  23,  78, 227,  51,\n",
       "        103,  42,  15,  86, 133, 259, 231,  44, 145, 182, 140, 107, 146,\n",
       "        273, 150, 213, 179,  16,  49, 220,  25, 226,  22,   5,  73,   7,\n",
       "         62,  43,  68,  80, 302, 290,  85,  71, 119,  63,  21, 224,  29,\n",
       "        202, 258,  81, 248, 170,  53,  96, 241,  65,  52,  57,  19,  10,\n",
       "         11, 106,  45, 232,  99,   8, 183, 102,  39,  88, 278,  40,  97,\n",
       "        169,  32,  91,  75, 115,  33,  26,  28, 251, 211,  59,  72,   4,\n",
       "         30, 126, 142, 208, 209, 225, 207,  95, 244, 162, 257,   3, 198,\n",
       "        240, 249, 219,  55, 271,  47, 253, 193, 196,  56, 172, 294,  60,\n",
       "        288,  92, 114,  69,  64,  77,  13, 132, 109, 161, 205,  41, 134,\n",
       "        247, 210, 178,  84,  50,  74, 167, 127, 130,  58, 121, 113, 260,\n",
       "        203,  61, 264,  66, 238, 177, 112, 180, 135,   9,  83, 242, 129,\n",
       "        189, 286, 255,  98, 254, 136,  79, 195, 171,  36, 233,  54, 201,\n",
       "        156,  38,  31, 158, 252, 222, 104,  24, 110, 128, 279, 100, 157,\n",
       "        139, 261,  35, 153,  87, 185,  89, 291, 175, 218, 174, 159, 149,\n",
       "        234, 143, 155, 105,  90, 230, 123, 192, 263, 246, 221, 160, 186,\n",
       "        111, 187, 188, 176,  94,  93, 197, 152, 217, 108, 117, 299, 236,\n",
       "        272, 276, 101, 147, 282, 243, 173, 235, 256, 269, 280, 215, 164,\n",
       "        275, 206, 250, 268, 292, 191, 199, 190, 163, 223, 144, 239, 245,\n",
       "        141, 296, 181, 287, 216, 151, 138, 265, 262, 194, 154, 166, 125,\n",
       "        237, 204, 301, 148, 229, 116, 270, 200, 274, 212, 297, 267, 228,\n",
       "        214, 184, 277, 266, 321, 283, 168, 165, 298, 309, 281, 307, 284,\n",
       "        289, 285, 300, 305, 295, 293, 306, 314, 319, 311, 304, 308, 310,\n",
       "        320, 303, 316, 312, 313, 317, 315, 318, 322, 327, 323, 333, 324,\n",
       "        328, 334, 325, 329, 335, 326, 330, 336, 331, 337]),\n",
       " '회원여부_연체': array([0, 1]),\n",
       " '이용거절여부_카드론': array([0, 1]),\n",
       " '동의여부_한도증액안내': array([1, 0]),\n",
       " '수신거부여부_TM': array([0, 1]),\n",
       " '수신거부여부_DM': array([0, 1]),\n",
       " '수신거부여부_메일': array([0, 1]),\n",
       " '수신거부여부_SMS': array([0, 1]),\n",
       " '탈회횟수_누적': array([1, 0, 2]),\n",
       " '최종탈회후경과월': array([ 61,  98,  60, 100, 101,   0,  44, 103,  96,  46, 102,  45,  43,\n",
       "         47, 105,  42,  18, 110, 108, 104,  99,  19,  97, 107,  20,  21,\n",
       "        109,  17, 106,  41,  95,  94,  40,  93,  59,  92,  22, 112,  16,\n",
       "        111,  91,  90,  39,  89,  48,  15,  62,   1,  23, 113,  49,  63,\n",
       "          2,  24, 114,  50,  64,   3,  25, 115,  51,  65,   4,  26, 116,\n",
       "         52,  66,   5,  27, 117,  53]),\n",
       " '탈회횟수_발급6개월이내': array([0, 1]),\n",
       " '탈회횟수_발급1년이내': array([0, 1]),\n",
       " '마케팅동의여부': array([1, 0]),\n",
       " '유효카드수_신용체크': array([2, 1, 3, 7, 5, 0, 4, 6, 8]),\n",
       " '유효카드수_신용': array([1, 2, 4, 3, 0, 5]),\n",
       " '유효카드수_신용_가족': array([0, 1, 2]),\n",
       " '유효카드수_체크': array([1, 0, 3, 2]),\n",
       " '유효카드수_체크_가족': array([0, 1, 2]),\n",
       " '이용가능카드수_신용체크': array([2, 1, 3, 7, 5, 0, 4, 6, 8]),\n",
       " '이용가능카드수_신용': array([1, 2, 4, 0, 3, 5]),\n",
       " '이용가능카드수_신용_가족': array([0, 1, 2]),\n",
       " '이용가능카드수_체크': array([1, 0, 3, 2]),\n",
       " '이용가능카드수_체크_가족': array([0, 1, 2]),\n",
       " '이용카드수_신용체크': array([1, 0, 2, 5, 3, 4, 6]),\n",
       " '이용카드수_신용': array([1, 0, 2, 4, 3, 5]),\n",
       " '이용카드수_신용_가족': array([0, 1, 2]),\n",
       " '이용카드수_체크': array([0, 1, 2]),\n",
       " '이용카드수_체크_가족': array([0]),\n",
       " '이용금액_R3M_신용체크': array([   196,  13475,  23988, ..., 121023, 116423, 116441],\n",
       "       shape=(124193,)),\n",
       " '이용금액_R3M_신용': array([   196,  13475,  23988, ..., 116423, 116441,  90491],\n",
       "       shape=(120246,)),\n",
       " '이용금액_R3M_신용_가족': array([    0,  7561, 11308, ..., 20433, 18119, 14965], shape=(12226,)),\n",
       " '이용금액_R3M_체크': array([    0,  1190,  3687, ..., 40697, 47034, 86719], shape=(54673,)),\n",
       " '이용금액_R3M_체크_가족': array([0]),\n",
       " '_1순위카드이용금액': array([ 3681, 13323, 24493, ..., 58806, 48489, 56510], shape=(81963,)),\n",
       " '_1순위카드이용건수': array([ 26,  46,  28,   1,  -2,  32,  49, 176,  14, 151,  77,  36,   4,\n",
       "         12,  41,  22,  57,  20, 116,  37,  29,  13,   9,  45,   5, 170,\n",
       "         94,  89,  11, 158,  23, 113,   8, 152,   0,  10,  21,   3, 184,\n",
       "        178,  -1,  59, 118,  95,  17,  82,  50,  72,  33, 120,  38,  85,\n",
       "         90, 124,   2,  42,  58,  98,  53,  25, 187, 154,  19,  15,  54,\n",
       "         35,   7,   6,  18,  44, 109, 100,  93, 110,  24,  43,  84,  88,\n",
       "        194,  70,  64,  81,  16,  56, 173, 193,  66, 157, 125,  40,  62,\n",
       "        163,  30, 192, 108,  47, 213, 144, 202,  48, 166, 138,  34, 199,\n",
       "        156, 150,  99,  78,  76, 134,  52, 129, 128,  83,  27, 106, 190,\n",
       "         65,  69, 182, 115, 114, 159, 122, 165, 179,  91,  31, 196, 147,\n",
       "        140,  51, 105,  39,  63,  68, 111,  67, 142, 174,  71, 191, 135,\n",
       "        103, 127, 204, 104,  79,  80,  61, 203, 200, 189, 130, 102, 171,\n",
       "         60, 148, 212, 143, 139, 172, 198, 197, 132, 146, 131, 206,  92,\n",
       "        126, 107, 112,  96,  55,  86, 183, 123,  74, 169, 175, 168, 209,\n",
       "        119, 121, 164, 137,  73, 201, 162,  87, 167, 136, 155, 161, 145,\n",
       "        141, 153,  75,  97, 133, 101, 177, 210, 185, 211, 180, 186, 117,\n",
       "        188, 160, 149, 181, 195, 207, 215, 216, 205, 218, 214, 208, 220,\n",
       "        217, 219, 221, 222, 223, 224]),\n",
       " '_2순위카드이용금액': array([    0,  3196, 38051, ..., 45320, 33360, 36150], shape=(53948,)),\n",
       " '_2순위카드이용건수': array([  0,  25, 128,  44, 100,  28,   9,   5,  34,  23,  33,  20,  54,\n",
       "         70,  36,  55,  94,   4,  80,  50,  21,  42,  64,  43,  53,   8,\n",
       "         58,  57,  95,  32,  30,  26,  24, 130,  72,  49,  40,  18,  22,\n",
       "         27,  56,   6,  61, 123,  16,  14,  31, 114,  35,  39,  19,  12,\n",
       "         45,  71,  84, 144,  11,  13, 129,  63,  74,  81,  66,  96, 137,\n",
       "         29,  90,  46,  10,  51,  15,  77, 153,  52,  38,  73, 121,  75,\n",
       "         37, 131,  47,  17,  89,   7,  48, 116,  68,  -1, 138, 119,  93,\n",
       "          3,  92, 148,  60,  88, 109, 118,  91, 142, 111, 115,  79,  78,\n",
       "        140, 154,  69, 149, 146, 105,  98,  59, 160,  67,  65, 141,  41,\n",
       "        106, 102, 110,  87, 150, 120,  86,  83, 135, 122,  85, 103, 112,\n",
       "         82,   2,  62, 133, 124, 117, 108, 172, 139, 113,  76,  99,  97,\n",
       "        145, 152, 156, 161, 127, 104, 126,   1, 164, 183, 151, 147, 191,\n",
       "        158, 107, 162, 157, 101, 185, 169, 143, 134, 163, 125, 136, 155,\n",
       "        177, 190, 166, 167, 175, 174, 159, 179, 184, 168, 132, 165, 170,\n",
       "        171, 173, 186, 178, 197, 201, 176, 193, 198, 187, 180, 181, 188,\n",
       "        182, 194, 189, 192, 195, 199, 205, 200, 196, 203, 206, 209, 202,\n",
       "        204]),\n",
       " '보유여부_해외겸용_본인': array([0, 1]),\n",
       " '이용가능여부_해외겸용_본인': array([0, 1]),\n",
       " '이용여부_3M_해외겸용_본인': array([0, 1]),\n",
       " '보유여부_해외겸용_신용_본인': array([0, 1]),\n",
       " '이용가능여부_해외겸용_신용_본인': array([0, 1]),\n",
       " '이용여부_3M_해외겸용_신용_본인': array([0, 1]),\n",
       " '연회비할인카드수_B0M': array([0]),\n",
       " '기본연회비_B0M': array([  0, 106, 109, 108, 105,  50, 107, 103, 104, 110,  49, 111, 102,\n",
       "        101]),\n",
       " '제휴연회비_B0M': array([  0, 950, 949,  30, 149,  29, 951, 150]),\n",
       " '할인금액_기본연회비_B0M': array([0]),\n",
       " '할인금액_제휴연회비_B0M': array([0]),\n",
       " '청구금액_기본연회비_B0M': array([  0, 106, 109, 108, 105,  50, 107, 103, 104, 110,  49, 111, 102,\n",
       "        101]),\n",
       " '청구금액_제휴연회비_B0M': array([  0, 950, 949,  30, 149,  29, 951, 150]),\n",
       " '카드신청건수': array([0, 1]),\n",
       " '최종카드발급경과월': array([22, 18, 20, 17, 15, 51,  6, 28,  5, 10, 42, 16,  0,  2, 32,  8, 30,\n",
       "        24,  3, 12, 13, 26, 31, 19, 23, 11, 29, 44, 40,  7, 14, 46, 38, 52,\n",
       "        21, 27,  9, 35, 45,  4, 48, 25, 34, 49, 36, 53, 47, 50, 33, 41, 37,\n",
       "         1, 43, 39, 58, 55, 56, 54, 57, 59, 62, 60, 63, 61, 64, 65, 66, 67])}"
      ]
     },
     "execution_count": 10,
     "metadata": {},
     "output_type": "execute_result"
    }
   ],
   "source": [
    "int_unique_values = {col: member_df[col].unique() for col in int64_columns}\n",
    "int_unique_values"
   ]
  },
  {
   "cell_type": "code",
   "execution_count": 11,
   "id": "74104288",
   "metadata": {},
   "outputs": [],
   "source": [
    "# 0만 존재하는 컬럼 삭제\n",
    "drop_cols = ['연회비할인카드수_B0M', '할인금액_기본연회비_B0M', '할인금액_제휴연회비_B0M', '이용금액_R3M_체크_가족']\n",
    "member_df = member_df.drop(columns=drop_cols)\n",
    "member_test_df = member_test_df.drop(columns=drop_cols)"
   ]
  },
  {
   "cell_type": "code",
   "execution_count": 12,
   "id": "cb74bbc2",
   "metadata": {},
   "outputs": [
    {
     "data": {
      "text/plain": [
       "{'최종유효년월_신용_이용가능': array([202110., 202112., 202111., 202201., 202002., 202211., 202107.,\n",
       "        202209.,     nan, 202001., 202204., 202308., 202301., 202009.,\n",
       "        202108., 202212., 202102., 202109., 202206., 201911., 202012.,\n",
       "        202207., 202101., 202005., 202104., 202202., 201912., 202205.,\n",
       "        202103., 202302., 202305., 202208., 201908., 202310., 202203.,\n",
       "        202106., 202007., 202312., 201905., 202304., 201903., 201910.,\n",
       "        202303., 202011., 201909., 202306., 202105., 201906., 202008.,\n",
       "        202307., 202311., 201907., 202010., 202210., 202006., 201904.,\n",
       "        202309., 202004., 202003., 201812., 201901., 201902., 201811.,\n",
       "        201810., 201809., 201808., 201806., 201807., 201805., 202401.,\n",
       "        202403., 202402., 202404., 202405., 202406.]),\n",
       " '최종유효년월_신용_이용': array([202112., 202204., 202201., 202111.,     nan, 202209., 202106.,\n",
       "        202208., 202003., 202205., 202303., 202212., 202011., 202110.,\n",
       "        202211., 202104., 202304., 202302., 202206., 201912., 202102.,\n",
       "        202202., 202109., 202006., 202005., 202203., 202105., 202210.,\n",
       "        202309., 202307., 202207., 202009., 202311., 202301., 201908.,\n",
       "        202002., 202108., 201906., 202001., 202107., 201910., 202012.,\n",
       "        201911., 202103., 202312., 202010., 202306., 201905., 202310.,\n",
       "        202101., 202305., 201909., 202007., 202008., 202004., 202308.,\n",
       "        201904., 201907., 201902., 201903., 201812., 201811., 201810.,\n",
       "        201901., 201809., 201807., 202401., 201808., 202403., 202402.,\n",
       "        202404., 202405., 202406.]),\n",
       " '최종카드발급일자': array([20160912., 20170122., 20161113., ..., 20181208., 20181214.,\n",
       "        20181202.], shape=(1940,))}"
      ]
     },
     "execution_count": 12,
     "metadata": {},
     "output_type": "execute_result"
    }
   ],
   "source": [
    "float_unique_values = {col: member_df[col].unique() for col in member_df.select_dtypes(include=['float64']).columns.tolist()}\n",
    "float_unique_values"
   ]
  },
  {
   "cell_type": "code",
   "execution_count": 13,
   "id": "6a858d7f",
   "metadata": {},
   "outputs": [],
   "source": [
    "import numpy as np\n",
    "\n",
    "def optimize_numeric_types(df, verbose=True):\n",
    "    \"\"\"\n",
    "    DataFrame의 수치형(int, float) 컬럼을 숫자 범위에 맞춰 다운캐스팅하여 메모리를 최적화\n",
    "    \n",
    "    Parameters:\n",
    "    - df (pd.DataFrame): 입력 데이터프레임\n",
    "    - verbose (bool): 최적화 전후 메모리 사용량 출력 여부\n",
    "\n",
    "    Returns:\n",
    "    - pd.DataFrame: 최적화된 데이터프레임\n",
    "    \"\"\"\n",
    "    start_mem = df.memory_usage(deep=True).sum() / 1024**2 # MB단위로 변환\n",
    "    \n",
    "    for col in df.select_dtypes(include=['int', 'float']).columns:\n",
    "        col_type = df[col].dtypes\n",
    "        \n",
    "        if np.issubdtype(col_type, np.integer):\n",
    "            c_min = df[col].min()\n",
    "            c_max = df[col].max()\n",
    "            \n",
    "            if c_min >= 0:\n",
    "                if c_max < np.iinfo(np.uint8).max:\n",
    "                    df[col] = df[col].astype(np.uint8)\n",
    "                elif c_max < np.iinfo(np.uint16).max:\n",
    "                    df[col] = df[col].astype(np.uint16)\n",
    "                elif c_max < np.iinfo(np.uint32).max:\n",
    "                    df[col] = df[col].astype(np.uint32)\n",
    "                else:\n",
    "                    df[col] = df[col].astype(np.uint64)\n",
    "            else:\n",
    "                if np.iinfo(np.int8).min <= c_min and c_max <= np.iinfo(np.int8).max:\n",
    "                    df[col] = df[col].astype(np.int8)\n",
    "                elif np.iinfo(np.int16).min <= c_min and c_max <= np.iinfo(np.int16).max:\n",
    "                    df[col] = df[col].astype(np.int16)\n",
    "                elif np.iinfo(np.int32).min <= c_min and c_max <= np.iinfo(np.int32).max:\n",
    "                    df[col] = df[col].astype(np.int32)\n",
    "                else:\n",
    "                    df[col] = df[col].astype(np.int64)\n",
    "                    \n",
    "        elif np.issubdtype(col_type, np.floating):\n",
    "            c_min = df[col].min()\n",
    "            c_max = df[col].max()\n",
    "            \n",
    "            if np.finfo(np.float16).min <= c_min and c_max <= np.finfo(np.float16).max:\n",
    "                df[col] = df[col].astype(np.float16)\n",
    "            elif np.finfo(np.float32).min <= c_min and c_max <= np.finfo(np.float32).max:\n",
    "                df[col] = df[col].astype(np.float32)\n",
    "            else:\n",
    "                df[col] = df[col].astype(np.float64)\n",
    "    \n",
    "    end_mem = df.memory_usage(deep=True).sum() / 1024**2\n",
    "    \n",
    "    if verbose:\n",
    "        print(f\"🔹 메모리 사용량: {start_mem:.2f} MB → {end_mem:.2f} MB  ({100*(start_mem-end_mem)/start_mem:.1f}% 감소)\")\n",
    "    \n",
    "    return df"
   ]
  },
  {
   "cell_type": "code",
   "execution_count": 14,
   "id": "a74ec27f",
   "metadata": {},
   "outputs": [
    {
     "name": "stdout",
     "output_type": "stream",
     "text": [
      "🔹 메모리 사용량: 1162.78 MB → 283.87 MB  (75.6% 감소)\n",
      "🔹 메모리 사용량: 289.94 MB → 70.21 MB  (75.8% 감소)\n"
     ]
    }
   ],
   "source": [
    "member_df = optimize_numeric_types(member_df)\n",
    "member_test_df = optimize_numeric_types(member_test_df)"
   ]
  },
  {
   "cell_type": "markdown",
   "id": "7e3e17cf",
   "metadata": {},
   "source": [
    "# Segment 분포 확인"
   ]
  },
  {
   "cell_type": "code",
   "execution_count": 15,
   "id": "74be808b",
   "metadata": {},
   "outputs": [
    {
     "name": "stdout",
     "output_type": "stream",
     "text": [
      "Segment\n",
      "A        972\n",
      "B        144\n",
      "C     127590\n",
      "D     349242\n",
      "E    1922052\n",
      "Name: count, dtype: int64\n",
      "==============================\n",
      "Segment\n",
      "A    0.000405\n",
      "B    0.000060\n",
      "C    0.053163\n",
      "D    0.145517\n",
      "E    0.800855\n",
      "Name: proportion, dtype: float64\n"
     ]
    },
    {
     "data": {
      "image/png": "[encoded data removed]",
      "text/plain": [
       "<Figure size 600x400 with 1 Axes>"
      ]
     },
     "metadata": {},
     "output_type": "display_data"
    }
   ],
   "source": [
    "segment_count = member_df['Segment'].value_counts().sort_index()\n",
    "print(segment_count)\n",
    "print(\"=\" * 30)\n",
    "\n",
    "segment_ratio = member_df[\"Segment\"].value_counts(normalize=True).sort_index()\n",
    "print(segment_ratio)\n",
    "\n",
    "import seaborn as sns\n",
    "import matplotlib.pyplot as plt\n",
    "\n",
    "plt.figure(figsize=(6,4))\n",
    "sns.barplot(x=segment_count.index, y=segment_count.values)\n",
    "plt.yscale(\"log\")\n",
    "plt.title(\"Segment 분포\")\n",
    "plt.ylabel(\"고객 수 (log scale)\")\n",
    "plt.xlabel(\"Segment\")\n",
    "plt.show()"
   ]
  },
  {
   "cell_type": "markdown",
   "id": "567c4674",
   "metadata": {},
   "source": [
    "### 🔍 분석\n",
    "- 극심한 클래스 불균형이 존재함.\n",
    "  - Segment E 하나가 전체 고객의 80% 이상 차지\n",
    "  - Segment A, B는 희소 클래스 (합쳐도 전체의 0.05% 수준)\n",
    "  - 로그 스케일로 표현했기 때문에 A/B가 보이지만, 실제로는 거의 사라지는 수준\n",
    "\n",
    "- A, B 세그먼트는 중요한 VIP 혹은 고위험군 고객을 분류하는 세그먼트일 가능성이 높다.\n",
    "\n",
    "> 👉 모델 학습 시 Segment A와 B를 예측하는 것이 매우 어려우며, 모델이 Segment E에 편향될 위험이 큼. 모델링 시 소수 클래스 예측을 위한 특수한 처리가 필수"
   ]
  },
  {
   "cell_type": "markdown",
   "id": "bc6f99d8",
   "metadata": {},
   "source": [
    "# Feature Selection"
   ]
  },
  {
   "cell_type": "markdown",
   "id": "4789f394",
   "metadata": {},
   "source": [
    "## Feature Importance\n",
    "- LightGBM을 이용하여 Feature Importance를 확인\n",
    "    - 데이터가 크고 Feature가 많기 때문에, 이런 환경에서 유리한 LightGBM 사용"
   ]
  },
  {
   "cell_type": "code",
   "execution_count": 16,
   "id": "2e2d17bb",
   "metadata": {},
   "outputs": [],
   "source": [
    "import lightgbm as lgb\n",
    "\n",
    "def get_feature_importance(X, y, importance_type='gain', plot_top_n=30):\n",
    "    \"\"\"\n",
    "    LightGBM을 이용해 Feature Importance를 계산하고, 상위 feature를 시각화합니다.\n",
    "    \n",
    "    Parameters:\n",
    "    - X (pd.DataFrame): feature 데이터\n",
    "    - y (pd.Series or np.array): target 데이터\n",
    "    - importance_type (str): 'gain' 또는 'split' (중요도 기준)\n",
    "    - plot_top_n (int): 중요도가 높은 feature 몇 개를 plot할지\n",
    "    - random_state (int): seed 고정\n",
    "\n",
    "    Returns:\n",
    "    - feature_importance_df (pd.DataFrame): feature importance 데이터프레임\n",
    "    - model (lgb.Booster): 학습된 LightGBM 모델\n",
    "    \"\"\"\n",
    "\n",
    "    # LightGBM 데이터셋 구성\n",
    "    lgb_train = lgb.Dataset(X, label=y)\n",
    "\n",
    "    # LightGBM 기본 파라미터 (가볍게 학습)\n",
    "    params = {\n",
    "        'objective': 'multiclass',   # 다중 클래스 분류\n",
    "        'num_class': 5,  # 클래스 수 자동 지정\n",
    "        'boosting_type': 'gbdt',\n",
    "        'metric': 'multi_logloss',   # 다중 클래스 로지 손실\n",
    "        'verbosity': -1,\n",
    "        'seed': 42,\n",
    "        'learning_rate': 0.05,\n",
    "        'num_leaves': 31,\n",
    "        'min_data_in_leaf': 20\n",
    "    }\n",
    "\n",
    "    # 빠르게 학습 (에포크 100회로 제한)\n",
    "    model = lgb.train(params, lgb_train, num_boost_round=100)\n",
    "\n",
    "    # Feature Importance 가져오기\n",
    "    importance = model.feature_importance(importance_type=importance_type)\n",
    "    feature_names = X.columns\n",
    "\n",
    "    feature_importance_df = pd.DataFrame({\n",
    "        'feature': feature_names,\n",
    "        'importance': importance\n",
    "    }).sort_values('importance', ascending=False)\n",
    "\n",
    "    # 시각화\n",
    "    top_features = feature_importance_df.head(plot_top_n)\n",
    "    \n",
    "    plt.figure(figsize=(10, max(6, plot_top_n // 2)))\n",
    "    plt.barh(top_features['feature'][::-1], top_features['importance'][::-1])\n",
    "    plt.xlabel('Importance')\n",
    "    plt.title(f'Top {plot_top_n} Feature Importance ({importance_type})')\n",
    "    plt.tight_layout()\n",
    "    plt.show()\n",
    "\n",
    "    return feature_importance_df, model\n"
   ]
  },
  {
   "cell_type": "code",
   "execution_count": 17,
   "id": "7c2ecf4c",
   "metadata": {},
   "outputs": [
    {
     "data": {
      "image/png": "[encoded data removed]",
      "text/plain": [
       "<Figure size 1000x1000 with 1 Axes>"
      ]
     },
     "metadata": {},
     "output_type": "display_data"
    }
   ],
   "source": [
    "X = member_df.drop(columns=['ID', 'Segment'])\n",
    "\n",
    "from sklearn.preprocessing import LabelEncoder\n",
    "\n",
    "le = LabelEncoder()\n",
    "y = le.fit_transform(member_df['Segment'])\n",
    "\n",
    "importance_df, model = get_feature_importance(X, y, importance_type='gain', plot_top_n=20)"
   ]
  },
  {
   "cell_type": "markdown",
   "id": "959ce577",
   "metadata": {},
   "source": [
    "## 🔍 분석\n",
    "### **1. 입회경과개월수_신용 (가장 높은 중요도)**\n",
    "- Segment 분류에서 가장 핵심적인 변수\n",
    "- 카드에 가입한 지 얼마나 오래되었는지(즉, 고객의 누적 이용 경험/관계 기간)가 Segment를 구분하는 데 가장 큰 영향을 준다는 뜻.\n",
    "\n",
    "### **2.최종카드발급경과월, 이용금액_R3M_신용체크, 최종탈회후경과월**\n",
    "- Segment가 고객의 최신 활동을 반영한다는 의미\n",
    "\n",
    "### **3._1순위카드이용건수, _2순위카드이용건수, _1순위카드이용금액, _2순위카드이용금액**\n",
    "- 우선순위 카드의 사용 정보\n",
    "- 고객의 카드 이용량이 Segment 분류에 중요한 힌트라는 의미\n"
   ]
  },
  {
   "cell_type": "markdown",
   "id": "fe602676",
   "metadata": {},
   "source": [
    "# Correlation 분석"
   ]
  },
  {
   "cell_type": "markdown",
   "id": "45757842",
   "metadata": {},
   "source": [
    "- 상위 30% feature를 추출하고 상관관계를 분석하여 중복되는 feature를 제거"
   ]
  },
  {
   "cell_type": "code",
   "execution_count": 18,
   "id": "72fbbf15",
   "metadata": {},
   "outputs": [],
   "source": [
    "def select_top_features(importance_df, X, top_percent=0.3):\n",
    "    \"\"\"\n",
    "    중요도 데이터프레임에서 상위 top_percent 비율만큼 feature를 선택하여 데이터셋 추출\n",
    "\n",
    "    Parameters:\n",
    "    - importance_df (pd.DataFrame): feature와 importance를 가진 데이터프레임\n",
    "    - X (pd.DataFrame): 원본 feature 데이터셋\n",
    "    - top_percent (float): 상위 몇 %를 선택할지 (기본 30%)\n",
    "\n",
    "    Returns:\n",
    "    - X_top (pd.DataFrame): 상위 feature만 선택된 데이터프레임\n",
    "    - selected_features (list): 선택된 feature 리스트\n",
    "    \"\"\"\n",
    "    n_features = int(len(importance_df) * top_percent)\n",
    "    selected_features = importance_df['feature'].iloc[:n_features].tolist()\n",
    "    X_top = X[selected_features]\n",
    "    return X_top, selected_features"
   ]
  },
  {
   "cell_type": "code",
   "execution_count": 19,
   "id": "f137fe34",
   "metadata": {},
   "outputs": [
    {
     "name": "stdout",
     "output_type": "stream",
     "text": [
      "🔹 선택된 feature 수: 20\n",
      "🔹 선택된 feature: ['입회경과개월수_신용', '최종카드발급일자', '이용금액_R3M_신용체크', '최종탈회후경과월', '_1순위카드이용건수', '최종유효년월_신용_이용가능', '_2순위카드이용건수', '입회일자_신용', '_1순위카드이용금액', '이용여부_3M_해외겸용_본인', '_2순위신용체크구분', '최종카드발급경과월', '회원여부_이용가능_카드론', '_2순위카드이용금액', '회원여부_연체', '최종유효년월_신용_이용', '이용금액_R3M_신용', '이용금액_R3M_체크', '수신거부여부_DM', '이용가능카드수_신용']\n"
     ]
    }
   ],
   "source": [
    "X_top, selected_features = select_top_features(importance_df, X, top_percent=0.3)\n",
    "print(f\"🔹 선택된 feature 수: {len(selected_features)}\")\n",
    "print(f\"🔹 선택된 feature: {selected_features}\")"
   ]
  },
  {
   "cell_type": "code",
   "execution_count": 20,
   "id": "98f785bc",
   "metadata": {},
   "outputs": [],
   "source": [
    "def plot_feature_correlation(X_top, threshold=0.8):\n",
    "    \"\"\"\n",
    "    상위 feature들 간의 상관계수 행렬을 시각화하고, \n",
    "    threshold 이상인 feature쌍을 출력\n",
    "\n",
    "    Parameters:\n",
    "    - X_top (pd.DataFrame): 상위 feature 데이터프레임\n",
    "    - threshold (float): 높은 상관관계로 간주할 기준\n",
    "    \"\"\"\n",
    "    # 수치치형 feature만 선택\n",
    "    numeric_features = X_top.select_dtypes(include=['int', 'float'])\n",
    "    corr_matrix = numeric_features.corr()\n",
    "\n",
    "    # 상관관계 히트맵 그리기\n",
    "    plt.figure(figsize=(12, 10))\n",
    "    sns.heatmap(corr_matrix, annot=True, cmap='coolwarm', fmt='.2f')\n",
    "    plt.title('Correlation Matrix of Top Features')\n",
    "    plt.show()\n",
    "\n",
    "    # threshold 이상인 feature 쌍 출력\n",
    "    high_corr_pairs = []\n",
    "    for i in range(len(corr_matrix.columns)):\n",
    "        for j in range(i):\n",
    "            if abs(corr_matrix.iloc[i, j]) > threshold:\n",
    "                high_corr_pairs.append((corr_matrix.columns[i], corr_matrix.columns[j], corr_matrix.iloc[i, j]))\n",
    "\n",
    "    if high_corr_pairs:\n",
    "        print(f\"\\n상관계수 {threshold} 이상인 feature 쌍:\")\n",
    "        for f1, f2, corr in sorted(high_corr_pairs, key=lambda x: -abs(x[2])):\n",
    "            print(f\"🔹{f1} vs {f2}: 상관계수 = {corr:.3f}\")\n",
    "    else:\n",
    "        print(f\"\\n상관계수 {threshold} 이상인 feature 쌍이 없습니다.\")"
   ]
  },
  {
   "cell_type": "code",
   "execution_count": 21,
   "id": "7a4ca81d",
   "metadata": {},
   "outputs": [
    {
     "data": {
      "image/png": "[encoded data removed]",
      "text/plain": [
       "<Figure size 1200x1000 with 2 Axes>"
      ]
     },
     "metadata": {},
     "output_type": "display_data"
    },
    {
     "name": "stdout",
     "output_type": "stream",
     "text": [
      "\n",
      "상관계수 0.8 이상인 feature 쌍:\n",
      "🔹최종유효년월_신용_이용 vs 최종유효년월_신용_이용가능: 상관계수 = 0.950\n",
      "🔹이용금액_R3M_신용 vs 이용금액_R3M_신용체크: 상관계수 = 0.946\n",
      "🔹이용금액_R3M_신용 vs _1순위카드이용금액: 상관계수 = 0.934\n",
      "🔹_1순위카드이용금액 vs 이용금액_R3M_신용체크: 상관계수 = 0.884\n",
      "🔹최종유효년월_신용_이용가능 vs 최종카드발급일자: 상관계수 = 0.883\n",
      "🔹최종유효년월_신용_이용 vs 최종카드발급일자: 상관계수 = 0.878\n"
     ]
    }
   ],
   "source": [
    "# 상관계수 0.8 이상인 feature 쌍을 시각화\n",
    "plot_feature_correlation(X_top, threshold=0.8)"
   ]
  },
  {
   "cell_type": "markdown",
   "id": "56a0e103",
   "metadata": {},
   "source": [
    "- 상관계수가 0.9 이상인 feature는 중복됨으로 간주하고 이를 최소화\n",
    "- 학습 데이터를 Train/Validation으로 나눔"
   ]
  },
  {
   "cell_type": "code",
   "execution_count": 22,
   "id": "6cff6108",
   "metadata": {},
   "outputs": [],
   "source": [
    "from sklearn.model_selection import train_test_split\n",
    "\n",
    "# 1. Feature Importance, Correlation 기반 제거할 Feature 리스트\n",
    "features_to_drop = [\n",
    "    '최종유효년월_신용_이용',\n",
    "    '_1순위카드이용금액',\n",
    "    '이용금액_R3M_신용체크'\n",
    "]\n",
    "\n",
    "# 2. 상위 Feature 데이터셋(X_top)에서 제거\n",
    "X_reduced = X_top.drop(columns=features_to_drop)\n",
    "\n",
    "# 4. Train/Validation 데이터 분리\n",
    "# stratify=y로 클래스 불균형을 고려해서 층화 샘플링(stratified split)한다\n",
    "X_train, X_val, y_train, y_val = train_test_split(\n",
    "    X_reduced,\n",
    "    y,\n",
    "    test_size=0.2,        # 20%를 validation에 사용\n",
    "    random_state=42,      # seed 고정\n",
    "    stratify=y            # target 비율 유지\n",
    ")"
   ]
  },
  {
   "cell_type": "code",
   "execution_count": 23,
   "id": "1dfe4e9d",
   "metadata": {},
   "outputs": [
    {
     "name": "stdout",
     "output_type": "stream",
     "text": [
      "Validation Macro F1-Score: 0.4802\n",
      "\n",
      "Classification Report:\n",
      "              precision    recall  f1-score   support\n",
      "\n",
      "           0     0.1983    0.3711    0.2585       194\n",
      "           1     0.3750    0.1034    0.1622        29\n",
      "           2     0.6759    0.4335    0.5283     25518\n",
      "           3     0.5974    0.4622    0.5212     69848\n",
      "           4     0.9026    0.9609    0.9309    384411\n",
      "\n",
      "    accuracy                         0.8600    480000\n",
      "   macro avg     0.5499    0.4662    0.4802    480000\n",
      "weighted avg     0.8459    0.8600    0.8495    480000\n",
      "\n"
     ]
    }
   ],
   "source": [
    "from sklearn.metrics import f1_score, classification_report\n",
    "\n",
    "classes = np.unique(y_train)\n",
    "\n",
    "# 2. LightGBM 학습 파라미터 설정\n",
    "params = {\n",
    "    'objective': 'multiclass',\n",
    "    'num_class': len(classes),\n",
    "    'boosting_type': 'gbdt',\n",
    "    'metric': 'multi_logloss',   # 내부 로스\n",
    "    'learning_rate': 0.05,\n",
    "    'verbosity': -1,\n",
    "    'seed': 42,\n",
    "    'is_unbalance': True,  # 데이터셋 불균형 자동 고려\n",
    "}\n",
    "\n",
    "# 3. LightGBM Dataset 구성\n",
    "lgb_train = lgb.Dataset(X_train, label=y_train)\n",
    "lgb_val = lgb.Dataset(X_val, label=y_val)\n",
    "\n",
    "# 4. 학습\n",
    "model = lgb.train(\n",
    "    params,\n",
    "    lgb_train,\n",
    "    num_boost_round=1000,\n",
    "    valid_sets=[lgb_train, lgb_val],\n",
    "    valid_names=['train', 'valid'],\n",
    ")\n",
    "\n",
    "# 5. 예측\n",
    "y_pred = model.predict(X_val)\n",
    "y_pred_labels = np.argmax(y_pred, axis=1)\n",
    "\n",
    "# 6. 평가\n",
    "f1 = f1_score(y_val, y_pred_labels, average='macro')\n",
    "print(f\"Validation Macro F1-Score: {f1:.4f}\")\n",
    "\n",
    "# 7. 클래스별 상세 리포트\n",
    "print(\"\\nClassification Report:\")\n",
    "print(classification_report(y_val, y_pred_labels, digits=4))"
   ]
  },
  {
   "cell_type": "markdown",
   "id": "90049678",
   "metadata": {},
   "source": [
    "# 데이터 저장"
   ]
  },
  {
   "cell_type": "code",
   "execution_count": 24,
   "id": "b9fbd58d",
   "metadata": {},
   "outputs": [
    {
     "name": "stdout",
     "output_type": "stream",
     "text": [
      "✅ 데이터셋 저장 완료!\n"
     ]
    }
   ],
   "source": [
    "# ID, Segment, X_reduced.columns 컬럼으로 구성된 데이터프레임 생성\n",
    "member_reduced = member_df[['ID', 'Segment', '기준년월'] + X_reduced.columns.tolist()]\n",
    "member_test_reduced = member_test_df[['ID', '기준년월'] + X_reduced.columns.tolist()]\n",
    "\n",
    "# 데이터프레임 저장\n",
    "member_reduced.to_parquet('../dataset/train/member.parquet', index=False)\n",
    "member_test_reduced.to_parquet('../dataset/test/member.parquet', index=False)\n",
    "print(\"✅ 데이터셋 저장 완료!\")"
   ]
  }
 ],
 "metadata": {
  "kernelspec": {
   "display_name": ".venv",
   "language": "python",
   "name": "python3"
  },
  "language_info": {
   "codemirror_mode": {
    "name": "ipython",
    "version": 3
   },
   "file_extension": ".py",
   "mimetype": "text/x-python",
   "name": "python",
   "nbconvert_exporter": "python",
   "pygments_lexer": "ipython3",
   "version": "3.10.6"
  }
 },
 "nbformat": 4,
 "nbformat_minor": 5
}
