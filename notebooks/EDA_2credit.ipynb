{
 "cells": [
  {
   "cell_type": "markdown",
   "id": "9801ad4a",
   "metadata": {},
   "source": [
    "# 신용정보 EDA"
   ]
  },
  {
   "cell_type": "code",
   "execution_count": 1,
   "id": "986634d7",
   "metadata": {},
   "outputs": [],
   "source": [
    "import matplotlib.pyplot as plt\n",
    "import matplotlib.font_manager as fm\n",
    "\n",
    "# 설치된 폰트 목록을 갱신하고, 'NanumGothic' 폰트를 기본 폰트로 설정합니다.\n",
    "font_path = 'C:/Windows/Fonts/NanumGothic.ttf' \n",
    "font_name = fm.FontProperties(fname=font_path).get_name()\n",
    "plt.rc('font', family=font_name)\n",
    "plt.rcParams['axes.unicode_minus'] = False"
   ]
  },
  {
   "cell_type": "markdown",
   "id": "9d1e2f9e",
   "metadata": {},
   "source": [
    "## 데이터 로드"
   ]
  },
  {
   "cell_type": "code",
   "execution_count": 2,
   "id": "bd2f16f8",
   "metadata": {},
   "outputs": [
    {
     "name": "stdout",
     "output_type": "stream",
     "text": [
      "✅ File: ../dataset/train/2.신용정보\\201807_train_신용정보.parquet Completed!\n",
      "✅ File: ../dataset/train/2.신용정보\\201808_train_신용정보.parquet Completed!\n",
      "✅ File: ../dataset/train/2.신용정보\\201809_train_신용정보.parquet Completed!\n",
      "✅ File: ../dataset/train/2.신용정보\\201810_train_신용정보.parquet Completed!\n",
      "✅ File: ../dataset/train/2.신용정보\\201811_train_신용정보.parquet Completed!\n",
      "✅ File: ../dataset/train/2.신용정보\\201812_train_신용정보.parquet Completed!\n",
      "🔹 Shape : (2400000, 42)\n",
      "==============================\n",
      "✅ File: ../dataset/test/2.신용정보\\201807_test_신용정보.parquet Completed!\n",
      "✅ File: ../dataset/test/2.신용정보\\201808_test_신용정보.parquet Completed!\n",
      "✅ File: ../dataset/test/2.신용정보\\201809_test_신용정보.parquet Completed!\n",
      "✅ File: ../dataset/test/2.신용정보\\201810_test_신용정보.parquet Completed!\n",
      "✅ File: ../dataset/test/2.신용정보\\201811_test_신용정보.parquet Completed!\n",
      "✅ File: ../dataset/test/2.신용정보\\201812_test_신용정보.parquet Completed!\n",
      "🔹 Shape : (600000, 42)\n"
     ]
    }
   ],
   "source": [
    "import pandas as pd\n",
    "import os\n",
    "from glob import glob\n",
    "\n",
    "folder_train_path = '../dataset/train/2.신용정보/'\n",
    "folder_test_path = '../dataset/test/2.신용정보/'\n",
    "\n",
    "parquet_train_files = glob(os.path.join(folder_train_path, '*.parquet'))\n",
    "parquet_test_files = glob(os.path.join(folder_test_path, '*.parquet'))\n",
    "\n",
    "credit_df = pd.DataFrame()\n",
    "credit_test_df = pd.DataFrame()\n",
    "\n",
    "for file in parquet_train_files:\n",
    "    df = pd.read_parquet(file, engine='fastparquet')\n",
    "    credit_df = pd.concat([credit_df, df], ignore_index=True)\n",
    "    print(f\"✅ File: {file} Completed!\")\n",
    "\n",
    "print(f\"🔹 Shape : {credit_df.shape}\")\n",
    "\n",
    "print(\"=\" * 30)\n",
    "\n",
    "for file in parquet_test_files:\n",
    "    df = pd.read_parquet(file, engine='fastparquet')\n",
    "    credit_test_df = pd.concat([credit_test_df, df], ignore_index=True)\n",
    "    print(f\"✅ File: {file} Completed!\")\n",
    "\n",
    "print(f\"🔹 Shape : {credit_test_df.shape}\")\n"
   ]
  },
  {
   "cell_type": "markdown",
   "id": "7fff3579",
   "metadata": {},
   "source": [
    "## 데이터 전처리"
   ]
  },
  {
   "cell_type": "code",
   "execution_count": 3,
   "id": "abef65a6",
   "metadata": {},
   "outputs": [],
   "source": [
    "segment_df = pd.read_parquet('../dataset/train/member.parquet', engine='fastparquet')\n",
    "segment_df = segment_df[['ID', '기준년월', 'Segment']]\n",
    "\n",
    "credit_df = credit_df.merge(segment_df, on=['ID', '기준년월'], how='left')"
   ]
  },
  {
   "cell_type": "code",
   "execution_count": 4,
   "id": "566b75a8",
   "metadata": {},
   "outputs": [
    {
     "name": "stdout",
     "output_type": "stream",
     "text": [
      "<class 'pandas.core.frame.DataFrame'>\n",
      "RangeIndex: 2400000 entries, 0 to 2399999\n",
      "Data columns (total 43 columns):\n",
      " #   Column          Dtype   \n",
      "---  ------          -----   \n",
      " 0   기준년월            int64   \n",
      " 1   ID              object  \n",
      " 2   최초한도금액          int64   \n",
      " 3   카드이용한도금액        int64   \n",
      " 4   CA한도금액          int64   \n",
      " 5   일시상환론한도금액       int64   \n",
      " 6   월상환론한도금액        int64   \n",
      " 7   CA이자율_할인전       float64 \n",
      " 8   CL이자율_할인전       float64 \n",
      " 9   RV일시불이자율_할인전    float64 \n",
      " 10  RV현금서비스이자율_할인전  float64 \n",
      " 11  RV신청일자          float64 \n",
      " 12  RV약정청구율         float64 \n",
      " 13  RV최소결제비율        float64 \n",
      " 14  자발한도감액횟수_R12M   object  \n",
      " 15  자발한도감액금액_R12M   int64   \n",
      " 16  자발한도감액후경과월      int64   \n",
      " 17  강제한도감액횟수_R12M   int64   \n",
      " 18  강제한도감액금액_R12M   int64   \n",
      " 19  강제한도감액후경과월      int64   \n",
      " 20  한도증액횟수_R12M     object  \n",
      " 21  한도증액금액_R12M     int64   \n",
      " 22  한도증액후경과월        int64   \n",
      " 23  상향가능한도금액        int64   \n",
      " 24  상향가능CA한도금액      int64   \n",
      " 25  카드론동의여부         object  \n",
      " 26  월상환론상향가능한도금액    int64   \n",
      " 27  RV전환가능여부        object  \n",
      " 28  일시불ONLY전환가능여부   int64   \n",
      " 29  카드이용한도금액_B1M    int64   \n",
      " 30  카드이용한도금액_B2M    int64   \n",
      " 31  특별한도보유여부_R3M    int64   \n",
      " 32  연체감액여부_R3M      int64   \n",
      " 33  한도심사요청건수        object  \n",
      " 34  한도요청거절건수        int64   \n",
      " 35  한도심사요청후경과월      int64   \n",
      " 36  한도심사거절후경과월      int64   \n",
      " 37  시장단기연체여부_R6M    int64   \n",
      " 38  시장단기연체여부_R3M    int64   \n",
      " 39  시장연체상환여부_R6M    int64   \n",
      " 40  시장연체상환여부_R3M    int64   \n",
      " 41  rv최초시작후경과일      int64   \n",
      " 42  Segment         category\n",
      "dtypes: category(1), float64(7), int64(29), object(6)\n",
      "memory usage: 771.3+ MB\n"
     ]
    }
   ],
   "source": [
    "credit_df.info()"
   ]
  },
  {
   "cell_type": "code",
   "execution_count": 5,
   "id": "3ec22b75",
   "metadata": {},
   "outputs": [
    {
     "data": {
      "text/plain": [
       "Index(['ID', '자발한도감액횟수_R12M', '한도증액횟수_R12M', '카드론동의여부', 'RV전환가능여부',\n",
       "       '한도심사요청건수'],\n",
       "      dtype='object')"
      ]
     },
     "execution_count": 5,
     "metadata": {},
     "output_type": "execute_result"
    }
   ],
   "source": [
    "object_columns = credit_df.select_dtypes(include=['object']).columns\n",
    "object_columns"
   ]
  },
  {
   "cell_type": "code",
   "execution_count": 6,
   "id": "81e8cd88",
   "metadata": {},
   "outputs": [
    {
     "data": {
      "text/plain": [
       "{'자발한도감액횟수_R12M': array(['0회', '1회', '2회'], dtype=object),\n",
       " '한도증액횟수_R12M': array(['0회', '1회이상'], dtype=object),\n",
       " '카드론동의여부': array(['Y', 'N'], dtype=object),\n",
       " 'RV전환가능여부': array(['N', 'Z', None], dtype=object),\n",
       " '한도심사요청건수': array(['0회', '1회이상'], dtype=object)}"
      ]
     },
     "execution_count": 6,
     "metadata": {},
     "output_type": "execute_result"
    }
   ],
   "source": [
    "unique_values = {col: credit_df[col].unique() for col in object_columns if col != 'ID'}\n",
    "unique_values"
   ]
  },
  {
   "cell_type": "code",
   "execution_count": 7,
   "id": "925fdd48",
   "metadata": {},
   "outputs": [
    {
     "data": {
      "text/plain": [
       "{'자발한도감액횟수_R12M': array(['0회', '1회', '2회'], dtype=object),\n",
       " '한도증액횟수_R12M': array(['0회', '1회이상'], dtype=object),\n",
       " '카드론동의여부': array(['N', 'Y'], dtype=object),\n",
       " 'RV전환가능여부': array(['Z', 'N', None], dtype=object),\n",
       " '한도심사요청건수': array(['0회', '1회이상'], dtype=object)}"
      ]
     },
     "execution_count": 7,
     "metadata": {},
     "output_type": "execute_result"
    }
   ],
   "source": [
    "unique_test_values = {col: credit_test_df[col].unique() for col in object_columns if col != 'ID'}\n",
    "unique_test_values"
   ]
  },
  {
   "cell_type": "code",
   "execution_count": 8,
   "id": "5fc5afbe",
   "metadata": {},
   "outputs": [],
   "source": [
    "def preprocess_credit_object_features(df):\n",
    "    \"\"\"\n",
    "    신용정보 데이터셋의 object형 feature를 수치형/binary형으로 변환합니다.\n",
    "\n",
    "    Parameters:\n",
    "    - df (pd.DataFrame): 원본 credit 데이터프레임\n",
    "\n",
    "    Returns:\n",
    "    - df (pd.DataFrame): 전처리 완료된 데이터프레임\n",
    "    \"\"\"\n",
    "\n",
    "    df = df.copy()\n",
    "\n",
    "    # 1. 자발한도감액횟수_R12M: '0회', '1회', '2회' → 0, 1, 2\n",
    "    df['자발한도감액횟수_R12M'] = df['자발한도감액횟수_R12M'].str.replace('회', '', regex=False)\n",
    "    df['자발한도감액횟수_R12M'] = pd.to_numeric(df['자발한도감액횟수_R12M'], errors='coerce')\n",
    "\n",
    "    # 2. 한도증액횟수_R12M: '0회' → 0, '1회이상' → 1\n",
    "    df['한도증액횟수_R12M'] = df['한도증액횟수_R12M'].map({'0회': 0, '1회이상': 1})\n",
    "\n",
    "    # 3. 카드론동의여부: 'Y' → 1, 'N' → 0\n",
    "    df['카드론동의여부'] = df['카드론동의여부'].map({'Y': 1, 'N': 0})\n",
    "\n",
    "    # 4. RV전환가능여부: 'N', 'Z' → 0, 1 (None도 0 취급)\n",
    "    df['RV전환가능여부'] = df['RV전환가능여부'].map({'N': 0, 'Z': 1})\n",
    "    df['RV전환가능여부'] = df['RV전환가능여부'].fillna(0)\n",
    "\n",
    "    # 5. 한도심사요청건수: '0회' → 0, '1회이상' → 1\n",
    "    df['한도심사요청건수'] = df['한도심사요청건수'].map({'0회': 0, '1회이상': 1})\n",
    "\n",
    "    # Convert object columns to category type\n",
    "    object_columns = df.select_dtypes(include=['object']).columns\n",
    "    for col in object_columns:\n",
    "        df[col] = df[col].astype('category')\n",
    "\n",
    "    return df"
   ]
  },
  {
   "cell_type": "code",
   "execution_count": 9,
   "id": "745dd6b4",
   "metadata": {},
   "outputs": [
    {
     "name": "stdout",
     "output_type": "stream",
     "text": [
      "<class 'pandas.core.frame.DataFrame'>\n",
      "RangeIndex: 2400000 entries, 0 to 2399999\n",
      "Data columns (total 43 columns):\n",
      " #   Column          Dtype   \n",
      "---  ------          -----   \n",
      " 0   기준년월            int64   \n",
      " 1   ID              category\n",
      " 2   최초한도금액          int64   \n",
      " 3   카드이용한도금액        int64   \n",
      " 4   CA한도금액          int64   \n",
      " 5   일시상환론한도금액       int64   \n",
      " 6   월상환론한도금액        int64   \n",
      " 7   CA이자율_할인전       float64 \n",
      " 8   CL이자율_할인전       float64 \n",
      " 9   RV일시불이자율_할인전    float64 \n",
      " 10  RV현금서비스이자율_할인전  float64 \n",
      " 11  RV신청일자          float64 \n",
      " 12  RV약정청구율         float64 \n",
      " 13  RV최소결제비율        float64 \n",
      " 14  자발한도감액횟수_R12M   int64   \n",
      " 15  자발한도감액금액_R12M   int64   \n",
      " 16  자발한도감액후경과월      int64   \n",
      " 17  강제한도감액횟수_R12M   int64   \n",
      " 18  강제한도감액금액_R12M   int64   \n",
      " 19  강제한도감액후경과월      int64   \n",
      " 20  한도증액횟수_R12M     int64   \n",
      " 21  한도증액금액_R12M     int64   \n",
      " 22  한도증액후경과월        int64   \n",
      " 23  상향가능한도금액        int64   \n",
      " 24  상향가능CA한도금액      int64   \n",
      " 25  카드론동의여부         int64   \n",
      " 26  월상환론상향가능한도금액    int64   \n",
      " 27  RV전환가능여부        float64 \n",
      " 28  일시불ONLY전환가능여부   int64   \n",
      " 29  카드이용한도금액_B1M    int64   \n",
      " 30  카드이용한도금액_B2M    int64   \n",
      " 31  특별한도보유여부_R3M    int64   \n",
      " 32  연체감액여부_R3M      int64   \n",
      " 33  한도심사요청건수        int64   \n",
      " 34  한도요청거절건수        int64   \n",
      " 35  한도심사요청후경과월      int64   \n",
      " 36  한도심사거절후경과월      int64   \n",
      " 37  시장단기연체여부_R6M    int64   \n",
      " 38  시장단기연체여부_R3M    int64   \n",
      " 39  시장연체상환여부_R6M    int64   \n",
      " 40  시장연체상환여부_R3M    int64   \n",
      " 41  rv최초시작후경과일      int64   \n",
      " 42  Segment         category\n",
      "dtypes: category(2), float64(8), int64(33)\n",
      "memory usage: 773.3 MB\n"
     ]
    }
   ],
   "source": [
    "credit_df = preprocess_credit_object_features(credit_df)\n",
    "credit_test_df = preprocess_credit_object_features(credit_test_df)\n",
    "\n",
    "credit_df.info()"
   ]
  },
  {
   "cell_type": "code",
   "execution_count": 10,
   "id": "ec84621f",
   "metadata": {},
   "outputs": [
    {
     "data": {
      "text/plain": [
       "Index(['기준년월', '최초한도금액', '카드이용한도금액', 'CA한도금액', '일시상환론한도금액', '월상환론한도금액',\n",
       "       '자발한도감액횟수_R12M', '자발한도감액금액_R12M', '자발한도감액후경과월', '강제한도감액횟수_R12M',\n",
       "       '강제한도감액금액_R12M', '강제한도감액후경과월', '한도증액횟수_R12M', '한도증액금액_R12M', '한도증액후경과월',\n",
       "       '상향가능한도금액', '상향가능CA한도금액', '카드론동의여부', '월상환론상향가능한도금액', '일시불ONLY전환가능여부',\n",
       "       '카드이용한도금액_B1M', '카드이용한도금액_B2M', '특별한도보유여부_R3M', '연체감액여부_R3M',\n",
       "       '한도심사요청건수', '한도요청거절건수', '한도심사요청후경과월', '한도심사거절후경과월', '시장단기연체여부_R6M',\n",
       "       '시장단기연체여부_R3M', '시장연체상환여부_R6M', '시장연체상환여부_R3M', 'rv최초시작후경과일'],\n",
       "      dtype='object')"
      ]
     },
     "execution_count": 10,
     "metadata": {},
     "output_type": "execute_result"
    }
   ],
   "source": [
    "int_columns = credit_df.select_dtypes(include=['int']).columns\n",
    "int_columns"
   ]
  },
  {
   "cell_type": "code",
   "execution_count": 11,
   "id": "a07e6e2f",
   "metadata": {},
   "outputs": [
    {
     "data": {
      "text/plain": [
       "{'기준년월': array([201807, 201808, 201809, 201810, 201811, 201812]),\n",
       " '최초한도금액': array([    0, 10000, 35113, ..., 40384, 33947, 43254], shape=(8802,)),\n",
       " '카드이용한도금액': array([ 19354,   9996,  88193, ..., 210990, 209137, 176500],\n",
       "       shape=(81852,)),\n",
       " 'CA한도금액': array([ 7270,  5718, 35207, ..., 63082, 63300, 49956], shape=(63634,)),\n",
       " '일시상환론한도금액': array([    0, 41996, 48000, ..., 89976, 78173, 41077], shape=(7307,)),\n",
       " '월상환론한도금액': array([     0,  90611, 155020, ...,  94626, 230572, 146746],\n",
       "       shape=(65045,)),\n",
       " '자발한도감액횟수_R12M': array([0, 1, 2]),\n",
       " '자발한도감액금액_R12M': array([0, 1, 2]),\n",
       " '자발한도감액후경과월': array([12, 11,  0,  1,  2,  3,  4]),\n",
       " '강제한도감액횟수_R12M': array([0, 1, 4, 3, 2]),\n",
       " '강제한도감액금액_R12M': array([0, 1, 6, 2, 7, 4, 9]),\n",
       " '강제한도감액후경과월': array([12,  8,  1,  9,  0,  6,  2,  3,  4, 10,  7,  5, 11]),\n",
       " '한도증액횟수_R12M': array([0, 1]),\n",
       " '한도증액금액_R12M': array([0, 1, 2, 3]),\n",
       " '한도증액후경과월': array([12,  3,  7, 10,  9,  5,  8,  6,  1,  0,  2, 11,  4]),\n",
       " '상향가능한도금액': array([ 0,  4,  3,  8, 10,  7,  6,  9,  5, 11, 12,  2, 13, 14, 18, 15, 16,\n",
       "        17]),\n",
       " '상향가능CA한도금액': array([0, 1, 2, 3, 4]),\n",
       " '카드론동의여부': array([1, 0]),\n",
       " '월상환론상향가능한도금액': array([ 0, 18, 16, 15,  4, 19, 12, 24, 17, 13,  5,  2, 23, 10]),\n",
       " '일시불ONLY전환가능여부': array([0, 1]),\n",
       " '카드이용한도금액_B1M': array([ 20805,  10000,  78730, ..., 171704,   3210,   6213],\n",
       "       shape=(91231,)),\n",
       " '카드이용한도금액_B2M': array([ 19723,   9998,  77975, ..., 197061, 222882,  84065],\n",
       "       shape=(95384,)),\n",
       " '특별한도보유여부_R3M': array([0, 1]),\n",
       " '연체감액여부_R3M': array([0, 1]),\n",
       " '한도심사요청건수': array([0, 1]),\n",
       " '한도요청거절건수': array([0, 1]),\n",
       " '한도심사요청후경과월': array([3, 2, 1, 0]),\n",
       " '한도심사거절후경과월': array([3, 2, 1, 0]),\n",
       " '시장단기연체여부_R6M': array([0, 1]),\n",
       " '시장단기연체여부_R3M': array([0, 1]),\n",
       " '시장연체상환여부_R6M': array([0, 1]),\n",
       " '시장연체상환여부_R3M': array([0]),\n",
       " 'rv최초시작후경과일': array([99999999,      322,     2378, ...,     5299,      623,     4813],\n",
       "       shape=(1675,))}"
      ]
     },
     "execution_count": 11,
     "metadata": {},
     "output_type": "execute_result"
    }
   ],
   "source": [
    "int_unique_values = {col: credit_df[col].unique() for col in int_columns}\n",
    "int_unique_values"
   ]
  },
  {
   "cell_type": "code",
   "execution_count": 12,
   "id": "df8b73ce",
   "metadata": {},
   "outputs": [],
   "source": [
    "import numpy as np\n",
    "\n",
    "# 시장연체상환여부_R3M은 제거\n",
    "credit_df = credit_df.drop(columns=['시장연체상환여부_R3M'])\n",
    "credit_test_df = credit_test_df.drop(columns=['시장연체상환여부_R3M'])\n",
    "\n",
    "# 99999999는 NaN으로 변환\n",
    "credit_df['rv최초시작후경과일'] = credit_df['rv최초시작후경과일'].replace(99999999, np.nan)\n",
    "credit_test_df['rv최초시작후경과일'] = credit_test_df['rv최초시작후경과일'].replace(99999999, np.nan)"
   ]
  },
  {
   "cell_type": "code",
   "execution_count": 13,
   "id": "45ec5313",
   "metadata": {},
   "outputs": [
    {
     "data": {
      "text/plain": [
       "기준년월                    0\n",
       "ID                      0\n",
       "최초한도금액                  0\n",
       "카드이용한도금액                0\n",
       "CA한도금액                  0\n",
       "일시상환론한도금액               0\n",
       "월상환론한도금액                0\n",
       "CA이자율_할인전               0\n",
       "CL이자율_할인전               0\n",
       "RV일시불이자율_할인전            0\n",
       "RV현금서비스이자율_할인전          0\n",
       "RV신청일자            1951236\n",
       "RV약정청구율                 0\n",
       "RV최소결제비율                0\n",
       "자발한도감액횟수_R12M           0\n",
       "자발한도감액금액_R12M           0\n",
       "자발한도감액후경과월              0\n",
       "강제한도감액횟수_R12M           0\n",
       "강제한도감액금액_R12M           0\n",
       "강제한도감액후경과월              0\n",
       "한도증액횟수_R12M             0\n",
       "한도증액금액_R12M             0\n",
       "한도증액후경과월                0\n",
       "상향가능한도금액                0\n",
       "상향가능CA한도금액              0\n",
       "카드론동의여부                 0\n",
       "월상환론상향가능한도금액            0\n",
       "RV전환가능여부                0\n",
       "일시불ONLY전환가능여부           0\n",
       "카드이용한도금액_B1M            0\n",
       "카드이용한도금액_B2M            0\n",
       "특별한도보유여부_R3M            0\n",
       "연체감액여부_R3M              0\n",
       "한도심사요청건수                0\n",
       "한도요청거절건수                0\n",
       "한도심사요청후경과월              0\n",
       "한도심사거절후경과월              0\n",
       "시장단기연체여부_R6M            0\n",
       "시장단기연체여부_R3M            0\n",
       "시장연체상환여부_R6M            0\n",
       "rv최초시작후경과일        1951643\n",
       "Segment                 0\n",
       "dtype: int64"
      ]
     },
     "execution_count": 13,
     "metadata": {},
     "output_type": "execute_result"
    }
   ],
   "source": [
    "credit_df.isnull().sum()"
   ]
  },
  {
   "cell_type": "code",
   "execution_count": 14,
   "id": "6d65f9ff",
   "metadata": {},
   "outputs": [],
   "source": [
    "import numpy as np\n",
    "\n",
    "def optimize_numeric_types(df, verbose=True):\n",
    "    \"\"\"\n",
    "    DataFrame의 수치형(int, float) 컬럼을 숫자 범위에 맞춰 다운캐스팅하여 메모리를 최적화\n",
    "    \n",
    "    Parameters:\n",
    "    - df (pd.DataFrame): 입력 데이터프레임\n",
    "    - verbose (bool): 최적화 전후 메모리 사용량 출력 여부\n",
    "\n",
    "    Returns:\n",
    "    - pd.DataFrame: 최적화된 데이터프레임\n",
    "    \"\"\"\n",
    "    start_mem = df.memory_usage(deep=True).sum() / 1024**2 # MB단위로 변환\n",
    "    \n",
    "    for col in df.select_dtypes(include=['int', 'float']).columns:\n",
    "        col_type = df[col].dtypes\n",
    "        \n",
    "        if np.issubdtype(col_type, np.integer):\n",
    "            c_min = df[col].min()\n",
    "            c_max = df[col].max()\n",
    "            \n",
    "            if c_min >= 0:\n",
    "                if c_max < np.iinfo(np.uint8).max:\n",
    "                    df[col] = df[col].astype(np.uint8)\n",
    "                elif c_max < np.iinfo(np.uint16).max:\n",
    "                    df[col] = df[col].astype(np.uint16)\n",
    "                elif c_max < np.iinfo(np.uint32).max:\n",
    "                    df[col] = df[col].astype(np.uint32)\n",
    "                else:\n",
    "                    df[col] = df[col].astype(np.uint64)\n",
    "            else:\n",
    "                if np.iinfo(np.int8).min <= c_min and c_max <= np.iinfo(np.int8).max:\n",
    "                    df[col] = df[col].astype(np.int8)\n",
    "                elif np.iinfo(np.int16).min <= c_min and c_max <= np.iinfo(np.int16).max:\n",
    "                    df[col] = df[col].astype(np.int16)\n",
    "                elif np.iinfo(np.int32).min <= c_min and c_max <= np.iinfo(np.int32).max:\n",
    "                    df[col] = df[col].astype(np.int32)\n",
    "                else:\n",
    "                    df[col] = df[col].astype(np.int64)\n",
    "                    \n",
    "        elif np.issubdtype(col_type, np.floating):\n",
    "            c_min = df[col].min()\n",
    "            c_max = df[col].max()\n",
    "            \n",
    "            if np.finfo(np.float16).min <= c_min and c_max <= np.finfo(np.float16).max:\n",
    "                df[col] = df[col].astype(np.float16)\n",
    "            elif np.finfo(np.float32).min <= c_min and c_max <= np.finfo(np.float32).max:\n",
    "                df[col] = df[col].astype(np.float32)\n",
    "            else:\n",
    "                df[col] = df[col].astype(np.float64)\n",
    "    \n",
    "    end_mem = df.memory_usage(deep=True).sum() / 1024**2\n",
    "    \n",
    "    if verbose:\n",
    "        print(f\"🔹 메모리 사용량: {start_mem:.2f} MB → {end_mem:.2f} MB  ({100*(start_mem-end_mem)/start_mem:.1f}% 감소)\")\n",
    "    \n",
    "    return df"
   ]
  },
  {
   "cell_type": "code",
   "execution_count": 15,
   "id": "b05f0cae",
   "metadata": {},
   "outputs": [
    {
     "name": "stdout",
     "output_type": "stream",
     "text": [
      "🔹 메모리 사용량: 778.25 MB → 212.91 MB  (72.6% 감소)\n",
      "🔹 메모리 사용량: 193.80 MB → 52.47 MB  (72.9% 감소)\n"
     ]
    }
   ],
   "source": [
    "credit_df = optimize_numeric_types(credit_df)\n",
    "credit_test_df = optimize_numeric_types(credit_test_df)"
   ]
  },
  {
   "cell_type": "markdown",
   "id": "d1ef40b5",
   "metadata": {},
   "source": [
    "## Feature Selection"
   ]
  },
  {
   "cell_type": "code",
   "execution_count": 16,
   "id": "e38bc48e",
   "metadata": {},
   "outputs": [],
   "source": [
    "import lightgbm as lgb\n",
    "import matplotlib.pyplot as plt\n",
    "import seaborn as sns\n",
    "\n",
    "def get_feature_importance(X, y, importance_type='gain', plot_top_n=30):\n",
    "    \"\"\"\n",
    "    LightGBM을 이용해 Feature Importance를 계산하고, 상위 feature를 시각화합니다.\n",
    "    \n",
    "    Parameters:\n",
    "    - X (pd.DataFrame): feature 데이터\n",
    "    - y (pd.Series or np.array): target 데이터\n",
    "    - importance_type (str): 'gain' 또는 'split' (중요도 기준)\n",
    "    - plot_top_n (int): 중요도가 높은 feature 몇 개를 plot할지\n",
    "    - random_state (int): seed 고정\n",
    "\n",
    "    Returns:\n",
    "    - feature_importance_df (pd.DataFrame): feature importance 데이터프레임\n",
    "    - model (lgb.Booster): 학습된 LightGBM 모델\n",
    "    \"\"\"\n",
    "\n",
    "    # LightGBM 데이터셋 구성\n",
    "    lgb_train = lgb.Dataset(X, label=y)\n",
    "\n",
    "    # LightGBM 기본 파라미터 (가볍게 학습)\n",
    "    params = {\n",
    "        'objective': 'multiclass',   # 다중 클래스 분류\n",
    "        'num_class': 5,  # 클래스 수 자동 지정\n",
    "        'boosting_type': 'gbdt',\n",
    "        'metric': 'multi_logloss',   # 다중 클래스 로지 손실\n",
    "        'verbosity': -1,\n",
    "        'seed': 42,\n",
    "        'learning_rate': 0.05,\n",
    "        'num_leaves': 31,\n",
    "        'min_data_in_leaf': 20\n",
    "    }\n",
    "\n",
    "    # 빠르게 학습 (에포크 100회로 제한)\n",
    "    model = lgb.train(params, lgb_train, num_boost_round=100)\n",
    "\n",
    "    # Feature Importance 가져오기\n",
    "    importance = model.feature_importance(importance_type=importance_type)\n",
    "    feature_names = X.columns\n",
    "\n",
    "    feature_importance_df = pd.DataFrame({\n",
    "        'feature': feature_names,\n",
    "        'importance': importance\n",
    "    }).sort_values('importance', ascending=False)\n",
    "\n",
    "    # 시각화\n",
    "    top_features = feature_importance_df.head(plot_top_n)\n",
    "    \n",
    "    plt.figure(figsize=(10, max(6, plot_top_n // 2)))\n",
    "    plt.barh(top_features['feature'][::-1], top_features['importance'][::-1])\n",
    "    plt.xlabel('Importance')\n",
    "    plt.title(f'Top {plot_top_n} Feature Importance ({importance_type})')\n",
    "    plt.tight_layout()\n",
    "    plt.show()\n",
    "\n",
    "    return feature_importance_df, model\n"
   ]
  },
  {
   "cell_type": "code",
   "execution_count": 17,
   "id": "dfd1a3be",
   "metadata": {},
   "outputs": [
    {
     "data": {
      "image/png": "[encoded data removed]",
      "text/plain": [
       "<Figure size 1000x1500 with 1 Axes>"
      ]
     },
     "metadata": {},
     "output_type": "display_data"
    }
   ],
   "source": [
    "X = credit_df.drop(columns=['ID', '기준년월', 'Segment'])\n",
    "\n",
    "from sklearn.preprocessing import LabelEncoder\n",
    "\n",
    "le = LabelEncoder()\n",
    "y = le.fit_transform(credit_df['Segment'])\n",
    "\n",
    "importance_df, model = get_feature_importance(X, y, importance_type='gain', plot_top_n=30)"
   ]
  },
  {
   "cell_type": "markdown",
   "id": "e3b44b4d",
   "metadata": {},
   "source": [
    "- `rv최초시작후경과일`이 Top 1 Feature\n",
    "    - 그러나 결측치가 너무 많음.\n",
    "    - NaN은 리볼빙을 사용하지 않는 고객이 많다는 의미.\n",
    "    - 모델이 \"리볼빙 사용 여부\"만 보고 예측하려고 한다면, 실제 비즈니스 해석력이 떨어질 수 있음\n",
    "    - \"리볼빙을 했는가\" + \"얼마나 오래 사용했는가\"를 동시에 담고 있는 복합 feature라고 결론\n",
    "    - \"RV사용여부\"라는 새로운 Feature를 생성"
   ]
  },
  {
   "cell_type": "code",
   "execution_count": 18,
   "id": "d6ed8df4",
   "metadata": {},
   "outputs": [],
   "source": [
    "def select_top_features(importance_df, X, top_percent=0.3):\n",
    "    \"\"\"\n",
    "    중요도 데이터프레임에서 상위 top_percent 비율만큼 feature를 선택하여 데이터셋 추출\n",
    "\n",
    "    Parameters:\n",
    "    - importance_df (pd.DataFrame): feature와 importance를 가진 데이터프레임\n",
    "    - X (pd.DataFrame): 원본 feature 데이터셋\n",
    "    - top_percent (float): 상위 몇 %를 선택할지 (기본 30%)\n",
    "\n",
    "    Returns:\n",
    "    - X_top (pd.DataFrame): 상위 feature만 선택된 데이터프레임\n",
    "    - selected_features (list): 선택된 feature 리스트\n",
    "    \"\"\"\n",
    "    n_features = int(len(importance_df) * top_percent)\n",
    "    selected_features = importance_df['feature'].iloc[:n_features].tolist()\n",
    "    X_top = X[selected_features]\n",
    "    return X_top, selected_features"
   ]
  },
  {
   "cell_type": "code",
   "execution_count": 19,
   "id": "f6cde928",
   "metadata": {},
   "outputs": [
    {
     "name": "stdout",
     "output_type": "stream",
     "text": [
      "🔹 선택된 feature 수: 11\n",
      "🔹 선택된 feature: ['rv최초시작후경과일', '카드이용한도금액_B2M', 'CA한도금액', 'CA이자율_할인전', 'RV신청일자', '카드이용한도금액', 'RV일시불이자율_할인전', 'RV현금서비스이자율_할인전', '상향가능한도금액', '월상환론한도금액', '일시상환론한도금액']\n"
     ]
    }
   ],
   "source": [
    "X_top, selected_features = select_top_features(importance_df, X, top_percent=0.3)\n",
    "print(f\"🔹 선택된 feature 수: {len(selected_features)}\")\n",
    "print(f\"🔹 선택된 feature: {selected_features}\")"
   ]
  },
  {
   "cell_type": "code",
   "execution_count": 20,
   "id": "67c10093",
   "metadata": {},
   "outputs": [],
   "source": [
    "# X_top = X_top.drop(columns=['RV사용여부'])\n",
    "# credit_test_df = credit_test_df.drop(columns=['RV사용여부'])"
   ]
  },
  {
   "cell_type": "code",
   "execution_count": 21,
   "id": "60312da1",
   "metadata": {},
   "outputs": [
    {
     "name": "stdout",
     "output_type": "stream",
     "text": [
      "RV사용여부\n",
      "0    1950871\n",
      "1     449129\n",
      "Name: count, dtype: int64\n",
      "RV사용여부\n",
      "0    487445\n",
      "1    112555\n",
      "Name: count, dtype: int64\n"
     ]
    },
    {
     "name": "stderr",
     "output_type": "stream",
     "text": [
      "C:\\Users\\Lee JinSeoung\\AppData\\Local\\Temp\\ipykernel_1352\\3535267643.py:3: SettingWithCopyWarning: \n",
      "A value is trying to be set on a copy of a slice from a DataFrame.\n",
      "Try using .loc[row_indexer,col_indexer] = value instead\n",
      "\n",
      "See the caveats in the documentation: https://pandas.pydata.org/pandas-docs/stable/user_guide/indexing.html#returning-a-view-versus-a-copy\n",
      "  X_top['RV사용여부'] = (~X_top['rv최초시작후경과일'].isna()) | (~X_top['RV신청일자'].isna())\n",
      "C:\\Users\\Lee JinSeoung\\AppData\\Local\\Temp\\ipykernel_1352\\3535267643.py:6: FutureWarning: Setting an item of incompatible dtype is deprecated and will raise in a future error of pandas. Value '[0 1 1 ... 0 0 0]' has dtype incompatible with bool, please explicitly cast to a compatible dtype first.\n",
      "  X_top.loc[:, 'RV사용여부'] = X_top['RV사용여부'].astype(np.int8)\n",
      "C:\\Users\\Lee JinSeoung\\AppData\\Local\\Temp\\ipykernel_1352\\3535267643.py:7: FutureWarning: Setting an item of incompatible dtype is deprecated and will raise in a future error of pandas. Value '[0 0 0 ... 0 0 0]' has dtype incompatible with bool, please explicitly cast to a compatible dtype first.\n",
      "  credit_test_df.loc[:, 'RV사용여부'] = credit_test_df['RV사용여부'].astype(np.int8)\n"
     ]
    }
   ],
   "source": [
    "# RV사용여부 Feature 추가\n",
    "# rv최초시작후경과일 또는 RV신청일자 중 하나라도 값이 있으면 1, 둘 다 없으면 0\n",
    "X_top['RV사용여부'] = (~X_top['rv최초시작후경과일'].isna()) | (~X_top['RV신청일자'].isna())\n",
    "credit_test_df['RV사용여부'] = (~credit_test_df['rv최초시작후경과일'].isna()) | (~credit_test_df['RV신청일자'].isna())\n",
    "\n",
    "X_top.loc[:, 'RV사용여부'] = X_top['RV사용여부'].astype(np.int8)\n",
    "credit_test_df.loc[:, 'RV사용여부'] = credit_test_df['RV사용여부'].astype(np.int8)\n",
    "\n",
    "print(X_top['RV사용여부'].value_counts())\n",
    "print(credit_test_df['RV사용여부'].value_counts())"
   ]
  },
  {
   "cell_type": "code",
   "execution_count": 22,
   "id": "a122e2a4",
   "metadata": {},
   "outputs": [
    {
     "name": "stderr",
     "output_type": "stream",
     "text": [
      "c:\\Users\\Lee JinSeoung\\OneDrive\\Desktop\\4학년 1학기\\고급프로그래밍\\과제\\Credit-Card-Segment-Classfication\\.venv\\lib\\site-packages\\pandas\\core\\dtypes\\cast.py:1860: RuntimeWarning: overflow encountered in cast\n",
      "  casted = dtype.type(element)\n",
      "c:\\Users\\Lee JinSeoung\\OneDrive\\Desktop\\4학년 1학기\\고급프로그래밍\\과제\\Credit-Card-Segment-Classfication\\.venv\\lib\\site-packages\\pandas\\core\\dtypes\\cast.py:1861: RuntimeWarning: overflow encountered in cast\n",
      "  if np.isnan(casted) or casted == element:\n"
     ]
    }
   ],
   "source": [
    "X_top.loc[:, 'rv최초시작후경과일'] = X_top['rv최초시작후경과일'].fillna(99999)\n",
    "credit_test_df.loc[:, 'rv최초시작후경과일'] = credit_test_df['rv최초시작후경과일'].fillna(99999)"
   ]
  },
  {
   "cell_type": "code",
   "execution_count": 23,
   "id": "80354420",
   "metadata": {},
   "outputs": [],
   "source": [
    "def plot_feature_correlation(X_top, threshold=0.8):\n",
    "    \"\"\"\n",
    "    상위 feature들 간의 상관계수 행렬을 시각화하고, \n",
    "    threshold 이상인 feature쌍을 출력\n",
    "\n",
    "    Parameters:\n",
    "    - X_top (pd.DataFrame): 상위 feature 데이터프레임\n",
    "    - threshold (float): 높은 상관관계로 간주할 기준\n",
    "    \"\"\"\n",
    "    # 수치치형 feature만 선택\n",
    "    numeric_features = X_top.select_dtypes(include=['int', 'float'])\n",
    "    corr_matrix = numeric_features.corr()\n",
    "\n",
    "    # 상관관계 히트맵 그리기\n",
    "    plt.figure(figsize=(12, 10))\n",
    "    sns.heatmap(corr_matrix, annot=True, cmap='coolwarm', fmt='.2f')\n",
    "    plt.title('Correlation Matrix of Top Features')\n",
    "    plt.show()\n",
    "\n",
    "    # threshold 이상인 feature 쌍 출력\n",
    "    high_corr_pairs = []\n",
    "    for i in range(len(corr_matrix.columns)):\n",
    "        for j in range(i):\n",
    "            if abs(corr_matrix.iloc[i, j]) > threshold:\n",
    "                high_corr_pairs.append((corr_matrix.columns[i], corr_matrix.columns[j], corr_matrix.iloc[i, j]))\n",
    "\n",
    "    if high_corr_pairs:\n",
    "        print(f\"\\n상관계수 {threshold} 이상인 feature 쌍:\")\n",
    "        for f1, f2, corr in sorted(high_corr_pairs, key=lambda x: -abs(x[2])):\n",
    "            print(f\"🔹{f1} vs {f2}: 상관계수 = {corr:.3f}\")\n",
    "    else:\n",
    "        print(f\"\\n상관계수 {threshold} 이상인 feature 쌍이 없습니다.\")"
   ]
  },
  {
   "cell_type": "code",
   "execution_count": 24,
   "id": "ac5ea23e",
   "metadata": {},
   "outputs": [
    {
     "data": {
      "image/png": "[encoded data removed]",
      "text/plain": [
       "<Figure size 1200x1000 with 2 Axes>"
      ]
     },
     "metadata": {},
     "output_type": "display_data"
    },
    {
     "name": "stdout",
     "output_type": "stream",
     "text": [
      "\n",
      "상관계수 0.8 이상인 feature 쌍이 없습니다.\n"
     ]
    }
   ],
   "source": [
    "# 상관계수 0.8 이상인 feature 쌍을 시각화\n",
    "plot_feature_correlation(X_top, threshold=0.8)"
   ]
  },
  {
   "cell_type": "code",
   "execution_count": null,
   "id": "6655dcb8",
   "metadata": {},
   "outputs": [
    {
     "data": {
      "text/plain": [
       "array([0, 1], dtype=int8)"
      ]
     },
     "execution_count": 32,
     "metadata": {},
     "output_type": "execute_result"
    }
   ],
   "source": [
    "credit_df['RV사용여부'] = X_top['RV사용여부']"
   ]
  },
  {
   "cell_type": "code",
   "execution_count": 33,
   "id": "f3984a14",
   "metadata": {},
   "outputs": [],
   "source": [
    "filtered_credit_df = credit_df[['ID', '기준년월'] + X_top.columns.tolist()]\n",
    "filtered_credit_df.to_parquet('../dataset/train/credit.parquet', engine='fastparquet', index=False)\n",
    "\n",
    "filtered_credit_test_df = credit_test_df[['ID', '기준년월'] + X_top.columns.tolist()]\n",
    "filtered_credit_test_df.to_parquet('../dataset/test/credit.parquet', engine='fastparquet', index=False)"
   ]
  }
 ],
 "metadata": {
  "kernelspec": {
   "display_name": ".venv",
   "language": "python",
   "name": "python3"
  },
  "language_info": {
   "codemirror_mode": {
    "name": "ipython",
    "version": 3
   },
   "file_extension": ".py",
   "mimetype": "text/x-python",
   "name": "python",
   "nbconvert_exporter": "python",
   "pygments_lexer": "ipython3",
   "version": "3.10.6"
  }
 },
 "nbformat": 4,
 "nbformat_minor": 5
}
